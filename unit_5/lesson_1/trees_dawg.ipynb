{
 "cells": [
  {
   "cell_type": "code",
   "execution_count": 53,
   "metadata": {},
   "outputs": [],
   "source": [
    "# Pre-order traversal\n",
    "\n",
    "import random\n",
    "\n",
    "class Node:\n",
    "    def __init__(self, data):\n",
    "        self.left = None\n",
    "        self.right = None\n",
    "        self.data = data\n",
    "        \n",
    "    def insert(self, data):\n",
    "        # Compare the new value with the parent node\n",
    "        if self.data:\n",
    "            if data < self.data:\n",
    "                if self.left is None:\n",
    "                    self.left = Node(data)\n",
    "                else:\n",
    "                    self.left.insert(data)\n",
    "            elif data > self.data:\n",
    "                if self.right is None:\n",
    "                    self.right = Node(data)\n",
    "                else:\n",
    "                    self.right.insert(data)\n",
    "        else:\n",
    "            self.data = data\n",
    "            \n",
    "    \n",
    "    def PrintTree(self):\n",
    "        if self.left:\n",
    "            self.left.PrintTree()\n",
    "        print( self.data),\n",
    "        if self.right:\n",
    "            self.right.PrintTree()\n",
    "            \n",
    "    def PreorderTraversal(self, root):\n",
    "        res = []\n",
    "        if root:\n",
    "            res.append(root.data)\n",
    "            res = res + self.PreorderTraversal(root.left)\n",
    "            res = res + self.PreorderTraversal(root.right)\n",
    "        return res\n",
    "    \n"
   ]
  },
  {
   "cell_type": "code",
   "execution_count": 54,
   "metadata": {},
   "outputs": [
    {
     "name": "stdout",
     "output_type": "stream",
     "text": [
      "281\n",
      "1001\n",
      "1484\n",
      "2030\n",
      "2182\n",
      "2543\n",
      "3121\n",
      "3652\n",
      "4101\n",
      "5178\n",
      "5939\n",
      "7493\n",
      "8410\n",
      "8841\n",
      "9308\n",
      "9952\n"
     ]
    }
   ],
   "source": [
    "root = Node(random.randint(1, 10000))\n",
    "root.insert(random.randint(1, 10000))\n",
    "root.insert(random.randint(1, 10000))\n",
    "root.insert(random.randint(1, 10000))\n",
    "root.insert(random.randint(1, 10000))\n",
    "root.insert(random.randint(1, 10000))\n",
    "root.insert(random.randint(1, 10000))\n",
    "root.insert(random.randint(1, 10000))\n",
    "root.insert(random.randint(1, 10000))\n",
    "root.insert(random.randint(1, 10000))\n",
    "root.insert(random.randint(1, 10000))\n",
    "root.insert(random.randint(1, 10000))\n",
    "root.insert(random.randint(1, 10000))\n",
    "root.insert(random.randint(1, 10000))\n",
    "root.insert(random.randint(1, 10000))\n",
    "root.insert(random.randint(1, 10000))\n",
    "\n",
    "root.PrintTree()"
   ]
  },
  {
   "cell_type": "code",
   "execution_count": 55,
   "metadata": {},
   "outputs": [
    {
     "name": "stdout",
     "output_type": "stream",
     "text": [
      "[1001, 281, 8410, 5939, 3652, 1484, 2030, 2182, 3121, 2543, 4101, 5178, 7493, 9308, 8841, 9952]\n"
     ]
    }
   ],
   "source": [
    "print(root.PreorderTraversal(root))\n"
   ]
  },
  {
   "cell_type": "code",
   "execution_count": 56,
   "metadata": {},
   "outputs": [],
   "source": [
    "# Establish the initial root node and children\n",
    "root = Node('A')\n",
    "root.left = Node('B')\n",
    "root.right = Node('C')\n",
    "\n",
    "# Add the appropriate children for 'B' and 'C'\n",
    "root.left.left = Node('D')\n",
    "root.left.right = Node('E')\n",
    "root.right.left = Node('F')\n",
    "root.right.right = Node('G')"
   ]
  },
  {
   "cell_type": "code",
   "execution_count": 57,
   "metadata": {},
   "outputs": [],
   "source": [
    "# Level Order Traversal\n",
    "\n",
    "class Node:\n",
    "    \n",
    "    def __init__(self, key):\n",
    "        self.data = key\n",
    "        self.left = None\n",
    "        self.right = None\n",
    "        \n",
    "def printLevelOrder(root):\n",
    "    h = height(root)\n",
    "    for i in range(1, h+1):\n",
    "        printGivenLevel(root, i)\n",
    "        \n",
    "def printGivenLevel(root, level): \n",
    "    if root is None: \n",
    "        return\n",
    "    if level == 1: \n",
    "        print(\"%d\"% (root.data)), \n",
    "    elif level > 1 : \n",
    "        printGivenLevel(root.left, level-1) \n",
    "        printGivenLevel(root.right, level-1)\n",
    "        \n",
    "def height(node):\n",
    "    if node is None:\n",
    "        return 0\n",
    "    else:\n",
    "        lheight = height(node.left)\n",
    "        rheight = height(node.right)\n",
    "        \n",
    "        if lheight > rheight:\n",
    "            return lheight+1\n",
    "        else:\n",
    "            return rheight+1"
   ]
  },
  {
   "cell_type": "code",
   "execution_count": 58,
   "metadata": {},
   "outputs": [
    {
     "name": "stdout",
     "output_type": "stream",
     "text": [
      "Level order traversal of binary tree is -\n",
      "4286\n",
      "4568\n",
      "7455\n",
      "5754\n",
      "1504\n",
      "4395\n",
      "9225\n",
      "4489\n",
      "3274\n",
      "1665\n",
      "3018\n",
      "8637\n",
      "1399\n",
      "1278\n",
      "948\n"
     ]
    }
   ],
   "source": [
    "root = Node(random.randint(1, 10000)) \n",
    "root.left = Node(random.randint(1, 10000))\n",
    "root.right = Node(random.randint(1, 10000)) \n",
    "root.left.left = Node(random.randint(1, 10000)) \n",
    "root.left.right = Node(random.randint(1, 10000))\n",
    "root.left.right.left = Node(random.randint(1, 10000))\n",
    "root.left.right.right = Node(random.randint(1, 10000))\n",
    "root.left.right.right.left = Node(random.randint(1, 10000))\n",
    "root.left.right.right.right = Node(random.randint(1, 10000))\n",
    "root.left.right.left.right = Node(random.randint(1, 10000))\n",
    "root.left.right.left.left = Node(random.randint(1, 10000))\n",
    "root.left.right.right.right.left = Node(random.randint(1, 10000))\n",
    "root.left.right.right.right.right = Node(random.randint(1, 10000))\n",
    "root.left.right.right.left.right = Node(random.randint(1, 10000))\n",
    "root.left.right.right.left.left = Node(random.randint(1, 10000))\n",
    "  \n",
    "print(\"Level order traversal of binary tree is -\")\n",
    "printLevelOrder(root) "
   ]
  },
  {
   "cell_type": "code",
   "execution_count": null,
   "metadata": {},
   "outputs": [],
   "source": []
  },
  {
   "cell_type": "code",
   "execution_count": null,
   "metadata": {},
   "outputs": [],
   "source": []
  }
 ],
 "metadata": {
  "kernelspec": {
   "display_name": "Python 3",
   "language": "python",
   "name": "python3"
  },
  "language_info": {
   "codemirror_mode": {
    "name": "ipython",
    "version": 3
   },
   "file_extension": ".py",
   "mimetype": "text/x-python",
   "name": "python",
   "nbconvert_exporter": "python",
   "pygments_lexer": "ipython3",
   "version": "3.7.0"
  }
 },
 "nbformat": 4,
 "nbformat_minor": 2
}
