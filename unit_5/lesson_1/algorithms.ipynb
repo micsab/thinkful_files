{
 "cells": [
  {
   "cell_type": "code",
   "execution_count": 32,
   "metadata": {},
   "outputs": [],
   "source": [
    "class Node(object):\n",
    " \n",
    "    def __init__(self, data, next=None):\n",
    "        self.data = data\n",
    "        self.next = next\n",
    "        \n",
    "        \n",
    "class LinkedList(object):\n",
    "    def __init__(self, head=None, tail=None):\n",
    "        self.head = None\n",
    "        self.tail = None\n",
    "    \n",
    "    def print_list(self):\n",
    "        print(\"List Values:\")\n",
    "        # Start at the head.\n",
    "        current_node = self.head\n",
    "        # Iterate as long as current node is not None.\n",
    "        while current_node != None:\n",
    "            # Print the data of the node.\n",
    "            print(current_node.data)\n",
    "            # Move to next element.\n",
    "            current_node = current_node.next\n",
    "        print(None)\n",
    "        \n",
    "    def append(self, data):\n",
    "        node = Node(data, None)\n",
    "        # Handle the empty case\n",
    "        if self.head is None:\n",
    "            self.head = node\n",
    "            self.tail = node\n",
    "        else:\n",
    "            # Otherwise set a new next for the tail and set a new tail\n",
    "            self.tail.next = node\n",
    "        self.tail = node\n",
    "    \n",
    "    def remove(self, node_value):\n",
    "        # We're going to want to track a current and previous node.\n",
    "        current_node = self.head\n",
    "        previous_node = None\n",
    "        # Iterate through the list to find the value to remove.\n",
    "        while current_node != None:\n",
    "            if current_node.data == node_value:\n",
    "                if previous_node is not None:\n",
    "                    previous_node.next = current_node.next\n",
    "                else:\n",
    "                    # Handle edge case.\n",
    "                    self.head = current_node.next\n",
    " \n",
    "            # Keep track of previous nodes to repair list after removal.\n",
    "            previous_node = current_node\n",
    "            current_node = current_node.next\n",
    "            \n",
    "    # Note that insert is a permutation of remove\n",
    "    def insert(self, value, at):\n",
    "        current_node = self.head\n",
    "        new_node = Node(value)\n",
    "        # Iterate to find our value to insert after\n",
    "        while current_node != None:\n",
    "            if current_node.data == at:\n",
    "                if current_node is not None:\n",
    "                    new_node.next = current_node.next\n",
    "                    current_node.next = new_node\n",
    "                else:\n",
    "                    # Handle edge case\n",
    "                    self.tail = current_node.next\n",
    "                    \n",
    "            # Move to the next one\n",
    "            current_node = current_node.next"
   ]
  },
  {
   "cell_type": "code",
   "execution_count": 55,
   "metadata": {},
   "outputs": [
    {
     "name": "stdout",
     "output_type": "stream",
     "text": [
      "List Values:\n",
      "2\n",
      "2\n",
      "3\n",
      "4\n",
      "None\n",
      "List Values:\n",
      "2\n",
      "100\n",
      "3\n",
      "4\n",
      "None\n"
     ]
    }
   ],
   "source": [
    "# Run these tests,then try to play with the linkedlist class and try your own\n",
    "s = LinkedList()\n",
    "s.append(2)\n",
    "s.append(2)\n",
    "s.append(3)\n",
    "s.append(4)\n",
    "s.print_list()\n",
    "\n",
    "#s.remove(3)\n",
    "#s.remove(2)\n",
    "s.insert(100, at=2)\n",
    "\n",
    "s.print_list()"
   ]
  },
  {
   "cell_type": "code",
   "execution_count": null,
   "metadata": {},
   "outputs": [],
   "source": []
  },
  {
   "cell_type": "code",
   "execution_count": null,
   "metadata": {},
   "outputs": [],
   "source": []
  }
 ],
 "metadata": {
  "kernelspec": {
   "display_name": "Python 3",
   "language": "python",
   "name": "python3"
  },
  "language_info": {
   "codemirror_mode": {
    "name": "ipython",
    "version": 3
   },
   "file_extension": ".py",
   "mimetype": "text/x-python",
   "name": "python",
   "nbconvert_exporter": "python",
   "pygments_lexer": "ipython3",
   "version": "3.7.0"
  }
 },
 "nbformat": 4,
 "nbformat_minor": 2
}
