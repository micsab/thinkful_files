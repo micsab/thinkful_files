{
 "cells": [
  {
   "cell_type": "code",
   "execution_count": 1,
   "metadata": {},
   "outputs": [],
   "source": [
    "import pandas as pd\n",
    "import numpy as np\n",
    "import matplotlib.pyplot as plt\n",
    "import scipy.stats as stats\n",
    "%matplotlib inline"
   ]
  },
  {
   "cell_type": "code",
   "execution_count": 4,
   "metadata": {},
   "outputs": [
    {
     "data": {
      "image/png": "[encoded data removed]",
      "text/plain": [
       "<Figure size 432x288 with 4 Axes>"
      ]
     },
     "metadata": {},
     "output_type": "display_data"
    }
   ],
   "source": [
    "# First, create and load some coaster height data\n",
    "roller_coasters = pd.DataFrame()\n",
    "\n",
    "europe_heights = [\n",
    "    13.5, 36, 94, 6.1, 22, 35.5, 35.5, 8, 8, 10, 8.5, 5, 30, 31, 4.5, 15, 36,\n",
    "    20, 10, 30.4\n",
    "    ]\n",
    "latin_america_heights = [\n",
    "    33.3, 35.5, 30, 32, 8.5, 60, 8, 33, 33.1, 13, 8, 22.9, 3.3, 11, 11, 19.5,\n",
    "    35.1, 19.5, 4, 35.5\n",
    "    ]\n",
    "north_america_heights = [\n",
    "    66.4, 23.7, 54.5, 22.2, 20, 1.8, 3.9, 35.3, 45.2, 51.2, 43.5, 24.3, 74.6,\n",
    "    14.3, 16.1, 4.8, 38.9, 30.8, 10, 20\n",
    "    ]\n",
    "\n",
    "roller_coasters['Europe'] = europe_heights\n",
    "roller_coasters['LatinAmerica'] = latin_america_heights\n",
    "roller_coasters['NorthAmerica'] = north_america_heights\n",
    "\n",
    "# Visualize our data\n",
    "roller_coasters.hist(sharey=True, sharex=True)\n",
    "plt.show()"
   ]
  },
  {
   "cell_type": "code",
   "execution_count": 6,
   "metadata": {},
   "outputs": [
    {
     "name": "stdout",
     "output_type": "stream",
     "text": [
      "Ranks_Europe          27.8\n",
      "Ranks_LatinAmerica    28.9\n",
      "Ranks_NorthAmerica    34.8\n",
      "dtype: float64\n",
      "30.5\n"
     ]
    },
    {
     "data": {
      "text/plain": [
       "KruskalResult(statistic=1.8600661901716153, pvalue=0.39454065279877265)"
      ]
     },
     "execution_count": 6,
     "metadata": {},
     "output_type": "execute_result"
    }
   ],
   "source": [
    "# Kruskal-Wallace Test\n",
    "\n",
    "# Join all ratings together into a list, then ranking them\n",
    "ranks = stats.rankdata(\n",
    "    roller_coasters['Europe'].tolist() +\n",
    "    roller_coasters['LatinAmerica'].tolist() +\n",
    "    roller_coasters['NorthAmerica'].tolist())\n",
    "\n",
    "# Add the new ranked variables to the data frame\n",
    "roller_coasters['Ranks_Europe'] = ranks[0:20]\n",
    "roller_coasters['Ranks_LatinAmerica'] = ranks[20:40]\n",
    "roller_coasters['Ranks_NorthAmerica'] = ranks[40:60]\n",
    "\n",
    "# Average rank per group\n",
    "groups = ['Ranks_Europe', 'Ranks_LatinAmerica', 'Ranks_NorthAmerica']\n",
    "print(roller_coasters[groups].apply(np.mean))\n",
    "\n",
    "# Overall average rank\n",
    "print(np.mean(ranks))\n",
    "\n",
    "# Print the test statistic followed by the probability of getting this result\n",
    "# if the groups were not different\n",
    "stats.kruskal(\n",
    "    roller_coasters['Europe'],\n",
    "    roller_coasters['LatinAmerica'],\n",
    "    roller_coasters['NorthAmerica'])"
   ]
  },
  {
   "cell_type": "code",
   "execution_count": 8,
   "metadata": {},
   "outputs": [
    {
     "data": {
      "text/plain": [
       "array([21. , 50.5, 60. ,  8. , 30. , 47.5, 47.5, 10.5, 10.5, 16. , 13.5,\n",
       "        7. , 35.5, 39. ,  5. , 23. , 50.5, 28. , 16. , 37. ])"
      ]
     },
     "execution_count": 8,
     "metadata": {},
     "output_type": "execute_result"
    }
   ],
   "source": [
    "ranks[0:20]"
   ]
  },
  {
   "cell_type": "raw",
   "metadata": {},
   "source": []
  }
 ],
 "metadata": {
  "kernelspec": {
   "display_name": "Python 3",
   "language": "python",
   "name": "python3"
  },
  "language_info": {
   "codemirror_mode": {
    "name": "ipython",
    "version": 3
   },
   "file_extension": ".py",
   "mimetype": "text/x-python",
   "name": "python",
   "nbconvert_exporter": "python",
   "pygments_lexer": "ipython3",
   "version": "3.7.0"
  }
 },
 "nbformat": 4,
 "nbformat_minor": 2
}
