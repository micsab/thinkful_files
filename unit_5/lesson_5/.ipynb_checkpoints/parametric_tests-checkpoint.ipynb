{
 "cells": [
  {
   "cell_type": "code",
   "execution_count": 1,
   "metadata": {},
   "outputs": [],
   "source": [
    "import pandas as pd\n",
    "import numpy as np\n",
    "import matplotlib.pyplot as plt\n",
    "import scipy.stats as stats\n",
    "%matplotlib inline"
   ]
  },
  {
   "cell_type": "code",
   "execution_count": 2,
   "metadata": {},
   "outputs": [
    {
     "data": {
      "image/png": "[encoded data removed]",
      "text/plain": [
       "<Figure size 432x288 with 4 Axes>"
      ]
     },
     "metadata": {},
     "output_type": "display_data"
    }
   ],
   "source": [
    "# First, create and load some coaster height data\n",
    "\n",
    "coaster_heights = pd.DataFrame()\n",
    "\n",
    "steel_heights = [\n",
    "    18.5, 14, 30.2, 25.2024, 15, 16, 13.5, 30, 20, 17, 13.716, 8.5, 16.1, 18,\n",
    "    41, 30.3, 32.004, 28.004, 30.48, 34\n",
    "    ]\n",
    "\n",
    "wood_heights = [\n",
    "    38.70, 46, 27.8, 43.52, 33.77, 29.26, 16.764, 45, 48.1, 16.764, 24.384,\n",
    "    24.5, 40, 35.96, 22.24, 21.33, 27.73, 23.46, 21.64, 30.12\n",
    "    ]\n",
    "\n",
    "plastic_heights = [\n",
    "    9, 8.2, 12, 21, 6.3, 11.7, 19.44, 4.75, 13, 18, 15.5, 15.6, 10, 11.77, 29,\n",
    "    5, 3.2, 14.75, 18.2, 17.7\n",
    "    ]\n",
    "\n",
    "coaster_heights['Steel'] = steel_heights\n",
    "coaster_heights['Wood'] = wood_heights\n",
    "coaster_heights['Plastic'] = plastic_heights\n",
    "\n",
    "# Visualize our data\n",
    "coaster_heights.hist(sharey=True,sharex=True)\n",
    "plt.show()"
   ]
  },
  {
   "cell_type": "code",
   "execution_count": 3,
   "metadata": {},
   "outputs": [
    {
     "name": "stdout",
     "output_type": "stream",
     "text": [
      "Steel      22.57532\n",
      "Wood       30.85210\n",
      "Plastic    13.20550\n",
      "dtype: float64\n"
     ]
    },
    {
     "data": {
      "image/png": "[encoded data removed]",
      "text/plain": [
       "<Figure size 432x288 with 1 Axes>"
      ]
     },
     "metadata": {},
     "output_type": "display_data"
    },
    {
     "name": "stdout",
     "output_type": "stream",
     "text": [
      "21.515815855142634\n",
      "1.0927449918229045e-07\n"
     ]
    }
   ],
   "source": [
    "# Printing the means for each group\n",
    "print(coaster_heights.mean())\n",
    "\n",
    "coaster_heights.boxplot()\n",
    "plt.show()\n",
    "\n",
    "F, p = stats.f_oneway(\n",
    "    coaster_heights['Steel'],\n",
    "    coaster_heights['Wood'],\n",
    "    coaster_heights['Plastic'])\n",
    "\n",
    "# The F statistic\n",
    "print(F)\n",
    "\n",
    "# The probability.  A p < .05 would lead us to believe the group means were\n",
    "# not all similar in the population\n",
    "print(p)"
   ]
  },
  {
   "cell_type": "code",
   "execution_count": 4,
   "metadata": {},
   "outputs": [
    {
     "name": "stdout",
     "output_type": "stream",
     "text": [
      "Ttest_indResult(statistic=-2.785911485728798, pvalue=0.008281657085474181)\n",
      "Ttest_indResult(statistic=3.8446067874474887, pvalue=0.00044650642104150624)\n",
      "Ttest_indResult(statistic=-6.683437837231596, pvalue=6.614422528990009e-08)\n"
     ]
    }
   ],
   "source": [
    "print(stats.ttest_ind(coaster_heights['Steel'], coaster_heights['Wood']))\n",
    "print(stats.ttest_ind(coaster_heights['Steel'], coaster_heights['Plastic']))\n",
    "print(stats.ttest_ind(coaster_heights['Plastic'], coaster_heights['Wood']))"
   ]
  },
  {
   "cell_type": "markdown",
   "metadata": {},
   "source": [
    "### Dependent Group Examples ###\n",
    "\n",
    "- Starbucks is changing their cup design and you want to see if that has any effect on sales\n",
    "- Website is launching a redesign and wants to see if user experience has improved\n",
    "- Car magazine wants to see if people prefer driving BMW or Audi"
   ]
  },
  {
   "cell_type": "code",
   "execution_count": null,
   "metadata": {},
   "outputs": [],
   "source": []
  }
 ],
 "metadata": {
  "kernelspec": {
   "display_name": "Python 3",
   "language": "python",
   "name": "python3"
  },
  "language_info": {
   "codemirror_mode": {
    "name": "ipython",
    "version": 3
   },
   "file_extension": ".py",
   "mimetype": "text/x-python",
   "name": "python",
   "nbconvert_exporter": "python",
   "pygments_lexer": "ipython3",
   "version": "3.7.0"
  }
 },
 "nbformat": 4,
 "nbformat_minor": 2
}
