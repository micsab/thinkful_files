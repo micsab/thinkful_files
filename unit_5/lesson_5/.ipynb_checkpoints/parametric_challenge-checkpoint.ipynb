{
 "cells": [
  {
   "cell_type": "code",
   "execution_count": 29,
   "metadata": {},
   "outputs": [],
   "source": [
    "import pandas as pd\n",
    "import numpy as np\n",
    "import scipy.stats as stats\n",
    "import matplotlib.pyplot as plt\n",
    "%matplotlib inline"
   ]
  },
  {
   "cell_type": "code",
   "execution_count": 30,
   "metadata": {},
   "outputs": [
    {
     "data": {
      "text/html": [
       "<div>\n",
       "<style scoped>\n",
       "    .dataframe tbody tr th:only-of-type {\n",
       "        vertical-align: middle;\n",
       "    }\n",
       "\n",
       "    .dataframe tbody tr th {\n",
       "        vertical-align: top;\n",
       "    }\n",
       "\n",
       "    .dataframe thead th {\n",
       "        text-align: right;\n",
       "    }\n",
       "</style>\n",
       "<table border=\"1\" class=\"dataframe\">\n",
       "  <thead>\n",
       "    <tr style=\"text-align: right;\">\n",
       "      <th></th>\n",
       "      <th>cntry</th>\n",
       "      <th>idno</th>\n",
       "      <th>year</th>\n",
       "      <th>tvtot</th>\n",
       "      <th>ppltrst</th>\n",
       "      <th>pplfair</th>\n",
       "      <th>pplhlp</th>\n",
       "      <th>happy</th>\n",
       "      <th>sclmeet</th>\n",
       "      <th>sclact</th>\n",
       "      <th>gndr</th>\n",
       "      <th>agea</th>\n",
       "      <th>partner</th>\n",
       "    </tr>\n",
       "  </thead>\n",
       "  <tbody>\n",
       "    <tr>\n",
       "      <th>0</th>\n",
       "      <td>CH</td>\n",
       "      <td>5.0</td>\n",
       "      <td>6</td>\n",
       "      <td>3.0</td>\n",
       "      <td>3.0</td>\n",
       "      <td>10.0</td>\n",
       "      <td>5.0</td>\n",
       "      <td>8.0</td>\n",
       "      <td>5.0</td>\n",
       "      <td>4.0</td>\n",
       "      <td>2.0</td>\n",
       "      <td>60.0</td>\n",
       "      <td>1.0</td>\n",
       "    </tr>\n",
       "    <tr>\n",
       "      <th>1</th>\n",
       "      <td>CH</td>\n",
       "      <td>25.0</td>\n",
       "      <td>6</td>\n",
       "      <td>6.0</td>\n",
       "      <td>5.0</td>\n",
       "      <td>7.0</td>\n",
       "      <td>5.0</td>\n",
       "      <td>9.0</td>\n",
       "      <td>3.0</td>\n",
       "      <td>2.0</td>\n",
       "      <td>2.0</td>\n",
       "      <td>59.0</td>\n",
       "      <td>1.0</td>\n",
       "    </tr>\n",
       "    <tr>\n",
       "      <th>2</th>\n",
       "      <td>CH</td>\n",
       "      <td>26.0</td>\n",
       "      <td>6</td>\n",
       "      <td>1.0</td>\n",
       "      <td>8.0</td>\n",
       "      <td>8.0</td>\n",
       "      <td>8.0</td>\n",
       "      <td>7.0</td>\n",
       "      <td>6.0</td>\n",
       "      <td>3.0</td>\n",
       "      <td>1.0</td>\n",
       "      <td>24.0</td>\n",
       "      <td>2.0</td>\n",
       "    </tr>\n",
       "    <tr>\n",
       "      <th>3</th>\n",
       "      <td>CH</td>\n",
       "      <td>28.0</td>\n",
       "      <td>6</td>\n",
       "      <td>4.0</td>\n",
       "      <td>6.0</td>\n",
       "      <td>6.0</td>\n",
       "      <td>7.0</td>\n",
       "      <td>10.0</td>\n",
       "      <td>6.0</td>\n",
       "      <td>2.0</td>\n",
       "      <td>2.0</td>\n",
       "      <td>64.0</td>\n",
       "      <td>1.0</td>\n",
       "    </tr>\n",
       "    <tr>\n",
       "      <th>4</th>\n",
       "      <td>CH</td>\n",
       "      <td>29.0</td>\n",
       "      <td>6</td>\n",
       "      <td>5.0</td>\n",
       "      <td>6.0</td>\n",
       "      <td>7.0</td>\n",
       "      <td>5.0</td>\n",
       "      <td>8.0</td>\n",
       "      <td>7.0</td>\n",
       "      <td>2.0</td>\n",
       "      <td>2.0</td>\n",
       "      <td>55.0</td>\n",
       "      <td>1.0</td>\n",
       "    </tr>\n",
       "  </tbody>\n",
       "</table>\n",
       "</div>"
      ],
      "text/plain": [
       "  cntry  idno  year  tvtot  ppltrst  pplfair  pplhlp  happy  sclmeet  sclact  \\\n",
       "0    CH   5.0     6    3.0      3.0     10.0     5.0    8.0      5.0     4.0   \n",
       "1    CH  25.0     6    6.0      5.0      7.0     5.0    9.0      3.0     2.0   \n",
       "2    CH  26.0     6    1.0      8.0      8.0     8.0    7.0      6.0     3.0   \n",
       "3    CH  28.0     6    4.0      6.0      6.0     7.0   10.0      6.0     2.0   \n",
       "4    CH  29.0     6    5.0      6.0      7.0     5.0    8.0      7.0     2.0   \n",
       "\n",
       "   gndr  agea  partner  \n",
       "0   2.0  60.0      1.0  \n",
       "1   2.0  59.0      1.0  \n",
       "2   1.0  24.0      2.0  \n",
       "3   2.0  64.0      1.0  \n",
       "4   2.0  55.0      1.0  "
      ]
     },
     "execution_count": 30,
     "metadata": {},
     "output_type": "execute_result"
    }
   ],
   "source": [
    "euro_data = pd.read_csv('euro_data.csv')\n",
    "euro_data.head()"
   ]
  },
  {
   "cell_type": "code",
   "execution_count": 31,
   "metadata": {},
   "outputs": [
    {
     "data": {
      "text/plain": [
       "7    4297\n",
       "6    4297\n",
       "Name: year, dtype: int64"
      ]
     },
     "execution_count": 31,
     "metadata": {},
     "output_type": "execute_result"
    }
   ],
   "source": [
    "euro_data.year.value_counts()"
   ]
  },
  {
   "cell_type": "code",
   "execution_count": 32,
   "metadata": {},
   "outputs": [],
   "source": [
    "# Do people become less trusting from 2012 to 2014?\n",
    "ch_cntry = euro_data[euro_data['cntry'] == 'CH']\n",
    "es_cntry = euro_data[euro_data['cntry'] == 'ES']\n",
    "se_cntry = euro_data[euro_data['cntry'] == 'SE']\n",
    "no_cntry = euro_data[euro_data['cntry'] == 'NO']\n",
    "cz_cntry = euro_data[euro_data['cntry'] == 'CZ']\n",
    "de_cntry = euro_data[euro_data['cntry'] == 'DE']\n",
    "\n",
    "ch_cntry_2012 = ch_cntry[ch_cntry['year'] == 6]\n",
    "ch_cntry_2014 = ch_cntry[ch_cntry['year'] == 7]\n",
    "\n",
    "es_cntry_2012 = es_cntry[es_cntry['year'] == 6]\n",
    "es_cntry_2014 = es_cntry[es_cntry['year'] == 7]\n",
    "\n",
    "se_cntry_2012 = se_cntry[se_cntry['year'] == 6]\n",
    "se_cntry_2014 = se_cntry[se_cntry['year'] == 7]\n",
    "\n",
    "no_cntry_2012 = no_cntry[no_cntry['year'] == 6]\n",
    "no_cntry_2014 = no_cntry[no_cntry['year'] == 7]\n",
    "\n",
    "cz_cntry_2012 = cz_cntry[cz_cntry['year'] == 6]\n",
    "cz_cntry_2014 = cz_cntry[cz_cntry['year'] == 7]\n",
    "\n",
    "de_cntry_2012 = de_cntry[de_cntry['year'] == 6]\n",
    "de_cntry_2014 = de_cntry[de_cntry['year'] == 7]"
   ]
  },
  {
   "cell_type": "code",
   "execution_count": 42,
   "metadata": {},
   "outputs": [
    {
     "data": {
      "text/plain": [
       "array([[<matplotlib.axes._subplots.AxesSubplot object at 0x1195bde48>,\n",
       "        <matplotlib.axes._subplots.AxesSubplot object at 0x1197e06d8>]],\n",
       "      dtype=object)"
      ]
     },
     "execution_count": 42,
     "metadata": {},
     "output_type": "execute_result"
    },
    {
     "data": {
      "image/png": "[encoded data removed]",
      "text/plain": [
       "<Figure size 432x288 with 2 Axes>"
      ]
     },
     "metadata": {},
     "output_type": "display_data"
    }
   ],
   "source": [
    "ch_trust_2012 = np.asarray(ch_cntry_2012['ppltrst'])\n",
    "ch_trust_2014 = np.asarray(ch_cntry_2014['ppltrst'])\n",
    "\n",
    "ch_trust = pd.DataFrame()\n",
    "ch_trust['2012'] = ch_trust_2012\n",
    "ch_trust['2014'] = ch_trust_2014\n",
    "\n",
    "ch_trust.hist(sharex=True, sharey=True)"
   ]
  },
  {
   "cell_type": "code",
   "execution_count": 54,
   "metadata": {},
   "outputs": [
    {
     "name": "stdout",
     "output_type": "stream",
     "text": [
      "2012    5.677878\n",
      "2014    5.751617\n",
      "dtype: float64\n"
     ]
    },
    {
     "data": {
      "image/png": "[encoded data removed]",
      "text/plain": [
       "<Figure size 432x288 with 1 Axes>"
      ]
     },
     "metadata": {},
     "output_type": "display_data"
    }
   ],
   "source": [
    "print(ch_trust.mean())\n",
    "ch_trust.boxplot()\n",
    "plt.show()"
   ]
  },
  {
   "cell_type": "code",
   "execution_count": 61,
   "metadata": {},
   "outputs": [
    {
     "name": "stdout",
     "output_type": "stream",
     "text": [
      "WilcoxonResult(statistic=106278.5, pvalue=0.4411286510952477)\n",
      "Ttest_relResult(statistic=-0.6586851756725737, pvalue=0.5102943511301135)\n",
      "Ttest_indResult(statistic=-0.6782716584661505, pvalue=0.49770110247151234)\n"
     ]
    }
   ],
   "source": [
    "# p > .05 leads us to believe that this cntry has not lost trust between 2012 and 2014\n",
    "print(stats.wilcoxon(ch_trust['2012'], ch_trust['2014']))\n",
    "print(stats.ttest_rel(ch_trust['2012'], ch_trust['2014']))\n",
    "print(stats.ttest_ind(ch_trust['2012'], ch_trust['2014']))"
   ]
  },
  {
   "cell_type": "code",
   "execution_count": 72,
   "metadata": {},
   "outputs": [
    {
     "data": {
      "image/png": "[encoded data removed]",
      "text/plain": [
       "<Figure size 432x288 with 2 Axes>"
      ]
     },
     "metadata": {},
     "output_type": "display_data"
    },
    {
     "name": "stdout",
     "output_type": "stream",
     "text": [
      "2012    5.112304\n",
      "2014    4.895128\n",
      "dtype: float64\n"
     ]
    },
    {
     "data": {
      "image/png": "[encoded data removed]",
      "text/plain": [
       "<Figure size 432x288 with 1 Axes>"
      ]
     },
     "metadata": {},
     "output_type": "display_data"
    },
    {
     "name": "stdout",
     "output_type": "stream",
     "text": [
      "Ttest_relResult(statistic=2.4561906976601646, pvalue=0.014181580725321856)\n",
      "Ttest_indResult(statistic=2.466707368355955, pvalue=0.013704982855186969)\n"
     ]
    }
   ],
   "source": [
    "# This country IS less trusting\n",
    "es_trust_2012 = np.asarray(es_cntry_2012['ppltrst'])\n",
    "es_trust_2014 = np.asarray(es_cntry_2014['ppltrst'])\n",
    "\n",
    "es_trust = pd.DataFrame()\n",
    "es_trust['2012'] = es_trust_2012\n",
    "es_trust['2014'] = es_trust_2014\n",
    "es_trust = es_trust.dropna()\n",
    "\n",
    "es_trust.hist(sharex=True, sharey=True)\n",
    "plt.show()\n",
    "\n",
    "print(es_trust.mean())\n",
    "es_trust.boxplot()\n",
    "plt.show()\n",
    "\n",
    "print(stats.ttest_rel(es_trust['2012'], es_trust['2014']))\n",
    "print(stats.ttest_ind(es_trust['2012'], es_trust['2014']))"
   ]
  },
  {
   "cell_type": "code",
   "execution_count": 74,
   "metadata": {},
   "outputs": [
    {
     "data": {
      "image/png": "[encoded data removed]",
      "text/plain": [
       "<Figure size 432x288 with 2 Axes>"
      ]
     },
     "metadata": {},
     "output_type": "display_data"
    },
    {
     "name": "stdout",
     "output_type": "stream",
     "text": [
      "2012    6.058499\n",
      "2014    6.257174\n",
      "dtype: float64\n"
     ]
    },
    {
     "data": {
      "image/png": "[encoded data removed]",
      "text/plain": [
       "<Figure size 432x288 with 1 Axes>"
      ]
     },
     "metadata": {},
     "output_type": "display_data"
    },
    {
     "name": "stdout",
     "output_type": "stream",
     "text": [
      "Ttest_relResult(statistic=-2.0671082026033982, pvalue=0.0390078167095776)\n",
      "Ttest_indResult(statistic=-2.081901903019313, pvalue=0.03749162208243697)\n"
     ]
    }
   ],
   "source": [
    "# This country is MORE trusting\n",
    "se_trust_2012 = np.asarray(se_cntry_2012['ppltrst'])\n",
    "se_trust_2014 = np.asarray(se_cntry_2014['ppltrst'])\n",
    "\n",
    "se_trust = pd.DataFrame()\n",
    "se_trust['2012'] = se_trust_2012\n",
    "se_trust['2014'] = se_trust_2014\n",
    "se_trust = se_trust.dropna()\n",
    "\n",
    "se_trust.hist(sharex=True, sharey=True)\n",
    "plt.show()\n",
    "\n",
    "print(se_trust.mean())\n",
    "se_trust.boxplot()\n",
    "plt.show()\n",
    "\n",
    "print(stats.ttest_rel(se_trust['2012'], se_trust['2014']))\n",
    "print(stats.ttest_ind(se_trust['2012'], se_trust['2014']))"
   ]
  },
  {
   "cell_type": "code",
   "execution_count": 75,
   "metadata": {},
   "outputs": [
    {
     "data": {
      "image/png": "[encoded data removed]",
      "text/plain": [
       "<Figure size 432x288 with 2 Axes>"
      ]
     },
     "metadata": {},
     "output_type": "display_data"
    },
    {
     "name": "stdout",
     "output_type": "stream",
     "text": [
      "2012    6.647462\n",
      "2014    6.599451\n",
      "dtype: float64\n"
     ]
    },
    {
     "data": {
      "image/png": "[encoded data removed]",
      "text/plain": [
       "<Figure size 432x288 with 1 Axes>"
      ]
     },
     "metadata": {},
     "output_type": "display_data"
    },
    {
     "name": "stdout",
     "output_type": "stream",
     "text": [
      "Ttest_relResult(statistic=0.5073077081124404, pvalue=0.6120925701518767)\n",
      "Ttest_indResult(statistic=0.5144953142552611, pvalue=0.6069838196942174)\n"
     ]
    }
   ],
   "source": [
    "# This country is neither more nor less trusting\n",
    "no_trust_2012 = np.asarray(no_cntry_2012['ppltrst'])\n",
    "no_trust_2014 = np.asarray(no_cntry_2014['ppltrst'])\n",
    "\n",
    "no_trust = pd.DataFrame()\n",
    "no_trust['2012'] = no_trust_2012\n",
    "no_trust['2014'] = no_trust_2014\n",
    "no_trust = no_trust.dropna()\n",
    "\n",
    "no_trust.hist(sharex=True, sharey=True)\n",
    "plt.show()\n",
    "\n",
    "print(no_trust.mean())\n",
    "no_trust.boxplot()\n",
    "plt.show()\n",
    "\n",
    "print(stats.ttest_rel(no_trust['2012'], no_trust['2014']))\n",
    "print(stats.ttest_ind(no_trust['2012'], no_trust['2014']))"
   ]
  },
  {
   "cell_type": "code",
   "execution_count": 76,
   "metadata": {},
   "outputs": [
    {
     "data": {
      "image/png": "[encoded data removed]",
      "text/plain": [
       "<Figure size 432x288 with 2 Axes>"
      ]
     },
     "metadata": {},
     "output_type": "display_data"
    },
    {
     "name": "stdout",
     "output_type": "stream",
     "text": [
      "2012    4.361538\n",
      "2014    4.429231\n",
      "dtype: float64\n"
     ]
    },
    {
     "data": {
      "image/png": "[encoded data removed]",
      "text/plain": [
       "<Figure size 432x288 with 1 Axes>"
      ]
     },
     "metadata": {},
     "output_type": "display_data"
    },
    {
     "name": "stdout",
     "output_type": "stream",
     "text": [
      "Ttest_relResult(statistic=-0.5001638336887216, pvalue=0.6171292682404208)\n",
      "Ttest_indResult(statistic=-0.5178840749623017, pvalue=0.6046274077331995)\n"
     ]
    }
   ],
   "source": [
    "# This country is neither more nor less trusting\n",
    "cz_trust_2012 = np.asarray(cz_cntry_2012['ppltrst'])\n",
    "cz_trust_2014 = np.asarray(cz_cntry_2014['ppltrst'])\n",
    "\n",
    "cz_trust = pd.DataFrame()\n",
    "cz_trust['2012'] = cz_trust_2012\n",
    "cz_trust['2014'] = cz_trust_2014\n",
    "cz_trust = cz_trust.dropna()\n",
    "\n",
    "cz_trust.hist(sharex=True, sharey=True)\n",
    "plt.show()\n",
    "\n",
    "print(cz_trust.mean())\n",
    "cz_trust.boxplot()\n",
    "plt.show()\n",
    "\n",
    "print(stats.ttest_rel(cz_trust['2012'], cz_trust['2014']))\n",
    "print(stats.ttest_ind(cz_trust['2012'], cz_trust['2014']))"
   ]
  },
  {
   "cell_type": "code",
   "execution_count": 77,
   "metadata": {},
   "outputs": [
    {
     "data": {
      "image/png": "[encoded data removed]",
      "text/plain": [
       "<Figure size 432x288 with 2 Axes>"
      ]
     },
     "metadata": {},
     "output_type": "display_data"
    },
    {
     "name": "stdout",
     "output_type": "stream",
     "text": [
      "2012    5.214286\n",
      "2014    5.357143\n",
      "dtype: float64\n"
     ]
    },
    {
     "data": {
      "image/png": "[encoded data removed]",
      "text/plain": [
       "<Figure size 432x288 with 1 Axes>"
      ]
     },
     "metadata": {},
     "output_type": "display_data"
    },
    {
     "name": "stdout",
     "output_type": "stream",
     "text": [
      "Ttest_relResult(statistic=-0.18399501804849683, pvalue=0.8568563797095805)\n",
      "Ttest_indResult(statistic=-0.18084358577434545, pvalue=0.8578926631223287)\n"
     ]
    }
   ],
   "source": [
    "# Cannot determine whether people are more or less trusting.\n",
    "de_trust_2012 = np.asarray(de_cntry_2012['ppltrst'])\n",
    "de_trust_2014 = np.asarray(de_cntry_2014['ppltrst'])\n",
    "\n",
    "de_trust = pd.DataFrame()\n",
    "de_trust['2012'] = de_trust_2012\n",
    "de_trust['2014'] = de_trust_2014\n",
    "de_trust = de_trust.dropna()\n",
    "\n",
    "de_trust.hist(sharex=True, sharey=True)\n",
    "plt.show()\n",
    "\n",
    "print(de_trust.mean())\n",
    "de_trust.boxplot()\n",
    "plt.show()\n",
    "\n",
    "print(stats.ttest_rel(de_trust['2012'], de_trust['2014']))\n",
    "print(stats.ttest_ind(de_trust['2012'], de_trust['2014']))"
   ]
  },
  {
   "cell_type": "markdown",
   "metadata": {},
   "source": [
    "## Did People Become Happier? ##"
   ]
  },
  {
   "cell_type": "code",
   "execution_count": 80,
   "metadata": {},
   "outputs": [
    {
     "data": {
      "image/png": "[encoded data removed]",
      "text/plain": [
       "<Figure size 432x288 with 2 Axes>"
      ]
     },
     "metadata": {},
     "output_type": "display_data"
    },
    {
     "name": "stdout",
     "output_type": "stream",
     "text": [
      "2012    7.428571\n",
      "2014    7.857143\n",
      "dtype: float64\n"
     ]
    },
    {
     "data": {
      "image/png": "[encoded data removed]",
      "text/plain": [
       "<Figure size 432x288 with 1 Axes>"
      ]
     },
     "metadata": {},
     "output_type": "display_data"
    },
    {
     "name": "stdout",
     "output_type": "stream",
     "text": [
      "Ttest_relResult(statistic=-0.8062257748298549, pvalue=0.4346138707734991)\n",
      "Ttest_indResult(statistic=-0.7648529270389165, pvalue=0.451246041120838)\n"
     ]
    }
   ],
   "source": [
    "# Cannot determine if the pop is happier now vs then.\n",
    "de_happy_2012 = np.asarray(de_cntry_2012['happy'])\n",
    "de_happy_2014 = np.asarray(de_cntry_2014['happy'])\n",
    "\n",
    "de_happy = pd.DataFrame()\n",
    "de_happy['2012'] = de_happy_2012\n",
    "de_happy['2014'] = de_happy_2014\n",
    "de_happy = de_happy.dropna()\n",
    "\n",
    "de_happy.hist(sharex=True, sharey=True)\n",
    "plt.show()\n",
    "\n",
    "print(de_happy.mean())\n",
    "de_happy.boxplot()\n",
    "plt.show()\n",
    "\n",
    "print(stats.ttest_rel(de_happy['2012'], de_happy['2014']))\n",
    "print(stats.ttest_ind(de_happy['2012'], de_happy['2014']))"
   ]
  },
  {
   "cell_type": "code",
   "execution_count": 83,
   "metadata": {},
   "outputs": [
    {
     "data": {
      "image/png": "[encoded data removed]",
      "text/plain": [
       "<Figure size 432x288 with 2 Axes>"
      ]
     },
     "metadata": {},
     "output_type": "display_data"
    },
    {
     "name": "stdout",
     "output_type": "stream",
     "text": [
      "2012    8.088312\n",
      "2014    8.111688\n",
      "dtype: float64\n"
     ]
    },
    {
     "data": {
      "image/png": "[encoded data removed]",
      "text/plain": [
       "<Figure size 432x288 with 1 Axes>"
      ]
     },
     "metadata": {},
     "output_type": "display_data"
    },
    {
     "name": "stdout",
     "output_type": "stream",
     "text": [
      "MannwhitneyuResult(statistic=293121.0, pvalue=0.3467707376324811)\n",
      "WilcoxonResult(statistic=92816.5, pvalue=0.989517215264762)\n",
      "Ttest_relResult(statistic=-0.319412957862232, pvalue=0.7495001355428359)\n",
      "Ttest_indResult(statistic=-0.32253950576111284, pvalue=0.7470878531125811)\n"
     ]
    }
   ],
   "source": [
    "# Cannot determine if happiness is different\n",
    "ch_happy_2012 = np.asarray(ch_cntry_2012['happy'])\n",
    "ch_happy_2014 = np.asarray(ch_cntry_2014['happy'])\n",
    "\n",
    "ch_happy = pd.DataFrame()\n",
    "ch_happy['2012'] = ch_happy_2012\n",
    "ch_happy['2014'] = ch_happy_2014\n",
    "ch_happy = ch_happy.dropna()\n",
    "\n",
    "ch_happy.hist(sharex=True, sharey=True)\n",
    "plt.show()\n",
    "\n",
    "print(ch_happy.mean())\n",
    "ch_happy.boxplot()\n",
    "plt.show()\n",
    "\n",
    "print(stats.mannwhitneyu(ch_happy['2012'], ch_happy['2014']))\n",
    "print(stats.wilcoxon(ch_happy['2012'], ch_happy['2014']))\n",
    "print(stats.ttest_rel(ch_happy['2012'], ch_happy['2014']))\n",
    "print(stats.ttest_ind(ch_happy['2012'], ch_happy['2014']))"
   ]
  },
  {
   "cell_type": "code",
   "execution_count": 85,
   "metadata": {},
   "outputs": [
    {
     "data": {
      "image/png": "[encoded data removed]",
      "text/plain": [
       "<Figure size 432x288 with 2 Axes>"
      ]
     },
     "metadata": {},
     "output_type": "display_data"
    },
    {
     "name": "stdout",
     "output_type": "stream",
     "text": [
      "2012    7.547481\n",
      "2014    7.420314\n",
      "dtype: float64\n"
     ]
    },
    {
     "data": {
      "image/png": "[encoded data removed]",
      "text/plain": [
       "<Figure size 432x288 with 1 Axes>"
      ]
     },
     "metadata": {},
     "output_type": "display_data"
    },
    {
     "name": "stdout",
     "output_type": "stream",
     "text": [
      "KruskalResult(statistic=3.9620118510103475, pvalue=0.046538051258145516)\n",
      "MannwhitneyuResult(statistic=699634.0, pvalue=0.02327065428424168)\n",
      "WilcoxonResult(statistic=231958.5, pvalue=0.06262681782599841)\n",
      "Ttest_relResult(statistic=1.613832417735418, pvalue=0.1068245155648069)\n",
      "Ttest_indResult(statistic=1.652740188730567, pvalue=0.09851346772544292)\n"
     ]
    }
   ],
   "source": [
    "es_happy_2012 = np.asarray(es_cntry_2012['happy'])\n",
    "es_happy_2014 = np.asarray(es_cntry_2014['happy'])\n",
    "\n",
    "es_happy = pd.DataFrame()\n",
    "es_happy['2012'] = es_happy_2012\n",
    "es_happy['2014'] = es_happy_2014\n",
    "es_happy = es_happy.dropna()\n",
    "\n",
    "es_happy.hist(sharex=True, sharey=True)\n",
    "plt.show()\n",
    "\n",
    "print(es_happy.mean())\n",
    "es_happy.boxplot()\n",
    "plt.show()\n",
    "\n",
    "print(stats.kruskal(es_happy['2012'], es_happy['2014']))\n",
    "print(stats.mannwhitneyu(es_happy['2012'], es_happy['2014']))\n",
    "print(stats.wilcoxon(es_happy['2012'], es_happy['2014']))\n",
    "print(stats.ttest_rel(es_happy['2012'], es_happy['2014']))\n",
    "print(stats.ttest_ind(es_happy['2012'], es_happy['2014']))"
   ]
  },
  {
   "cell_type": "code",
   "execution_count": 87,
   "metadata": {},
   "outputs": [
    {
     "data": {
      "image/png": "[encoded data removed]",
      "text/plain": [
       "<Figure size 432x288 with 2 Axes>"
      ]
     },
     "metadata": {},
     "output_type": "display_data"
    },
    {
     "name": "stdout",
     "output_type": "stream",
     "text": [
      "2012    7.909292\n",
      "2014    7.948009\n",
      "dtype: float64\n"
     ]
    },
    {
     "data": {
      "image/png": "[encoded data removed]",
      "text/plain": [
       "<Figure size 432x288 with 1 Axes>"
      ]
     },
     "metadata": {},
     "output_type": "display_data"
    },
    {
     "name": "stdout",
     "output_type": "stream",
     "text": [
      "Ttest_relResult(statistic=-0.5581637086030012, pvalue=0.5768709591234161)\n",
      "Ttest_indResult(statistic=-0.561354734607406, pvalue=0.5746253816522227)\n"
     ]
    }
   ],
   "source": [
    "# Cannot determine\n",
    "se_happy_2012 = np.asarray(se_cntry_2012['happy'])\n",
    "se_happy_2014 = np.asarray(se_cntry_2014['happy'])\n",
    "\n",
    "se_happy = pd.DataFrame()\n",
    "se_happy['2012'] = se_happy_2012\n",
    "se_happy['2014'] = se_happy_2014\n",
    "se_happy = se_happy.dropna()\n",
    "\n",
    "se_happy.hist(sharex=True, sharey=True)\n",
    "plt.show()\n",
    "\n",
    "print(se_happy.mean())\n",
    "se_happy.boxplot()\n",
    "plt.show()\n",
    "\n",
    "\n",
    "print(stats.ttest_rel(se_happy['2012'], se_happy['2014']))\n",
    "print(stats.ttest_ind(se_happy['2012'], se_happy['2014']))"
   ]
  },
  {
   "cell_type": "code",
   "execution_count": 88,
   "metadata": {},
   "outputs": [
    {
     "data": {
      "image/png": "[encoded data removed]",
      "text/plain": [
       "<Figure size 432x288 with 2 Axes>"
      ]
     },
     "metadata": {},
     "output_type": "display_data"
    },
    {
     "name": "stdout",
     "output_type": "stream",
     "text": [
      "2012    8.251719\n",
      "2014    7.911967\n",
      "dtype: float64\n"
     ]
    },
    {
     "data": {
      "image/png": "[encoded data removed]",
      "text/plain": [
       "<Figure size 432x288 with 1 Axes>"
      ]
     },
     "metadata": {},
     "output_type": "display_data"
    },
    {
     "name": "stdout",
     "output_type": "stream",
     "text": [
      "Ttest_relResult(statistic=4.2856826576235925, pvalue=2.0674530134057013e-05)\n",
      "Ttest_indResult(statistic=4.3024342447847435, pvalue=1.8022576278185143e-05)\n"
     ]
    }
   ],
   "source": [
    "# People here are less happy now\n",
    "no_happy_2012 = np.asarray(no_cntry_2012['happy'])\n",
    "no_happy_2014 = np.asarray(no_cntry_2014['happy'])\n",
    "\n",
    "no_happy = pd.DataFrame()\n",
    "no_happy['2012'] = no_happy_2012\n",
    "no_happy['2014'] = no_happy_2014\n",
    "no_happy = no_happy.dropna()\n",
    "\n",
    "no_happy.hist(sharex=True, sharey=True)\n",
    "plt.show()\n",
    "\n",
    "print(no_happy.mean())\n",
    "no_happy.boxplot()\n",
    "plt.show()\n",
    "\n",
    "\n",
    "print(stats.ttest_rel(no_happy['2012'], no_happy['2014']))\n",
    "print(stats.ttest_ind(no_happy['2012'], no_happy['2014']))"
   ]
  },
  {
   "cell_type": "code",
   "execution_count": 91,
   "metadata": {},
   "outputs": [
    {
     "data": {
      "image/png": "[encoded data removed]",
      "text/plain": [
       "<Figure size 432x288 with 2 Axes>"
      ]
     },
     "metadata": {},
     "output_type": "display_data"
    },
    {
     "name": "stdout",
     "output_type": "stream",
     "text": [
      "2012    6.767188\n",
      "2014    6.929688\n",
      "dtype: float64\n"
     ]
    },
    {
     "data": {
      "image/png": "[encoded data removed]",
      "text/plain": [
       "<Figure size 432x288 with 1 Axes>"
      ]
     },
     "metadata": {},
     "output_type": "display_data"
    },
    {
     "name": "stdout",
     "output_type": "stream",
     "text": [
      "KruskalResult(statistic=1.854115866194704, pvalue=0.17330545259186408)\n",
      "MannwhitneyuResult(statistic=195915.0, pvalue=0.08666482385036761)\n",
      "WilcoxonResult(statistic=73213.0, pvalue=0.18319351815338547)\n",
      "Ttest_relResult(statistic=-1.4561384833039597, pvalue=0.14584548433894534)\n",
      "Ttest_indResult(statistic=-1.4675579377483174, pvalue=0.14247038847484955)\n"
     ]
    }
   ],
   "source": [
    "# Cannot determine\n",
    "cz_happy_2012 = np.asarray(cz_cntry_2012['happy'])\n",
    "cz_happy_2014 = np.asarray(cz_cntry_2014['happy'])\n",
    "\n",
    "cz_happy = pd.DataFrame()\n",
    "cz_happy['2012'] = cz_happy_2012\n",
    "cz_happy['2014'] = cz_happy_2014\n",
    "cz_happy = cz_happy.dropna()\n",
    "\n",
    "cz_happy.hist(sharex=True, sharey=True)\n",
    "plt.show()\n",
    "\n",
    "print(cz_happy.mean())\n",
    "cz_happy.boxplot()\n",
    "plt.show()\n",
    "\n",
    "\n",
    "print(stats.kruskal(cz_happy['2012'], cz_happy['2014']))\n",
    "print(stats.mannwhitneyu(cz_happy['2012'], cz_happy['2014']))\n",
    "print(stats.wilcoxon(cz_happy['2012'], cz_happy['2014']))\n",
    "print(stats.ttest_rel(cz_happy['2012'], cz_happy['2014']))\n",
    "print(stats.ttest_ind(cz_happy['2012'], cz_happy['2014']))"
   ]
  },
  {
   "cell_type": "markdown",
   "metadata": {},
   "source": [
    "## Who reported watching more TV in 2012, men or women? ##"
   ]
  },
  {
   "cell_type": "code",
   "execution_count": 136,
   "metadata": {},
   "outputs": [
    {
     "data": {
      "image/png": "[encoded data removed]",
      "text/plain": [
       "<Figure size 432x288 with 2 Axes>"
      ]
     },
     "metadata": {},
     "output_type": "display_data"
    },
    {
     "name": "stdout",
     "output_type": "stream",
     "text": [
      "men      3.903135\n",
      "women    3.941039\n",
      "dtype: float64\n"
     ]
    },
    {
     "data": {
      "image/png": "[encoded data removed]",
      "text/plain": [
       "<Figure size 432x288 with 1 Axes>"
      ]
     },
     "metadata": {},
     "output_type": "display_data"
    },
    {
     "name": "stdout",
     "output_type": "stream",
     "text": [
      "Ttest_indResult(statistic=-0.6145249032716732, pvalue=0.5389012486909366)\n"
     ]
    }
   ],
   "source": [
    "# Women but cannot determine if representative of population\n",
    "male_cntry = euro_data[euro_data['gndr'] == 1]\n",
    "male_cntry = male_cntry[male_cntry['year'] == 6]\n",
    "female_cntry = euro_data[euro_data['gndr'] == 2]\n",
    "female_cntry = female_cntry[female_cntry['year'] == 6]\n",
    "\n",
    "male_tv = np.asarray(male_cntry['tvtot'])\n",
    "female_tv = np.asarray(female_cntry['tvtot'])\n",
    "\n",
    "tv_time = pd.DataFrame()\n",
    "tv_time['men'] = pd.Series(male_tv)\n",
    "tv_time['women'] = pd.Series(female_tv)\n",
    "tv_time = tv_time.dropna()\n",
    "\n",
    "tv_time.hist(sharex=True, sharey=True)\n",
    "plt.show()\n",
    "\n",
    "print(tv_time.mean())\n",
    "tv_time.boxplot()\n",
    "plt.show()\n",
    "\n",
    "print(stats.ttest_ind(tv_time['men'], tv_time['women']))"
   ]
  },
  {
   "cell_type": "markdown",
   "metadata": {},
   "source": [
    "## Who was more likely to believe people were fair in 2012, people living with a partner or people living alone? ##"
   ]
  },
  {
   "cell_type": "code",
   "execution_count": 138,
   "metadata": {},
   "outputs": [
    {
     "data": {
      "image/png": "[encoded data removed]",
      "text/plain": [
       "<Figure size 432x288 with 2 Axes>"
      ]
     },
     "metadata": {},
     "output_type": "display_data"
    },
    {
     "name": "stdout",
     "output_type": "stream",
     "text": [
      "partner       5.612258\n",
      "no_partner    5.856160\n",
      "dtype: float64\n"
     ]
    },
    {
     "data": {
      "image/png": "[encoded data removed]",
      "text/plain": [
       "<Figure size 432x288 with 1 Axes>"
      ]
     },
     "metadata": {},
     "output_type": "display_data"
    },
    {
     "name": "stdout",
     "output_type": "stream",
     "text": [
      "Ttest_indResult(statistic=-3.14986585141805, pvalue=0.0016485388386302887)\n"
     ]
    }
   ],
   "source": [
    "# People not living with a partner are more likely to believe people were fair in 2012\n",
    "partner = euro_data[euro_data['partner'] == 1]\n",
    "partner = partner[partner['year'] == 6]\n",
    "no_partner = euro_data[euro_data['partner'] == 2]\n",
    "no_partner = no_partner[no_partner['year'] == 6]\n",
    "\n",
    "partner_fair = np.asarray(partner['pplfair'])\n",
    "no_partner_fair = np.asarray(no_partner['pplfair'])\n",
    "\n",
    "fair = pd.DataFrame()\n",
    "fair['partner'] = pd.Series(partner_fair)\n",
    "fair['no_partner'] = pd.Series(no_partner_fair)\n",
    "fair = fair.dropna()\n",
    "\n",
    "fair.hist(sharex=True, sharey=True)\n",
    "plt.show()\n",
    "\n",
    "print(fair.mean())\n",
    "fair.boxplot()\n",
    "plt.show()\n",
    "\n",
    "print(stats.ttest_ind(fair['partner'], fair['no_partner']))"
   ]
  },
  {
   "cell_type": "markdown",
   "metadata": {},
   "source": [
    "## Pick three or four of the countries in the sample and compare how often people met socially in 2014. Are there differences, and if so, which countries stand out? ##"
   ]
  },
  {
   "cell_type": "code",
   "execution_count": 147,
   "metadata": {},
   "outputs": [
    {
     "data": {
      "image/png": "[encoded data removed]",
      "text/plain": [
       "<Figure size 432x288 with 4 Axes>"
      ]
     },
     "metadata": {},
     "output_type": "display_data"
    },
    {
     "name": "stdout",
     "output_type": "stream",
     "text": [
      "ch    5.158442\n",
      "es    5.293506\n",
      "se    5.345455\n",
      "dtype: float64\n"
     ]
    },
    {
     "data": {
      "image/png": "[encoded data removed]",
      "text/plain": [
       "<Figure size 432x288 with 1 Axes>"
      ]
     },
     "metadata": {},
     "output_type": "display_data"
    },
    {
     "name": "stdout",
     "output_type": "stream",
     "text": [
      "F_onewayResult(statistic=3.6915306699287345, pvalue=0.025081211367408224)\n",
      "Ttest_indResult(statistic=-1.8936482932662528, pvalue=0.05845922937788295)\n",
      "Ttest_indResult(statistic=-0.7104567825457939, pvalue=0.477528634452851)\n",
      "Ttest_indResult(statistic=-2.7240655821960287, pvalue=0.006521357492977966)\n"
     ]
    }
   ],
   "source": [
    "# They are statistically different with the main difference countries CH and SE\n",
    "ch_cntry = euro_data[euro_data['cntry'] == 'CH']\n",
    "ch_cntry = ch_cntry[ch_cntry['year'] == 7]\n",
    "\n",
    "es_cntry = euro_data[euro_data['cntry'] == 'ES']\n",
    "es_cntry = es_cntry[es_cntry['year'] == 7]\n",
    "\n",
    "se_cntry = euro_data[euro_data['cntry'] == 'SE']\n",
    "se_cntry = se_cntry[se_cntry['year'] == 7]\n",
    "\n",
    "ch_meet = np.asarray(ch_cntry['sclmeet'])\n",
    "es_meet = np.asarray(es_cntry['sclmeet'])\n",
    "se_meet = np.asarray(se_cntry['sclmeet'])\n",
    "\n",
    "meet = pd.DataFrame()\n",
    "meet['ch'] = pd.Series(ch_meet)\n",
    "meet['es'] = pd.Series(es_meet)\n",
    "meet['se'] = pd.Series(se_meet)\n",
    "meet = meet.dropna()\n",
    "\n",
    "meet.hist(sharex=True, sharey=True)\n",
    "plt.show()\n",
    "\n",
    "print(meet.mean())\n",
    "meet.boxplot()\n",
    "plt.show()\n",
    "\n",
    "print(stats.f_oneway(meet['ch'], meet['es'], meet['se']))\n",
    "\n",
    "print(stats.ttest_ind(meet['ch'], meet['es']))\n",
    "print(stats.ttest_ind(meet['es'], meet['se']))\n",
    "print(stats.ttest_ind(meet['ch'], meet['se']))"
   ]
  },
  {
   "cell_type": "markdown",
   "metadata": {},
   "source": [
    "## Pick three or four of the countries in the sample and compare how often people took part in social activities, relative to others their age, in 2014. Are there differences, and if so, which countries stand out? ##\n"
   ]
  },
  {
   "cell_type": "code",
   "execution_count": 153,
   "metadata": {},
   "outputs": [
    {
     "data": {
      "image/png": "[encoded data removed]",
      "text/plain": [
       "<Figure size 432x288 with 4 Axes>"
      ]
     },
     "metadata": {},
     "output_type": "display_data"
    },
    {
     "name": "stdout",
     "output_type": "stream",
     "text": [
      "ch    2.770213\n",
      "es    2.619858\n",
      "se    2.879433\n",
      "no    2.859574\n",
      "dtype: float64\n"
     ]
    },
    {
     "data": {
      "image/png": "[encoded data removed]",
      "text/plain": [
       "<Figure size 432x288 with 1 Axes>"
      ]
     },
     "metadata": {},
     "output_type": "display_data"
    },
    {
     "name": "stdout",
     "output_type": "stream",
     "text": [
      "F_onewayResult(statistic=12.363941816962456, pvalue=4.935265143710779e-08)\n",
      "Ttest_indResult(statistic=3.0414856599020363, pvalue=0.0023976411822137235)\n",
      "Ttest_indResult(statistic=-5.3442630248925616, pvalue=1.0577504486118713e-07)\n",
      "Ttest_indResult(statistic=-2.2874424751941396, pvalue=0.022317754393859877)\n",
      "Ttest_indResult(statistic=-1.921126630937436, pvalue=0.0549174585853139)\n",
      "Ttest_indResult(statistic=0.43552350347600965, pvalue=0.6632492379410151)\n",
      "Ttest_indResult(statistic=-5.0616021187729086, pvalue=4.706476173344463e-07)\n"
     ]
    }
   ],
   "source": [
    "ch_cntry = euro_data[euro_data['cntry'] == 'CH']\n",
    "ch_cntry = ch_cntry[ch_cntry['year'] == 7]\n",
    "\n",
    "es_cntry = euro_data[euro_data['cntry'] == 'ES']\n",
    "es_cntry = es_cntry[es_cntry['year'] == 7]\n",
    "\n",
    "se_cntry = euro_data[euro_data['cntry'] == 'SE']\n",
    "se_cntry = se_cntry[se_cntry['year'] == 7]\n",
    "\n",
    "no_cntry = euro_data[euro_data['cntry'] == 'NO']\n",
    "no_cntry = no_cntry[no_cntry['year'] == 7]\n",
    "\n",
    "ch_social = np.asarray(ch_cntry['sclact'])\n",
    "es_social = np.asarray(es_cntry['sclact'])\n",
    "se_social = np.asarray(se_cntry['sclact'])\n",
    "no_social = np.asarray(no_cntry['sclact'])\n",
    "\n",
    "social = pd.DataFrame()\n",
    "social['ch'] = pd.Series(ch_social)\n",
    "social['es'] = pd.Series(es_social)\n",
    "social['se'] = pd.Series(se_social)\n",
    "social['no'] = pd.Series(no_social)\n",
    "social = social.dropna()\n",
    "\n",
    "social.hist(sharex=True, sharey=True)\n",
    "plt.show()\n",
    "\n",
    "print(social.mean())\n",
    "social.boxplot()\n",
    "plt.show()\n",
    "\n",
    "print(stats.f_oneway(social['ch'], social['es'], social['se'], social['no']))\n",
    "\n",
    "print(stats.ttest_ind(social['ch'], social['es']))\n",
    "print(stats.ttest_ind(social['es'], social['se']))\n",
    "print(stats.ttest_ind(social['ch'], social['se']))\n",
    "print(stats.ttest_ind(social['ch'], social['no']))\n",
    "print(stats.ttest_ind(social['se'], social['no']))\n",
    "print(stats.ttest_ind(social['es'], social['no']))"
   ]
  },
  {
   "cell_type": "code",
   "execution_count": null,
   "metadata": {},
   "outputs": [],
   "source": []
  }
 ],
 "metadata": {
  "kernelspec": {
   "display_name": "Python 3",
   "language": "python",
   "name": "python3"
  },
  "language_info": {
   "codemirror_mode": {
    "name": "ipython",
    "version": 3
   },
   "file_extension": ".py",
   "mimetype": "text/x-python",
   "name": "python",
   "nbconvert_exporter": "python",
   "pygments_lexer": "ipython3",
   "version": "3.7.0"
  }
 },
 "nbformat": 4,
 "nbformat_minor": 2
}
