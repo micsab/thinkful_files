{
 "cells": [
  {
   "cell_type": "code",
   "execution_count": 1,
   "metadata": {},
   "outputs": [],
   "source": [
    "import pandas as pd\n",
    "import numpy as np\n",
    "import matplotlib.pyplot as plt\n",
    "import scipy.stats as stats\n",
    "from statsmodels.stats.multicomp import pairwise_tukeyhsd\n",
    "%matplotlib inline"
   ]
  },
  {
   "cell_type": "code",
   "execution_count": 3,
   "metadata": {},
   "outputs": [
    {
     "data": {
      "text/html": [
       "<table class=\"simpletable\">\n",
       "<caption>Multiple Comparison of Means - Tukey HSD,FWER=0.50</caption>\n",
       "<tr>\n",
       "  <th>group1</th>  <th>group2</th> <th>meandiff</th>  <th>lower</th>   <th>upper</th>  <th>reject</th>\n",
       "</tr>\n",
       "<tr>\n",
       "  <td>Plastic</td>  <td>Steel</td>  <td>9.3698</td>  <td>6.3231</td>  <td>12.4165</td>  <td>True</td> \n",
       "</tr>\n",
       "<tr>\n",
       "  <td>Plastic</td>  <td>Wood</td>   <td>17.6466</td> <td>14.5999</td> <td>20.6933</td>  <td>True</td> \n",
       "</tr>\n",
       "<tr>\n",
       "   <td>Steel</td>   <td>Wood</td>   <td>8.2768</td>  <td>5.2301</td>  <td>11.3235</td>  <td>True</td> \n",
       "</tr>\n",
       "</table>"
      ],
      "text/plain": [
       "<class 'statsmodels.iolib.table.SimpleTable'>"
      ]
     },
     "execution_count": 3,
     "metadata": {},
     "output_type": "execute_result"
    }
   ],
   "source": [
    "coaster_heights = pd.DataFrame()\n",
    "\n",
    "steel_heights = [\n",
    "    18.5, 14, 30.2, 25.2024, 15, 16, 13.5, 30, 20, 17, 13.716, 8.5, 16.1, 18,\n",
    "    41, 30.3, 32.004, 28.004, 30.48, 34\n",
    "    ]\n",
    "\n",
    "wood_heights = [\n",
    "    38.70, 46, 27.8, 43.52, 33.77, 29.26, 16.764, 45, 48.1, 16.764, 24.384,\n",
    "    24.5, 40, 35.96, 22.24, 21.33, 27.73, 23.46, 21.64, 30.12\n",
    "    ]\n",
    "\n",
    "plastic_heights = [\n",
    "    9, 8.2, 12, 21, 6.3, 11.7, 19.44, 4.75, 13, 18, 15.5, 15.6, 10, 11.77, 29,\n",
    "    5, 3.2, 14.75, 18.2, 17.7\n",
    "    ]\n",
    "\n",
    "coaster_heights['Steel'] = steel_heights\n",
    "coaster_heights['Wood'] = wood_heights\n",
    "coaster_heights['Plastic'] = plastic_heights\n",
    "\n",
    "heights = np.asarray(\n",
    "    coaster_heights['Steel'].tolist() +\n",
    "    coaster_heights['Wood'].tolist() +\n",
    "    coaster_heights['Plastic'].tolist())\n",
    "\n",
    "materials = np.array(['Steel', 'Wood', 'Plastic'])\n",
    "materials = np.repeat(materials, 20)\n",
    "\n",
    "tukey = pairwise_tukeyhsd(endog=heights,    # Data\n",
    "                         groups=materials,  # Groups\n",
    "                         alpha=0.5)         # Significance level\n",
    "\n",
    "tukey.summary()"
   ]
  },
  {
   "cell_type": "code",
   "execution_count": null,
   "metadata": {},
   "outputs": [],
   "source": []
  }
 ],
 "metadata": {
  "kernelspec": {
   "display_name": "Python 3",
   "language": "python",
   "name": "python3"
  },
  "language_info": {
   "codemirror_mode": {
    "name": "ipython",
    "version": 3
   },
   "file_extension": ".py",
   "mimetype": "text/x-python",
   "name": "python",
   "nbconvert_exporter": "python",
   "pygments_lexer": "ipython3",
   "version": "3.7.0"
  }
 },
 "nbformat": 4,
 "nbformat_minor": 2
}
