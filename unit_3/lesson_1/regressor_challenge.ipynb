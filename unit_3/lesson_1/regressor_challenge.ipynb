{
 "cells": [
  {
   "cell_type": "code",
   "execution_count": 2,
   "metadata": {},
   "outputs": [],
   "source": [
    "import pandas as pd\n",
    "import numpy as np\n",
    "import scipy\n",
    "import matplotlib.pyplot as plt\n",
    "%matplotlib inline"
   ]
  },
  {
   "cell_type": "code",
   "execution_count": 21,
   "metadata": {},
   "outputs": [
    {
     "data": {
      "text/html": [
       "<div>\n",
       "<style scoped>\n",
       "    .dataframe tbody tr th:only-of-type {\n",
       "        vertical-align: middle;\n",
       "    }\n",
       "\n",
       "    .dataframe tbody tr th {\n",
       "        vertical-align: top;\n",
       "    }\n",
       "\n",
       "    .dataframe thead th {\n",
       "        text-align: right;\n",
       "    }\n",
       "</style>\n",
       "<table border=\"1\" class=\"dataframe\">\n",
       "  <thead>\n",
       "    <tr style=\"text-align: right;\">\n",
       "      <th></th>\n",
       "      <th>rank</th>\n",
       "      <th>grade</th>\n",
       "      <th>channel_name</th>\n",
       "      <th>video_uploads</th>\n",
       "      <th>subscribers</th>\n",
       "      <th>video_views</th>\n",
       "    </tr>\n",
       "  </thead>\n",
       "  <tbody>\n",
       "    <tr>\n",
       "      <th>2581</th>\n",
       "      <td>2,582nd</td>\n",
       "      <td>B+</td>\n",
       "      <td>TroyeSivanVEVO</td>\n",
       "      <td>64</td>\n",
       "      <td>2781631</td>\n",
       "      <td>603986750</td>\n",
       "    </tr>\n",
       "    <tr>\n",
       "      <th>3111</th>\n",
       "      <td>3,112th</td>\n",
       "      <td>B+</td>\n",
       "      <td>Momentos Divertidos</td>\n",
       "      <td>374</td>\n",
       "      <td>954280</td>\n",
       "      <td>248754238</td>\n",
       "    </tr>\n",
       "    <tr>\n",
       "      <th>3249</th>\n",
       "      <td>3,250th</td>\n",
       "      <td>B+</td>\n",
       "      <td>KUN</td>\n",
       "      <td>5061</td>\n",
       "      <td>597210</td>\n",
       "      <td>408776906</td>\n",
       "    </tr>\n",
       "    <tr>\n",
       "      <th>572</th>\n",
       "      <td>573rd</td>\n",
       "      <td>A</td>\n",
       "      <td>NAGASWARA Official Video |…</td>\n",
       "      <td>1220</td>\n",
       "      <td>3193506</td>\n",
       "      <td>1667607612</td>\n",
       "    </tr>\n",
       "    <tr>\n",
       "      <th>1424</th>\n",
       "      <td>1,425th</td>\n",
       "      <td>A-</td>\n",
       "      <td>50CentVEVO</td>\n",
       "      <td>63</td>\n",
       "      <td>4718895</td>\n",
       "      <td>3464225247</td>\n",
       "    </tr>\n",
       "  </tbody>\n",
       "</table>\n",
       "</div>"
      ],
      "text/plain": [
       "         rank grade                 channel_name  video_uploads  subscribers  \\\n",
       "2581  2,582nd   B+                TroyeSivanVEVO             64      2781631   \n",
       "3111  3,112th   B+           Momentos Divertidos            374       954280   \n",
       "3249  3,250th   B+                           KUN           5061       597210   \n",
       "572     573rd    A   NAGASWARA Official Video |…           1220      3193506   \n",
       "1424  1,425th   A-                    50CentVEVO             63      4718895   \n",
       "\n",
       "      video_views  \n",
       "2581    603986750  \n",
       "3111    248754238  \n",
       "3249    408776906  \n",
       "572    1667607612  \n",
       "1424   3464225247  "
      ]
     },
     "execution_count": 21,
     "metadata": {},
     "output_type": "execute_result"
    }
   ],
   "source": [
    "youtube = pd.read_csv('youtube_data.csv', header=0, names=['rank', 'grade', 'channel_name', 'video_uploads', 'subscribers', 'video_views'])\n",
    "youtube[['subscribers']] = youtube['subscribers'].str.replace('-- ', '0')\n",
    "youtube['subscribers'] = youtube['subscribers'].astype(int)\n",
    "youtube[['video_uploads']] = youtube['video_uploads'].str.replace('--', '0')\n",
    "youtube['video_uploads'] = youtube['video_uploads'].astype(int)\n",
    "youtube = youtube[youtube.subscribers != 0]\n",
    "youtube = youtube[youtube.video_uploads != 0]\n",
    "youtube = youtube.sample(frac=.25)\n",
    "youtube.head()"
   ]
  },
  {
   "cell_type": "code",
   "execution_count": 22,
   "metadata": {},
   "outputs": [
    {
     "data": {
      "text/plain": [
       "rank             1152\n",
       "grade            1152\n",
       "channel_name     1152\n",
       "video_uploads    1152\n",
       "subscribers      1152\n",
       "video_views      1152\n",
       "dtype: int64"
      ]
     },
     "execution_count": 22,
     "metadata": {},
     "output_type": "execute_result"
    }
   ],
   "source": [
    "youtube.count()"
   ]
  },
  {
   "cell_type": "code",
   "execution_count": 24,
   "metadata": {},
   "outputs": [
    {
     "data": {
      "image/png": "[encoded data removed]",
      "text/plain": [
       "<Figure size 432x288 with 1 Axes>"
      ]
     },
     "metadata": {},
     "output_type": "display_data"
    }
   ],
   "source": [
    "from sklearn import neighbors\n",
    "from scipy import stats\n",
    "\n",
    "knn = neighbors.KNeighborsRegressor(n_neighbors=5, weights='distance')\n",
    "X = pd.DataFrame({\n",
    "    'subscribers': stats.zscore(youtube.subscribers)\n",
    "})\n",
    "Y = pd.DataFrame({\n",
    "    'video_views': stats.zscore(youtube.video_views)\n",
    "})\n",
    "knn.fit(X, Y)\n",
    "\n",
    "T = np.arange(0, 10, 1)[:, np.newaxis]\n",
    "\n",
    "Y_ = knn.predict(T)\n",
    "\n",
    "plt.scatter(X, Y, c='k', label='data')\n",
    "plt.plot(T, Y_, c='g', label='prediction')\n",
    "plt.legend()\n",
    "plt.title('K=5, Weighted')\n",
    "plt.show()"
   ]
  },
  {
   "cell_type": "code",
   "execution_count": 25,
   "metadata": {},
   "outputs": [
    {
     "name": "stdout",
     "output_type": "stream",
     "text": [
      "Weighted Accuracy: 0.26 (+/- 0.39)\n"
     ]
    }
   ],
   "source": [
    "from sklearn.model_selection import cross_val_score\n",
    "score = cross_val_score(knn, X, Y, cv=5)\n",
    "print('Weighted Accuracy: %0.2f (+/- %0.2f)' % (score.mean(), score.std() * 2))"
   ]
  },
  {
   "cell_type": "code",
   "execution_count": 26,
   "metadata": {},
   "outputs": [
    {
     "name": "stdout",
     "output_type": "stream",
     "text": [
      "Coefficients: \n",
      " [[0.76978688]]\n",
      "Intercept: \n",
      " [-1.09381738e-17]\n",
      "\n",
      "R-squared:\n",
      "0.5925718410081262\n"
     ]
    },
    {
     "data": {
      "image/png": "[encoded data removed]",
      "text/plain": [
       "<Figure size 432x288 with 1 Axes>"
      ]
     },
     "metadata": {},
     "output_type": "display_data"
    }
   ],
   "source": [
    "from sklearn import linear_model\n",
    "\n",
    "regr = linear_model.LinearRegression()\n",
    "\n",
    "regr.fit(X, Y)\n",
    "\n",
    "print('Coefficients: \\n', regr.coef_)\n",
    "print('Intercept: \\n', regr.intercept_)\n",
    "print('\\nR-squared:')\n",
    "print(regr.score(X, Y))\n",
    "\n",
    "plt.scatter(X, Y, color='black')\n",
    "plt.plot(X, regr.predict(X), color='blue', linewidth=3)\n",
    "plt.show()"
   ]
  },
  {
   "cell_type": "code",
   "execution_count": 27,
   "metadata": {},
   "outputs": [
    {
     "name": "stdout",
     "output_type": "stream",
     "text": [
      "Weighted Accuracy: 0.54 (+/- 0.20)\n"
     ]
    }
   ],
   "source": [
    "score_2 = cross_val_score(regr, X, Y, cv=5)\n",
    "print('Weighted Accuracy: %0.2f (+/- %0.2f)' % (score_2.mean(), score_2.std() * 2))"
   ]
  },
  {
   "cell_type": "markdown",
   "metadata": {},
   "source": [
    "For this specific example, neither model is particularly good, although if I had to choose between the two I would probably pick KNN since it seems to account for a bit more of the excentricities of the data, and is way more custimizable.\n",
    "<br><br>\n",
    "OLSR seems better suited for quick and dirty regression where you just want to find a fit line.  OLSR is also, obviously, better if the relationship between the data is very linear and not scattered in any way.\n",
    "<br>  <br>\n",
    "KNN seems like it would be best suited to data that has a distinct shape (like a curve of some sort or a distinctive pattern).  KNN also seems like it would fair far better with data that has an upper and lower limit, or at least has a knowable pattern throughout the entire population range.  "
   ]
  },
  {
   "cell_type": "code",
   "execution_count": null,
   "metadata": {},
   "outputs": [],
   "source": []
  }
 ],
 "metadata": {
  "kernelspec": {
   "display_name": "Python 3",
   "language": "python",
   "name": "python3"
  },
  "language_info": {
   "codemirror_mode": {
    "name": "ipython",
    "version": 3
   },
   "file_extension": ".py",
   "mimetype": "text/x-python",
   "name": "python",
   "nbconvert_exporter": "python",
   "pygments_lexer": "ipython3",
   "version": "3.7.0"
  }
 },
 "nbformat": 4,
 "nbformat_minor": 2
}
