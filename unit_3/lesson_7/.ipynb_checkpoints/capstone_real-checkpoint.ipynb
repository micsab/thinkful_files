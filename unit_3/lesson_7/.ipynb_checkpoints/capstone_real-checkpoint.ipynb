{
 "cells": [
  {
   "cell_type": "code",
   "execution_count": 2,
   "metadata": {},
   "outputs": [
    {
     "name": "stderr",
     "output_type": "stream",
     "text": [
      "C:\\Users\\micsa\\Anaconda3\\lib\\site-packages\\sklearn\\ensemble\\weight_boosting.py:29: DeprecationWarning: numpy.core.umath_tests is an internal NumPy module and should not be imported. It will be removed in a future NumPy release.\n",
      "  from numpy.core.umath_tests import inner1d\n"
     ]
    }
   ],
   "source": [
    "import numpy as np\n",
    "import pandas as pd\n",
    "pd.set_option('display.max_columns', None)\n",
    "import matplotlib.pyplot as plt\n",
    "import seaborn as sns\n",
    "import warnings\n",
    "from sklearn.model_selection import cross_val_score\n",
    "from sklearn.ensemble import RandomForestRegressor\n",
    "from mpl_toolkits.mplot3d import Axes3D\n",
    "\n",
    "warnings.filterwarnings('ignore')"
   ]
  },
  {
   "cell_type": "code",
   "execution_count": 3,
   "metadata": {},
   "outputs": [],
   "source": [
    "# Training Data\n",
    "season_stats = pd.read_csv('Seasons_Stats.csv')\n",
    "season_stats = season_stats.drop(['blanl', 'blank2', 'Unnamed: 0'], axis=1)\n",
    "season_stats = season_stats[season_stats.Tm.str.contains('TOT') == False]\n",
    "# Maybe use this for classification?\n",
    "season_stats['MVP_Candidate'] = np.where(season_stats['MVPSHARES'] > 0, 'Yes', 'No')\n",
    "season_stats['Player'] = season_stats['Player'].astype(str).str.replace('*', '')\n",
    "season_stats['PPG'] = season_stats['PTS'] / season_stats['G']\n",
    "season_stats['ASTPG'] = season_stats['AST'] / season_stats['G']\n",
    "season_stats['STLPG'] = season_stats['STL'] / season_stats['G']\n",
    "season_stats['BLKPG'] = season_stats['BLK'] / season_stats['G']\n",
    "season_stats['PFPG'] = season_stats['PF'] / season_stats['G']\n",
    "season_stats['TRPG'] = season_stats['TRB'] / season_stats['G']\n",
    "season_stats['ORPG'] = season_stats['ORB'] / season_stats['G']\n",
    "season_stats['DRPG'] = season_stats['DRB'] / season_stats['G']\n",
    "season_stats['MPPG'] = season_stats['MP'] / season_stats['G']\n",
    "season_stats['TOVPG'] = season_stats['TOV'] / season_stats['G']\n",
    "season_stats = season_stats[season_stats['G'] >= 41.0]\n",
    "season_stats = season_stats[season_stats['MPPG'] >= 25.0]\n",
    "season_stats['Year'] = season_stats['Year'].astype(int)\n",
    "\n",
    "season_stats = season_stats.dropna()"
   ]
  },
  {
   "cell_type": "code",
   "execution_count": 4,
   "metadata": {},
   "outputs": [
    {
     "data": {
      "text/html": [
       "<div>\n",
       "<style scoped>\n",
       "    .dataframe tbody tr th:only-of-type {\n",
       "        vertical-align: middle;\n",
       "    }\n",
       "\n",
       "    .dataframe tbody tr th {\n",
       "        vertical-align: top;\n",
       "    }\n",
       "\n",
       "    .dataframe thead th {\n",
       "        text-align: right;\n",
       "    }\n",
       "</style>\n",
       "<table border=\"1\" class=\"dataframe\">\n",
       "  <thead>\n",
       "    <tr style=\"text-align: right;\">\n",
       "      <th></th>\n",
       "      <th>vif_score</th>\n",
       "    </tr>\n",
       "  </thead>\n",
       "  <tbody>\n",
       "    <tr>\n",
       "      <th>const</th>\n",
       "      <td>67.216576</td>\n",
       "    </tr>\n",
       "    <tr>\n",
       "      <th>PER</th>\n",
       "      <td>5.833101</td>\n",
       "    </tr>\n",
       "    <tr>\n",
       "      <th>WS</th>\n",
       "      <td>5.214202</td>\n",
       "    </tr>\n",
       "    <tr>\n",
       "      <th>BPM</th>\n",
       "      <td>3.930752</td>\n",
       "    </tr>\n",
       "    <tr>\n",
       "      <th>PPG</th>\n",
       "      <td>2.934180</td>\n",
       "    </tr>\n",
       "    <tr>\n",
       "      <th>TMWL%</th>\n",
       "      <td>1.645705</td>\n",
       "    </tr>\n",
       "  </tbody>\n",
       "</table>\n",
       "</div>"
      ],
      "text/plain": [
       "       vif_score\n",
       "const  67.216576\n",
       "PER     5.833101\n",
       "WS      5.214202\n",
       "BPM     3.930752\n",
       "PPG     2.934180\n",
       "TMWL%   1.645705"
      ]
     },
     "execution_count": 4,
     "metadata": {},
     "output_type": "execute_result"
    }
   ],
   "source": [
    "from statsmodels.stats.outliers_influence import variance_inflation_factor\n",
    "from statsmodels.tools import add_constant\n",
    "\n",
    "feat_todrop = ['FG', 'FGA', '3P','3PA', '2P', '2PA', 'Tm', 'Pos', 'Player', 'Decade',\n",
    "               'MVPSHARES', 'MVP_Candidate', 'MVP', 'ORPG', 'OWS', 'TRB%', 'BPM', 'TRPG', 'FG%', 'MP', 'TOV',\n",
    "              'FT', 'FTA', 'WS/48', 'ASTPG', 'BLKPG', 'PPG', 'STLPG', 'DRPG', 'PF',\n",
    "              'TRB', 'PTS', 'STL', 'TOVPG', 'AST%', 'BLK%', '2P%', 'DWS', 'G', 'GS', 'Age', 'Year', 'ORB%', 'DRB%']\n",
    "feat_to_use = ['WS', 'PER', 'TMWL%', 'PPG', 'BPM']\n",
    "               \n",
    "               #'PPG', 'USG%', 'ASTPG', 'VORP', \n",
    "               #'BLKPG', 'FG%', 'STLPG', 'TRPG']\n",
    "\n",
    "#df = season_stats.drop(feat_todrop, axis=1)\n",
    "df = season_stats[feat_to_use]\n",
    "X = add_constant(df)\n",
    "vif = pd.Series([variance_inflation_factor(X.values, i)\n",
    "         for i in range (X.shape[1])],\n",
    "          index=X.columns)\n",
    "vif = pd.DataFrame(vif, columns = ['vif_score'])\n",
    "vif.sort_values('vif_score', ascending=False)"
   ]
  },
  {
   "cell_type": "code",
   "execution_count": 4,
   "metadata": {},
   "outputs": [
    {
     "name": "stdout",
     "output_type": "stream",
     "text": [
      "[0.8310892  0.1931482  0.75531505 0.70054167 0.88282195 0.17863506\n",
      " 0.5633536  0.61046617 0.75271841 0.8737533 ]\n",
      "0.7333411178565251\n"
     ]
    }
   ],
   "source": [
    "from sklearn.model_selection import train_test_split\n",
    "y = season_stats['MVPSHARES']\n",
    "X = df\n",
    "\n",
    "\n",
    "X_train, X_test, y_train, y_test = train_test_split(\n",
    "    X, y, test_size=0.33, random_state=42)\n",
    "\n",
    "rf = RandomForestRegressor(random_state = 42)\n",
    "rf.fit(X_train, y_train)\n",
    "print(cross_val_score(rf, X_test, y_test, cv=10))\n",
    "print(rf.score(X_test,y_test))"
   ]
  },
  {
   "cell_type": "code",
   "execution_count": 8,
   "metadata": {},
   "outputs": [
    {
     "name": "stdout",
     "output_type": "stream",
     "text": [
      "Parameters currently in use:\n",
      "\n",
      "{'bootstrap': True,\n",
      " 'criterion': 'mse',\n",
      " 'max_depth': None,\n",
      " 'max_features': 'auto',\n",
      " 'max_leaf_nodes': None,\n",
      " 'min_impurity_decrease': 0.0,\n",
      " 'min_impurity_split': None,\n",
      " 'min_samples_leaf': 1,\n",
      " 'min_samples_split': 2,\n",
      " 'min_weight_fraction_leaf': 0.0,\n",
      " 'n_estimators': 10,\n",
      " 'n_jobs': 1,\n",
      " 'oob_score': False,\n",
      " 'random_state': 42,\n",
      " 'verbose': 0,\n",
      " 'warm_start': False}\n"
     ]
    }
   ],
   "source": [
    "from pprint import pprint\n",
    "# Look at parameters used by our current forest\n",
    "print('Parameters currently in use:\\n')\n",
    "pprint(rf.get_params())"
   ]
  },
  {
   "cell_type": "code",
   "execution_count": 12,
   "metadata": {},
   "outputs": [
    {
     "name": "stdout",
     "output_type": "stream",
     "text": [
      "{'bootstrap': [True, False],\n",
      " 'max_depth': [10, 20, 30, 40, 50, 60, 70, 80, 90, 100, 110, None],\n",
      " 'max_features': ['auto', 'sqrt'],\n",
      " 'min_samples_leaf': [1, 2, 4],\n",
      " 'min_samples_split': [2, 5, 10],\n",
      " 'n_estimators': [200, 400, 600, 800, 1000, 1200, 1400, 1600, 1800, 2000]}\n"
     ]
    }
   ],
   "source": [
    "from sklearn.model_selection import RandomizedSearchCV\n",
    "\n",
    "# Number of trees in random forest\n",
    "n_estimators = [int(x) for x in np.linspace(start = 200, stop = 2000, num = 10)]\n",
    "\n",
    "# Number of features to consider at every split\n",
    "max_features = ['auto', 'sqrt']\n",
    "\n",
    "# Max number of levels in tree\n",
    "max_depth = [int(x) for x in np.linspace(10, 110, num= 11)]\n",
    "max_depth.append(None)\n",
    "\n",
    "# Minimum number of samples required at each leaf node\n",
    "min_samples_split = [2, 5, 10]\n",
    "\n",
    "# Minimum number of samples required at each leaf node\n",
    "min_samples_leaf = [1, 2, 4]\n",
    "\n",
    "# Method of selecting samples for training each tree\n",
    "bootstrap = [True, False]\n",
    "\n",
    "# Create the random grid\n",
    "random_grid = {'n_estimators': n_estimators, \n",
    "              'max_features': max_features,\n",
    "              'max_depth': max_depth,\n",
    "              'min_samples_split': min_samples_split,\n",
    "              'min_samples_leaf': min_samples_leaf,\n",
    "              'bootstrap': bootstrap}\n",
    "\n",
    "pprint(random_grid)"
   ]
  },
  {
   "cell_type": "code",
   "execution_count": 13,
   "metadata": {},
   "outputs": [
    {
     "name": "stdout",
     "output_type": "stream",
     "text": [
      "Fitting 3 folds for each of 100 candidates, totalling 300 fits\n"
     ]
    },
    {
     "name": "stderr",
     "output_type": "stream",
     "text": [
      "[Parallel(n_jobs=-1)]: Done  25 tasks      | elapsed:   31.4s\n",
      "[Parallel(n_jobs=-1)]: Done 146 tasks      | elapsed:  3.2min\n",
      "[Parallel(n_jobs=-1)]: Done 300 out of 300 | elapsed:  7.2min finished\n"
     ]
    },
    {
     "data": {
      "text/plain": [
       "RandomizedSearchCV(cv=3, error_score='raise',\n",
       "          estimator=RandomForestRegressor(bootstrap=True, criterion='mse', max_depth=None,\n",
       "           max_features='auto', max_leaf_nodes=None,\n",
       "           min_impurity_decrease=0.0, min_impurity_split=None,\n",
       "           min_samples_leaf=1, min_samples_split=2,\n",
       "           min_weight_fraction_leaf=0.0, n_estimators=10, n_jobs=1,\n",
       "           oob_score=False, random_state=None, verbose=0, warm_start=False),\n",
       "          fit_params=None, iid=True, n_iter=100, n_jobs=-1,\n",
       "          param_distributions={'n_estimators': [200, 400, 600, 800, 1000, 1200, 1400, 1600, 1800, 2000], 'max_features': ['auto', 'sqrt'], 'max_depth': [10, 20, 30, 40, 50, 60, 70, 80, 90, 100, 110, None], 'min_samples_split': [2, 5, 10], 'min_samples_leaf': [1, 2, 4], 'bootstrap': [True, False]},\n",
       "          pre_dispatch='2*n_jobs', random_state=42, refit=True,\n",
       "          return_train_score='warn', scoring=None, verbose=2)"
      ]
     },
     "execution_count": 13,
     "metadata": {},
     "output_type": "execute_result"
    }
   ],
   "source": [
    "# Use the random grid to search for best hyperparameters\n",
    "# First create the base model to tune\n",
    "rf = RandomForestRegressor()\n",
    "\n",
    "# Random search of parameters, using 3 fold cross validation,\n",
    "# search across 100 different combinations, and use all available cores\n",
    "rf_random = RandomizedSearchCV(estimator = rf, param_distributions = random_grid,\n",
    "                              n_iter = 100, cv = 3, verbose=2, random_state=42,\n",
    "                              n_jobs = -1)\n",
    "\n",
    "# Fit the random search model\n",
    "rf_random.fit(X_train, y_train)"
   ]
  },
  {
   "cell_type": "code",
   "execution_count": 14,
   "metadata": {},
   "outputs": [
    {
     "data": {
      "text/plain": [
       "{'n_estimators': 600,\n",
       " 'min_samples_split': 2,\n",
       " 'min_samples_leaf': 4,\n",
       " 'max_features': 'auto',\n",
       " 'max_depth': 40,\n",
       " 'bootstrap': True}"
      ]
     },
     "execution_count": 14,
     "metadata": {},
     "output_type": "execute_result"
    }
   ],
   "source": [
    "rf_random.best_params_"
   ]
  },
  {
   "cell_type": "code",
   "execution_count": 15,
   "metadata": {},
   "outputs": [
    {
     "name": "stdout",
     "output_type": "stream",
     "text": [
      "Model Performance\n",
      "Average Error: 0.0148 degrees.\n",
      "Accuracy = -inf%.\n"
     ]
    }
   ],
   "source": [
    "def evaluate(model, X_test, y_test):\n",
    "    predictions = model.predict(X_test)\n",
    "    errors = abs(predictions - y_test)\n",
    "    mape = 100 * np.mean(errors / y_test)\n",
    "    accuracy = 100 - mape\n",
    "    print('Model Performance')\n",
    "    print('Average Error: {:0.4f} degrees.'.format(np.mean(errors)))\n",
    "    print('Accuracy = {:0.2f}%.'.format(accuracy))\n",
    "    \n",
    "    return accuracy\n",
    "\n",
    "base_model = RandomForestRegressor(n_estimators = 100, random_state = 42)\n",
    "base_model.fit(X_train, y_train)\n",
    "base_accuracy = evaluate(base_model, X_test, y_test)"
   ]
  },
  {
   "cell_type": "code",
   "execution_count": 16,
   "metadata": {},
   "outputs": [
    {
     "name": "stdout",
     "output_type": "stream",
     "text": [
      "Model Performance\n",
      "Average Error: 0.0143 degrees.\n",
      "Accuracy = -inf%.\n"
     ]
    }
   ],
   "source": [
    "best_random = rf_random.best_estimator_\n",
    "random_accuracy = evaluate(best_random, X_test, y_test)"
   ]
  },
  {
   "cell_type": "code",
   "execution_count": 35,
   "metadata": {},
   "outputs": [
    {
     "name": "stdout",
     "output_type": "stream",
     "text": [
      "[0.72374695 0.48567479 0.84128277 0.71721119 0.92776401 0.29860224\n",
      " 0.64031631 0.65084239 0.74764009 0.87491291]\n",
      "0.7665420851010815\n"
     ]
    }
   ],
   "source": [
    "print(cross_val_score(best_random, X_test, y_test, cv=10))\n",
    "print(best_random.score(X_test,y_test))"
   ]
  },
  {
   "cell_type": "code",
   "execution_count": 8,
   "metadata": {},
   "outputs": [],
   "source": [
    "from sklearn.model_selection import GridSearchCV\n",
    "\n",
    "# Create the parameter grid based on the results of random search\n",
    "param_grid = {\n",
    "    'bootstrap': [True],\n",
    "    'max_depth': [50, 60, 70, 80],\n",
    "    'max_features': [2, 3],\n",
    "    'min_samples_leaf': [3, 4, 5],\n",
    "    'min_samples_split': [2, 4, 6],\n",
    "    'n_estimators': [100, 200, 300, 1000]\n",
    "}\n",
    "\n",
    "rf = RandomForestRegressor()\n",
    "\n",
    "# Instantiate the grid search model\n",
    "grid_search = GridSearchCV(estimator = rf, param_grid = param_grid,\n",
    "                          cv = 3, n_jobs = -1, verbose = 2)"
   ]
  },
  {
   "cell_type": "code",
   "execution_count": 37,
   "metadata": {},
   "outputs": [
    {
     "name": "stdout",
     "output_type": "stream",
     "text": [
      "Fitting 3 folds for each of 288 candidates, totalling 864 fits\n"
     ]
    },
    {
     "name": "stderr",
     "output_type": "stream",
     "text": [
      "[Parallel(n_jobs=-1)]: Done  25 tasks      | elapsed:    7.6s\n",
      "[Parallel(n_jobs=-1)]: Done 146 tasks      | elapsed:   37.1s\n",
      "[Parallel(n_jobs=-1)]: Done 349 tasks      | elapsed:  1.7min\n",
      "[Parallel(n_jobs=-1)]: Done 632 tasks      | elapsed:  3.6min\n",
      "[Parallel(n_jobs=-1)]: Done 864 out of 864 | elapsed:  5.3min finished\n"
     ]
    },
    {
     "data": {
      "text/plain": [
       "{'bootstrap': True,\n",
       " 'max_depth': 80,\n",
       " 'max_features': 3,\n",
       " 'min_samples_leaf': 3,\n",
       " 'min_samples_split': 6,\n",
       " 'n_estimators': 100}"
      ]
     },
     "execution_count": 37,
     "metadata": {},
     "output_type": "execute_result"
    }
   ],
   "source": [
    "grid_search.fit(X_train, y_train)\n",
    "\n",
    "grid_search.best_params_"
   ]
  },
  {
   "cell_type": "code",
   "execution_count": 38,
   "metadata": {},
   "outputs": [
    {
     "name": "stdout",
     "output_type": "stream",
     "text": [
      "Model Performance\n",
      "Average Error: 0.0145 degrees.\n",
      "Accuracy = -inf%.\n"
     ]
    }
   ],
   "source": [
    "best_grid = grid_search.best_estimator_\n",
    "grid_accuracy = evaluate(best_grid, X_test, y_test)"
   ]
  },
  {
   "cell_type": "code",
   "execution_count": 39,
   "metadata": {},
   "outputs": [
    {
     "name": "stdout",
     "output_type": "stream",
     "text": [
      "[0.73784369 0.54778641 0.82226558 0.71920358 0.92258065 0.28944528\n",
      " 0.63146045 0.65307874 0.75760637 0.85017104]\n",
      "0.7650234219453769\n"
     ]
    }
   ],
   "source": [
    "print(cross_val_score(best_grid, X_test, y_test, cv=10))\n",
    "print(best_grid.score(X_test,y_test))"
   ]
  },
  {
   "cell_type": "code",
   "execution_count": 31,
   "metadata": {},
   "outputs": [
    {
     "data": {
      "text/plain": [
       "RandomForestRegressor(bootstrap=True, criterion='mse', max_depth=80,\n",
       "           max_features=3, max_leaf_nodes=None, min_impurity_decrease=0.0,\n",
       "           min_impurity_split=None, min_samples_leaf=3,\n",
       "           min_samples_split=6, min_weight_fraction_leaf=0.0,\n",
       "           n_estimators=400, n_jobs=1, oob_score=False, random_state=None,\n",
       "           verbose=0, warm_start=False)"
      ]
     },
     "execution_count": 31,
     "metadata": {},
     "output_type": "execute_result"
    }
   ],
   "source": [
    "rf = RandomForestRegressor(bootstrap = True, max_depth = 80, max_features = 3,\n",
    "                           min_samples_leaf = 3, min_samples_split = 6,\n",
    "                           n_estimators = 400)\n",
    "rf.fit(X_train, y_train)"
   ]
  },
  {
   "cell_type": "code",
   "execution_count": 32,
   "metadata": {},
   "outputs": [
    {
     "name": "stdout",
     "output_type": "stream",
     "text": [
      "[0.65315281 0.779617   0.65941917 0.69001354 0.7700936 ]\n",
      "0.7661597645481814\n"
     ]
    }
   ],
   "source": [
    "print(cross_val_score(rf, X_test, y_test, cv=5))\n",
    "print(rf.score(X_test,y_test))"
   ]
  },
  {
   "cell_type": "code",
   "execution_count": 33,
   "metadata": {},
   "outputs": [
    {
     "name": "stdout",
     "output_type": "stream",
     "text": [
      "Fitting 3 folds for each of 30 candidates, totalling 90 fits\n",
      "[CV] n_estimators=1 ..................................................\n",
      "[CV] n_estimators=1 ..................................................\n",
      "[CV] n_estimators=1 ..................................................\n",
      "[CV] ................................... n_estimators=1, total=   0.0s\n",
      "[CV] n_estimators=35 .................................................\n",
      "[CV] n_estimators=35 .................................................\n",
      "[CV] n_estimators=35 .................................................\n",
      "[CV] n_estimators=69 .................................................\n",
      "[CV] n_estimators=69 .................................................\n",
      "[CV] n_estimators=69 .................................................\n",
      "[CV] ................................... n_estimators=1, total=   0.0s\n",
      "[CV] n_estimators=104 ................................................\n",
      "[CV] ................................... n_estimators=1, total=   0.1s\n",
      "[CV] n_estimators=104 ................................................\n",
      "[CV] .................................. n_estimators=35, total=   0.3s\n",
      "[CV] n_estimators=104 ................................................\n",
      "[CV] .................................. n_estimators=35, total=   0.3s\n",
      "[CV] .................................. n_estimators=35, total=   0.3s\n",
      "[CV] n_estimators=138 ................................................\n",
      "[CV] n_estimators=138 ................................................\n",
      "[CV] .................................. n_estimators=69, total=   0.5s\n",
      "[CV] n_estimators=138 ................................................\n",
      "[CV] .................................. n_estimators=69, total=   0.5s\n",
      "[CV] .................................. n_estimators=69, total=   0.5s\n",
      "[CV] n_estimators=173 ................................................\n",
      "[CV] n_estimators=173 ................................................\n",
      "[CV] ................................. n_estimators=104, total=   0.7s\n",
      "[CV] n_estimators=276 ................................................\n",
      "[CV] ................................. n_estimators=104, total=   0.8s\n",
      "[CV] n_estimators=345 ................................................\n",
      "[CV] ................................. n_estimators=104, total=   0.7s\n",
      "[CV] n_estimators=448 ................................................\n",
      "[CV] ................................. n_estimators=138, total=   0.9s\n",
      "[CV] ................................. n_estimators=138, total=   0.9s\n",
      "[CV] n_estimators=552 ................................................\n",
      "[CV] n_estimators=621 ................................................\n",
      "[CV] ................................. n_estimators=138, total=   0.9s\n",
      "[CV] n_estimators=724 ................................................\n",
      "[CV] ................................. n_estimators=173, total=   1.1s\n",
      "[CV] n_estimators=173 ................................................\n",
      "[CV] ................................. n_estimators=173, total=   1.1s\n",
      "[CV] n_estimators=827 ................................................\n",
      "[CV] ................................. n_estimators=276, total=   1.7s\n",
      "[CV] n_estimators=276 ................................................\n",
      "[CV] ................................. n_estimators=173, total=   1.0s\n",
      "[CV] n_estimators=207 ................................................\n",
      "[CV] ................................. n_estimators=345, total=   2.1s\n",
      "[CV] n_estimators=379 ................................................\n",
      "[CV] ................................. n_estimators=448, total=   2.6s\n",
      "[CV] n_estimators=448 ................................................\n",
      "[CV] ................................. n_estimators=207, total=   1.2s\n",
      "[CV] n_estimators=207 ................................................\n",
      "[CV] ................................. n_estimators=276, total=   1.6s\n",
      "[CV] n_estimators=276 ................................................\n",
      "[CV] ................................. n_estimators=552, total=   3.5s\n",
      "[CV] n_estimators=552 ................................................\n",
      "[CV] ................................. n_estimators=621, total=   3.8s\n",
      "[CV] n_estimators=655 ................................................\n",
      "[CV] ................................. n_estimators=207, total=   1.4s\n",
      "[CV] n_estimators=207 ................................................\n",
      "[CV] ................................. n_estimators=379, total=   2.4s\n",
      "[CV] n_estimators=379 ................................................\n",
      "[CV] ................................. n_estimators=724, total=   4.4s\n",
      "[CV] n_estimators=724 ................................................\n",
      "[CV] ................................. n_estimators=276, total=   1.8s\n",
      "[CV] n_estimators=311 ................................................\n",
      "[CV] ................................. n_estimators=448, total=   2.8s\n",
      "[CV] n_estimators=483 ................................................\n",
      "[CV] ................................. n_estimators=207, total=   1.2s\n",
      "[CV] n_estimators=242 ................................................\n",
      "[CV] ................................. n_estimators=827, total=   5.1s\n",
      "[CV] n_estimators=827 ................................................\n",
      "[CV] ................................. n_estimators=379, total=   2.0s\n",
      "[CV] n_estimators=379 ................................................\n",
      "[CV] ................................. n_estimators=311, total=   1.7s\n",
      "[CV] n_estimators=311 ................................................\n",
      "[CV] ................................. n_estimators=242, total=   1.5s\n",
      "[CV] n_estimators=242 ................................................\n",
      "[CV] ................................. n_estimators=552, total=   3.3s\n",
      "[CV] n_estimators=552 ................................................\n",
      "[CV] ................................. n_estimators=655, total=   3.8s\n",
      "[CV] n_estimators=655 ................................................\n",
      "[CV] ................................. n_estimators=483, total=   2.8s\n",
      "[CV] n_estimators=483 ................................................\n",
      "[CV] ................................. n_estimators=242, total=   1.3s\n",
      "[CV] n_estimators=242 ................................................\n",
      "[CV] ................................. n_estimators=311, total=   1.8s\n",
      "[CV] n_estimators=311 ................................................\n",
      "[CV] ................................. n_estimators=379, total=   2.2s\n",
      "[CV] n_estimators=414 ................................................\n",
      "[CV] ................................. n_estimators=724, total=   4.0s\n",
      "[CV] n_estimators=758 ................................................\n",
      "[CV] ................................. n_estimators=242, total=   1.5s\n",
      "[CV] n_estimators=896 ................................................\n",
      "[CV] ................................. n_estimators=552, total=   3.2s\n",
      "[CV] n_estimators=586 ................................................\n",
      "[CV] ................................. n_estimators=311, total=   1.9s\n",
      "[CV] n_estimators=345 ................................................\n",
      "[CV] ................................. n_estimators=827, total=   4.8s\n",
      "[CV] n_estimators=827 ................................................\n",
      "[CV] ................................. n_estimators=483, total=   2.9s\n",
      "[CV] n_estimators=483 ................................................\n",
      "[CV] ................................. n_estimators=414, total=   2.6s\n",
      "[CV] n_estimators=414 ................................................\n",
      "[CV] ................................. n_estimators=655, total=   3.9s\n",
      "[CV] n_estimators=655 ................................................\n",
      "[CV] ................................. n_estimators=345, total=   2.2s\n",
      "[CV] n_estimators=345 ................................................\n",
      "[CV] ................................. n_estimators=758, total=   4.7s\n",
      "[CV] n_estimators=758 ................................................\n",
      "[CV] ................................. n_estimators=414, total=   2.4s\n",
      "[CV] n_estimators=414 ................................................\n",
      "[CV] ................................. n_estimators=586, total=   3.6s\n",
      "[CV] n_estimators=586 ................................................\n",
      "[CV] ................................. n_estimators=483, total=   2.9s\n"
     ]
    },
    {
     "name": "stdout",
     "output_type": "stream",
     "text": [
      "[CV] n_estimators=517 ................................................\n",
      "[CV] ................................. n_estimators=345, total=   2.0s\n",
      "[CV] n_estimators=1000 ...............................................\n",
      "[CV] ................................. n_estimators=896, total=   5.3s\n",
      "[CV] n_estimators=931 ................................................\n",
      "[CV] ................................. n_estimators=827, total=   4.9s\n",
      "[CV] n_estimators=862 ................................................\n",
      "[CV] ................................. n_estimators=655, total=   3.9s\n",
      "[CV] n_estimators=689 ................................................\n",
      "[CV] ................................. n_estimators=414, total=   2.5s\n",
      "[CV] n_estimators=448 ................................................\n",
      "[CV] ................................. n_estimators=517, total=   3.1s\n",
      "[CV] n_estimators=517 ................................................\n",
      "[CV] ................................. n_estimators=586, total=   3.4s\n",
      "[CV] n_estimators=586 ................................................\n",
      "[CV] ................................. n_estimators=758, total=   4.4s\n",
      "[CV] n_estimators=758 ................................................\n",
      "[CV] ................................. n_estimators=448, total=   2.4s\n",
      "[CV] ................................. n_estimators=689, total=   3.8s\n",
      "[CV] n_estimators=689 ................................................\n",
      "[CV] ................................. n_estimators=517, total=   2.7s\n",
      "[CV] n_estimators=517 ................................................\n",
      "[CV] ................................ n_estimators=1000, total=   5.4s\n",
      "[CV] n_estimators=1000 ...............................................\n",
      "[CV] ................................. n_estimators=862, total=   4.8s\n",
      "[CV] n_estimators=862 ................................................\n",
      "[CV] ................................. n_estimators=586, total=   3.0s\n",
      "[CV] n_estimators=621 ................................................\n",
      "[CV] ................................. n_estimators=931, total=   5.2s\n",
      "[CV] n_estimators=931 ................................................\n",
      "[CV] ................................. n_estimators=758, total=   3.8s\n",
      "[CV] n_estimators=793 ................................................\n",
      "[CV] ................................. n_estimators=517, total=   2.6s\n",
      "[CV] ................................. n_estimators=689, total=   3.4s\n",
      "[CV] n_estimators=689 ................................................\n",
      "[CV] ................................. n_estimators=621, total=   3.1s\n",
      "[CV] n_estimators=621 ................................................\n",
      "[CV] ................................. n_estimators=862, total=   4.1s\n",
      "[CV] n_estimators=862 ................................................\n",
      "[CV] ................................. n_estimators=931, total=   4.4s\n",
      "[CV] n_estimators=931 ................................................\n",
      "[CV] ................................ n_estimators=1000, total=   4.8s\n",
      "[CV] ................................. n_estimators=793, total=   3.6s\n",
      "[CV] n_estimators=793 ................................................\n",
      "[CV] ................................. n_estimators=689, total=   2.9s\n",
      "[CV] n_estimators=724 ................................................\n",
      "[CV] ................................. n_estimators=621, total=   2.7s\n",
      "[CV] ................................. n_estimators=862, total=   3.2s\n",
      "[CV] n_estimators=896 ................................................\n",
      "[CV] ................................. n_estimators=931, total=   3.4s\n",
      "[CV] n_estimators=965 ................................................\n",
      "[CV] ................................. n_estimators=793, total=   2.9s\n",
      "[CV] n_estimators=793 ................................................\n",
      "[CV] ................................. n_estimators=724, total=   2.7s\n",
      "[CV] ................................. n_estimators=896, total=   3.1s\n",
      "[CV] n_estimators=896 ................................................\n",
      "[CV] ................................. n_estimators=793, total=   2.4s\n",
      "[CV] ................................. n_estimators=965, total=   3.1s\n",
      "[CV] n_estimators=965 ................................................\n",
      "[CV] ................................. n_estimators=896, total=   2.7s\n",
      "[CV] ................................. n_estimators=965, total=   2.9s\n",
      "[CV] n_estimators=965 ................................................\n",
      "[CV] ................................. n_estimators=965, total=   2.9s\n",
      "[CV] n_estimators=1000 ...............................................\n",
      "[CV] ................................ n_estimators=1000, total=   3.2s\n"
     ]
    },
    {
     "name": "stderr",
     "output_type": "stream",
     "text": [
      "[Parallel(n_jobs=-1)]: Done  90 out of  90 | elapsed:   42.7s finished\n"
     ]
    },
    {
     "data": {
      "text/plain": [
       "GridSearchCV(cv=3, error_score='raise',\n",
       "       estimator=RandomForestRegressor(bootstrap=True, criterion='mse', max_depth=80,\n",
       "           max_features=3, max_leaf_nodes=None, min_impurity_decrease=0.0,\n",
       "           min_impurity_split=None, min_samples_leaf=3,\n",
       "           min_samples_split=6, min_weight_fraction_leaf=0.0,\n",
       "           n_estimators=400, n_jobs=1, oob_score=False, random_state=None,\n",
       "           verbose=0, warm_start=False),\n",
       "       fit_params=None, iid=True, n_jobs=-1,\n",
       "       param_grid={'n_estimators': [1, 35, 69, 104, 138, 173, 207, 242, 276, 311, 345, 379, 414, 448, 483, 517, 552, 586, 621, 655, 689, 724, 758, 793, 827, 862, 896, 931, 965, 1000]},\n",
       "       pre_dispatch='2*n_jobs', refit=True, return_train_score='warn',\n",
       "       scoring='r2', verbose=2)"
      ]
     },
     "execution_count": 33,
     "metadata": {},
     "output_type": "execute_result"
    }
   ],
   "source": [
    "# Grid with only the number of trees changed\n",
    "tree_grid = {'n_estimators': [int(x) for x in np.linspace(1, 1000, 30)]}\n",
    "\n",
    "# Create the grid search model and fit to the training data\n",
    "tree_grid_search = GridSearchCV(rf, param_grid=tree_grid, verbose = 2, n_jobs=-1, cv = 3,\n",
    "                                scoring = 'r2')\n",
    "tree_grid_search.fit(X_train, y_train)"
   ]
  },
  {
   "cell_type": "code",
   "execution_count": 34,
   "metadata": {
    "scrolled": true
   },
   "outputs": [
    {
     "data": {
      "text/plain": [
       "{'mean_fit_time': array([0.03144908, 0.27441502, 0.49148003, 0.72769356, 0.88418667,\n",
       "        1.04860028, 1.23246074, 1.37061485, 1.66873924, 1.73138285,\n",
       "        2.04429205, 2.16525102, 2.46313556, 2.54749401, 2.7906522 ,\n",
       "        2.74481869, 3.22277403, 3.2547272 , 3.05703417, 3.80921745,\n",
       "        3.26745621, 3.60385092, 4.19660076, 2.91473826, 4.7886618 ,\n",
       "        3.92068442, 3.6091253 , 4.19133941, 2.89151708, 4.32299987]),\n",
       " 'std_fit_time': array([0.01795701, 0.01177104, 0.00602609, 0.01586596, 0.0200029 ,\n",
       "        0.04242844, 0.10110473, 0.08882228, 0.06832003, 0.06384061,\n",
       "        0.07290293, 0.16103129, 0.09201499, 0.15095074, 0.06134731,\n",
       "        0.21021992, 0.08857941, 0.24239871, 0.41825491, 0.05532021,\n",
       "        0.33692121, 0.74110843, 0.36126024, 0.47881244, 0.13407349,\n",
       "        0.62212279, 1.13784587, 0.71737727, 0.10011073, 0.91808247]),\n",
       " 'mean_score_time': array([0.00264231, 0.00890398, 0.01284393, 0.01637475, 0.01780065,\n",
       "        0.02713982, 0.03517795, 0.03706582, 0.04132676, 0.0532852 ,\n",
       "        0.05555471, 0.05171267, 0.05966377, 0.05861799, 0.06746968,\n",
       "        0.06547332, 0.10757279, 0.08506234, 0.10270309, 0.09523392,\n",
       "        0.0860881 , 0.09779533, 0.09575391, 0.07357597, 0.14348936,\n",
       "        0.09953419, 0.09975505, 0.10850859, 0.07617299, 0.10752145]),\n",
       " 'std_score_time': array([0.00034701, 0.00336334, 0.00193753, 0.0029378 , 0.00184587,\n",
       "        0.00097169, 0.00161842, 0.00312017, 0.00351001, 0.00584275,\n",
       "        0.00565828, 0.00689809, 0.00465489, 0.00257469, 0.00514032,\n",
       "        0.00533418, 0.01877408, 0.00940423, 0.04602007, 0.01002691,\n",
       "        0.01224993, 0.02378545, 0.00561757, 0.00871527, 0.00693629,\n",
       "        0.01319701, 0.02390376, 0.01202451, 0.00245135, 0.02095058]),\n",
       " 'param_n_estimators': masked_array(data=[1, 35, 69, 104, 138, 173, 207, 242, 276, 311, 345, 379,\n",
       "                    414, 448, 483, 517, 552, 586, 621, 655, 689, 724, 758,\n",
       "                    793, 827, 862, 896, 931, 965, 1000],\n",
       "              mask=[False, False, False, False, False, False, False, False,\n",
       "                    False, False, False, False, False, False, False, False,\n",
       "                    False, False, False, False, False, False, False, False,\n",
       "                    False, False, False, False, False, False],\n",
       "        fill_value='?',\n",
       "             dtype=object),\n",
       " 'params': [{'n_estimators': 1},\n",
       "  {'n_estimators': 35},\n",
       "  {'n_estimators': 69},\n",
       "  {'n_estimators': 104},\n",
       "  {'n_estimators': 138},\n",
       "  {'n_estimators': 173},\n",
       "  {'n_estimators': 207},\n",
       "  {'n_estimators': 242},\n",
       "  {'n_estimators': 276},\n",
       "  {'n_estimators': 311},\n",
       "  {'n_estimators': 345},\n",
       "  {'n_estimators': 379},\n",
       "  {'n_estimators': 414},\n",
       "  {'n_estimators': 448},\n",
       "  {'n_estimators': 483},\n",
       "  {'n_estimators': 517},\n",
       "  {'n_estimators': 552},\n",
       "  {'n_estimators': 586},\n",
       "  {'n_estimators': 621},\n",
       "  {'n_estimators': 655},\n",
       "  {'n_estimators': 689},\n",
       "  {'n_estimators': 724},\n",
       "  {'n_estimators': 758},\n",
       "  {'n_estimators': 793},\n",
       "  {'n_estimators': 827},\n",
       "  {'n_estimators': 862},\n",
       "  {'n_estimators': 896},\n",
       "  {'n_estimators': 931},\n",
       "  {'n_estimators': 965},\n",
       "  {'n_estimators': 1000}],\n",
       " 'split0_test_score': array([0.29346129, 0.57282318, 0.57746629, 0.58720587, 0.59526806,\n",
       "        0.59676676, 0.58590189, 0.59601227, 0.59174335, 0.59935559,\n",
       "        0.59438444, 0.58713285, 0.6001616 , 0.59232626, 0.59465725,\n",
       "        0.58944532, 0.58975676, 0.59414899, 0.59758409, 0.59462811,\n",
       "        0.59414443, 0.5937811 , 0.59683645, 0.59612386, 0.59280011,\n",
       "        0.59426334, 0.5888349 , 0.59411219, 0.58941886, 0.59184188]),\n",
       " 'split1_test_score': array([0.50214655, 0.67571645, 0.68157709, 0.69333651, 0.69933403,\n",
       "        0.70737043, 0.69280278, 0.69695467, 0.70163814, 0.70036117,\n",
       "        0.69486783, 0.70041149, 0.70165637, 0.70618584, 0.70229014,\n",
       "        0.69845521, 0.70046708, 0.69580084, 0.69684377, 0.70236858,\n",
       "        0.69331576, 0.70083918, 0.69653822, 0.69383032, 0.70127066,\n",
       "        0.69288362, 0.70127278, 0.6927305 , 0.70091263, 0.6975715 ]),\n",
       " 'split2_test_score': array([0.33697437, 0.59838307, 0.59491392, 0.60234361, 0.61141293,\n",
       "        0.59876417, 0.60179354, 0.60268429, 0.60640457, 0.60674618,\n",
       "        0.60411737, 0.59999477, 0.60382239, 0.60574216, 0.60327871,\n",
       "        0.60524511, 0.60306472, 0.60311459, 0.60298144, 0.60190325,\n",
       "        0.60666328, 0.60218095, 0.60578536, 0.60356606, 0.60344801,\n",
       "        0.60657642, 0.60483535, 0.60521784, 0.60752929, 0.60483632]),\n",
       " 'mean_test_score': array([0.37754015, 0.61564632, 0.61799302, 0.62763661, 0.63534586,\n",
       "        0.63431162, 0.62684061, 0.63189292, 0.63327046, 0.63549668,\n",
       "        0.6311317 , 0.62918887, 0.63522332, 0.63476054, 0.63341817,\n",
       "        0.63105665, 0.631105  , 0.63103024, 0.63247903, 0.63297641,\n",
       "        0.63138226, 0.63227653, 0.63306191, 0.63118209, 0.63251539,\n",
       "        0.63124888, 0.63165611, 0.63069485, 0.63262815, 0.63142492]),\n",
       " 'std_test_score': array([0.08990302, 0.04374847, 0.04553185, 0.04687688, 0.0457345 ,\n",
       "        0.05167899, 0.04710217, 0.04609698, 0.04872362, 0.04597603,\n",
       "        0.04525362, 0.05064675, 0.04701009, 0.05081321, 0.04883829,\n",
       "        0.04810356, 0.04935783, 0.04595649, 0.04557676, 0.04916901,\n",
       "        0.04410102, 0.04861362, 0.04504349, 0.04441346, 0.04882265,\n",
       "        0.04388144, 0.04966936, 0.04410976, 0.04885837, 0.04708348]),\n",
       " 'rank_test_score': array([30, 29, 28, 26,  2,  5, 27, 14,  7,  1, 20, 25,  3,  4,  6, 22, 21,\n",
       "        23, 12,  9, 17, 13,  8, 19, 11, 18, 15, 24, 10, 16], dtype=int32),\n",
       " 'split0_train_score': array([0.64694063, 0.8339279 , 0.84224244, 0.84322775, 0.84258593,\n",
       "        0.84175693, 0.83802542, 0.83887255, 0.84171314, 0.83694918,\n",
       "        0.84147192, 0.83932572, 0.84166174, 0.84176716, 0.83996837,\n",
       "        0.8418506 , 0.84085341, 0.84193819, 0.84226246, 0.84134436,\n",
       "        0.84117936, 0.84200287, 0.8420014 , 0.84242968, 0.84146236,\n",
       "        0.84096454, 0.84297445, 0.84144679, 0.84351039, 0.84160101]),\n",
       " 'split1_train_score': array([0.65694701, 0.83763269, 0.83876211, 0.84079278, 0.8358318 ,\n",
       "        0.83278284, 0.83040084, 0.83050913, 0.8263675 , 0.83085361,\n",
       "        0.8274359 , 0.83402453, 0.8283838 , 0.82855092, 0.83152409,\n",
       "        0.83010742, 0.83272843, 0.82937365, 0.8320532 , 0.83087755,\n",
       "        0.83214555, 0.82985772, 0.82923163, 0.83196997, 0.83224853,\n",
       "        0.83253074, 0.82994895, 0.83257514, 0.83096598, 0.83059199]),\n",
       " 'split2_train_score': array([0.67511758, 0.84969845, 0.85008183, 0.85042368, 0.8510581 ,\n",
       "        0.85443568, 0.84841954, 0.85158752, 0.84956859, 0.85344076,\n",
       "        0.85370716, 0.85167393, 0.85407104, 0.84989999, 0.84867628,\n",
       "        0.85408438, 0.85230674, 0.85184386, 0.8514483 , 0.85227698,\n",
       "        0.8510206 , 0.85150568, 0.85334799, 0.85358886, 0.8500515 ,\n",
       "        0.85138302, 0.85037574, 0.85168532, 0.85098816, 0.8524032 ]),\n",
       " 'mean_train_score': array([0.6596684 , 0.84041968, 0.84369546, 0.84481474, 0.84315861,\n",
       "        0.84299182, 0.8389486 , 0.84032307, 0.83921641, 0.84041452,\n",
       "        0.84087166, 0.84167473, 0.84137219, 0.84007269, 0.84005625,\n",
       "        0.84201414, 0.84196286, 0.8410519 , 0.84192132, 0.84149963,\n",
       "        0.8414485 , 0.84112209, 0.84152701, 0.84266284, 0.84125413,\n",
       "        0.8416261 , 0.84109971, 0.84190242, 0.84182151, 0.84153206]),\n",
       " 'std_train_score': array([0.01166304, 0.00673315, 0.00473409, 0.0040888 , 0.00622929,\n",
       "        0.00888276, 0.00738501, 0.00866613, 0.00963494, 0.00954118,\n",
       "        0.01073359, 0.00739431, 0.01048877, 0.00879769, 0.00700263,\n",
       "        0.00978924, 0.00803122, 0.00919481, 0.00792169, 0.00873697,\n",
       "        0.00770805, 0.00885966, 0.00985118, 0.00882742, 0.00726952,\n",
       "        0.00771062, 0.00844391, 0.00780835, 0.00826079, 0.00890452])}"
      ]
     },
     "execution_count": 34,
     "metadata": {},
     "output_type": "execute_result"
    }
   ],
   "source": [
    "tree_grid_search.cv_results_"
   ]
  },
  {
   "cell_type": "code",
   "execution_count": 35,
   "metadata": {},
   "outputs": [],
   "source": [
    "def plot_results(model, param = 'n_estimators', name = 'Num Trees'):\n",
    "    param_name = 'param_%s' % param\n",
    "\n",
    "    # Extract information from the cross validation model\n",
    "    train_scores = model.cv_results_['mean_train_score']\n",
    "    test_scores = model.cv_results_['mean_test_score']\n",
    "    train_time = model.cv_results_['mean_fit_time']\n",
    "    param_values = list(model.cv_results_[param_name])\n",
    "    \n",
    "    # Plot the scores over the parameter\n",
    "    plt.subplots(1, 2, figsize=(10, 6))\n",
    "    plt.subplot(121)\n",
    "    plt.plot(param_values, train_scores, 'bo-', label = 'train')\n",
    "    plt.plot(param_values, test_scores, 'go-', label = 'test')\n",
    "    plt.ylim(ymin = 0, ymax = 1)\n",
    "    plt.legend()\n",
    "    plt.xlabel(name)\n",
    "    plt.ylabel('R2 Score')\n",
    "    plt.title('Score vs %s' % name)\n",
    "    \n",
    "    plt.subplot(122)\n",
    "    plt.plot(param_values, train_time, 'ro-')\n",
    "    plt.ylim(ymin = 0.0, ymax = 4.0)\n",
    "    plt.xlabel(name)\n",
    "    plt.ylabel('Train Time (sec)')\n",
    "    plt.title('Training Time vs %s' % name)\n",
    "    \n",
    "    \n",
    "    plt.tight_layout(pad = 4)"
   ]
  },
  {
   "cell_type": "code",
   "execution_count": 36,
   "metadata": {},
   "outputs": [
    {
     "data": {
      "image/png": "[encoded data removed]",
      "text/plain": [
       "<Figure size 720x432 with 2 Axes>"
      ]
     },
     "metadata": {},
     "output_type": "display_data"
    }
   ],
   "source": [
    "plot_results(tree_grid_search)"
   ]
  },
  {
   "cell_type": "code",
   "execution_count": 37,
   "metadata": {},
   "outputs": [],
   "source": [
    "# Define a grid over only the maximum number of features\n",
    "feature_grid = {'max_features': list(range(1, X_train.shape[1] + 1))}"
   ]
  },
  {
   "cell_type": "code",
   "execution_count": 38,
   "metadata": {},
   "outputs": [
    {
     "name": "stdout",
     "output_type": "stream",
     "text": [
      "Fitting 3 folds for each of 5 candidates, totalling 15 fits\n",
      "[CV] max_features=1 ..................................................\n",
      "[CV] max_features=1 ..................................................\n",
      "[CV] max_features=1 ..................................................\n",
      "[CV] max_features=2 ..................................................\n",
      "[CV] max_features=2 ..................................................\n",
      "[CV] max_features=2 ..................................................\n",
      "[CV] max_features=3 ..................................................\n",
      "[CV] max_features=3 ..................................................\n",
      "[CV] ................................... max_features=1, total=   1.1s\n",
      "[CV] max_features=3 ..................................................\n",
      "[CV] ................................... max_features=1, total=   1.1s\n",
      "[CV] max_features=4 ..................................................\n",
      "[CV] ................................... max_features=1, total=   1.3s\n",
      "[CV] max_features=4 ..................................................\n",
      "[CV] ................................... max_features=2, total=   1.6s\n",
      "[CV] max_features=4 ..................................................\n",
      "[CV] ................................... max_features=2, total=   1.6s\n",
      "[CV] max_features=5 ..................................................\n",
      "[CV] ................................... max_features=2, total=   1.6s\n",
      "[CV] max_features=5 ..................................................\n",
      "[CV] ................................... max_features=3, total=   2.0s\n",
      "[CV] max_features=5 ..................................................\n",
      "[CV] ................................... max_features=3, total=   2.2s\n"
     ]
    },
    {
     "name": "stderr",
     "output_type": "stream",
     "text": [
      "[Parallel(n_jobs=-1)]: Done   8 out of  15 | elapsed:    2.3s remaining:    2.0s\n"
     ]
    },
    {
     "name": "stdout",
     "output_type": "stream",
     "text": [
      "[CV] ................................... max_features=3, total=   2.1s\n",
      "[CV] ................................... max_features=4, total=   2.4s\n",
      "[CV] ................................... max_features=4, total=   2.3s\n",
      "[CV] ................................... max_features=4, total=   2.1s\n",
      "[CV] ................................... max_features=5, total=   2.3s\n",
      "[CV] ................................... max_features=5, total=   2.4s\n",
      "[CV] ................................... max_features=5, total=   2.1s\n"
     ]
    },
    {
     "name": "stderr",
     "output_type": "stream",
     "text": [
      "[Parallel(n_jobs=-1)]: Done  15 out of  15 | elapsed:    4.4s finished\n"
     ]
    },
    {
     "data": {
      "text/plain": [
       "GridSearchCV(cv=3, error_score='raise',\n",
       "       estimator=RandomForestRegressor(bootstrap=True, criterion='mse', max_depth=80,\n",
       "           max_features=3, max_leaf_nodes=None, min_impurity_decrease=0.0,\n",
       "           min_impurity_split=None, min_samples_leaf=3,\n",
       "           min_samples_split=6, min_weight_fraction_leaf=0.0,\n",
       "           n_estimators=400, n_jobs=1, oob_score=False, random_state=None,\n",
       "           verbose=0, warm_start=False),\n",
       "       fit_params=None, iid=True, n_jobs=-1,\n",
       "       param_grid={'max_features': [1, 2, 3, 4, 5]},\n",
       "       pre_dispatch='2*n_jobs', refit=True, return_train_score='warn',\n",
       "       scoring='r2', verbose=2)"
      ]
     },
     "execution_count": 38,
     "metadata": {},
     "output_type": "execute_result"
    }
   ],
   "source": [
    "# Create the grid search and fit on the training data\n",
    "feature_grid_search = GridSearchCV(rf, param_grid=feature_grid, cv = 3, n_jobs=-1, verbose= 2,\n",
    "                                  scoring = 'r2')\n",
    "feature_grid_search.fit(X_train, y_train)"
   ]
  },
  {
   "cell_type": "code",
   "execution_count": 39,
   "metadata": {},
   "outputs": [
    {
     "data": {
      "image/png": "[encoded data removed]",
      "text/plain": [
       "<Figure size 720x432 with 2 Axes>"
      ]
     },
     "metadata": {},
     "output_type": "display_data"
    }
   ],
   "source": [
    "plot_results(feature_grid_search, param='max_features', name = 'Max Features')"
   ]
  },
  {
   "cell_type": "code",
   "execution_count": 40,
   "metadata": {},
   "outputs": [
    {
     "data": {
      "text/plain": [
       "{'max_features': [1, 2, 3, 4, 5]}"
      ]
     },
     "execution_count": 40,
     "metadata": {},
     "output_type": "execute_result"
    }
   ],
   "source": [
    "feature_grid"
   ]
  },
  {
   "cell_type": "code",
   "execution_count": 41,
   "metadata": {},
   "outputs": [],
   "source": [
    "# Test Data\n",
    "season_2018 = pd.read_csv('2018_season.csv')\n",
    "season_2018 = season_2018.drop(['blanl', 'blank2'], axis=1)\n",
    "season_2018 = season_2018[season_2018.Tm.str.contains('TOT') == False]\n",
    "# Maybe use this for classification?\n",
    "season_2018['MVP_Candidate'] = np.where(season_2018['MVPSHARES'] > 0, 'Yes', 'No')\n",
    "season_2018['Player'] = season_2018['Player'].astype(str).str.replace('*', '')\n",
    "season_2018['PPG'] = season_2018['PTS'] / season_2018['G']\n",
    "season_2018['ASTPG'] = season_2018['AST'] / season_2018['G']\n",
    "season_2018['STLPG'] = season_2018['STL'] / season_2018['G']\n",
    "season_2018['BLKPG'] = season_2018['BLK'] / season_2018['G']\n",
    "season_2018['PFPG'] = season_2018['PF'] / season_2018['G']\n",
    "season_2018['TRPG'] = season_2018['TRB'] / season_2018['G']\n",
    "season_2018['ORPG'] = season_2018['ORB'] / season_2018['G']\n",
    "season_2018['DRPG'] = season_2018['DRB'] / season_2018['G']\n",
    "season_2018['MPPG'] = season_2018['MP'] / season_2018['G']\n",
    "\n",
    "season_2018 = season_2018[season_2018['G'] >= 41.0]\n",
    "season_2018 = season_2018[season_2018['MPPG'] >= 25.0]\n",
    "season_2018 = season_2018.dropna()"
   ]
  },
  {
   "cell_type": "code",
   "execution_count": 45,
   "metadata": {},
   "outputs": [
    {
     "data": {
      "text/html": [
       "<div>\n",
       "<style scoped>\n",
       "    .dataframe tbody tr th:only-of-type {\n",
       "        vertical-align: middle;\n",
       "    }\n",
       "\n",
       "    .dataframe tbody tr th {\n",
       "        vertical-align: top;\n",
       "    }\n",
       "\n",
       "    .dataframe thead th {\n",
       "        text-align: right;\n",
       "    }\n",
       "</style>\n",
       "<table border=\"1\" class=\"dataframe\">\n",
       "  <thead>\n",
       "    <tr style=\"text-align: right;\">\n",
       "      <th></th>\n",
       "      <th>Player</th>\n",
       "      <th>score</th>\n",
       "      <th>Year</th>\n",
       "      <th>Share</th>\n",
       "      <th>MVP</th>\n",
       "    </tr>\n",
       "  </thead>\n",
       "  <tbody>\n",
       "    <tr>\n",
       "      <th>232</th>\n",
       "      <td>James Harden</td>\n",
       "      <td>0.787002</td>\n",
       "      <td>2018</td>\n",
       "      <td>0.955</td>\n",
       "      <td>1</td>\n",
       "    </tr>\n",
       "    <tr>\n",
       "      <th>303</th>\n",
       "      <td>LeBron James</td>\n",
       "      <td>0.325602</td>\n",
       "      <td>2018</td>\n",
       "      <td>0.731</td>\n",
       "      <td>0</td>\n",
       "    </tr>\n",
       "    <tr>\n",
       "      <th>146</th>\n",
       "      <td>Stephen Curry</td>\n",
       "      <td>0.312321</td>\n",
       "      <td>2018</td>\n",
       "      <td>0.005</td>\n",
       "      <td>0</td>\n",
       "    </tr>\n",
       "    <tr>\n",
       "      <th>148</th>\n",
       "      <td>Anthony Davis</td>\n",
       "      <td>0.279108</td>\n",
       "      <td>2018</td>\n",
       "      <td>0.441</td>\n",
       "      <td>0</td>\n",
       "    </tr>\n",
       "    <tr>\n",
       "      <th>171</th>\n",
       "      <td>Kevin Durant</td>\n",
       "      <td>0.235035</td>\n",
       "      <td>2018</td>\n",
       "      <td>0.065</td>\n",
       "      <td>0</td>\n",
       "    </tr>\n",
       "  </tbody>\n",
       "</table>\n",
       "</div>"
      ],
      "text/plain": [
       "            Player     score  Year  Share  MVP\n",
       "232   James Harden  0.787002  2018  0.955    1\n",
       "303   LeBron James  0.325602  2018  0.731    0\n",
       "146  Stephen Curry  0.312321  2018  0.005    0\n",
       "148  Anthony Davis  0.279108  2018  0.441    0\n",
       "171   Kevin Durant  0.235035  2018  0.065    0"
      ]
     },
     "execution_count": 45,
     "metadata": {},
     "output_type": "execute_result"
    }
   ],
   "source": [
    "test_pred = rf.predict(season_2018[feat_to_use])\n",
    "test_results = pd.DataFrame(season_2018.Player)\n",
    "test_results['score'] = test_pred\n",
    "test_results['Year'] = season_2018['Year']\n",
    "test_results['Share'] = season_2018['MVPSHARES']\n",
    "test_results['MVP'] = season_2018['MVP']\n",
    "test_results.sort_values('score', ascending=False).head()"
   ]
  },
  {
   "cell_type": "code",
   "execution_count": 46,
   "metadata": {},
   "outputs": [
    {
     "name": "stdout",
     "output_type": "stream",
     "text": [
      "Coefficients: \n",
      " [0.00697586 0.00320655 0.02126317 0.00204985 0.00243458]\n",
      "Intercept: \n",
      " -0.12013819346580096\n",
      "Score? \n",
      " 0.2861569557129986\n"
     ]
    }
   ],
   "source": [
    "from sklearn import linear_model\n",
    "regr = linear_model.LinearRegression()\n",
    "regr.fit(X_train, y_train)\n",
    "print('Coefficients: \\n', regr.coef_)\n",
    "print('Intercept: \\n', regr.intercept_)\n",
    "print('Score? \\n', regr.score(X_test, y_test))"
   ]
  },
  {
   "cell_type": "code",
   "execution_count": 47,
   "metadata": {},
   "outputs": [
    {
     "name": "stdout",
     "output_type": "stream",
     "text": [
      "[0.69478983 0.72390577 0.65935501 0.62948699 0.7591668 ]\n",
      "0.7573455659843527\n"
     ]
    }
   ],
   "source": [
    "from sklearn.ensemble import GradientBoostingRegressor\n",
    "\n",
    "gbr = GradientBoostingRegressor()\n",
    "gbr.fit(X_train, y_train)\n",
    "print(cross_val_score(gbr, X_test, y_test, cv=5))\n",
    "print(gbr.score(X_test,y_test))"
   ]
  },
  {
   "cell_type": "code",
   "execution_count": 48,
   "metadata": {},
   "outputs": [
    {
     "data": {
      "text/plain": [
       "<matplotlib.axes._subplots.AxesSubplot at 0x10840e400>"
      ]
     },
     "execution_count": 48,
     "metadata": {},
     "output_type": "execute_result"
    },
    {
     "data": {
      "image/png": "[encoded data removed]",
      "text/plain": [
       "<Figure size 432x288 with 1 Axes>"
      ]
     },
     "metadata": {},
     "output_type": "display_data"
    }
   ],
   "source": [
    "sns.regplot(season_stats['PER'], season_stats['MVPSHARES'])"
   ]
  },
  {
   "cell_type": "code",
   "execution_count": 62,
   "metadata": {},
   "outputs": [
    {
     "data": {
      "text/plain": [
       "<matplotlib.axes._subplots.AxesSubplot at 0x1083f7128>"
      ]
     },
     "execution_count": 62,
     "metadata": {},
     "output_type": "execute_result"
    },
    {
     "data": {
      "image/png": "[encoded data removed]",
      "text/plain": [
       "<Figure size 432x288 with 1 Axes>"
      ]
     },
     "metadata": {},
     "output_type": "display_data"
    }
   ],
   "source": [
    "mvp_cand = season_stats[season_stats['MVPSHARES'] > 0]\n",
    "sns.regplot(mvp_cand['TMWL%'], mvp_cand['MVPSHARES'])"
   ]
  },
  {
   "cell_type": "code",
   "execution_count": 11,
   "metadata": {},
   "outputs": [
    {
     "data": {
      "text/plain": [
       "RandomForestRegressor(bootstrap=True, criterion='mse', max_depth=80,\n",
       "           max_features=3, max_leaf_nodes=None, min_impurity_decrease=0.0,\n",
       "           min_impurity_split=None, min_samples_leaf=3,\n",
       "           min_samples_split=6, min_weight_fraction_leaf=0.0,\n",
       "           n_estimators=400, n_jobs=1, oob_score=False, random_state=None,\n",
       "           verbose=0, warm_start=False)"
      ]
     },
     "execution_count": 11,
     "metadata": {},
     "output_type": "execute_result"
    }
   ],
   "source": [
    "season_2017 = season_stats[season_stats['Year'] == 2017.0]\n",
    "season_not2017 = season_stats[season_stats['Year'] != 2017.0]\n",
    "\n",
    "X = season_not2017[feat_to_use]\n",
    "y = season_not2017['MVPSHARES']\n",
    "rf = RandomForestRegressor(bootstrap = True, max_depth = 80, max_features = 3,\n",
    "                           min_samples_leaf = 3, min_samples_split = 6,\n",
    "                           n_estimators = 400)\n",
    "rf.fit(X,y)"
   ]
  },
  {
   "cell_type": "code",
   "execution_count": 13,
   "metadata": {},
   "outputs": [
    {
     "data": {
      "text/html": [
       "<div>\n",
       "<style scoped>\n",
       "    .dataframe tbody tr th:only-of-type {\n",
       "        vertical-align: middle;\n",
       "    }\n",
       "\n",
       "    .dataframe tbody tr th {\n",
       "        vertical-align: top;\n",
       "    }\n",
       "\n",
       "    .dataframe thead th {\n",
       "        text-align: right;\n",
       "    }\n",
       "</style>\n",
       "<table border=\"1\" class=\"dataframe\">\n",
       "  <thead>\n",
       "    <tr style=\"text-align: right;\">\n",
       "      <th></th>\n",
       "      <th>Player</th>\n",
       "      <th>score</th>\n",
       "      <th>Year</th>\n",
       "      <th>Share</th>\n",
       "      <th>MVP</th>\n",
       "    </tr>\n",
       "  </thead>\n",
       "  <tbody>\n",
       "    <tr>\n",
       "      <th>24414</th>\n",
       "      <td>Kawhi Leonard</td>\n",
       "      <td>0.580898</td>\n",
       "      <td>2017</td>\n",
       "      <td>0.495</td>\n",
       "      <td>0</td>\n",
       "    </tr>\n",
       "    <tr>\n",
       "      <th>24216</th>\n",
       "      <td>Stephen Curry</td>\n",
       "      <td>0.526423</td>\n",
       "      <td>2017</td>\n",
       "      <td>0.051</td>\n",
       "      <td>0</td>\n",
       "    </tr>\n",
       "    <tr>\n",
       "      <th>24239</th>\n",
       "      <td>Kevin Durant</td>\n",
       "      <td>0.487010</td>\n",
       "      <td>2017</td>\n",
       "      <td>0.002</td>\n",
       "      <td>0</td>\n",
       "    </tr>\n",
       "    <tr>\n",
       "      <th>24306</th>\n",
       "      <td>James Harden</td>\n",
       "      <td>0.449978</td>\n",
       "      <td>2017</td>\n",
       "      <td>0.746</td>\n",
       "      <td>0</td>\n",
       "    </tr>\n",
       "    <tr>\n",
       "      <th>24654</th>\n",
       "      <td>Russell Westbrook</td>\n",
       "      <td>0.351633</td>\n",
       "      <td>2017</td>\n",
       "      <td>0.879</td>\n",
       "      <td>1</td>\n",
       "    </tr>\n",
       "  </tbody>\n",
       "</table>\n",
       "</div>"
      ],
      "text/plain": [
       "                  Player     score  Year  Share  MVP\n",
       "24414      Kawhi Leonard  0.580898  2017  0.495    0\n",
       "24216      Stephen Curry  0.526423  2017  0.051    0\n",
       "24239       Kevin Durant  0.487010  2017  0.002    0\n",
       "24306       James Harden  0.449978  2017  0.746    0\n",
       "24654  Russell Westbrook  0.351633  2017  0.879    1"
      ]
     },
     "execution_count": 13,
     "metadata": {},
     "output_type": "execute_result"
    }
   ],
   "source": [
    "test_pred = rf.predict(season_2017[feat_to_use])\n",
    "test_results = pd.DataFrame(season_2017.Player)\n",
    "test_results['score'] = test_pred\n",
    "test_results['Year'] = season_2017['Year']\n",
    "test_results['Share'] = season_2017['MVPSHARES']\n",
    "test_results['MVP'] = season_2017['MVP']\n",
    "test_results.sort_values('score', ascending=False).head()"
   ]
  },
  {
   "cell_type": "code",
   "execution_count": 14,
   "metadata": {},
   "outputs": [
    {
     "data": {
      "text/plain": [
       "RandomForestRegressor(bootstrap=True, criterion='mse', max_depth=80,\n",
       "           max_features=3, max_leaf_nodes=None, min_impurity_decrease=0.0,\n",
       "           min_impurity_split=None, min_samples_leaf=3,\n",
       "           min_samples_split=6, min_weight_fraction_leaf=0.0,\n",
       "           n_estimators=400, n_jobs=1, oob_score=False, random_state=None,\n",
       "           verbose=0, warm_start=False)"
      ]
     },
     "execution_count": 14,
     "metadata": {},
     "output_type": "execute_result"
    }
   ],
   "source": [
    "season_2016 = season_stats[season_stats['Year'] == 2016.0]\n",
    "season_not2016 = season_stats[season_stats['Year'] != 2016.0]\n",
    "\n",
    "X = season_not2016[feat_to_use]\n",
    "y = season_not2016['MVPSHARES']\n",
    "rf = RandomForestRegressor(bootstrap = True, max_depth = 80, max_features = 3,\n",
    "                           min_samples_leaf = 3, min_samples_split = 6,\n",
    "                           n_estimators = 400)\n",
    "rf.fit(X,y)"
   ]
  },
  {
   "cell_type": "code",
   "execution_count": 15,
   "metadata": {},
   "outputs": [
    {
     "data": {
      "text/html": [
       "<div>\n",
       "<style scoped>\n",
       "    .dataframe tbody tr th:only-of-type {\n",
       "        vertical-align: middle;\n",
       "    }\n",
       "\n",
       "    .dataframe tbody tr th {\n",
       "        vertical-align: top;\n",
       "    }\n",
       "\n",
       "    .dataframe thead th {\n",
       "        text-align: right;\n",
       "    }\n",
       "</style>\n",
       "<table border=\"1\" class=\"dataframe\">\n",
       "  <thead>\n",
       "    <tr style=\"text-align: right;\">\n",
       "      <th></th>\n",
       "      <th>Player</th>\n",
       "      <th>score</th>\n",
       "      <th>Year</th>\n",
       "      <th>Share</th>\n",
       "      <th>MVP</th>\n",
       "    </tr>\n",
       "  </thead>\n",
       "  <tbody>\n",
       "    <tr>\n",
       "      <th>23633</th>\n",
       "      <td>Stephen Curry</td>\n",
       "      <td>0.931541</td>\n",
       "      <td>2016</td>\n",
       "      <td>1.000</td>\n",
       "      <td>1</td>\n",
       "    </tr>\n",
       "    <tr>\n",
       "      <th>23839</th>\n",
       "      <td>Kawhi Leonard</td>\n",
       "      <td>0.467989</td>\n",
       "      <td>2016</td>\n",
       "      <td>0.484</td>\n",
       "      <td>0</td>\n",
       "    </tr>\n",
       "    <tr>\n",
       "      <th>23781</th>\n",
       "      <td>LeBron James</td>\n",
       "      <td>0.444764</td>\n",
       "      <td>2016</td>\n",
       "      <td>0.482</td>\n",
       "      <td>0</td>\n",
       "    </tr>\n",
       "    <tr>\n",
       "      <th>24070</th>\n",
       "      <td>Russell Westbrook</td>\n",
       "      <td>0.388202</td>\n",
       "      <td>2016</td>\n",
       "      <td>0.371</td>\n",
       "      <td>0</td>\n",
       "    </tr>\n",
       "    <tr>\n",
       "      <th>23654</th>\n",
       "      <td>Kevin Durant</td>\n",
       "      <td>0.338890</td>\n",
       "      <td>2016</td>\n",
       "      <td>0.112</td>\n",
       "      <td>0</td>\n",
       "    </tr>\n",
       "  </tbody>\n",
       "</table>\n",
       "</div>"
      ],
      "text/plain": [
       "                  Player     score  Year  Share  MVP\n",
       "23633      Stephen Curry  0.931541  2016  1.000    1\n",
       "23839      Kawhi Leonard  0.467989  2016  0.484    0\n",
       "23781       LeBron James  0.444764  2016  0.482    0\n",
       "24070  Russell Westbrook  0.388202  2016  0.371    0\n",
       "23654       Kevin Durant  0.338890  2016  0.112    0"
      ]
     },
     "execution_count": 15,
     "metadata": {},
     "output_type": "execute_result"
    }
   ],
   "source": [
    "test_pred = rf.predict(season_2016[feat_to_use])\n",
    "test_results = pd.DataFrame(season_2016.Player)\n",
    "test_results['score'] = test_pred\n",
    "test_results['Year'] = season_2016['Year']\n",
    "test_results['Share'] = season_2016['MVPSHARES']\n",
    "test_results['MVP'] = season_2016['MVP']\n",
    "test_results.sort_values('score', ascending=False).head()"
   ]
  },
  {
   "cell_type": "code",
   "execution_count": null,
   "metadata": {},
   "outputs": [],
   "source": []
  }
 ],
 "metadata": {
  "kernelspec": {
   "display_name": "Python 3",
   "language": "python",
   "name": "python3"
  },
  "language_info": {
   "codemirror_mode": {
    "name": "ipython",
    "version": 3
   },
   "file_extension": ".py",
   "mimetype": "text/x-python",
   "name": "python",
   "nbconvert_exporter": "python",
   "pygments_lexer": "ipython3",
   "version": "3.6.6"
  }
 },
 "nbformat": 4,
 "nbformat_minor": 2
}
