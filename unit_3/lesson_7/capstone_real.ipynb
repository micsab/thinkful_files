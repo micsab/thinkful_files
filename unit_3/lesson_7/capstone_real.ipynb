{
 "cells": [
  {
   "cell_type": "code",
   "execution_count": 1,
   "metadata": {},
   "outputs": [
    {
     "name": "stderr",
     "output_type": "stream",
     "text": [
      "C:\\Users\\micsa\\Anaconda3\\lib\\site-packages\\sklearn\\ensemble\\weight_boosting.py:29: DeprecationWarning: numpy.core.umath_tests is an internal NumPy module and should not be imported. It will be removed in a future NumPy release.\n",
      "  from numpy.core.umath_tests import inner1d\n"
     ]
    }
   ],
   "source": [
    "import numpy as np\n",
    "import pandas as pd\n",
    "pd.set_option('display.max_columns', None)\n",
    "import matplotlib.pyplot as plt\n",
    "import seaborn as sns\n",
    "import warnings\n",
    "from sklearn.model_selection import cross_val_score\n",
    "from sklearn.ensemble import RandomForestRegressor\n",
    "from mpl_toolkits.mplot3d import Axes3D\n",
    "\n",
    "warnings.filterwarnings('ignore')"
   ]
  },
  {
   "cell_type": "code",
   "execution_count": 2,
   "metadata": {},
   "outputs": [],
   "source": [
    "# Training Data\n",
    "season_stats = pd.read_csv('Seasons_Stats.csv')\n",
    "season_stats = season_stats.drop(['blanl', 'blank2', 'Unnamed: 0'], axis=1)\n",
    "season_stats = season_stats[season_stats.Tm.str.contains('TOT') == False]\n",
    "# Maybe use this for classification?\n",
    "season_stats['MVP_Candidate'] = np.where(season_stats['MVPSHARES'] > 0, 'Yes', 'No')\n",
    "season_stats['Player'] = season_stats['Player'].astype(str).str.replace('*', '')\n",
    "season_stats['PPG'] = season_stats['PTS'] / season_stats['G']\n",
    "season_stats['ASTPG'] = season_stats['AST'] / season_stats['G']\n",
    "season_stats['STLPG'] = season_stats['STL'] / season_stats['G']\n",
    "season_stats['BLKPG'] = season_stats['BLK'] / season_stats['G']\n",
    "season_stats['PFPG'] = season_stats['PF'] / season_stats['G']\n",
    "season_stats['TRPG'] = season_stats['TRB'] / season_stats['G']\n",
    "season_stats['ORPG'] = season_stats['ORB'] / season_stats['G']\n",
    "season_stats['DRPG'] = season_stats['DRB'] / season_stats['G']\n",
    "season_stats['MPPG'] = season_stats['MP'] / season_stats['G']\n",
    "season_stats['TOVPG'] = season_stats['TOV'] / season_stats['G']\n",
    "season_stats = season_stats[season_stats['G'] >= 41.0]\n",
    "season_stats = season_stats[season_stats['MPPG'] >= 25.0]\n",
    "season_stats['Year'] = season_stats['Year'].astype(int)\n",
    "\n",
    "season_stats = season_stats.dropna()"
   ]
  },
  {
   "cell_type": "code",
   "execution_count": 3,
   "metadata": {},
   "outputs": [
    {
     "data": {
      "text/html": [
       "<div>\n",
       "<style scoped>\n",
       "    .dataframe tbody tr th:only-of-type {\n",
       "        vertical-align: middle;\n",
       "    }\n",
       "\n",
       "    .dataframe tbody tr th {\n",
       "        vertical-align: top;\n",
       "    }\n",
       "\n",
       "    .dataframe thead th {\n",
       "        text-align: right;\n",
       "    }\n",
       "</style>\n",
       "<table border=\"1\" class=\"dataframe\">\n",
       "  <thead>\n",
       "    <tr style=\"text-align: right;\">\n",
       "      <th></th>\n",
       "      <th>vif_score</th>\n",
       "    </tr>\n",
       "  </thead>\n",
       "  <tbody>\n",
       "    <tr>\n",
       "      <th>const</th>\n",
       "      <td>67.216576</td>\n",
       "    </tr>\n",
       "    <tr>\n",
       "      <th>PER</th>\n",
       "      <td>5.833101</td>\n",
       "    </tr>\n",
       "    <tr>\n",
       "      <th>WS</th>\n",
       "      <td>5.214202</td>\n",
       "    </tr>\n",
       "    <tr>\n",
       "      <th>BPM</th>\n",
       "      <td>3.930752</td>\n",
       "    </tr>\n",
       "    <tr>\n",
       "      <th>PPG</th>\n",
       "      <td>2.934180</td>\n",
       "    </tr>\n",
       "    <tr>\n",
       "      <th>TMWL%</th>\n",
       "      <td>1.645705</td>\n",
       "    </tr>\n",
       "  </tbody>\n",
       "</table>\n",
       "</div>"
      ],
      "text/plain": [
       "       vif_score\n",
       "const  67.216576\n",
       "PER     5.833101\n",
       "WS      5.214202\n",
       "BPM     3.930752\n",
       "PPG     2.934180\n",
       "TMWL%   1.645705"
      ]
     },
     "execution_count": 3,
     "metadata": {},
     "output_type": "execute_result"
    }
   ],
   "source": [
    "from statsmodels.stats.outliers_influence import variance_inflation_factor\n",
    "from statsmodels.tools import add_constant\n",
    "\n",
    "feat_todrop = ['FG', 'FGA', '3P','3PA', '2P', '2PA', 'Tm', 'Pos', 'Player', 'Decade',\n",
    "               'MVPSHARES', 'MVP_Candidate', 'MVP', 'ORPG', 'OWS', 'TRB%', 'BPM', 'TRPG', 'FG%', 'MP', 'TOV',\n",
    "              'FT', 'FTA', 'WS/48', 'ASTPG', 'BLKPG', 'PPG', 'STLPG', 'DRPG', 'PF',\n",
    "              'TRB', 'PTS', 'STL', 'TOVPG', 'AST%', 'BLK%', '2P%', 'DWS', 'G', 'GS', 'Age', 'Year', 'ORB%', 'DRB%']\n",
    "feat_to_use = ['WS', 'PER', 'TMWL%', 'PPG', 'BPM']\n",
    "               \n",
    "               #'PPG', 'USG%', 'ASTPG', 'VORP', \n",
    "               #'BLKPG', 'FG%', 'STLPG', 'TRPG']\n",
    "\n",
    "#df = season_stats.drop(feat_todrop, axis=1)\n",
    "df = season_stats[feat_to_use]\n",
    "X = add_constant(df)\n",
    "vif = pd.Series([variance_inflation_factor(X.values, i)\n",
    "         for i in range (X.shape[1])],\n",
    "          index=X.columns)\n",
    "vif = pd.DataFrame(vif, columns = ['vif_score'])\n",
    "vif.sort_values('vif_score', ascending=False)"
   ]
  },
  {
   "cell_type": "code",
   "execution_count": 7,
   "metadata": {},
   "outputs": [
    {
     "name": "stdout",
     "output_type": "stream",
     "text": [
      "[0.8310892  0.1931482  0.75531505 0.70054167 0.88282195 0.17863506\n",
      " 0.5633536  0.61046617 0.75271841 0.8737533 ]\n",
      "0.7333411178565251\n"
     ]
    }
   ],
   "source": [
    "from sklearn.model_selection import train_test_split\n",
    "y = season_stats['MVPSHARES']\n",
    "X = df\n",
    "\n",
    "\n",
    "X_train, X_test, y_train, y_test = train_test_split(\n",
    "    X, y, test_size=0.33, random_state=42)\n",
    "\n",
    "rf = RandomForestRegressor(random_state = 42)\n",
    "rf.fit(X_train, y_train)\n",
    "print(cross_val_score(rf, X_test, y_test, cv=10))\n",
    "print(rf.score(X_test,y_test))"
   ]
  },
  {
   "cell_type": "code",
   "execution_count": 8,
   "metadata": {},
   "outputs": [
    {
     "name": "stdout",
     "output_type": "stream",
     "text": [
      "Parameters currently in use:\n",
      "\n",
      "{'bootstrap': True,\n",
      " 'criterion': 'mse',\n",
      " 'max_depth': None,\n",
      " 'max_features': 'auto',\n",
      " 'max_leaf_nodes': None,\n",
      " 'min_impurity_decrease': 0.0,\n",
      " 'min_impurity_split': None,\n",
      " 'min_samples_leaf': 1,\n",
      " 'min_samples_split': 2,\n",
      " 'min_weight_fraction_leaf': 0.0,\n",
      " 'n_estimators': 10,\n",
      " 'n_jobs': 1,\n",
      " 'oob_score': False,\n",
      " 'random_state': 42,\n",
      " 'verbose': 0,\n",
      " 'warm_start': False}\n"
     ]
    }
   ],
   "source": [
    "from pprint import pprint\n",
    "# Look at parameters used by our current forest\n",
    "print('Parameters currently in use:\\n')\n",
    "pprint(rf.get_params())"
   ]
  },
  {
   "cell_type": "code",
   "execution_count": 12,
   "metadata": {},
   "outputs": [
    {
     "name": "stdout",
     "output_type": "stream",
     "text": [
      "{'bootstrap': [True, False],\n",
      " 'max_depth': [10, 20, 30, 40, 50, 60, 70, 80, 90, 100, 110, None],\n",
      " 'max_features': ['auto', 'sqrt'],\n",
      " 'min_samples_leaf': [1, 2, 4],\n",
      " 'min_samples_split': [2, 5, 10],\n",
      " 'n_estimators': [200, 400, 600, 800, 1000, 1200, 1400, 1600, 1800, 2000]}\n"
     ]
    }
   ],
   "source": [
    "from sklearn.model_selection import RandomizedSearchCV\n",
    "\n",
    "# Number of trees in random forest\n",
    "n_estimators = [int(x) for x in np.linspace(start = 200, stop = 2000, num = 10)]\n",
    "\n",
    "# Number of features to consider at every split\n",
    "max_features = ['auto', 'sqrt']\n",
    "\n",
    "# Max number of levels in tree\n",
    "max_depth = [int(x) for x in np.linspace(10, 110, num= 11)]\n",
    "max_depth.append(None)\n",
    "\n",
    "# Minimum number of samples required at each leaf node\n",
    "min_samples_split = [2, 5, 10]\n",
    "\n",
    "# Minimum number of samples required at each leaf node\n",
    "min_samples_leaf = [1, 2, 4]\n",
    "\n",
    "# Method of selecting samples for training each tree\n",
    "bootstrap = [True, False]\n",
    "\n",
    "# Create the random grid\n",
    "random_grid = {'n_estimators': n_estimators, \n",
    "              'max_features': max_features,\n",
    "              'max_depth': max_depth,\n",
    "              'min_samples_split': min_samples_split,\n",
    "              'min_samples_leaf': min_samples_leaf,\n",
    "              'bootstrap': bootstrap}\n",
    "\n",
    "pprint(random_grid)"
   ]
  },
  {
   "cell_type": "code",
   "execution_count": 13,
   "metadata": {},
   "outputs": [
    {
     "name": "stdout",
     "output_type": "stream",
     "text": [
      "Fitting 3 folds for each of 100 candidates, totalling 300 fits\n"
     ]
    },
    {
     "name": "stderr",
     "output_type": "stream",
     "text": [
      "[Parallel(n_jobs=-1)]: Done  25 tasks      | elapsed:   31.4s\n",
      "[Parallel(n_jobs=-1)]: Done 146 tasks      | elapsed:  3.2min\n",
      "[Parallel(n_jobs=-1)]: Done 300 out of 300 | elapsed:  7.2min finished\n"
     ]
    },
    {
     "data": {
      "text/plain": [
       "RandomizedSearchCV(cv=3, error_score='raise',\n",
       "          estimator=RandomForestRegressor(bootstrap=True, criterion='mse', max_depth=None,\n",
       "           max_features='auto', max_leaf_nodes=None,\n",
       "           min_impurity_decrease=0.0, min_impurity_split=None,\n",
       "           min_samples_leaf=1, min_samples_split=2,\n",
       "           min_weight_fraction_leaf=0.0, n_estimators=10, n_jobs=1,\n",
       "           oob_score=False, random_state=None, verbose=0, warm_start=False),\n",
       "          fit_params=None, iid=True, n_iter=100, n_jobs=-1,\n",
       "          param_distributions={'n_estimators': [200, 400, 600, 800, 1000, 1200, 1400, 1600, 1800, 2000], 'max_features': ['auto', 'sqrt'], 'max_depth': [10, 20, 30, 40, 50, 60, 70, 80, 90, 100, 110, None], 'min_samples_split': [2, 5, 10], 'min_samples_leaf': [1, 2, 4], 'bootstrap': [True, False]},\n",
       "          pre_dispatch='2*n_jobs', random_state=42, refit=True,\n",
       "          return_train_score='warn', scoring=None, verbose=2)"
      ]
     },
     "execution_count": 13,
     "metadata": {},
     "output_type": "execute_result"
    }
   ],
   "source": [
    "# Use the random grid to search for best hyperparameters\n",
    "# First create the base model to tune\n",
    "rf = RandomForestRegressor()\n",
    "\n",
    "# Random search of parameters, using 3 fold cross validation,\n",
    "# search across 100 different combinations, and use all available cores\n",
    "rf_random = RandomizedSearchCV(estimator = rf, param_distributions = random_grid,\n",
    "                              n_iter = 100, cv = 3, verbose=2, random_state=42,\n",
    "                              n_jobs = -1)\n",
    "\n",
    "# Fit the random search model\n",
    "rf_random.fit(X_train, y_train)"
   ]
  },
  {
   "cell_type": "code",
   "execution_count": 14,
   "metadata": {},
   "outputs": [
    {
     "data": {
      "text/plain": [
       "{'n_estimators': 600,\n",
       " 'min_samples_split': 2,\n",
       " 'min_samples_leaf': 4,\n",
       " 'max_features': 'auto',\n",
       " 'max_depth': 40,\n",
       " 'bootstrap': True}"
      ]
     },
     "execution_count": 14,
     "metadata": {},
     "output_type": "execute_result"
    }
   ],
   "source": [
    "rf_random.best_params_"
   ]
  },
  {
   "cell_type": "code",
   "execution_count": 15,
   "metadata": {},
   "outputs": [
    {
     "name": "stdout",
     "output_type": "stream",
     "text": [
      "Model Performance\n",
      "Average Error: 0.0148 degrees.\n",
      "Accuracy = -inf%.\n"
     ]
    }
   ],
   "source": [
    "def evaluate(model, X_test, y_test):\n",
    "    predictions = model.predict(X_test)\n",
    "    errors = abs(predictions - y_test)\n",
    "    mape = 100 * np.mean(errors / y_test)\n",
    "    accuracy = 100 - mape\n",
    "    print('Model Performance')\n",
    "    print('Average Error: {:0.4f} degrees.'.format(np.mean(errors)))\n",
    "    print('Accuracy = {:0.2f}%.'.format(accuracy))\n",
    "    \n",
    "    return accuracy\n",
    "\n",
    "base_model = RandomForestRegressor(n_estimators = 100, random_state = 42)\n",
    "base_model.fit(X_train, y_train)\n",
    "base_accuracy = evaluate(base_model, X_test, y_test)"
   ]
  },
  {
   "cell_type": "code",
   "execution_count": 16,
   "metadata": {},
   "outputs": [
    {
     "name": "stdout",
     "output_type": "stream",
     "text": [
      "Model Performance\n",
      "Average Error: 0.0143 degrees.\n",
      "Accuracy = -inf%.\n"
     ]
    }
   ],
   "source": [
    "best_random = rf_random.best_estimator_\n",
    "random_accuracy = evaluate(best_random, X_test, y_test)"
   ]
  },
  {
   "cell_type": "code",
   "execution_count": 35,
   "metadata": {},
   "outputs": [
    {
     "name": "stdout",
     "output_type": "stream",
     "text": [
      "[0.72374695 0.48567479 0.84128277 0.71721119 0.92776401 0.29860224\n",
      " 0.64031631 0.65084239 0.74764009 0.87491291]\n",
      "0.7665420851010815\n"
     ]
    }
   ],
   "source": [
    "print(cross_val_score(best_random, X_test, y_test, cv=10))\n",
    "print(best_random.score(X_test,y_test))"
   ]
  },
  {
   "cell_type": "code",
   "execution_count": 36,
   "metadata": {},
   "outputs": [],
   "source": [
    "from sklearn.model_selection import GridSearchCV\n",
    "\n",
    "# Create the parameter grid based on the results of random search\n",
    "param_grid = {\n",
    "    'bootstrap': [True],\n",
    "    'max_depth': [50, 60, 70, 80],\n",
    "    'max_features': [2, 3],\n",
    "    'min_samples_leaf': [3, 4, 5],\n",
    "    'min_samples_split': [2, 4, 6],\n",
    "    'n_estimators': [100, 200, 300, 1000]\n",
    "}\n",
    "\n",
    "rf = RandomForestRegressor()\n",
    "\n",
    "# Instantiate the grid search model\n",
    "grid_search = GridSearchCV(estimator = rf, param_grid = param_grid,\n",
    "                          cv = 3, n_jobs = -1, verbose = 2)"
   ]
  },
  {
   "cell_type": "code",
   "execution_count": 37,
   "metadata": {},
   "outputs": [
    {
     "name": "stdout",
     "output_type": "stream",
     "text": [
      "Fitting 3 folds for each of 288 candidates, totalling 864 fits\n"
     ]
    },
    {
     "name": "stderr",
     "output_type": "stream",
     "text": [
      "[Parallel(n_jobs=-1)]: Done  25 tasks      | elapsed:    7.6s\n",
      "[Parallel(n_jobs=-1)]: Done 146 tasks      | elapsed:   37.1s\n",
      "[Parallel(n_jobs=-1)]: Done 349 tasks      | elapsed:  1.7min\n",
      "[Parallel(n_jobs=-1)]: Done 632 tasks      | elapsed:  3.6min\n",
      "[Parallel(n_jobs=-1)]: Done 864 out of 864 | elapsed:  5.3min finished\n"
     ]
    },
    {
     "data": {
      "text/plain": [
       "{'bootstrap': True,\n",
       " 'max_depth': 80,\n",
       " 'max_features': 3,\n",
       " 'min_samples_leaf': 3,\n",
       " 'min_samples_split': 6,\n",
       " 'n_estimators': 100}"
      ]
     },
     "execution_count": 37,
     "metadata": {},
     "output_type": "execute_result"
    }
   ],
   "source": [
    "grid_search.fit(X_train, y_train)\n",
    "\n",
    "grid_search.best_params_"
   ]
  },
  {
   "cell_type": "code",
   "execution_count": 38,
   "metadata": {},
   "outputs": [
    {
     "name": "stdout",
     "output_type": "stream",
     "text": [
      "Model Performance\n",
      "Average Error: 0.0145 degrees.\n",
      "Accuracy = -inf%.\n"
     ]
    }
   ],
   "source": [
    "best_grid = grid_search.best_estimator_\n",
    "grid_accuracy = evaluate(best_grid, X_test, y_test)"
   ]
  },
  {
   "cell_type": "code",
   "execution_count": 39,
   "metadata": {},
   "outputs": [
    {
     "name": "stdout",
     "output_type": "stream",
     "text": [
      "[0.73784369 0.54778641 0.82226558 0.71920358 0.92258065 0.28944528\n",
      " 0.63146045 0.65307874 0.75760637 0.85017104]\n",
      "0.7650234219453769\n"
     ]
    }
   ],
   "source": [
    "print(cross_val_score(best_grid, X_test, y_test, cv=10))\n",
    "print(best_grid.score(X_test,y_test))"
   ]
  },
  {
   "cell_type": "code",
   "execution_count": 46,
   "metadata": {},
   "outputs": [
    {
     "data": {
      "text/plain": [
       "RandomForestRegressor(bootstrap=True, criterion='mse', max_depth=80,\n",
       "           max_features=3, max_leaf_nodes=None, min_impurity_decrease=0.0,\n",
       "           min_impurity_split=None, min_samples_leaf=3,\n",
       "           min_samples_split=6, min_weight_fraction_leaf=0.0,\n",
       "           n_estimators=600, n_jobs=1, oob_score=False, random_state=None,\n",
       "           verbose=0, warm_start=False)"
      ]
     },
     "execution_count": 46,
     "metadata": {},
     "output_type": "execute_result"
    }
   ],
   "source": [
    "rf = RandomForestRegressor(bootstrap = True, max_depth = 80, max_features = 3,\n",
    "                           min_samples_leaf = 3, min_samples_split = 6,\n",
    "                           n_estimators = 600)\n",
    "rf.fit(X_train, y_train)"
   ]
  },
  {
   "cell_type": "code",
   "execution_count": 48,
   "metadata": {},
   "outputs": [
    {
     "name": "stdout",
     "output_type": "stream",
     "text": [
      "[0.73310924 0.53439669 0.83811003 0.71445658 0.91934857 0.30412066\n",
      " 0.62550267 0.64966781 0.75904018 0.86207069]\n",
      "0.7715680705835398\n"
     ]
    }
   ],
   "source": [
    "print(cross_val_score(rf, X_test, y_test, cv=10))\n",
    "print(rf.score(X_test,y_test))"
   ]
  },
  {
   "cell_type": "code",
   "execution_count": 53,
   "metadata": {},
   "outputs": [
    {
     "name": "stdout",
     "output_type": "stream",
     "text": [
      "Fitting 3 folds for each of 30 candidates, totalling 90 fits\n"
     ]
    },
    {
     "name": "stderr",
     "output_type": "stream",
     "text": [
      "[Parallel(n_jobs=-1)]: Done  25 tasks      | elapsed:    5.7s\n",
      "[Parallel(n_jobs=-1)]: Done  90 out of  90 | elapsed:   28.9s finished\n"
     ]
    },
    {
     "data": {
      "text/plain": [
       "GridSearchCV(cv=3, error_score='raise',\n",
       "       estimator=RandomForestRegressor(bootstrap=True, criterion='mse', max_depth=80,\n",
       "           max_features=3, max_leaf_nodes=None, min_impurity_decrease=0.0,\n",
       "           min_impurity_split=None, min_samples_leaf=3,\n",
       "           min_samples_split=6, min_weight_fraction_leaf=0.0,\n",
       "           n_estimators=600, n_jobs=1, oob_score=False, random_state=None,\n",
       "           verbose=0, warm_start=False),\n",
       "       fit_params=None, iid=True, n_jobs=-1,\n",
       "       param_grid={'n_estimators': [1, 28, 56, 83, 111, 138, 166, 194, 221, 249, 276, 304, 332, 359, 387, 414, 442, 469, 497, 525, 552, 580, 607, 635, 663, 690, 718, 745, 773, 801]},\n",
       "       pre_dispatch='2*n_jobs', refit=True, return_train_score='warn',\n",
       "       scoring='neg_mean_absolute_error', verbose=2)"
      ]
     },
     "execution_count": 53,
     "metadata": {},
     "output_type": "execute_result"
    }
   ],
   "source": [
    "# Grid with only the number of trees changed\n",
    "tree_grid = {'n_estimators': [int(x) for x in np.linspace(1, 801, 30)]}\n",
    "\n",
    "# Create the grid search model and fit to the training data\n",
    "tree_grid_search = GridSearchCV(rf, param_grid=tree_grid, verbose = 2, n_jobs=-1, cv = 3,\n",
    "                                scoring = 'neg_mean_absolute_error')\n",
    "tree_grid_search.fit(X_train, y_train)"
   ]
  },
  {
   "cell_type": "code",
   "execution_count": 54,
   "metadata": {
    "scrolled": true
   },
   "outputs": [
    {
     "data": {
      "text/plain": [
       "{'mean_fit_time': array([3.99223963e-03, 6.87937737e-02, 2.04767386e-01, 3.54384343e-01,\n",
       "        4.75393613e-01, 5.83106518e-01, 7.09104061e-01, 8.31442833e-01,\n",
       "        9.43477392e-01, 1.06781141e+00, 1.17386134e+00, 1.27991033e+00,\n",
       "        1.38562854e+00, 1.51162545e+00, 1.64360499e+00, 1.77492094e+00,\n",
       "        1.90956108e+00, 2.00995922e+00, 2.13562346e+00, 2.26029015e+00,\n",
       "        2.40889279e+00, 2.66687044e+00, 2.92883619e+00, 3.07710234e+00,\n",
       "        3.21739801e+00, 3.76460250e+00, 4.49498272e+00, 5.01957957e+00,\n",
       "        4.78454129e+00, 4.15591613e+00]),\n",
       " 'std_fit_time': array([2.47330469e-05, 8.21809187e-04, 5.17319158e-02, 5.89063714e-03,\n",
       "        9.54314970e-03, 5.77628530e-03, 8.14296124e-04, 4.90825204e-03,\n",
       "        1.77473720e-02, 2.30371600e-02, 2.08726494e-02, 3.39029080e-02,\n",
       "        2.60625630e-02, 1.14388273e-02, 1.83357336e-02, 1.44836548e-02,\n",
       "        2.52487293e-02, 3.43011880e-02, 3.35490096e-02, 3.13942636e-02,\n",
       "        4.27910781e-02, 3.10290718e-02, 1.75663374e-02, 2.54124927e-02,\n",
       "        6.03532108e-02, 6.35608278e-02, 9.10910191e-02, 9.24876244e-03,\n",
       "        1.58242214e-01, 4.07660417e-01]),\n",
       " 'mean_score_time': array([0.00066511, 0.00299279, 0.00531824, 0.00997361, 0.01396267,\n",
       "        0.01595743, 0.01894911, 0.02293873, 0.02593096, 0.02958751,\n",
       "        0.0299205 , 0.0335772 , 0.03723351, 0.03922836, 0.0432179 ,\n",
       "        0.04654217, 0.05152893, 0.05252616, 0.057513  , 0.06017272,\n",
       "        0.06515932, 0.07745965, 0.07679462, 0.08344356, 0.10106309,\n",
       "        0.12433354, 0.15026474, 0.12100999, 0.10638269, 0.07478579]),\n",
       " 'std_score_time': array([4.70302644e-04, 4.05233662e-07, 9.41111034e-04, 8.14296062e-04,\n",
       "        1.12391596e-07, 1.41051453e-03, 1.12391596e-07, 2.15427770e-03,\n",
       "        8.14296085e-04, 1.69524828e-03, 2.97360213e-07, 4.70190494e-04,\n",
       "        1.24358165e-03, 4.69909263e-04, 4.70358870e-04, 2.04908631e-03,\n",
       "        2.04939574e-03, 1.24411267e-03, 1.88025523e-03, 2.04964068e-03,\n",
       "        2.61766624e-03, 1.24396406e-03, 4.53375612e-03, 1.24347545e-03,\n",
       "        1.20875613e-02, 1.87883310e-02, 1.72033751e-02, 1.33889484e-02,\n",
       "        1.17817990e-02, 9.17541531e-03]),\n",
       " 'param_n_estimators': masked_array(data=[1, 28, 56, 83, 111, 138, 166, 194, 221, 249, 276, 304,\n",
       "                    332, 359, 387, 414, 442, 469, 497, 525, 552, 580, 607,\n",
       "                    635, 663, 690, 718, 745, 773, 801],\n",
       "              mask=[False, False, False, False, False, False, False, False,\n",
       "                    False, False, False, False, False, False, False, False,\n",
       "                    False, False, False, False, False, False, False, False,\n",
       "                    False, False, False, False, False, False],\n",
       "        fill_value='?',\n",
       "             dtype=object),\n",
       " 'params': [{'n_estimators': 1},\n",
       "  {'n_estimators': 28},\n",
       "  {'n_estimators': 56},\n",
       "  {'n_estimators': 83},\n",
       "  {'n_estimators': 111},\n",
       "  {'n_estimators': 138},\n",
       "  {'n_estimators': 166},\n",
       "  {'n_estimators': 194},\n",
       "  {'n_estimators': 221},\n",
       "  {'n_estimators': 249},\n",
       "  {'n_estimators': 276},\n",
       "  {'n_estimators': 304},\n",
       "  {'n_estimators': 332},\n",
       "  {'n_estimators': 359},\n",
       "  {'n_estimators': 387},\n",
       "  {'n_estimators': 414},\n",
       "  {'n_estimators': 442},\n",
       "  {'n_estimators': 469},\n",
       "  {'n_estimators': 497},\n",
       "  {'n_estimators': 525},\n",
       "  {'n_estimators': 552},\n",
       "  {'n_estimators': 580},\n",
       "  {'n_estimators': 607},\n",
       "  {'n_estimators': 635},\n",
       "  {'n_estimators': 663},\n",
       "  {'n_estimators': 690},\n",
       "  {'n_estimators': 718},\n",
       "  {'n_estimators': 745},\n",
       "  {'n_estimators': 773},\n",
       "  {'n_estimators': 801}],\n",
       " 'split0_test_score': array([-0.01835533, -0.01460805, -0.01408007, -0.01420833, -0.01437559,\n",
       "        -0.01442871, -0.01438124, -0.01441969, -0.01422939, -0.01415947,\n",
       "        -0.01410949, -0.01415575, -0.01431607, -0.01444113, -0.01438058,\n",
       "        -0.01421374, -0.01434541, -0.01426963, -0.01437969, -0.0142133 ,\n",
       "        -0.01422876, -0.01418282, -0.01421879, -0.01428731, -0.01422197,\n",
       "        -0.01423869, -0.01428247, -0.01420076, -0.014249  , -0.01431951]),\n",
       " 'split1_test_score': array([-0.01699058, -0.01369098, -0.01294108, -0.0130413 , -0.01292173,\n",
       "        -0.01311713, -0.01300197, -0.01325061, -0.01306854, -0.01304407,\n",
       "        -0.0128988 , -0.01312312, -0.01296374, -0.0130835 , -0.013042  ,\n",
       "        -0.01313054, -0.01308028, -0.01318388, -0.01312398, -0.01303062,\n",
       "        -0.01299199, -0.01320486, -0.0130793 , -0.01300735, -0.013096  ,\n",
       "        -0.0129779 , -0.0130141 , -0.01304505, -0.01306047, -0.01303972]),\n",
       " 'split2_test_score': array([-0.01450185, -0.01218679, -0.01263468, -0.01238466, -0.01266608,\n",
       "        -0.01256577, -0.01274385, -0.01249775, -0.01257866, -0.01249547,\n",
       "        -0.01256143, -0.01273101, -0.01263839, -0.01245396, -0.01258013,\n",
       "        -0.01266959, -0.01252933, -0.01258312, -0.01251097, -0.01251468,\n",
       "        -0.01260573, -0.01258933, -0.01263339, -0.0126895 , -0.01254029,\n",
       "        -0.01257231, -0.01263748, -0.01265641, -0.01266035, -0.01252505]),\n",
       " 'mean_test_score': array([-0.01661658, -0.01349568, -0.01321879, -0.01321169, -0.01332134,\n",
       "        -0.01337079, -0.01337588, -0.01338963, -0.01329242, -0.01323323,\n",
       "        -0.0131901 , -0.01333682, -0.01330628, -0.01332647, -0.01333447,\n",
       "        -0.01333816, -0.01331859, -0.01334578, -0.01333847, -0.0132531 ,\n",
       "        -0.0132757 , -0.0133259 , -0.01331071, -0.01332825, -0.01328632,\n",
       "        -0.01326319, -0.01331156, -0.01330094, -0.01332348, -0.013295  ]),\n",
       " 'std_test_score': array([0.00159514, 0.000998  , 0.00062187, 0.00075414, 0.00075291,\n",
       "        0.00078136, 0.00071883, 0.00079071, 0.00069221, 0.00069232,\n",
       "        0.00066468, 0.00060092, 0.00072645, 0.0008292 , 0.00076353,\n",
       "        0.00064723, 0.00076027, 0.00069792, 0.00077778, 0.00071104,\n",
       "        0.00069227, 0.0006561 , 0.00066756, 0.00069061, 0.00069956,\n",
       "        0.00070954, 0.0007037 , 0.00065589, 0.00067467, 0.00075445]),\n",
       " 'rank_test_score': array([30, 29,  3,  2, 16, 26, 27, 28,  9,  4,  1, 22, 12, 19, 21, 23, 15,\n",
       "        25, 24,  5,  7, 18, 13, 20,  8,  6, 14, 11, 17, 10]),\n",
       " 'split0_train_score': array([-0.01221283, -0.00853139, -0.00873634, -0.00866752, -0.00888781,\n",
       "        -0.00876347, -0.00880882, -0.00876281, -0.00877464, -0.00873593,\n",
       "        -0.00872812, -0.00875755, -0.00880219, -0.00883055, -0.00874049,\n",
       "        -0.00878813, -0.00868388, -0.00879727, -0.00877603, -0.00872526,\n",
       "        -0.00876926, -0.00876887, -0.00871327, -0.0087695 , -0.00875449,\n",
       "        -0.00877857, -0.00878071, -0.00877731, -0.00868954, -0.00874373]),\n",
       " 'split1_train_score': array([-0.01044853, -0.00909759, -0.0088597 , -0.00888792, -0.00883669,\n",
       "        -0.0088716 , -0.00894224, -0.00895864, -0.00897809, -0.00895592,\n",
       "        -0.00881167, -0.00887108, -0.0088698 , -0.00897495, -0.00905422,\n",
       "        -0.00896305, -0.00900806, -0.00894299, -0.00898474, -0.00895773,\n",
       "        -0.00894335, -0.00898918, -0.0088879 , -0.00899283, -0.00898247,\n",
       "        -0.0089376 , -0.00893689, -0.0089296 , -0.00896775, -0.00897228]),\n",
       " 'split2_train_score': array([-0.01184333, -0.00869463, -0.00843916, -0.00831921, -0.00854041,\n",
       "        -0.00845659, -0.00832702, -0.00843779, -0.00836413, -0.00837366,\n",
       "        -0.00849655, -0.00850288, -0.00843812, -0.00845429, -0.00840834,\n",
       "        -0.00841171, -0.00842673, -0.00845055, -0.0084163 , -0.00845137,\n",
       "        -0.00846267, -0.00838249, -0.0084313 , -0.00842888, -0.00839749,\n",
       "        -0.00838659, -0.00840483, -0.008431  , -0.00843664, -0.00843805]),\n",
       " 'mean_train_score': array([-0.01150156, -0.00877454, -0.0086784 , -0.00862488, -0.00875497,\n",
       "        -0.00869722, -0.00869269, -0.00871974, -0.00870562, -0.0086885 ,\n",
       "        -0.00867878, -0.0087105 , -0.00870337, -0.00875326, -0.00873435,\n",
       "        -0.00872096, -0.00870622, -0.00873027, -0.00872569, -0.00871146,\n",
       "        -0.00872509, -0.00871351, -0.00867749, -0.0087304 , -0.00871148,\n",
       "        -0.00870092, -0.00870748, -0.00871264, -0.00869797, -0.00871802]),\n",
       " 'std_train_score': array([0.00075973, 0.00023795, 0.00017651, 0.00023412, 0.00015314,\n",
       "        0.00017579, 0.00026425, 0.00021481, 0.00025535, 0.00024006,\n",
       "        0.0001333 , 0.00015395, 0.00018958, 0.00021947, 0.00026371,\n",
       "        0.00023004, 0.00023785, 0.00020655, 0.00023478, 0.00020695,\n",
       "        0.0001987 , 0.00025075, 0.00018812, 0.00023188, 0.00024074,\n",
       "        0.00023155, 0.0002233 , 0.00020863, 0.00021691, 0.00021885])}"
      ]
     },
     "execution_count": 54,
     "metadata": {},
     "output_type": "execute_result"
    }
   ],
   "source": [
    "tree_grid_search.cv_results_"
   ]
  },
  {
   "cell_type": "code",
   "execution_count": 63,
   "metadata": {},
   "outputs": [],
   "source": [
    "def plot_results(model, param = 'n_estimators', name = 'Num Trees'):\n",
    "    param_name = 'param_%s' % param\n",
    "\n",
    "    # Extract information from the cross validation model\n",
    "    train_scores = model.cv_results_['mean_train_score']\n",
    "    test_scores = model.cv_results_['mean_test_score']\n",
    "    train_time = model.cv_results_['mean_fit_time']\n",
    "    param_values = list(model.cv_results_[param_name])\n",
    "    \n",
    "    # Plot the scores over the parameter\n",
    "    plt.subplots(1, 2, figsize=(10, 6))\n",
    "    plt.subplot(121)\n",
    "    plt.plot(param_values, train_scores, 'bo-', label = 'train')\n",
    "    plt.plot(param_values, test_scores, 'go-', label = 'test')\n",
    "    plt.ylim(ymin = -0.05, ymax = 0)\n",
    "    plt.legend()\n",
    "    plt.xlabel(name)\n",
    "    plt.ylabel('Neg Mean Absolute Error')\n",
    "    plt.title('Score vs %s' % name)\n",
    "    \n",
    "    plt.subplot(122)\n",
    "    plt.plot(param_values, train_time, 'ro-')\n",
    "    plt.ylim(ymin = 0.0, ymax = 4.0)\n",
    "    plt.xlabel(name)\n",
    "    plt.ylabel('Train Time (sec)')\n",
    "    plt.title('Training Time vs %s' % name)\n",
    "    \n",
    "    \n",
    "    plt.tight_layout(pad = 4)"
   ]
  },
  {
   "cell_type": "code",
   "execution_count": 64,
   "metadata": {},
   "outputs": [
    {
     "data": {
      "image/png": "[encoded data removed]",
      "text/plain": [
       "<Figure size 720x432 with 2 Axes>"
      ]
     },
     "metadata": {
      "needs_background": "light"
     },
     "output_type": "display_data"
    }
   ],
   "source": [
    "plot_results(tree_grid_search)"
   ]
  },
  {
   "cell_type": "code",
   "execution_count": 65,
   "metadata": {},
   "outputs": [],
   "source": [
    "# Define a grid over only the maximum number of features\n",
    "feature_grid = {'max_features': list(range(1, X_train.shape[1] + 1))}"
   ]
  },
  {
   "cell_type": "code",
   "execution_count": 67,
   "metadata": {},
   "outputs": [
    {
     "name": "stdout",
     "output_type": "stream",
     "text": [
      "Fitting 3 folds for each of 5 candidates, totalling 15 fits\n"
     ]
    },
    {
     "name": "stderr",
     "output_type": "stream",
     "text": [
      "[Parallel(n_jobs=-1)]: Done   8 out of  15 | elapsed:    6.8s remaining:    6.0s\n",
      "[Parallel(n_jobs=-1)]: Done  15 out of  15 | elapsed:    8.8s finished\n"
     ]
    },
    {
     "data": {
      "text/plain": [
       "GridSearchCV(cv=3, error_score='raise',\n",
       "       estimator=RandomForestRegressor(bootstrap=True, criterion='mse', max_depth=80,\n",
       "           max_features=3, max_leaf_nodes=None, min_impurity_decrease=0.0,\n",
       "           min_impurity_split=None, min_samples_leaf=3,\n",
       "           min_samples_split=6, min_weight_fraction_leaf=0.0,\n",
       "           n_estimators=600, n_jobs=1, oob_score=False, random_state=None,\n",
       "           verbose=0, warm_start=False),\n",
       "       fit_params=None, iid=True, n_jobs=-1,\n",
       "       param_grid={'max_features': [1, 2, 3, 4, 5]},\n",
       "       pre_dispatch='2*n_jobs', refit=True, return_train_score='warn',\n",
       "       scoring='neg_mean_absolute_error', verbose=2)"
      ]
     },
     "execution_count": 67,
     "metadata": {},
     "output_type": "execute_result"
    }
   ],
   "source": [
    "# Create the grid search and fit on the training data\n",
    "feature_grid_search = GridSearchCV(rf, param_grid=feature_grid, cv = 3, n_jobs=-1, verbose= 2,\n",
    "                                  scoring = 'neg_mean_absolute_error')\n",
    "feature_grid_search.fit(X_train, y_train)"
   ]
  },
  {
   "cell_type": "code",
   "execution_count": 68,
   "metadata": {},
   "outputs": [
    {
     "data": {
      "image/png": "[encoded data removed]",
      "text/plain": [
       "<Figure size 720x432 with 2 Axes>"
      ]
     },
     "metadata": {
      "needs_background": "light"
     },
     "output_type": "display_data"
    }
   ],
   "source": [
    "plot_results(feature_grid_search, param='max_features', name = 'Max Features')"
   ]
  },
  {
   "cell_type": "code",
   "execution_count": 69,
   "metadata": {},
   "outputs": [
    {
     "data": {
      "text/plain": [
       "{'max_features': [1, 2, 3, 4, 5]}"
      ]
     },
     "execution_count": 69,
     "metadata": {},
     "output_type": "execute_result"
    }
   ],
   "source": [
    "feature_grid"
   ]
  },
  {
   "cell_type": "code",
   "execution_count": null,
   "metadata": {},
   "outputs": [],
   "source": []
  }
 ],
 "metadata": {
  "kernelspec": {
   "display_name": "Python 3",
   "language": "python",
   "name": "python3"
  },
  "language_info": {
   "codemirror_mode": {
    "name": "ipython",
    "version": 3
   },
   "file_extension": ".py",
   "mimetype": "text/x-python",
   "name": "python",
   "nbconvert_exporter": "python",
   "pygments_lexer": "ipython3",
   "version": "3.6.6"
  }
 },
 "nbformat": 4,
 "nbformat_minor": 2
}
