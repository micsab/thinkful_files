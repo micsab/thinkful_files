{
 "cells": [
  {
   "cell_type": "code",
   "execution_count": 2,
   "metadata": {},
   "outputs": [
    {
     "name": "stderr",
     "output_type": "stream",
     "text": [
      "C:\\Users\\micsa\\Anaconda3\\lib\\site-packages\\sklearn\\ensemble\\weight_boosting.py:29: DeprecationWarning: numpy.core.umath_tests is an internal NumPy module and should not be imported. It will be removed in a future NumPy release.\n",
      "  from numpy.core.umath_tests import inner1d\n"
     ]
    }
   ],
   "source": [
    "import numpy as np\n",
    "import pandas as pd\n",
    "pd.set_option('display.max_columns', None)\n",
    "import matplotlib.pyplot as plt\n",
    "import seaborn as sns\n",
    "import warnings\n",
    "from sklearn.model_selection import cross_val_score\n",
    "from sklearn.ensemble import RandomForestRegressor\n",
    "from mpl_toolkits.mplot3d import Axes3D\n",
    "\n",
    "warnings.filterwarnings('ignore')"
   ]
  },
  {
   "cell_type": "code",
   "execution_count": 3,
   "metadata": {},
   "outputs": [],
   "source": [
    "# Training Data\n",
    "season_stats = pd.read_csv('Seasons_Stats.csv')\n",
    "season_stats = season_stats.drop(['blanl', 'blank2', 'Unnamed: 0'], axis=1)\n",
    "season_stats = season_stats[season_stats.Tm.str.contains('TOT') == False]\n",
    "# Maybe use this for classification?\n",
    "season_stats['MVP_Candidate'] = np.where(season_stats['MVPSHARES'] > 0, 'Yes', 'No')\n",
    "season_stats['Player'] = season_stats['Player'].astype(str).str.replace('*', '')\n",
    "season_stats['PPG'] = season_stats['PTS'] / season_stats['G']\n",
    "season_stats['ASTPG'] = season_stats['AST'] / season_stats['G']\n",
    "season_stats['STLPG'] = season_stats['STL'] / season_stats['G']\n",
    "season_stats['BLKPG'] = season_stats['BLK'] / season_stats['G']\n",
    "season_stats['PFPG'] = season_stats['PF'] / season_stats['G']\n",
    "season_stats['TRPG'] = season_stats['TRB'] / season_stats['G']\n",
    "season_stats['ORPG'] = season_stats['ORB'] / season_stats['G']\n",
    "season_stats['DRPG'] = season_stats['DRB'] / season_stats['G']\n",
    "season_stats['MPPG'] = season_stats['MP'] / season_stats['G']\n",
    "season_stats['TOVPG'] = season_stats['TOV'] / season_stats['G']\n",
    "season_stats = season_stats[season_stats['G'] >= 41.0]\n",
    "season_stats = season_stats[season_stats['MPPG'] >= 25.0]\n",
    "season_stats['Year'] = season_stats['Year'].astype(int)\n",
    "\n",
    "season_stats = season_stats.dropna()"
   ]
  },
  {
   "cell_type": "code",
   "execution_count": 4,
   "metadata": {},
   "outputs": [
    {
     "data": {
      "text/html": [
       "<div>\n",
       "<style scoped>\n",
       "    .dataframe tbody tr th:only-of-type {\n",
       "        vertical-align: middle;\n",
       "    }\n",
       "\n",
       "    .dataframe tbody tr th {\n",
       "        vertical-align: top;\n",
       "    }\n",
       "\n",
       "    .dataframe thead th {\n",
       "        text-align: right;\n",
       "    }\n",
       "</style>\n",
       "<table border=\"1\" class=\"dataframe\">\n",
       "  <thead>\n",
       "    <tr style=\"text-align: right;\">\n",
       "      <th></th>\n",
       "      <th>vif_score</th>\n",
       "    </tr>\n",
       "  </thead>\n",
       "  <tbody>\n",
       "    <tr>\n",
       "      <th>const</th>\n",
       "      <td>67.216576</td>\n",
       "    </tr>\n",
       "    <tr>\n",
       "      <th>PER</th>\n",
       "      <td>5.833101</td>\n",
       "    </tr>\n",
       "    <tr>\n",
       "      <th>WS</th>\n",
       "      <td>5.214202</td>\n",
       "    </tr>\n",
       "    <tr>\n",
       "      <th>BPM</th>\n",
       "      <td>3.930752</td>\n",
       "    </tr>\n",
       "    <tr>\n",
       "      <th>PPG</th>\n",
       "      <td>2.934180</td>\n",
       "    </tr>\n",
       "    <tr>\n",
       "      <th>TMWL%</th>\n",
       "      <td>1.645705</td>\n",
       "    </tr>\n",
       "  </tbody>\n",
       "</table>\n",
       "</div>"
      ],
      "text/plain": [
       "       vif_score\n",
       "const  67.216576\n",
       "PER     5.833101\n",
       "WS      5.214202\n",
       "BPM     3.930752\n",
       "PPG     2.934180\n",
       "TMWL%   1.645705"
      ]
     },
     "execution_count": 4,
     "metadata": {},
     "output_type": "execute_result"
    }
   ],
   "source": [
    "from statsmodels.stats.outliers_influence import variance_inflation_factor\n",
    "from statsmodels.tools import add_constant\n",
    "\n",
    "feat_todrop = ['FG', 'FGA', '3P','3PA', '2P', '2PA', 'Tm', 'Pos', 'Player', 'Decade',\n",
    "               'MVPSHARES', 'MVP_Candidate', 'MVP', 'ORPG', 'OWS', 'TRB%', 'BPM', 'TRPG', 'FG%', 'MP', 'TOV',\n",
    "              'FT', 'FTA', 'WS/48', 'ASTPG', 'BLKPG', 'PPG', 'STLPG', 'DRPG', 'PF',\n",
    "              'TRB', 'PTS', 'STL', 'TOVPG', 'AST%', 'BLK%', '2P%', 'DWS', 'G', 'GS', 'Age', 'Year', 'ORB%', 'DRB%']\n",
    "feat_to_use = ['WS', 'PER', 'TMWL%', 'PPG', 'BPM']\n",
    "               \n",
    "               #'PPG', 'USG%', 'ASTPG', 'VORP', \n",
    "               #'BLKPG', 'FG%', 'STLPG', 'TRPG']\n",
    "\n",
    "#df = season_stats.drop(feat_todrop, axis=1)\n",
    "df = season_stats[feat_to_use]\n",
    "X = add_constant(df)\n",
    "vif = pd.Series([variance_inflation_factor(X.values, i)\n",
    "         for i in range (X.shape[1])],\n",
    "          index=X.columns)\n",
    "vif = pd.DataFrame(vif, columns = ['vif_score'])\n",
    "vif.sort_values('vif_score', ascending=False)"
   ]
  },
  {
   "cell_type": "code",
   "execution_count": 5,
   "metadata": {},
   "outputs": [
    {
     "name": "stdout",
     "output_type": "stream",
     "text": [
      "[0.8310892  0.1931482  0.75531505 0.70054167 0.88282195 0.17863506\n",
      " 0.5633536  0.61046617 0.75271841 0.8737533 ]\n",
      "0.7333411178565251\n"
     ]
    }
   ],
   "source": [
    "from sklearn.model_selection import train_test_split\n",
    "y = season_stats['MVPSHARES']\n",
    "X = df\n",
    "\n",
    "\n",
    "X_train, X_test, y_train, y_test = train_test_split(\n",
    "    X, y, test_size=0.33, random_state=42)\n",
    "\n",
    "rf = RandomForestRegressor(random_state = 42)\n",
    "rf.fit(X_train, y_train)\n",
    "print(cross_val_score(rf, X_test, y_test, cv=10))\n",
    "print(rf.score(X_test,y_test))"
   ]
  },
  {
   "cell_type": "code",
   "execution_count": 8,
   "metadata": {},
   "outputs": [
    {
     "name": "stdout",
     "output_type": "stream",
     "text": [
      "Parameters currently in use:\n",
      "\n",
      "{'bootstrap': True,\n",
      " 'criterion': 'mse',\n",
      " 'max_depth': None,\n",
      " 'max_features': 'auto',\n",
      " 'max_leaf_nodes': None,\n",
      " 'min_impurity_decrease': 0.0,\n",
      " 'min_impurity_split': None,\n",
      " 'min_samples_leaf': 1,\n",
      " 'min_samples_split': 2,\n",
      " 'min_weight_fraction_leaf': 0.0,\n",
      " 'n_estimators': 10,\n",
      " 'n_jobs': 1,\n",
      " 'oob_score': False,\n",
      " 'random_state': 42,\n",
      " 'verbose': 0,\n",
      " 'warm_start': False}\n"
     ]
    }
   ],
   "source": [
    "from pprint import pprint\n",
    "# Look at parameters used by our current forest\n",
    "print('Parameters currently in use:\\n')\n",
    "pprint(rf.get_params())"
   ]
  },
  {
   "cell_type": "code",
   "execution_count": 12,
   "metadata": {},
   "outputs": [
    {
     "name": "stdout",
     "output_type": "stream",
     "text": [
      "{'bootstrap': [True, False],\n",
      " 'max_depth': [10, 20, 30, 40, 50, 60, 70, 80, 90, 100, 110, None],\n",
      " 'max_features': ['auto', 'sqrt'],\n",
      " 'min_samples_leaf': [1, 2, 4],\n",
      " 'min_samples_split': [2, 5, 10],\n",
      " 'n_estimators': [200, 400, 600, 800, 1000, 1200, 1400, 1600, 1800, 2000]}\n"
     ]
    }
   ],
   "source": [
    "from sklearn.model_selection import RandomizedSearchCV\n",
    "\n",
    "# Number of trees in random forest\n",
    "n_estimators = [int(x) for x in np.linspace(start = 200, stop = 2000, num = 10)]\n",
    "\n",
    "# Number of features to consider at every split\n",
    "max_features = ['auto', 'sqrt']\n",
    "\n",
    "# Max number of levels in tree\n",
    "max_depth = [int(x) for x in np.linspace(10, 110, num= 11)]\n",
    "max_depth.append(None)\n",
    "\n",
    "# Minimum number of samples required at each leaf node\n",
    "min_samples_split = [2, 5, 10]\n",
    "\n",
    "# Minimum number of samples required at each leaf node\n",
    "min_samples_leaf = [1, 2, 4]\n",
    "\n",
    "# Method of selecting samples for training each tree\n",
    "bootstrap = [True, False]\n",
    "\n",
    "# Create the random grid\n",
    "random_grid = {'n_estimators': n_estimators, \n",
    "              'max_features': max_features,\n",
    "              'max_depth': max_depth,\n",
    "              'min_samples_split': min_samples_split,\n",
    "              'min_samples_leaf': min_samples_leaf,\n",
    "              'bootstrap': bootstrap}\n",
    "\n",
    "pprint(random_grid)"
   ]
  },
  {
   "cell_type": "code",
   "execution_count": 13,
   "metadata": {},
   "outputs": [
    {
     "name": "stdout",
     "output_type": "stream",
     "text": [
      "Fitting 3 folds for each of 100 candidates, totalling 300 fits\n"
     ]
    },
    {
     "name": "stderr",
     "output_type": "stream",
     "text": [
      "[Parallel(n_jobs=-1)]: Done  25 tasks      | elapsed:   31.4s\n",
      "[Parallel(n_jobs=-1)]: Done 146 tasks      | elapsed:  3.2min\n",
      "[Parallel(n_jobs=-1)]: Done 300 out of 300 | elapsed:  7.2min finished\n"
     ]
    },
    {
     "data": {
      "text/plain": [
       "RandomizedSearchCV(cv=3, error_score='raise',\n",
       "          estimator=RandomForestRegressor(bootstrap=True, criterion='mse', max_depth=None,\n",
       "           max_features='auto', max_leaf_nodes=None,\n",
       "           min_impurity_decrease=0.0, min_impurity_split=None,\n",
       "           min_samples_leaf=1, min_samples_split=2,\n",
       "           min_weight_fraction_leaf=0.0, n_estimators=10, n_jobs=1,\n",
       "           oob_score=False, random_state=None, verbose=0, warm_start=False),\n",
       "          fit_params=None, iid=True, n_iter=100, n_jobs=-1,\n",
       "          param_distributions={'n_estimators': [200, 400, 600, 800, 1000, 1200, 1400, 1600, 1800, 2000], 'max_features': ['auto', 'sqrt'], 'max_depth': [10, 20, 30, 40, 50, 60, 70, 80, 90, 100, 110, None], 'min_samples_split': [2, 5, 10], 'min_samples_leaf': [1, 2, 4], 'bootstrap': [True, False]},\n",
       "          pre_dispatch='2*n_jobs', random_state=42, refit=True,\n",
       "          return_train_score='warn', scoring=None, verbose=2)"
      ]
     },
     "execution_count": 13,
     "metadata": {},
     "output_type": "execute_result"
    }
   ],
   "source": [
    "# Use the random grid to search for best hyperparameters\n",
    "# First create the base model to tune\n",
    "rf = RandomForestRegressor()\n",
    "\n",
    "# Random search of parameters, using 3 fold cross validation,\n",
    "# search across 100 different combinations, and use all available cores\n",
    "rf_random = RandomizedSearchCV(estimator = rf, param_distributions = random_grid,\n",
    "                              n_iter = 100, cv = 3, verbose=2, random_state=42,\n",
    "                              n_jobs = -1)\n",
    "\n",
    "# Fit the random search model\n",
    "rf_random.fit(X_train, y_train)"
   ]
  },
  {
   "cell_type": "code",
   "execution_count": 14,
   "metadata": {},
   "outputs": [
    {
     "data": {
      "text/plain": [
       "{'n_estimators': 600,\n",
       " 'min_samples_split': 2,\n",
       " 'min_samples_leaf': 4,\n",
       " 'max_features': 'auto',\n",
       " 'max_depth': 40,\n",
       " 'bootstrap': True}"
      ]
     },
     "execution_count": 14,
     "metadata": {},
     "output_type": "execute_result"
    }
   ],
   "source": [
    "rf_random.best_params_"
   ]
  },
  {
   "cell_type": "code",
   "execution_count": 15,
   "metadata": {},
   "outputs": [
    {
     "name": "stdout",
     "output_type": "stream",
     "text": [
      "Model Performance\n",
      "Average Error: 0.0148 degrees.\n",
      "Accuracy = -inf%.\n"
     ]
    }
   ],
   "source": [
    "def evaluate(model, X_test, y_test):\n",
    "    predictions = model.predict(X_test)\n",
    "    errors = abs(predictions - y_test)\n",
    "    mape = 100 * np.mean(errors / y_test)\n",
    "    accuracy = 100 - mape\n",
    "    print('Model Performance')\n",
    "    print('Average Error: {:0.4f} degrees.'.format(np.mean(errors)))\n",
    "    print('Accuracy = {:0.2f}%.'.format(accuracy))\n",
    "    \n",
    "    return accuracy\n",
    "\n",
    "base_model = RandomForestRegressor(n_estimators = 100, random_state = 42)\n",
    "base_model.fit(X_train, y_train)\n",
    "base_accuracy = evaluate(base_model, X_test, y_test)"
   ]
  },
  {
   "cell_type": "code",
   "execution_count": 16,
   "metadata": {},
   "outputs": [
    {
     "name": "stdout",
     "output_type": "stream",
     "text": [
      "Model Performance\n",
      "Average Error: 0.0143 degrees.\n",
      "Accuracy = -inf%.\n"
     ]
    }
   ],
   "source": [
    "best_random = rf_random.best_estimator_\n",
    "random_accuracy = evaluate(best_random, X_test, y_test)"
   ]
  },
  {
   "cell_type": "code",
   "execution_count": 35,
   "metadata": {},
   "outputs": [
    {
     "name": "stdout",
     "output_type": "stream",
     "text": [
      "[0.72374695 0.48567479 0.84128277 0.71721119 0.92776401 0.29860224\n",
      " 0.64031631 0.65084239 0.74764009 0.87491291]\n",
      "0.7665420851010815\n"
     ]
    }
   ],
   "source": [
    "print(cross_val_score(best_random, X_test, y_test, cv=10))\n",
    "print(best_random.score(X_test,y_test))"
   ]
  },
  {
   "cell_type": "code",
   "execution_count": 9,
   "metadata": {},
   "outputs": [],
   "source": [
    "from sklearn.model_selection import GridSearchCV\n",
    "\n",
    "# Create the parameter grid based on the results of random search\n",
    "param_grid = {\n",
    "    'bootstrap': [True],\n",
    "    'max_depth': [50, 60, 70, 80],\n",
    "    'max_features': [2, 3],\n",
    "    'min_samples_leaf': [3, 4, 5],\n",
    "    'min_samples_split': [2, 4, 6],\n",
    "    'n_estimators': [100, 200, 300, 1000]\n",
    "}\n",
    "\n",
    "rf = RandomForestRegressor()\n",
    "\n",
    "# Instantiate the grid search model\n",
    "grid_search = GridSearchCV(estimator = rf, param_grid = param_grid,\n",
    "                          cv = 3, n_jobs = -1, verbose = 2)"
   ]
  },
  {
   "cell_type": "code",
   "execution_count": 37,
   "metadata": {},
   "outputs": [
    {
     "name": "stdout",
     "output_type": "stream",
     "text": [
      "Fitting 3 folds for each of 288 candidates, totalling 864 fits\n"
     ]
    },
    {
     "name": "stderr",
     "output_type": "stream",
     "text": [
      "[Parallel(n_jobs=-1)]: Done  25 tasks      | elapsed:    7.6s\n",
      "[Parallel(n_jobs=-1)]: Done 146 tasks      | elapsed:   37.1s\n",
      "[Parallel(n_jobs=-1)]: Done 349 tasks      | elapsed:  1.7min\n",
      "[Parallel(n_jobs=-1)]: Done 632 tasks      | elapsed:  3.6min\n",
      "[Parallel(n_jobs=-1)]: Done 864 out of 864 | elapsed:  5.3min finished\n"
     ]
    },
    {
     "data": {
      "text/plain": [
       "{'bootstrap': True,\n",
       " 'max_depth': 80,\n",
       " 'max_features': 3,\n",
       " 'min_samples_leaf': 3,\n",
       " 'min_samples_split': 6,\n",
       " 'n_estimators': 100}"
      ]
     },
     "execution_count": 37,
     "metadata": {},
     "output_type": "execute_result"
    }
   ],
   "source": [
    "grid_search.fit(X_train, y_train)\n",
    "\n",
    "grid_search.best_params_"
   ]
  },
  {
   "cell_type": "code",
   "execution_count": 38,
   "metadata": {},
   "outputs": [
    {
     "name": "stdout",
     "output_type": "stream",
     "text": [
      "Model Performance\n",
      "Average Error: 0.0145 degrees.\n",
      "Accuracy = -inf%.\n"
     ]
    }
   ],
   "source": [
    "best_grid = grid_search.best_estimator_\n",
    "grid_accuracy = evaluate(best_grid, X_test, y_test)"
   ]
  },
  {
   "cell_type": "code",
   "execution_count": 39,
   "metadata": {},
   "outputs": [
    {
     "name": "stdout",
     "output_type": "stream",
     "text": [
      "[0.73784369 0.54778641 0.82226558 0.71920358 0.92258065 0.28944528\n",
      " 0.63146045 0.65307874 0.75760637 0.85017104]\n",
      "0.7650234219453769\n"
     ]
    }
   ],
   "source": [
    "print(cross_val_score(best_grid, X_test, y_test, cv=10))\n",
    "print(best_grid.score(X_test,y_test))"
   ]
  },
  {
   "cell_type": "code",
   "execution_count": 29,
   "metadata": {},
   "outputs": [
    {
     "data": {
      "text/plain": [
       "RandomForestRegressor(bootstrap=True, criterion='mse', max_depth=80,\n",
       "           max_features=3, max_leaf_nodes=None, min_impurity_decrease=0.0,\n",
       "           min_impurity_split=None, min_samples_leaf=3,\n",
       "           min_samples_split=6, min_weight_fraction_leaf=0.0,\n",
       "           n_estimators=600, n_jobs=1, oob_score=False, random_state=None,\n",
       "           verbose=0, warm_start=False)"
      ]
     },
     "execution_count": 29,
     "metadata": {},
     "output_type": "execute_result"
    }
   ],
   "source": [
    "rf = RandomForestRegressor(bootstrap = True, max_depth = 80, max_features = 3,\n",
    "                           min_samples_leaf = 3, min_samples_split = 6,\n",
    "                           n_estimators = 600)\n",
    "rf.fit(X_train, y_train)"
   ]
  },
  {
   "cell_type": "code",
   "execution_count": 30,
   "metadata": {},
   "outputs": [
    {
     "name": "stdout",
     "output_type": "stream",
     "text": [
      "[0.65399293 0.78216366 0.66639941 0.6817159  0.76612487]\n",
      "0.7705206899385462\n"
     ]
    }
   ],
   "source": [
    "print(cross_val_score(rf, X_test, y_test, cv=5))\n",
    "print(rf.score(X_test,y_test))"
   ]
  },
  {
   "cell_type": "code",
   "execution_count": 20,
   "metadata": {},
   "outputs": [
    {
     "name": "stdout",
     "output_type": "stream",
     "text": [
      "Fitting 3 folds for each of 50 candidates, totalling 150 fits\n"
     ]
    },
    {
     "name": "stderr",
     "output_type": "stream",
     "text": [
      "[Parallel(n_jobs=-1)]: Done  25 tasks      | elapsed:    4.2s\n",
      "[Parallel(n_jobs=-1)]: Done 150 out of 150 | elapsed:   17.4s finished\n"
     ]
    },
    {
     "data": {
      "text/plain": [
       "GridSearchCV(cv=3, error_score='raise',\n",
       "       estimator=RandomForestRegressor(bootstrap=True, criterion='mse', max_depth=None,\n",
       "           max_features='auto', max_leaf_nodes=None,\n",
       "           min_impurity_decrease=0.0, min_impurity_split=None,\n",
       "           min_samples_leaf=1, min_samples_split=2,\n",
       "           min_weight_fraction_leaf=0.0, n_estimators=10, n_jobs=1,\n",
       "           oob_score=False, random_state=None, verbose=0, warm_start=False),\n",
       "       fit_params=None, iid=True, n_jobs=-1,\n",
       "       param_grid={'n_estimators': [1, 5, 9, 13, 17, 21, 25, 29, 33, 37, 41, 45, 49, 54, 58, 62, 66, 70, 74, 78, 82, 86, 90, 94, 98, 103, 107, 111, 115, 119, 123, 127, 131, 135, 139, 143, 147, 152, 156, 160, 164, 168, 172, 176, 180, 184, 188, 192, 196, 201]},\n",
       "       pre_dispatch='2*n_jobs', refit=True, return_train_score='warn',\n",
       "       scoring='r2', verbose=2)"
      ]
     },
     "execution_count": 20,
     "metadata": {},
     "output_type": "execute_result"
    }
   ],
   "source": [
    "# Grid with only the number of trees changed\n",
    "tree_grid = {'n_estimators': [int(x) for x in np.linspace(1, 201, 50)]}\n",
    "\n",
    "# Create the grid search model and fit to the training data\n",
    "tree_grid_search = GridSearchCV(rf, param_grid=tree_grid, verbose = 2, n_jobs=-1, cv = 3,\n",
    "                                scoring = 'r2')\n",
    "tree_grid_search.fit(X_train, y_train)"
   ]
  },
  {
   "cell_type": "code",
   "execution_count": 21,
   "metadata": {
    "scrolled": true
   },
   "outputs": [
    {
     "data": {
      "text/plain": [
       "{'mean_fit_time': array([0.01559973, 0.02621754, 0.06248013, 0.08331331, 0.10934782,\n",
       "        0.15001893, 0.1684552 , 0.19287602, 0.22349326, 0.26121227,\n",
       "        0.2926689 , 0.31516631, 0.33459647, 0.36201453, 0.37732363,\n",
       "        0.4172442 , 0.44707529, 0.4806505 , 0.48335195, 0.51773167,\n",
       "        0.55473582, 0.5812517 , 0.5937132 , 0.62389406, 0.64362915,\n",
       "        0.69036531, 0.71133614, 0.72751816, 0.76778046, 0.78857724,\n",
       "        0.82027904, 0.85847298, 0.88752174, 0.90648611, 0.93546192,\n",
       "        0.96049476, 0.99872613, 1.03226145, 1.05750585, 1.09308227,\n",
       "        1.10969996, 1.14227923, 1.15179459, 1.18520776, 1.20422212,\n",
       "        1.2526203 , 1.26903288, 1.3000133 , 1.27883601, 1.13428561]),\n",
       " 'std_fit_time': array([3.29161580e-05, 7.50172488e-03, 1.27632107e-02, 7.36535846e-03,\n",
       "        0.00000000e+00, 6.66735819e-03, 7.36400977e-03, 2.28413441e-03,\n",
       "        6.87978676e-03, 7.66291577e-03, 3.95408433e-03, 1.39988634e-02,\n",
       "        6.58600512e-03, 1.33233031e-02, 1.94873105e-02, 1.29875483e-02,\n",
       "        7.19892871e-03, 1.70815687e-02, 6.72485540e-03, 1.67090322e-02,\n",
       "        1.59036907e-02, 1.71398511e-02, 2.15206166e-02, 1.82837822e-02,\n",
       "        2.21985387e-02, 7.12619108e-03, 6.62095904e-03, 1.38063681e-02,\n",
       "        2.63675470e-02, 1.88085269e-02, 1.25046215e-02, 1.03611455e-02,\n",
       "        1.94389183e-02, 1.38755444e-02, 8.73746417e-03, 2.49528946e-02,\n",
       "        2.56517932e-02, 3.18298352e-02, 3.01883630e-02, 1.97565819e-02,\n",
       "        3.08405914e-02, 3.35978222e-02, 2.98064668e-02, 1.73171346e-02,\n",
       "        4.24380148e-02, 4.23214751e-02, 3.24921345e-02, 3.35012090e-02,\n",
       "        7.77908625e-02, 7.70285563e-02]),\n",
       " 'mean_score_time': array([0.        , 0.00033212, 0.        , 0.        , 0.        ,\n",
       "        0.00199493, 0.        , 0.00132966, 0.00727495, 0.00919406,\n",
       "        0.00166233, 0.01041428, 0.00520682, 0.00720151, 0.00520706,\n",
       "        0.00232728, 0.00864458, 0.01030588, 0.00886369, 0.00908502,\n",
       "        0.        , 0.00853149, 0.00520579, 0.00919604, 0.01285354,\n",
       "        0.00952466, 0.01351841, 0.0146277 , 0.01363047, 0.01540112,\n",
       "        0.01540144, 0.01496005, 0.01584562, 0.01629027, 0.01695474,\n",
       "        0.01728733, 0.01795181, 0.01928194, 0.01894943, 0.01927694,\n",
       "        0.01994658, 0.01994594, 0.02293507, 0.02803437, 0.03124261,\n",
       "        0.01950216, 0.02847489, 0.02603571, 0.01562111, 0.01572943]),\n",
       " 'std_score_time': array([0.00000000e+00, 4.69684480e-04, 0.00000000e+00, 0.00000000e+00,\n",
       "        0.00000000e+00, 1.41062692e-03, 0.00000000e+00, 1.88042379e-03,\n",
       "        6.10023407e-03, 4.53960897e-03, 2.35089501e-03, 7.36400983e-03,\n",
       "        7.36356020e-03, 6.43546884e-03, 7.36389737e-03, 3.29127550e-03,\n",
       "        4.70865406e-04, 1.88042379e-03, 6.54879970e-03, 1.25636949e-03,\n",
       "        0.00000000e+00, 6.45843810e-03, 7.36209911e-03, 6.67147682e-03,\n",
       "        1.99902821e-03, 6.82075380e-03, 1.54180933e-03, 4.69853319e-04,\n",
       "        4.69572129e-04, 3.11380932e-04, 3.12111705e-04, 5.15042996e-07,\n",
       "        1.58022704e-04, 4.70302644e-04, 2.97360213e-07, 4.70471221e-04,\n",
       "        8.14588105e-04, 4.69965469e-04, 8.14393437e-04, 4.73200013e-04,\n",
       "        1.94667955e-07, 2.24783192e-07, 6.41623769e-03, 5.02089868e-03,\n",
       "        3.37174788e-07, 2.77431838e-03, 3.91431834e-03, 7.36384119e-03,\n",
       "        7.86741172e-07, 1.61249003e-04]),\n",
       " 'param_n_estimators': masked_array(data=[1, 5, 9, 13, 17, 21, 25, 29, 33, 37, 41, 45, 49, 54,\n",
       "                    58, 62, 66, 70, 74, 78, 82, 86, 90, 94, 98, 103, 107,\n",
       "                    111, 115, 119, 123, 127, 131, 135, 139, 143, 147, 152,\n",
       "                    156, 160, 164, 168, 172, 176, 180, 184, 188, 192, 196,\n",
       "                    201],\n",
       "              mask=[False, False, False, False, False, False, False, False,\n",
       "                    False, False, False, False, False, False, False, False,\n",
       "                    False, False, False, False, False, False, False, False,\n",
       "                    False, False, False, False, False, False, False, False,\n",
       "                    False, False, False, False, False, False, False, False,\n",
       "                    False, False, False, False, False, False, False, False,\n",
       "                    False, False],\n",
       "        fill_value='?',\n",
       "             dtype=object),\n",
       " 'params': [{'n_estimators': 1},\n",
       "  {'n_estimators': 5},\n",
       "  {'n_estimators': 9},\n",
       "  {'n_estimators': 13},\n",
       "  {'n_estimators': 17},\n",
       "  {'n_estimators': 21},\n",
       "  {'n_estimators': 25},\n",
       "  {'n_estimators': 29},\n",
       "  {'n_estimators': 33},\n",
       "  {'n_estimators': 37},\n",
       "  {'n_estimators': 41},\n",
       "  {'n_estimators': 45},\n",
       "  {'n_estimators': 49},\n",
       "  {'n_estimators': 54},\n",
       "  {'n_estimators': 58},\n",
       "  {'n_estimators': 62},\n",
       "  {'n_estimators': 66},\n",
       "  {'n_estimators': 70},\n",
       "  {'n_estimators': 74},\n",
       "  {'n_estimators': 78},\n",
       "  {'n_estimators': 82},\n",
       "  {'n_estimators': 86},\n",
       "  {'n_estimators': 90},\n",
       "  {'n_estimators': 94},\n",
       "  {'n_estimators': 98},\n",
       "  {'n_estimators': 103},\n",
       "  {'n_estimators': 107},\n",
       "  {'n_estimators': 111},\n",
       "  {'n_estimators': 115},\n",
       "  {'n_estimators': 119},\n",
       "  {'n_estimators': 123},\n",
       "  {'n_estimators': 127},\n",
       "  {'n_estimators': 131},\n",
       "  {'n_estimators': 135},\n",
       "  {'n_estimators': 139},\n",
       "  {'n_estimators': 143},\n",
       "  {'n_estimators': 147},\n",
       "  {'n_estimators': 152},\n",
       "  {'n_estimators': 156},\n",
       "  {'n_estimators': 160},\n",
       "  {'n_estimators': 164},\n",
       "  {'n_estimators': 168},\n",
       "  {'n_estimators': 172},\n",
       "  {'n_estimators': 176},\n",
       "  {'n_estimators': 180},\n",
       "  {'n_estimators': 184},\n",
       "  {'n_estimators': 188},\n",
       "  {'n_estimators': 192},\n",
       "  {'n_estimators': 196},\n",
       "  {'n_estimators': 201}],\n",
       " 'split0_test_score': array([0.49701982, 0.51814766, 0.47418155, 0.57287022, 0.5855942 ,\n",
       "        0.59564511, 0.55018646, 0.57561543, 0.56213081, 0.56110349,\n",
       "        0.59839703, 0.58916809, 0.58190058, 0.58417277, 0.58815538,\n",
       "        0.5904452 , 0.57699595, 0.57969039, 0.61003159, 0.58509092,\n",
       "        0.57731773, 0.60415203, 0.58557005, 0.58274768, 0.57791601,\n",
       "        0.59253808, 0.58637725, 0.59776867, 0.58936636, 0.59090889,\n",
       "        0.58943627, 0.58240113, 0.58953693, 0.58657378, 0.59344855,\n",
       "        0.59285031, 0.58682871, 0.58610611, 0.58729739, 0.5826615 ,\n",
       "        0.59980014, 0.6010621 , 0.59397236, 0.58825045, 0.57919295,\n",
       "        0.59749689, 0.59519044, 0.57746223, 0.58821418, 0.59282038]),\n",
       " 'split1_test_score': array([0.21825374, 0.57057206, 0.6855495 , 0.64208424, 0.65888996,\n",
       "        0.64668786, 0.66307457, 0.65871932, 0.68343928, 0.66253518,\n",
       "        0.67714307, 0.66523206, 0.65766893, 0.68083101, 0.6836806 ,\n",
       "        0.67997508, 0.67624174, 0.68414085, 0.67117085, 0.68649447,\n",
       "        0.70440963, 0.68425866, 0.6659413 , 0.69506508, 0.67290055,\n",
       "        0.66833922, 0.68549465, 0.6864897 , 0.67174968, 0.67993512,\n",
       "        0.67864535, 0.67165884, 0.67254437, 0.66827423, 0.68565927,\n",
       "        0.68099184, 0.68596771, 0.67796921, 0.6768405 , 0.68329223,\n",
       "        0.66974515, 0.66585803, 0.6808474 , 0.68296344, 0.67978256,\n",
       "        0.67578774, 0.67364569, 0.68303665, 0.68104222, 0.68948503]),\n",
       " 'split2_test_score': array([0.40019384, 0.57017485, 0.54755868, 0.55669832, 0.5838513 ,\n",
       "        0.58707446, 0.60263313, 0.58749721, 0.58001341, 0.60088381,\n",
       "        0.60155203, 0.60145384, 0.59240085, 0.59302726, 0.61664532,\n",
       "        0.58748452, 0.57040376, 0.60388063, 0.60231103, 0.60002588,\n",
       "        0.60461002, 0.58985852, 0.60593977, 0.59310204, 0.58638023,\n",
       "        0.5890354 , 0.59505465, 0.58938848, 0.6158832 , 0.58592591,\n",
       "        0.60100678, 0.58790938, 0.59313752, 0.59296055, 0.60790578,\n",
       "        0.60319603, 0.60022554, 0.60018146, 0.60691622, 0.60417203,\n",
       "        0.59782515, 0.60595652, 0.59818264, 0.60154481, 0.60071211,\n",
       "        0.5910214 , 0.60360795, 0.60191434, 0.60361528, 0.59154322]),\n",
       " 'mean_test_score': array([0.37181355, 0.55295945, 0.56910335, 0.59056157, 0.6094532 ,\n",
       "        0.60980962, 0.60529889, 0.60728354, 0.60853679, 0.60817645,\n",
       "        0.62570497, 0.61862339, 0.61066253, 0.61935195, 0.62949781,\n",
       "        0.6193116 , 0.60789226, 0.6225765 , 0.62784584, 0.62387792,\n",
       "        0.62878672, 0.62610112, 0.61915453, 0.62364786, 0.6124071 ,\n",
       "        0.61664624, 0.62231742, 0.62456   , 0.62566948, 0.61893368,\n",
       "        0.62303639, 0.61399798, 0.61841421, 0.61594341, 0.62901116,\n",
       "        0.62568646, 0.62434823, 0.6214256 , 0.62368997, 0.62338129,\n",
       "        0.62246455, 0.62429798, 0.62434235, 0.62426003, 0.6199019 ,\n",
       "        0.6214449 , 0.62415448, 0.62081034, 0.62429706, 0.6246266 ]),\n",
       " 'std_test_score': array([0.11557753, 0.02462199, 0.08763718, 0.03703377, 0.03497255,\n",
       "        0.02631661, 0.04613211, 0.03670108, 0.05347713, 0.04173531,\n",
       "        0.0364036 , 0.0333444 , 0.03352156, 0.04363248, 0.04004794,\n",
       "        0.04292268, 0.04841661, 0.04464853, 0.03080428, 0.0447047 ,\n",
       "        0.05463411, 0.04154506, 0.0341198 , 0.05068804, 0.0429247 ,\n",
       "        0.03658902, 0.04482376, 0.04393462, 0.03434188, 0.04319262,\n",
       "        0.03961334, 0.04084394, 0.03831303, 0.03710392, 0.04049803,\n",
       "        0.03934336, 0.0439236 , 0.04040245, 0.03843559, 0.04327369,\n",
       "        0.03345003, 0.02946215, 0.04000146, 0.04187253, 0.04325342,\n",
       "        0.03852604, 0.03517207, 0.04512876, 0.04062378, 0.0458756 ]),\n",
       " 'rank_test_score': array([50, 49, 48, 47, 41, 40, 46, 45, 42, 43,  6, 33, 39, 29,  1, 30, 44,\n",
       "        22,  4, 17,  3,  5, 31, 19, 38, 35, 24, 10,  8, 32, 21, 37, 34, 36,\n",
       "         2,  7, 11, 26, 18, 20, 23, 13, 12, 15, 28, 25, 16, 27, 14,  9]),\n",
       " 'split0_train_score': array([0.7436652 , 0.92469288, 0.93839641, 0.93681035, 0.9257569 ,\n",
       "        0.94140922, 0.94517947, 0.94515001, 0.94560805, 0.9372272 ,\n",
       "        0.94535498, 0.94097601, 0.93692172, 0.94365827, 0.94321818,\n",
       "        0.94750162, 0.94337605, 0.94580849, 0.94178091, 0.95189616,\n",
       "        0.9413966 , 0.94668324, 0.94644742, 0.94609544, 0.94833747,\n",
       "        0.9425352 , 0.94674092, 0.94667902, 0.94558109, 0.9469591 ,\n",
       "        0.94328571, 0.9480011 , 0.94916728, 0.94656992, 0.94516333,\n",
       "        0.95178426, 0.94805724, 0.944606  , 0.94834299, 0.94886145,\n",
       "        0.94377457, 0.94851558, 0.94800347, 0.94626648, 0.94578623,\n",
       "        0.94966612, 0.9464494 , 0.94895608, 0.94981758, 0.94888403]),\n",
       " 'split1_train_score': array([0.64631475, 0.89981813, 0.89828473, 0.92267752, 0.93334547,\n",
       "        0.93132333, 0.93560336, 0.93085278, 0.9306661 , 0.93585169,\n",
       "        0.93535132, 0.94158699, 0.9349012 , 0.94496167, 0.94543833,\n",
       "        0.94427777, 0.93177511, 0.94120887, 0.94211429, 0.94226507,\n",
       "        0.93782314, 0.94239594, 0.94119801, 0.93826314, 0.94397071,\n",
       "        0.94203838, 0.93941652, 0.94030871, 0.94146904, 0.94141823,\n",
       "        0.93981106, 0.93889932, 0.94522656, 0.94063305, 0.94361378,\n",
       "        0.94343817, 0.93983374, 0.94177885, 0.93889519, 0.94080104,\n",
       "        0.94128777, 0.94158888, 0.94434952, 0.94420703, 0.93906489,\n",
       "        0.94318638, 0.94188287, 0.93918105, 0.9433386 , 0.9451932 ]),\n",
       " 'split2_train_score': array([0.7968242 , 0.92867855, 0.92434282, 0.94213266, 0.93897511,\n",
       "        0.94361066, 0.94035754, 0.93756301, 0.94705722, 0.93618962,\n",
       "        0.94543104, 0.94684655, 0.94775701, 0.94865693, 0.94847134,\n",
       "        0.94993741, 0.95167906, 0.94713749, 0.95108581, 0.94699538,\n",
       "        0.95023338, 0.947512  , 0.94697787, 0.94875026, 0.9464626 ,\n",
       "        0.94841594, 0.95136188, 0.94535473, 0.94448699, 0.94979521,\n",
       "        0.95386189, 0.95244199, 0.95064286, 0.9511386 , 0.94961806,\n",
       "        0.94949522, 0.95141905, 0.94822288, 0.94835312, 0.95030771,\n",
       "        0.94928112, 0.94677055, 0.94985265, 0.95054133, 0.95141357,\n",
       "        0.95389895, 0.94711606, 0.94678224, 0.94785394, 0.95199001]),\n",
       " 'mean_train_score': array([0.72893472, 0.91772985, 0.92034132, 0.93387351, 0.93269249,\n",
       "        0.93878107, 0.94038012, 0.93785527, 0.94111045, 0.93642284,\n",
       "        0.94204578, 0.94313652, 0.93985998, 0.94575896, 0.94570928,\n",
       "        0.94723893, 0.94227674, 0.94471828, 0.94499367, 0.9470522 ,\n",
       "        0.94315104, 0.94553039, 0.94487443, 0.94436961, 0.94625692,\n",
       "        0.94432984, 0.94583977, 0.94411415, 0.94384571, 0.94605751,\n",
       "        0.94565289, 0.94644747, 0.94834557, 0.94611386, 0.94613172,\n",
       "        0.94823922, 0.94643668, 0.94486924, 0.9451971 , 0.94665673,\n",
       "        0.94478115, 0.945625  , 0.94740188, 0.94700495, 0.94542156,\n",
       "        0.94891715, 0.94514944, 0.94497312, 0.94700337, 0.94868908]),\n",
       " 'std_train_score': array([0.06232182, 0.01276959, 0.01661818, 0.00820952, 0.00541603,\n",
       "        0.00534946, 0.00390946, 0.00584048, 0.00740893, 0.00058526,\n",
       "        0.0047338 , 0.00263522, 0.00564464, 0.00211714, 0.00215314,\n",
       "        0.00231799, 0.00816285, 0.00254015, 0.00430994, 0.00393208,\n",
       "        0.00521613, 0.00224207, 0.00260863, 0.00445188, 0.00178864,\n",
       "        0.00289642, 0.00491813, 0.00274463, 0.00173891, 0.0034788 ,\n",
       "        0.00597545, 0.00563686, 0.00228626, 0.00430098, 0.00254508,\n",
       "        0.00352112, 0.00486652, 0.00263734, 0.00445613, 0.00418249,\n",
       "        0.00334   , 0.00294154, 0.00228656, 0.00263816, 0.00504792,\n",
       "        0.00440534, 0.00232579, 0.00419066, 0.00271255, 0.00277821])}"
      ]
     },
     "execution_count": 21,
     "metadata": {},
     "output_type": "execute_result"
    }
   ],
   "source": [
    "tree_grid_search.cv_results_"
   ]
  },
  {
   "cell_type": "code",
   "execution_count": 22,
   "metadata": {},
   "outputs": [],
   "source": [
    "def plot_results(model, param = 'n_estimators', name = 'Num Trees'):\n",
    "    param_name = 'param_%s' % param\n",
    "\n",
    "    # Extract information from the cross validation model\n",
    "    train_scores = model.cv_results_['mean_train_score']\n",
    "    test_scores = model.cv_results_['mean_test_score']\n",
    "    train_time = model.cv_results_['mean_fit_time']\n",
    "    param_values = list(model.cv_results_[param_name])\n",
    "    \n",
    "    # Plot the scores over the parameter\n",
    "    plt.subplots(1, 2, figsize=(10, 6))\n",
    "    plt.subplot(121)\n",
    "    plt.plot(param_values, train_scores, 'bo-', label = 'train')\n",
    "    plt.plot(param_values, test_scores, 'go-', label = 'test')\n",
    "    plt.ylim(ymin = 0, ymax = 1)\n",
    "    plt.legend()\n",
    "    plt.xlabel(name)\n",
    "    plt.ylabel('R2 Score')\n",
    "    plt.title('Score vs %s' % name)\n",
    "    \n",
    "    plt.subplot(122)\n",
    "    plt.plot(param_values, train_time, 'ro-')\n",
    "    plt.ylim(ymin = 0.0, ymax = 4.0)\n",
    "    plt.xlabel(name)\n",
    "    plt.ylabel('Train Time (sec)')\n",
    "    plt.title('Training Time vs %s' % name)\n",
    "    \n",
    "    \n",
    "    plt.tight_layout(pad = 4)"
   ]
  },
  {
   "cell_type": "code",
   "execution_count": 23,
   "metadata": {},
   "outputs": [
    {
     "data": {
      "image/png": "[encoded data removed]",
      "text/plain": [
       "<Figure size 720x432 with 2 Axes>"
      ]
     },
     "metadata": {
      "needs_background": "light"
     },
     "output_type": "display_data"
    }
   ],
   "source": [
    "plot_results(tree_grid_search)"
   ]
  },
  {
   "cell_type": "code",
   "execution_count": 24,
   "metadata": {},
   "outputs": [],
   "source": [
    "# Define a grid over only the maximum number of features\n",
    "feature_grid = {'max_features': list(range(1, X_train.shape[1] + 1))}"
   ]
  },
  {
   "cell_type": "code",
   "execution_count": 32,
   "metadata": {},
   "outputs": [
    {
     "name": "stdout",
     "output_type": "stream",
     "text": [
      "Fitting 3 folds for each of 5 candidates, totalling 15 fits\n"
     ]
    },
    {
     "name": "stderr",
     "output_type": "stream",
     "text": [
      "[Parallel(n_jobs=-1)]: Done   8 out of  15 | elapsed:    6.8s remaining:    5.9s\n",
      "[Parallel(n_jobs=-1)]: Done  15 out of  15 | elapsed:    8.8s finished\n"
     ]
    },
    {
     "data": {
      "text/plain": [
       "GridSearchCV(cv=3, error_score='raise',\n",
       "       estimator=RandomForestRegressor(bootstrap=True, criterion='mse', max_depth=80,\n",
       "           max_features=3, max_leaf_nodes=None, min_impurity_decrease=0.0,\n",
       "           min_impurity_split=None, min_samples_leaf=3,\n",
       "           min_samples_split=6, min_weight_fraction_leaf=0.0,\n",
       "           n_estimators=600, n_jobs=1, oob_score=False, random_state=None,\n",
       "           verbose=0, warm_start=False),\n",
       "       fit_params=None, iid=True, n_jobs=-1,\n",
       "       param_grid={'max_features': [1, 2, 3, 4, 5]},\n",
       "       pre_dispatch='2*n_jobs', refit=True, return_train_score='warn',\n",
       "       scoring='r2', verbose=2)"
      ]
     },
     "execution_count": 32,
     "metadata": {},
     "output_type": "execute_result"
    }
   ],
   "source": [
    "# Create the grid search and fit on the training data\n",
    "feature_grid_search = GridSearchCV(rf, param_grid=feature_grid, cv = 3, n_jobs=-1, verbose= 2,\n",
    "                                  scoring = 'r2')\n",
    "feature_grid_search.fit(X_train, y_train)"
   ]
  },
  {
   "cell_type": "code",
   "execution_count": 33,
   "metadata": {},
   "outputs": [
    {
     "data": {
      "image/png": "[encoded data removed]",
      "text/plain": [
       "<Figure size 720x432 with 2 Axes>"
      ]
     },
     "metadata": {
      "needs_background": "light"
     },
     "output_type": "display_data"
    }
   ],
   "source": [
    "plot_results(feature_grid_search, param='max_features', name = 'Max Features')"
   ]
  },
  {
   "cell_type": "code",
   "execution_count": 69,
   "metadata": {},
   "outputs": [
    {
     "data": {
      "text/plain": [
       "{'max_features': [1, 2, 3, 4, 5]}"
      ]
     },
     "execution_count": 69,
     "metadata": {},
     "output_type": "execute_result"
    }
   ],
   "source": [
    "feature_grid"
   ]
  },
  {
   "cell_type": "code",
   "execution_count": 31,
   "metadata": {},
   "outputs": [
    {
     "data": {
      "text/plain": [
       "0.7705206899385462"
      ]
     },
     "execution_count": 31,
     "metadata": {},
     "output_type": "execute_result"
    }
   ],
   "source": [
    "rf.score(X_test, y_test)"
   ]
  },
  {
   "cell_type": "code",
   "execution_count": null,
   "metadata": {},
   "outputs": [],
   "source": []
  }
 ],
 "metadata": {
  "kernelspec": {
   "display_name": "Python 3",
   "language": "python",
   "name": "python3"
  },
  "language_info": {
   "codemirror_mode": {
    "name": "ipython",
    "version": 3
   },
   "file_extension": ".py",
   "mimetype": "text/x-python",
   "name": "python",
   "nbconvert_exporter": "python",
   "pygments_lexer": "ipython3",
   "version": "3.6.6"
  }
 },
 "nbformat": 4,
 "nbformat_minor": 2
}
