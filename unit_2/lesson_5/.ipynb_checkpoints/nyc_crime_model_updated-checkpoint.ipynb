{
 "cells": [
  {
   "cell_type": "code",
   "execution_count": 11,
   "metadata": {},
   "outputs": [],
   "source": [
    "import math\n",
    "import warnings\n",
    "\n",
    "import pandas as pd\n",
    "import matplotlib.pyplot as plt\n",
    "import numpy as np\n",
    "import seaborn as sns\n",
    "from sklearn import linear_model\n",
    "import statsmodels.formula.api as smf\n",
    "from statsmodels.sandbox.regression.predstd import wls_prediction_std\n",
    "\n",
    "%matplotlib inline\n",
    "pd.options.display.float_format = '{:.5f}'.format"
   ]
  },
  {
   "cell_type": "code",
   "execution_count": 12,
   "metadata": {},
   "outputs": [
    {
     "data": {
      "text/html": [
       "<div>\n",
       "<style scoped>\n",
       "    .dataframe tbody tr th:only-of-type {\n",
       "        vertical-align: middle;\n",
       "    }\n",
       "\n",
       "    .dataframe tbody tr th {\n",
       "        vertical-align: top;\n",
       "    }\n",
       "\n",
       "    .dataframe thead th {\n",
       "        text-align: right;\n",
       "    }\n",
       "</style>\n",
       "<table border=\"1\" class=\"dataframe\">\n",
       "  <thead>\n",
       "    <tr style=\"text-align: right;\">\n",
       "      <th></th>\n",
       "      <th>City</th>\n",
       "      <th>Population</th>\n",
       "      <th>Violent_Crime</th>\n",
       "      <th>Murder</th>\n",
       "      <th>Rape (Rev)</th>\n",
       "      <th>Rape(Legal)</th>\n",
       "      <th>Robbery</th>\n",
       "      <th>Agg Assault</th>\n",
       "      <th>Property_Crime</th>\n",
       "      <th>Burglary</th>\n",
       "      <th>...</th>\n",
       "      <th>Vehicle Theft</th>\n",
       "      <th>Arson</th>\n",
       "      <th>robbery_bool</th>\n",
       "      <th>arson_bool</th>\n",
       "      <th>larceny_bool</th>\n",
       "      <th>violent_bool</th>\n",
       "      <th>burglary_bool</th>\n",
       "      <th>propertycrime_rate</th>\n",
       "      <th>pop_squared</th>\n",
       "      <th>propcrimesqrt</th>\n",
       "    </tr>\n",
       "  </thead>\n",
       "  <tbody>\n",
       "    <tr>\n",
       "      <th>0</th>\n",
       "      <td>Adams Village</td>\n",
       "      <td>1861.00000</td>\n",
       "      <td>0.00000</td>\n",
       "      <td>0.00000</td>\n",
       "      <td>nan</td>\n",
       "      <td>0.00000</td>\n",
       "      <td>0.00000</td>\n",
       "      <td>0.00000</td>\n",
       "      <td>12.00000</td>\n",
       "      <td>2.00000</td>\n",
       "      <td>...</td>\n",
       "      <td>0.00000</td>\n",
       "      <td>0.00000</td>\n",
       "      <td>0</td>\n",
       "      <td>0</td>\n",
       "      <td>1</td>\n",
       "      <td>0</td>\n",
       "      <td>1</td>\n",
       "      <td>0.00645</td>\n",
       "      <td>3463321.00000</td>\n",
       "      <td>3.46410</td>\n",
       "    </tr>\n",
       "    <tr>\n",
       "      <th>1</th>\n",
       "      <td>Addison Town and Village</td>\n",
       "      <td>2577.00000</td>\n",
       "      <td>3.00000</td>\n",
       "      <td>0.00000</td>\n",
       "      <td>nan</td>\n",
       "      <td>0.00000</td>\n",
       "      <td>0.00000</td>\n",
       "      <td>3.00000</td>\n",
       "      <td>24.00000</td>\n",
       "      <td>3.00000</td>\n",
       "      <td>...</td>\n",
       "      <td>1.00000</td>\n",
       "      <td>0.00000</td>\n",
       "      <td>0</td>\n",
       "      <td>0</td>\n",
       "      <td>1</td>\n",
       "      <td>1</td>\n",
       "      <td>1</td>\n",
       "      <td>0.00931</td>\n",
       "      <td>6640929.00000</td>\n",
       "      <td>4.89898</td>\n",
       "    </tr>\n",
       "    <tr>\n",
       "      <th>2</th>\n",
       "      <td>Akron Village</td>\n",
       "      <td>2846.00000</td>\n",
       "      <td>3.00000</td>\n",
       "      <td>0.00000</td>\n",
       "      <td>nan</td>\n",
       "      <td>0.00000</td>\n",
       "      <td>0.00000</td>\n",
       "      <td>3.00000</td>\n",
       "      <td>16.00000</td>\n",
       "      <td>1.00000</td>\n",
       "      <td>...</td>\n",
       "      <td>0.00000</td>\n",
       "      <td>0.00000</td>\n",
       "      <td>0</td>\n",
       "      <td>0</td>\n",
       "      <td>1</td>\n",
       "      <td>1</td>\n",
       "      <td>1</td>\n",
       "      <td>0.00562</td>\n",
       "      <td>8099716.00000</td>\n",
       "      <td>4.00000</td>\n",
       "    </tr>\n",
       "    <tr>\n",
       "      <th>4</th>\n",
       "      <td>Albion Village</td>\n",
       "      <td>6388.00000</td>\n",
       "      <td>23.00000</td>\n",
       "      <td>0.00000</td>\n",
       "      <td>nan</td>\n",
       "      <td>3.00000</td>\n",
       "      <td>4.00000</td>\n",
       "      <td>16.00000</td>\n",
       "      <td>223.00000</td>\n",
       "      <td>53.00000</td>\n",
       "      <td>...</td>\n",
       "      <td>5.00000</td>\n",
       "      <td>nan</td>\n",
       "      <td>1</td>\n",
       "      <td>0</td>\n",
       "      <td>1</td>\n",
       "      <td>1</td>\n",
       "      <td>1</td>\n",
       "      <td>0.03491</td>\n",
       "      <td>40806544.00000</td>\n",
       "      <td>14.93318</td>\n",
       "    </tr>\n",
       "    <tr>\n",
       "      <th>5</th>\n",
       "      <td>Alfred Village</td>\n",
       "      <td>4089.00000</td>\n",
       "      <td>5.00000</td>\n",
       "      <td>0.00000</td>\n",
       "      <td>nan</td>\n",
       "      <td>0.00000</td>\n",
       "      <td>3.00000</td>\n",
       "      <td>2.00000</td>\n",
       "      <td>46.00000</td>\n",
       "      <td>10.00000</td>\n",
       "      <td>...</td>\n",
       "      <td>0.00000</td>\n",
       "      <td>nan</td>\n",
       "      <td>1</td>\n",
       "      <td>0</td>\n",
       "      <td>1</td>\n",
       "      <td>1</td>\n",
       "      <td>1</td>\n",
       "      <td>0.01125</td>\n",
       "      <td>16719921.00000</td>\n",
       "      <td>6.78233</td>\n",
       "    </tr>\n",
       "  </tbody>\n",
       "</table>\n",
       "<p>5 rows × 21 columns</p>\n",
       "</div>"
      ],
      "text/plain": [
       "                       City  Population  Violent_Crime  Murder  Rape (Rev)  \\\n",
       "0             Adams Village  1861.00000        0.00000 0.00000         nan   \n",
       "1  Addison Town and Village  2577.00000        3.00000 0.00000         nan   \n",
       "2             Akron Village  2846.00000        3.00000 0.00000         nan   \n",
       "4            Albion Village  6388.00000       23.00000 0.00000         nan   \n",
       "5            Alfred Village  4089.00000        5.00000 0.00000         nan   \n",
       "\n",
       "   Rape(Legal)  Robbery  Agg Assault  Property_Crime  Burglary      ...        \\\n",
       "0      0.00000  0.00000      0.00000        12.00000   2.00000      ...         \n",
       "1      0.00000  0.00000      3.00000        24.00000   3.00000      ...         \n",
       "2      0.00000  0.00000      3.00000        16.00000   1.00000      ...         \n",
       "4      3.00000  4.00000     16.00000       223.00000  53.00000      ...         \n",
       "5      0.00000  3.00000      2.00000        46.00000  10.00000      ...         \n",
       "\n",
       "   Vehicle Theft   Arson  robbery_bool  arson_bool  larceny_bool  \\\n",
       "0        0.00000 0.00000             0           0             1   \n",
       "1        1.00000 0.00000             0           0             1   \n",
       "2        0.00000 0.00000             0           0             1   \n",
       "4        5.00000     nan             1           0             1   \n",
       "5        0.00000     nan             1           0             1   \n",
       "\n",
       "   violent_bool  burglary_bool  propertycrime_rate    pop_squared  \\\n",
       "0             0              1             0.00645  3463321.00000   \n",
       "1             1              1             0.00931  6640929.00000   \n",
       "2             1              1             0.00562  8099716.00000   \n",
       "4             1              1             0.03491 40806544.00000   \n",
       "5             1              1             0.01125 16719921.00000   \n",
       "\n",
       "   propcrimesqrt  \n",
       "0        3.46410  \n",
       "1        4.89898  \n",
       "2        4.00000  \n",
       "4       14.93318  \n",
       "5        6.78233  \n",
       "\n",
       "[5 rows x 21 columns]"
      ]
     },
     "execution_count": 12,
     "metadata": {},
     "output_type": "execute_result"
    }
   ],
   "source": [
    "nyc_crime = pd.read_csv('nyc_crime_2013.csv')\n",
    "nyc_crime[['Population']] = nyc_crime['Population'].str.replace(',','')\n",
    "nyc_crime[['Violent_Crime']] = nyc_crime['Violent_Crime'].str.replace(',','')\n",
    "nyc_crime[['Rape(Legal)']] = nyc_crime['Rape(Legal)'].str.replace(',','')\n",
    "nyc_crime[['Property_Crime']] = nyc_crime['Property_Crime'].str.replace(',','')\n",
    "nyc_crime[['Vehicle Theft']] = nyc_crime['Vehicle Theft'].str.replace(',','')\n",
    "nyc_crime[['Larceny']] = nyc_crime['Larceny'].str.replace(',','')\n",
    "nyc_crime[['Burglary']] = nyc_crime['Burglary'].str.replace(',','')\n",
    "nyc_crime[['Robbery']] = nyc_crime['Robbery'].str.replace(',','')\n",
    "nyc_crime[['Agg Assault']] = nyc_crime['Agg Assault'].str.replace(',','')\n",
    "nyc_crime[\n",
    "    ['Population', 'Violent_Crime', 'Murder', 'Rape(Legal)', 'Robbery', \n",
    "     'Agg Assault', 'Property_Crime', 'Burglary', 'Larceny', 'Vehicle Theft', 'Arson']\n",
    "    ] = nyc_crime[\n",
    "    ['Population', 'Violent_Crime', 'Murder', 'Rape(Legal)', 'Robbery', \n",
    "     'Agg Assault', 'Property_Crime', 'Burglary', 'Larceny', 'Vehicle Theft', 'Arson']\n",
    "    ].astype(float)\n",
    "nyc_crime['robbery_bool'] = np.where(nyc_crime['Robbery'] > 0, 1, 0)\n",
    "nyc_crime['arson_bool'] = np.where(nyc_crime['Arson'] > 0, 1, 0)\n",
    "#nyc_crime['murder_bool'] = np.where(nyc_crime['Murder'] > 0, 1, 0)\n",
    "nyc_crime['larceny_bool'] = np.where(nyc_crime['Larceny'] > 0, 1, 0)\n",
    "nyc_crime['violent_bool'] = np.where(nyc_crime['Violent_Crime'] > 0, 1, 0)\n",
    "nyc_crime['burglary_bool'] = np.where(nyc_crime['Burglary'] > 0, 1, 0)\n",
    "#nyc_crime['larceny_rate'] = nyc_crime['Larceny'] / nyc_crime['Population']\n",
    "nyc_crime['propertycrime_rate'] = nyc_crime['Property_Crime'] / nyc_crime['Population']\n",
    "nyc_crime['pop_squared'] = nyc_crime['Population'] * nyc_crime['Population']\n",
    "nyc_crime['propcrimesqrt'] = [math.sqrt(x) for x in nyc_crime['Property_Crime']]\n",
    "#to_drop = ['New York']\n",
    "#nyc_crime = nyc_crime[~nyc_crime['City'].isin(to_drop)]\n",
    "nyc_crime = nyc_crime[nyc_crime['Population'] < 18000.5]\n",
    "#nyc_crime = nyc_crime.fillna(0)\n",
    "#nyc_crime = nyc_crime.replace(0, '')\n",
    "nyc_crime.head()"
   ]
  },
  {
   "cell_type": "code",
   "execution_count": null,
   "metadata": {},
   "outputs": [],
   "source": []
  },
  {
   "cell_type": "code",
   "execution_count": 13,
   "metadata": {},
   "outputs": [
    {
     "name": "stdout",
     "output_type": "stream",
     "text": [
      "\n",
      "Coefficients: \n",
      " [[3.46029922e-04 1.60640427e-01 4.64385863e+00]]\n",
      "\n",
      "Intercept: \n",
      " [-0.32800251]\n",
      "\n",
      "R-squared:\n",
      "0.782838467201744\n"
     ]
    }
   ],
   "source": [
    "regr = linear_model.LinearRegression()\n",
    "# Mentor Q, why the reshape?\n",
    "Y = nyc_crime['propcrimesqrt'].values.reshape(-1, 1)\n",
    "X = nyc_crime[['Population', 'Burglary', 'larceny_bool']]\n",
    "regr.fit(X, Y)\n",
    "\n",
    "print('\\nCoefficients: \\n', regr.coef_)\n",
    "print('\\nIntercept: \\n', regr.intercept_)\n",
    "print('\\nR-squared:')\n",
    "print(regr.score(X, Y))"
   ]
  },
  {
   "cell_type": "code",
   "execution_count": 14,
   "metadata": {
    "scrolled": false
   },
   "outputs": [
    {
     "data": {
      "image/png": "[encoded data removed]",
      "text/plain": [
       "<Figure size 432x288 with 1 Axes>"
      ]
     },
     "metadata": {},
     "output_type": "display_data"
    }
   ],
   "source": [
    "#blank = nyc_crime['Burglary']\n",
    "transform = [math.pow(x, 2) for x in nyc_crime['Population']]\n",
    "inverse = 1/nyc_crime['Population']\n",
    "\n",
    "#plt.scatter(Y, blank)\n",
    "plt.scatter(Y, transform)\n",
    "plt.show()"
   ]
  },
  {
   "cell_type": "code",
   "execution_count": 15,
   "metadata": {},
   "outputs": [],
   "source": [
    "predicted = regr.predict(X).ravel()\n",
    "actual = nyc_crime['propcrimesqrt']\n",
    "residual = actual - predicted"
   ]
  },
  {
   "cell_type": "code",
   "execution_count": 16,
   "metadata": {},
   "outputs": [
    {
     "data": {
      "image/png": "[encoded data removed]",
      "text/plain": [
       "<Figure size 432x288 with 1 Axes>"
      ]
     },
     "metadata": {},
     "output_type": "display_data"
    }
   ],
   "source": [
    "plt.hist(residual)\n",
    "plt.show()"
   ]
  },
  {
   "cell_type": "code",
   "execution_count": 17,
   "metadata": {},
   "outputs": [
    {
     "data": {
      "image/png": "[encoded data removed]",
      "text/plain": [
       "<Figure size 432x288 with 1 Axes>"
      ]
     },
     "metadata": {},
     "output_type": "display_data"
    }
   ],
   "source": [
    "transform = [math.sqrt(x) for x in nyc_crime['Property_Crime']]\n",
    "\n",
    "plt.hist(transform)\n",
    "plt.show()"
   ]
  },
  {
   "cell_type": "code",
   "execution_count": 18,
   "metadata": {},
   "outputs": [
    {
     "data": {
      "text/plain": [
       "Text(0,0.5,'Residual')"
      ]
     },
     "execution_count": 18,
     "metadata": {},
     "output_type": "execute_result"
    },
    {
     "data": {
      "image/png": "[encoded data removed]",
      "text/plain": [
       "<Figure size 432x288 with 1 Axes>"
      ]
     },
     "metadata": {},
     "output_type": "display_data"
    }
   ],
   "source": [
    "plt.scatter(predicted, residual)\n",
    "plt.xlabel('Predicted')\n",
    "plt.ylabel('Residual')"
   ]
  },
  {
   "cell_type": "code",
   "execution_count": 19,
   "metadata": {},
   "outputs": [
    {
     "data": {
      "text/html": [
       "<div>\n",
       "<style scoped>\n",
       "    .dataframe tbody tr th:only-of-type {\n",
       "        vertical-align: middle;\n",
       "    }\n",
       "\n",
       "    .dataframe tbody tr th {\n",
       "        vertical-align: top;\n",
       "    }\n",
       "\n",
       "    .dataframe thead th {\n",
       "        text-align: right;\n",
       "    }\n",
       "</style>\n",
       "<table border=\"1\" class=\"dataframe\">\n",
       "  <thead>\n",
       "    <tr style=\"text-align: right;\">\n",
       "      <th></th>\n",
       "      <th>Population</th>\n",
       "      <th>Burglary</th>\n",
       "      <th>larceny_bool</th>\n",
       "    </tr>\n",
       "  </thead>\n",
       "  <tbody>\n",
       "    <tr>\n",
       "      <th>Population</th>\n",
       "      <td>1.00000</td>\n",
       "      <td>0.60930</td>\n",
       "      <td>0.17939</td>\n",
       "    </tr>\n",
       "    <tr>\n",
       "      <th>Burglary</th>\n",
       "      <td>0.60930</td>\n",
       "      <td>1.00000</td>\n",
       "      <td>0.13628</td>\n",
       "    </tr>\n",
       "    <tr>\n",
       "      <th>larceny_bool</th>\n",
       "      <td>0.17939</td>\n",
       "      <td>0.13628</td>\n",
       "      <td>1.00000</td>\n",
       "    </tr>\n",
       "  </tbody>\n",
       "</table>\n",
       "</div>"
      ],
      "text/plain": [
       "              Population  Burglary  larceny_bool\n",
       "Population       1.00000   0.60930       0.17939\n",
       "Burglary         0.60930   1.00000       0.13628\n",
       "larceny_bool     0.17939   0.13628       1.00000"
      ]
     },
     "metadata": {},
     "output_type": "display_data"
    }
   ],
   "source": [
    "correlation_matrix = X.corr()\n",
    "display(correlation_matrix)"
   ]
  },
  {
   "cell_type": "code",
   "execution_count": null,
   "metadata": {},
   "outputs": [],
   "source": []
  },
  {
   "cell_type": "code",
   "execution_count": 20,
   "metadata": {},
   "outputs": [
    {
     "ename": "TypeError",
     "evalue": "cross_val_score() missing 2 required positional arguments: 'estimator' and 'X'",
     "output_type": "error",
     "traceback": [
      "\u001b[1;31m---------------------------------------------------------------------------\u001b[0m",
      "\u001b[1;31mTypeError\u001b[0m                                 Traceback (most recent call last)",
      "\u001b[1;32m<ipython-input-20-ec166c6428a2>\u001b[0m in \u001b[0;36m<module>\u001b[1;34m()\u001b[0m\n\u001b[0;32m      1\u001b[0m \u001b[1;32mfrom\u001b[0m \u001b[0msklearn\u001b[0m\u001b[1;33m.\u001b[0m\u001b[0mmodel_selection\u001b[0m \u001b[1;32mimport\u001b[0m \u001b[0mcross_val_score\u001b[0m\u001b[1;33m\u001b[0m\u001b[0m\n\u001b[1;32m----> 2\u001b[1;33m \u001b[0mcross_val_score\u001b[0m\u001b[1;33m(\u001b[0m\u001b[1;33m)\u001b[0m\u001b[1;33m\u001b[0m\u001b[0m\n\u001b[0m",
      "\u001b[1;31mTypeError\u001b[0m: cross_val_score() missing 2 required positional arguments: 'estimator' and 'X'"
     ]
    }
   ],
   "source": [
    "from sklearn.model_selection import cross_val_score\n",
    "cross_val_score()"
   ]
  },
  {
   "cell_type": "code",
   "execution_count": 21,
   "metadata": {},
   "outputs": [],
   "source": [
    "linear_formula = 'propcrimesqrt ~ Population+Burglary+larceny_bool'\n",
    "lm = smf.ols(formula=linear_formula, data=nyc_crime).fit()"
   ]
  },
  {
   "cell_type": "code",
   "execution_count": 22,
   "metadata": {},
   "outputs": [
    {
     "data": {
      "text/plain": [
       "Intercept      -0.32800\n",
       "Population      0.00035\n",
       "Burglary        0.16064\n",
       "larceny_bool    4.64386\n",
       "dtype: float64"
      ]
     },
     "execution_count": 22,
     "metadata": {},
     "output_type": "execute_result"
    }
   ],
   "source": [
    "lm.params"
   ]
  },
  {
   "cell_type": "code",
   "execution_count": 23,
   "metadata": {},
   "outputs": [
    {
     "data": {
      "text/plain": [
       "Intercept      0.73891\n",
       "Population     0.00000\n",
       "Burglary       0.00000\n",
       "larceny_bool   0.00001\n",
       "dtype: float64"
      ]
     },
     "execution_count": 23,
     "metadata": {},
     "output_type": "execute_result"
    }
   ],
   "source": [
    "lm.pvalues"
   ]
  },
  {
   "cell_type": "code",
   "execution_count": 24,
   "metadata": {},
   "outputs": [
    {
     "data": {
      "text/plain": [
       "0.782838467201744"
      ]
     },
     "execution_count": 24,
     "metadata": {},
     "output_type": "execute_result"
    }
   ],
   "source": [
    "lm.rsquared"
   ]
  },
  {
   "cell_type": "code",
   "execution_count": 25,
   "metadata": {},
   "outputs": [
    {
     "data": {
      "text/html": [
       "<div>\n",
       "<style scoped>\n",
       "    .dataframe tbody tr th:only-of-type {\n",
       "        vertical-align: middle;\n",
       "    }\n",
       "\n",
       "    .dataframe tbody tr th {\n",
       "        vertical-align: top;\n",
       "    }\n",
       "\n",
       "    .dataframe thead th {\n",
       "        text-align: right;\n",
       "    }\n",
       "</style>\n",
       "<table border=\"1\" class=\"dataframe\">\n",
       "  <thead>\n",
       "    <tr style=\"text-align: right;\">\n",
       "      <th></th>\n",
       "      <th>0</th>\n",
       "      <th>1</th>\n",
       "    </tr>\n",
       "  </thead>\n",
       "  <tbody>\n",
       "    <tr>\n",
       "      <th>Intercept</th>\n",
       "      <td>-2.26392</td>\n",
       "      <td>1.60791</td>\n",
       "    </tr>\n",
       "    <tr>\n",
       "      <th>Population</th>\n",
       "      <td>0.00025</td>\n",
       "      <td>0.00044</td>\n",
       "    </tr>\n",
       "    <tr>\n",
       "      <th>Burglary</th>\n",
       "      <td>0.14295</td>\n",
       "      <td>0.17833</td>\n",
       "    </tr>\n",
       "    <tr>\n",
       "      <th>larceny_bool</th>\n",
       "      <td>2.65143</td>\n",
       "      <td>6.63628</td>\n",
       "    </tr>\n",
       "  </tbody>\n",
       "</table>\n",
       "</div>"
      ],
      "text/plain": [
       "                    0       1\n",
       "Intercept    -2.26392 1.60791\n",
       "Population    0.00025 0.00044\n",
       "Burglary      0.14295 0.17833\n",
       "larceny_bool  2.65143 6.63628"
      ]
     },
     "execution_count": 25,
     "metadata": {},
     "output_type": "execute_result"
    }
   ],
   "source": [
    "lm.conf_int()"
   ]
  },
  {
   "cell_type": "code",
   "execution_count": 26,
   "metadata": {},
   "outputs": [],
   "source": [
    "nyc_crime2 = pd.read_csv('nyc_crime_2014.csv')\n",
    "nyc_crime2['Property_Crime'] = nyc_crime2['Property_Crime'].astype(float)\n",
    "nyc_crime2['propcrimesqrt'] = [math.sqrt(x) for x in nyc_crime2['Property_Crime']]\n",
    "nyc_crime2['larceny_bool'] = np.where(nyc_crime2['Larceny'] > 0, 1, 0)"
   ]
  },
  {
   "cell_type": "code",
   "execution_count": 27,
   "metadata": {},
   "outputs": [
    {
     "data": {
      "text/html": [
       "<div>\n",
       "<style scoped>\n",
       "    .dataframe tbody tr th:only-of-type {\n",
       "        vertical-align: middle;\n",
       "    }\n",
       "\n",
       "    .dataframe tbody tr th {\n",
       "        vertical-align: top;\n",
       "    }\n",
       "\n",
       "    .dataframe thead th {\n",
       "        text-align: right;\n",
       "    }\n",
       "</style>\n",
       "<table border=\"1\" class=\"dataframe\">\n",
       "  <thead>\n",
       "    <tr style=\"text-align: right;\">\n",
       "      <th></th>\n",
       "      <th>City</th>\n",
       "      <th>Population</th>\n",
       "      <th>Violent_Crime</th>\n",
       "      <th>Murder</th>\n",
       "      <th>Rape (Rev)</th>\n",
       "      <th>Rape(Legal)</th>\n",
       "      <th>Robbery</th>\n",
       "      <th>Agg Assault</th>\n",
       "      <th>Property_Crime</th>\n",
       "      <th>Burglary</th>\n",
       "      <th>Larceny</th>\n",
       "      <th>Vehicle Theft</th>\n",
       "      <th>Arson</th>\n",
       "      <th>propcrimesqrt</th>\n",
       "      <th>larceny_bool</th>\n",
       "    </tr>\n",
       "  </thead>\n",
       "  <tbody>\n",
       "    <tr>\n",
       "      <th>0</th>\n",
       "      <td>Adams Village</td>\n",
       "      <td>1851</td>\n",
       "      <td>0</td>\n",
       "      <td>0</td>\n",
       "      <td>nan</td>\n",
       "      <td>0.00000</td>\n",
       "      <td>0</td>\n",
       "      <td>0</td>\n",
       "      <td>11.00000</td>\n",
       "      <td>1</td>\n",
       "      <td>10.00000</td>\n",
       "      <td>0</td>\n",
       "      <td>0.00000</td>\n",
       "      <td>3.31662</td>\n",
       "      <td>1</td>\n",
       "    </tr>\n",
       "    <tr>\n",
       "      <th>1</th>\n",
       "      <td>Addison Town and Village</td>\n",
       "      <td>2568</td>\n",
       "      <td>2</td>\n",
       "      <td>0</td>\n",
       "      <td>nan</td>\n",
       "      <td>0.00000</td>\n",
       "      <td>1</td>\n",
       "      <td>1</td>\n",
       "      <td>49.00000</td>\n",
       "      <td>1</td>\n",
       "      <td>47.00000</td>\n",
       "      <td>1</td>\n",
       "      <td>0.00000</td>\n",
       "      <td>7.00000</td>\n",
       "      <td>1</td>\n",
       "    </tr>\n",
       "    <tr>\n",
       "      <th>2</th>\n",
       "      <td>Afton Village</td>\n",
       "      <td>820</td>\n",
       "      <td>0</td>\n",
       "      <td>0</td>\n",
       "      <td>0.00000</td>\n",
       "      <td>nan</td>\n",
       "      <td>0</td>\n",
       "      <td>0</td>\n",
       "      <td>1.00000</td>\n",
       "      <td>0</td>\n",
       "      <td>1.00000</td>\n",
       "      <td>0</td>\n",
       "      <td>0.00000</td>\n",
       "      <td>1.00000</td>\n",
       "      <td>1</td>\n",
       "    </tr>\n",
       "    <tr>\n",
       "      <th>3</th>\n",
       "      <td>Akron Village</td>\n",
       "      <td>2842</td>\n",
       "      <td>1</td>\n",
       "      <td>0</td>\n",
       "      <td>nan</td>\n",
       "      <td>0.00000</td>\n",
       "      <td>0</td>\n",
       "      <td>1</td>\n",
       "      <td>17.00000</td>\n",
       "      <td>0</td>\n",
       "      <td>17.00000</td>\n",
       "      <td>0</td>\n",
       "      <td>0.00000</td>\n",
       "      <td>4.12311</td>\n",
       "      <td>1</td>\n",
       "    </tr>\n",
       "    <tr>\n",
       "      <th>4</th>\n",
       "      <td>Albany</td>\n",
       "      <td>98595</td>\n",
       "      <td>802</td>\n",
       "      <td>8</td>\n",
       "      <td>54.00000</td>\n",
       "      <td>nan</td>\n",
       "      <td>237</td>\n",
       "      <td>503</td>\n",
       "      <td>3888.00000</td>\n",
       "      <td>683</td>\n",
       "      <td>3083.00000</td>\n",
       "      <td>122</td>\n",
       "      <td>12.00000</td>\n",
       "      <td>62.35383</td>\n",
       "      <td>1</td>\n",
       "    </tr>\n",
       "  </tbody>\n",
       "</table>\n",
       "</div>"
      ],
      "text/plain": [
       "                       City  Population  Violent_Crime  Murder  Rape (Rev)  \\\n",
       "0             Adams Village        1851              0       0         nan   \n",
       "1  Addison Town and Village        2568              2       0         nan   \n",
       "2             Afton Village         820              0       0     0.00000   \n",
       "3             Akron Village        2842              1       0         nan   \n",
       "4                    Albany       98595            802       8    54.00000   \n",
       "\n",
       "   Rape(Legal)  Robbery  Agg Assault  Property_Crime  Burglary    Larceny  \\\n",
       "0      0.00000        0            0        11.00000         1   10.00000   \n",
       "1      0.00000        1            1        49.00000         1   47.00000   \n",
       "2          nan        0            0         1.00000         0    1.00000   \n",
       "3      0.00000        0            1        17.00000         0   17.00000   \n",
       "4          nan      237          503      3888.00000       683 3083.00000   \n",
       "\n",
       "   Vehicle Theft    Arson  propcrimesqrt  larceny_bool  \n",
       "0              0  0.00000        3.31662             1  \n",
       "1              1  0.00000        7.00000             1  \n",
       "2              0  0.00000        1.00000             1  \n",
       "3              0  0.00000        4.12311             1  \n",
       "4            122 12.00000       62.35383             1  "
      ]
     },
     "execution_count": 27,
     "metadata": {},
     "output_type": "execute_result"
    }
   ],
   "source": [
    "nyc_crime2.head()"
   ]
  },
  {
   "cell_type": "code",
   "execution_count": 28,
   "metadata": {},
   "outputs": [],
   "source": [
    "lm2 = smf.ols(formula=linear_formula, data=nyc_crime2).fit()"
   ]
  },
  {
   "cell_type": "code",
   "execution_count": 29,
   "metadata": {},
   "outputs": [
    {
     "data": {
      "text/plain": [
       "Intercept       0.48344\n",
       "Population     -0.00004\n",
       "Burglary        0.04568\n",
       "larceny_bool   10.55644\n",
       "dtype: float64"
      ]
     },
     "execution_count": 29,
     "metadata": {},
     "output_type": "execute_result"
    }
   ],
   "source": [
    "lm2.params"
   ]
  },
  {
   "cell_type": "code",
   "execution_count": 30,
   "metadata": {},
   "outputs": [
    {
     "data": {
      "text/plain": [
       "Intercept      0.85334\n",
       "Population     0.00000\n",
       "Burglary       0.00000\n",
       "larceny_bool   0.00008\n",
       "dtype: float64"
      ]
     },
     "execution_count": 30,
     "metadata": {},
     "output_type": "execute_result"
    }
   ],
   "source": [
    "lm2.pvalues"
   ]
  },
  {
   "cell_type": "code",
   "execution_count": 31,
   "metadata": {},
   "outputs": [
    {
     "data": {
      "text/plain": [
       "0.8674140723204764"
      ]
     },
     "execution_count": 31,
     "metadata": {},
     "output_type": "execute_result"
    }
   ],
   "source": [
    "lm2.rsquared"
   ]
  },
  {
   "cell_type": "code",
   "execution_count": 32,
   "metadata": {},
   "outputs": [
    {
     "data": {
      "text/html": [
       "<div>\n",
       "<style scoped>\n",
       "    .dataframe tbody tr th:only-of-type {\n",
       "        vertical-align: middle;\n",
       "    }\n",
       "\n",
       "    .dataframe tbody tr th {\n",
       "        vertical-align: top;\n",
       "    }\n",
       "\n",
       "    .dataframe thead th {\n",
       "        text-align: right;\n",
       "    }\n",
       "</style>\n",
       "<table border=\"1\" class=\"dataframe\">\n",
       "  <thead>\n",
       "    <tr style=\"text-align: right;\">\n",
       "      <th></th>\n",
       "      <th>0</th>\n",
       "      <th>1</th>\n",
       "    </tr>\n",
       "  </thead>\n",
       "  <tbody>\n",
       "    <tr>\n",
       "      <th>Intercept</th>\n",
       "      <td>-4.65577</td>\n",
       "      <td>5.62264</td>\n",
       "    </tr>\n",
       "    <tr>\n",
       "      <th>Population</th>\n",
       "      <td>-0.00005</td>\n",
       "      <td>-0.00003</td>\n",
       "    </tr>\n",
       "    <tr>\n",
       "      <th>Burglary</th>\n",
       "      <td>0.04108</td>\n",
       "      <td>0.05028</td>\n",
       "    </tr>\n",
       "    <tr>\n",
       "      <th>larceny_bool</th>\n",
       "      <td>5.34330</td>\n",
       "      <td>15.76957</td>\n",
       "    </tr>\n",
       "  </tbody>\n",
       "</table>\n",
       "</div>"
      ],
      "text/plain": [
       "                    0        1\n",
       "Intercept    -4.65577  5.62264\n",
       "Population   -0.00005 -0.00003\n",
       "Burglary      0.04108  0.05028\n",
       "larceny_bool  5.34330 15.76957"
      ]
     },
     "execution_count": 32,
     "metadata": {},
     "output_type": "execute_result"
    }
   ],
   "source": [
    "lm2.conf_int()"
   ]
  },
  {
   "cell_type": "code",
   "execution_count": null,
   "metadata": {},
   "outputs": [],
   "source": []
  }
 ],
 "metadata": {
  "kernelspec": {
   "display_name": "Python 3",
   "language": "python",
   "name": "python3"
  },
  "language_info": {
   "codemirror_mode": {
    "name": "ipython",
    "version": 3
   },
   "file_extension": ".py",
   "mimetype": "text/x-python",
   "name": "python",
   "nbconvert_exporter": "python",
   "pygments_lexer": "ipython3",
   "version": "3.6.5"
  }
 },
 "nbformat": 4,
 "nbformat_minor": 2
}
