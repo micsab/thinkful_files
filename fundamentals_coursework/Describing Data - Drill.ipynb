{
 "cells": [
  {
   "cell_type": "markdown",
   "metadata": {},
   "source": [
    "Greg was 14, Marcia was 12, Peter was 11, Jan was 10, Bobby was 8, and Cindy was 6 when they started playing the Brady kids on The Brady Bunch. Cousin Oliver was 8 years old when he joined the show. What are the mean, median, and mode of the kids' ages when they first appeared on the show? What are the variance, standard deviation, and standard error?\n",
    "\n",
    "age = [6, 8, 8, 10, 11, 12, 14]\n",
    "\n",
    "mean = 14 + 12 + 11 + 10 + 8 + 6 + 8 = 69 / 7 = 9.857 \n",
    "median = [6, 8, 8, 10, 11, 12, 14] = 10\n",
    "mode = 8\n",
    "\n",
    "variance = (6-9.857)^2 + (8-9.857)^2 + (8-9.857)^2 + (11-9.857)^2 + (12-9.857)^2 + (14-9.857)^2 \n",
    "         = 44.857\n",
    "         = 44.857 / (7-1)\n",
    "         = 7.4761\n",
    "standard deviation = variance ** 0.5 \n",
    "                   = 7.4761 ** 0.5\n",
    "                   = 2.7342\n",
    "standard error = standard deviation / (n ** 0.5)\n",
    "               = 2.7342 / (7 ** 0.5)\n",
    "               = 1.0334"
   ]
  },
  {
   "cell_type": "code",
   "execution_count": 15,
   "metadata": {},
   "outputs": [
    {
     "name": "stdout",
     "output_type": "stream",
     "text": [
      "44.857142857142854\n",
      "7.476190476190475\n",
      "2.734262327610589\n",
      "1.0334540197243192\n"
     ]
    }
   ],
   "source": [
    "import numpy as np\n",
    "import pandas as pd\n",
    "age = [6, 8, 8, 10, 11, 12, 14]\n",
    "mean_age = np.mean(age)\n",
    "thing0 = (age[0] - mean_age)**2\n",
    "thing1 = (age[1] - mean_age)**2\n",
    "thing2 = (age[2] - mean_age)**2\n",
    "thing3 = (age[3] - mean_age)**2\n",
    "thing4 = (age[4] - mean_age)**2\n",
    "thing5 = (age[5] - mean_age)**2\n",
    "thing6 = (age[6] - mean_age)**2\n",
    "total = thing0 + thing1 + thing2 + thing3 + thing4 + thing5 + thing6\n",
    "variance = total / 6\n",
    "std = variance ** 0.5\n",
    "se = std / (7 ** 0.5)\n",
    "\n",
    "print(total)\n",
    "print(variance)\n",
    "print(std)\n",
    "print(se)"
   ]
  },
  {
   "cell_type": "code",
   "execution_count": 17,
   "metadata": {},
   "outputs": [
    {
     "data": {
      "text/plain": [
       "9.857142857142858"
      ]
     },
     "execution_count": 17,
     "metadata": {},
     "output_type": "execute_result"
    }
   ],
   "source": [
    "df = pd.DataFrame()\n",
    "df['age'] = [6, 8, 8, 10, 11, 12, 14]\n",
    "\n",
    "np.mean(df['age'])"
   ]
  },
  {
   "cell_type": "code",
   "execution_count": 18,
   "metadata": {},
   "outputs": [
    {
     "data": {
      "text/plain": [
       "10.0"
      ]
     },
     "execution_count": 18,
     "metadata": {},
     "output_type": "execute_result"
    }
   ],
   "source": [
    "np.median(df['age'])"
   ]
  },
  {
   "cell_type": "code",
   "execution_count": 20,
   "metadata": {},
   "outputs": [
    {
     "data": {
      "text/plain": [
       "8"
      ]
     },
     "execution_count": 20,
     "metadata": {},
     "output_type": "execute_result"
    }
   ],
   "source": [
    "import statistics\n",
    "statistics.mode(df['age'])"
   ]
  },
  {
   "cell_type": "code",
   "execution_count": 21,
   "metadata": {},
   "outputs": [
    {
     "data": {
      "text/plain": [
       "7.476190476190475"
      ]
     },
     "execution_count": 21,
     "metadata": {},
     "output_type": "execute_result"
    }
   ],
   "source": [
    "df['age'].var()"
   ]
  },
  {
   "cell_type": "code",
   "execution_count": 24,
   "metadata": {},
   "outputs": [
    {
     "data": {
      "text/plain": [
       "2.734262327610589"
      ]
     },
     "execution_count": 24,
     "metadata": {},
     "output_type": "execute_result"
    }
   ],
   "source": [
    "np.std(df['age'], ddof=1)"
   ]
  },
  {
   "cell_type": "code",
   "execution_count": 25,
   "metadata": {},
   "outputs": [
    {
     "data": {
      "text/plain": [
       "1.0334540197243192"
      ]
     },
     "execution_count": 25,
     "metadata": {},
     "output_type": "execute_result"
    }
   ],
   "source": [
    "np.std(df['age'] ,ddof=1) / np.sqrt(len(df['age']))"
   ]
  },
  {
   "cell_type": "markdown",
   "metadata": {},
   "source": [
    "Using these estimates, if you had to choose only one estimate of central tendency and one estimate of variance to describe the data, which would you pick and why?\n",
    "\n",
    "I would use the mean as my estimate of central tendency because there are no outliers in the data and it has more mathematical properties than the median.\n",
    "\n",
    "I would use the standard deviation as my estimate of variance.\n"
   ]
  },
  {
   "cell_type": "markdown",
   "metadata": {},
   "source": [
    "Next, Cindy has a birthday. Update your estimates- what changed, and what didn't?"
   ]
  },
  {
   "cell_type": "code",
   "execution_count": 28,
   "metadata": {},
   "outputs": [
    {
     "name": "stdout",
     "output_type": "stream",
     "text": [
      "10.0\n",
      "10.0\n",
      "8\n",
      "6.333333333333333\n",
      "2.516611478423583\n",
      "0.9511897312113418\n"
     ]
    }
   ],
   "source": [
    "df['age2'] = [7, 8, 8, 10, 11, 12, 14]\n",
    "mean = np.mean(df['age2'])\n",
    "print(mean)\n",
    "median = np.median(df['age2'])\n",
    "print(median)\n",
    "mode = statistics.mode(df['age2'])\n",
    "print(mode)\n",
    "variance = df['age2'].var()\n",
    "print(variance)\n",
    "std = np.std(df['age2'], ddof=1)\n",
    "print(std)\n",
    "se = np.std(df['age2'] ,ddof=1) / np.sqrt(len(df['age2']))\n",
    "print(se)"
   ]
  },
  {
   "cell_type": "markdown",
   "metadata": {},
   "source": [
    "The mean changed and all the estimates of variance changed.  The median and mode were unchanged."
   ]
  },
  {
   "cell_type": "markdown",
   "metadata": {},
   "source": [
    "Nobody likes Cousin Oliver. Maybe the network should have used an even younger actor. Replace Cousin Oliver with 1-year-old Jessica, then recalculate again. Does this change your choice of central tendency or variance estimation methods?"
   ]
  },
  {
   "cell_type": "code",
   "execution_count": 40,
   "metadata": {},
   "outputs": [
    {
     "name": "stdout",
     "output_type": "stream",
     "text": [
      "9.0\n",
      "10.0\n",
      "15.428571428571429\n",
      "4.242640687119285\n",
      "1.6035674514745462\n"
     ]
    }
   ],
   "source": [
    "df['age3'] = [1, 7, 8, 10, 11, 12, 14]\n",
    "mean = np.mean(df['age3'])\n",
    "print(mean)\n",
    "median = np.median(df['age3'])\n",
    "print(median)\n",
    "# mode = statistics.mode(df['age3'])\n",
    "# print(mode)\n",
    "variance = np.var(df.age3)\n",
    "print(variance)\n",
    "std = np.std(df['age3'], ddof=1)\n",
    "print(std)\n",
    "se = np.std(df['age3'] ,ddof=1) / np.sqrt(len(df['age3']))\n",
    "print(se)"
   ]
  },
  {
   "cell_type": "markdown",
   "metadata": {},
   "source": [
    "I would change my choice of central tendency to the median since the the mean is being influenced by the outlier.\n",
    "\n",
    "I would not change my variance estimate method, standard deviation is still fine."
   ]
  },
  {
   "cell_type": "markdown",
   "metadata": {},
   "source": [
    "On the 50th anniversary of The Brady Bunch, four different magazines asked their readers whether they were fans of the show. The answers were: TV Guide 20% fans Entertainment Weekly 23% fans Pop Culture Today 17% fans SciPhi Phanatic 5% fans"
   ]
  },
  {
   "cell_type": "code",
   "execution_count": 35,
   "metadata": {},
   "outputs": [
    {
     "data": {
      "text/html": [
       "<div>\n",
       "<style scoped>\n",
       "    .dataframe tbody tr th:only-of-type {\n",
       "        vertical-align: middle;\n",
       "    }\n",
       "\n",
       "    .dataframe tbody tr th {\n",
       "        vertical-align: top;\n",
       "    }\n",
       "\n",
       "    .dataframe thead th {\n",
       "        text-align: right;\n",
       "    }\n",
       "</style>\n",
       "<table border=\"1\" class=\"dataframe\">\n",
       "  <thead>\n",
       "    <tr style=\"text-align: right;\">\n",
       "      <th></th>\n",
       "      <th>fans</th>\n",
       "    </tr>\n",
       "  </thead>\n",
       "  <tbody>\n",
       "    <tr>\n",
       "      <th>count</th>\n",
       "      <td>4.000000</td>\n",
       "    </tr>\n",
       "    <tr>\n",
       "      <th>mean</th>\n",
       "      <td>16.250000</td>\n",
       "    </tr>\n",
       "    <tr>\n",
       "      <th>std</th>\n",
       "      <td>7.889867</td>\n",
       "    </tr>\n",
       "    <tr>\n",
       "      <th>min</th>\n",
       "      <td>5.000000</td>\n",
       "    </tr>\n",
       "    <tr>\n",
       "      <th>25%</th>\n",
       "      <td>14.000000</td>\n",
       "    </tr>\n",
       "    <tr>\n",
       "      <th>50%</th>\n",
       "      <td>18.500000</td>\n",
       "    </tr>\n",
       "    <tr>\n",
       "      <th>75%</th>\n",
       "      <td>20.750000</td>\n",
       "    </tr>\n",
       "    <tr>\n",
       "      <th>max</th>\n",
       "      <td>23.000000</td>\n",
       "    </tr>\n",
       "  </tbody>\n",
       "</table>\n",
       "</div>"
      ],
      "text/plain": [
       "            fans\n",
       "count   4.000000\n",
       "mean   16.250000\n",
       "std     7.889867\n",
       "min     5.000000\n",
       "25%    14.000000\n",
       "50%    18.500000\n",
       "75%    20.750000\n",
       "max    23.000000"
      ]
     },
     "execution_count": 35,
     "metadata": {},
     "output_type": "execute_result"
    }
   ],
   "source": [
    "data = pd.DataFrame()\n",
    "data['fans'] = [20, 23, 17, 5]\n",
    "data.describe()"
   ]
  },
  {
   "cell_type": "code",
   "execution_count": 36,
   "metadata": {},
   "outputs": [
    {
     "data": {
      "text/plain": [
       "18.5"
      ]
     },
     "execution_count": 36,
     "metadata": {},
     "output_type": "execute_result"
    }
   ],
   "source": [
    "np.median(data['fans'])"
   ]
  },
  {
   "cell_type": "markdown",
   "metadata": {},
   "source": [
    "18% of adult Americans are fans"
   ]
  },
  {
   "cell_type": "code",
   "execution_count": null,
   "metadata": {},
   "outputs": [],
   "source": []
  }
 ],
 "metadata": {
  "kernelspec": {
   "display_name": "Python 3",
   "language": "python",
   "name": "python3"
  },
  "language_info": {
   "codemirror_mode": {
    "name": "ipython",
    "version": 3
   },
   "file_extension": ".py",
   "mimetype": "text/x-python",
   "name": "python",
   "nbconvert_exporter": "python",
   "pygments_lexer": "ipython3",
   "version": "3.6.5"
  }
 },
 "nbformat": 4,
 "nbformat_minor": 2
}
