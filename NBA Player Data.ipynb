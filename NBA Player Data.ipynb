{
 "cells": [
  {
   "cell_type": "code",
   "execution_count": 1,
   "metadata": {},
   "outputs": [],
   "source": [
    "import numpy as np\n",
    "import pandas as pd\n",
    "import matplotlib.pyplot as plt\n",
    "%matplotlib inline"
   ]
  },
  {
   "cell_type": "code",
   "execution_count": 2,
   "metadata": {},
   "outputs": [
    {
     "name": "stdout",
     "output_type": "stream",
     "text": [
      "                     name  year_start  year_end position height  weight  \\\n",
      "0          Alaa Abdelnaby        1991      1995      F-C   6-10   240.0   \n",
      "1         Zaid Abdul-Aziz        1969      1978      C-F    6-9   235.0   \n",
      "2     Kareem Abdul-Jabbar        1970      1989        C    7-2   225.0   \n",
      "3      Mahmoud Abdul-Rauf        1991      2001        G    6-1   162.0   \n",
      "4       Tariq Abdul-Wahad        1998      2003        F    6-6   223.0   \n",
      "5     Shareef Abdur-Rahim        1997      2008        F    6-9   225.0   \n",
      "6           Tom Abernethy        1977      1981        F    6-7   220.0   \n",
      "7             Forest Able        1957      1957        G    6-3   180.0   \n",
      "8          John Abramovic        1947      1948        F    6-3   195.0   \n",
      "9            Alex Abrines        2017      2018      G-F    6-6   190.0   \n",
      "10             Alex Acker        2006      2009        G    6-5   185.0   \n",
      "11           Don Ackerman        1954      1954        G    6-0   183.0   \n",
      "12             Mark Acres        1988      1993      F-C   6-11   220.0   \n",
      "13              Bud Acton        1968      1968        F    6-6   210.0   \n",
      "14             Quincy Acy        2013      2018        F    6-7   240.0   \n",
      "15            Alvan Adams        1976      1988      C-F    6-9   210.0   \n",
      "16              Don Adams        1971      1977        F    6-6   210.0   \n",
      "17           George Adams        1973      1975      F-G    6-5   210.0   \n",
      "18           Hassan Adams        2007      2009        G    6-4   220.0   \n",
      "19           Jordan Adams        2015      2016        G    6-5   209.0   \n",
      "20          Michael Adams        1986      1996        G   5-10   162.0   \n",
      "21           Steven Adams        2014      2018        C    7-0   255.0   \n",
      "22         Rafael Addison        1987      1997      F-G    6-7   215.0   \n",
      "23            Bam Adebayo        2018      2018      C-F   6-10   243.0   \n",
      "24           Rick Adelman        1969      1975        G    6-1   175.0   \n",
      "25            Jeff Adrien        2011      2015        F    6-7   245.0   \n",
      "26          Arron Afflalo        2008      2018        G    6-5   210.0   \n",
      "27           Maurice Ager        2007      2011        G    6-5   202.0   \n",
      "28           Mark Aguirre        1982      1994      F-G    6-6   232.0   \n",
      "29           Blake Ahearn        2008      2012        G    6-2   190.0   \n",
      "...                   ...         ...       ...      ...    ...     ...   \n",
      "4520          James Young        2015      2017      G-F    6-6   215.0   \n",
      "4521            Joe Young        2016      2018        G    6-2   180.0   \n",
      "4522       Korleone Young        1999      1999        F    6-7   213.0   \n",
      "4523        Michael Young        1985      1990      F-G    6-7   220.0   \n",
      "4524           Nick Young        2008      2018      G-F    6-7   210.0   \n",
      "4525          Perry Young        1987      1987        G    6-5   210.0   \n",
      "4526            Sam Young        2010      2013        F    6-6   220.0   \n",
      "4527       Thaddeus Young        2008      2018        F    6-8   221.0   \n",
      "4528            Tim Young        2000      2000        C    7-0   220.0   \n",
      "4529              Sun Yue        2009      2009        G    6-9   205.0   \n",
      "4530        Max Zaslofsky        1947      1956      G-F    6-2   170.0   \n",
      "4531         Zeke Zawoluk        1953      1955      F-C    6-7   215.0   \n",
      "4532          Cody Zeller        2014      2018      C-F    7-0   240.0   \n",
      "4533          Dave Zeller        1962      1962        G    6-1   175.0   \n",
      "4534          Gary Zeller        1971      1972        G    6-3   205.0   \n",
      "4535         Harry Zeller        1947      1947      C-F    6-4   210.0   \n",
      "4536          Luke Zeller        2013      2013        C   6-11   245.0   \n",
      "4537         Tyler Zeller        2013      2018      F-C    7-0   253.0   \n",
      "4538            Tony Zeno        1980      1980        F    6-8   210.0   \n",
      "4539     Phil Zevenbergen        1988      1988        C   6-10   230.0   \n",
      "4540          Wang Zhizhi        2001      2005        C    7-0   255.0   \n",
      "4541         George Zidek        1996      1998        C    7-0   250.0   \n",
      "4542    Derrick Zimmerman        2006      2006        G    6-3   195.0   \n",
      "4543    Stephen Zimmerman        2017      2017        C    7-0   240.0   \n",
      "4544          Paul Zipser        2017      2018      G-F    6-8   215.0   \n",
      "4545           Ante Zizic        2018      2018      F-C   6-11   250.0   \n",
      "4546             Jim Zoet        1983      1983        C    7-1   240.0   \n",
      "4547            Bill Zopf        1971      1971        G    6-1   170.0   \n",
      "4548          Ivica Zubac        2017      2018        C    7-1   265.0   \n",
      "4549           Matt Zunic        1949      1949      G-F    6-3   195.0   \n",
      "\n",
      "             birth_date                                            college  \n",
      "0         June 24, 1968                                    Duke University  \n",
      "1         April 7, 1946                              Iowa State University  \n",
      "2        April 16, 1947              University of California, Los Angeles  \n",
      "3         March 9, 1969                         Louisiana State University  \n",
      "4      November 3, 1974                          San Jose State University  \n",
      "5     December 11, 1976                           University of California  \n",
      "6           May 6, 1954                                 Indiana University  \n",
      "7         July 27, 1932                        Western Kentucky University  \n",
      "8      February 9, 1919                     Salem International University  \n",
      "9        August 1, 1993                                                NaN  \n",
      "10     January 21, 1983                              Pepperdine University  \n",
      "11    September 4, 1930                             Long Island University  \n",
      "12    November 15, 1962                            Oral Roberts University  \n",
      "13     January 11, 1942                                  Hillsdale College  \n",
      "14      October 6, 1990                                  Baylor University  \n",
      "15        July 19, 1954                             University of Oklahoma  \n",
      "16    November 27, 1947                            Northwestern University  \n",
      "17         May 15, 1949                            Gardner-Webb University  \n",
      "18        June 20, 1984                              University of Arizona  \n",
      "19         July 8, 1994              University of California, Los Angeles  \n",
      "20     January 19, 1963                                     Boston College  \n",
      "21        July 20, 1993                           University of Pittsburgh  \n",
      "22        July 22, 1964                                Syracuse University  \n",
      "23        July 18, 1997                             University of Kentucky  \n",
      "24        June 16, 1946                        Loyola Marymount University  \n",
      "25    February 10, 1986                          University of Connecticut  \n",
      "26     October 15, 1985              University of California, Los Angeles  \n",
      "27     February 9, 1984                          Michigan State University  \n",
      "28    December 10, 1959                                  DePaul University  \n",
      "29         May 27, 1984                          Missouri State University  \n",
      "...                 ...                                                ...  \n",
      "4520    August 16, 1995                             University of Kentucky  \n",
      "4521      June 27, 1992                               University of Oregon  \n",
      "4522  December 31, 1978                                                NaN  \n",
      "4523    January 2, 1961                              University of Houston  \n",
      "4524       June 1, 1985                  University of Southern California  \n",
      "4525     August 4, 1963  Virginia Polytechnic Institute and State Unive...  \n",
      "4526       June 1, 1985                           University of Pittsburgh  \n",
      "4527      June 21, 1988                    Georgia Institute of Technology  \n",
      "4528   February 6, 1976                                Stanford University  \n",
      "4529   November 6, 1985                                                NaN  \n",
      "4530   December 7, 1925                              St. John's University  \n",
      "4531   October 13, 1930                              St. John's University  \n",
      "4532    October 5, 1992                                 Indiana University  \n",
      "4533       June 8, 1939                                   Miami University  \n",
      "4534  November 20, 1947                                   Drake University  \n",
      "4535      July 10, 1919                     Washington & Jefferson College  \n",
      "4536      April 7, 1987                           University of Notre Dame  \n",
      "4537   January 17, 1990                       University of North Carolina  \n",
      "4538    October 1, 1957                           Arizona State University  \n",
      "4539     April 13, 1964                           University of Washington  \n",
      "4540       July 8, 1977                                                NaN  \n",
      "4541     August 2, 1973              University of California, Los Angeles  \n",
      "4542   December 2, 1981                       Mississippi State University  \n",
      "4543  September 9, 1996                    University of Nevada, Las Vegas  \n",
      "4544  February 18, 1994                                                NaN  \n",
      "4545    January 4, 1997                                                NaN  \n",
      "4546  December 20, 1953                              Kent State University  \n",
      "4547       June 7, 1948                                Duquesne University  \n",
      "4548     March 18, 1997                                                NaN  \n",
      "4549  December 19, 1919                       George Washington University  \n",
      "\n",
      "[4550 rows x 8 columns]\n"
     ]
    }
   ],
   "source": [
    "df = pd.read_csv('nba_player_data/player_data.csv')\n",
    "print(df)"
   ]
  },
  {
   "cell_type": "code",
   "execution_count": 3,
   "metadata": {},
   "outputs": [
    {
     "data": {
      "image/png": "[encoded data removed]",
      "text/plain": [
       "<Figure size 432x288 with 1 Axes>"
      ]
     },
     "metadata": {},
     "output_type": "display_data"
    }
   ],
   "source": [
    "plt.scatter(x=df['year_start'], y=df['weight'])\n",
    "plt.show()"
   ]
  },
  {
   "cell_type": "code",
   "execution_count": null,
   "metadata": {},
   "outputs": [],
   "source": []
  },
  {
   "cell_type": "code",
   "execution_count": 15,
   "metadata": {},
   "outputs": [
    {
     "data": {
      "image/png": "[encoded data removed]",
      "text/plain": [
       "<Figure size 432x288 with 1 Axes>"
      ]
     },
     "metadata": {},
     "output_type": "display_data"
    }
   ],
   "source": [
    "y = df['weight'].value_counts()\n",
    "plt.boxplot(y)\n",
    "plt.show()"
   ]
  },
  {
   "cell_type": "code",
   "execution_count": null,
   "metadata": {},
   "outputs": [],
   "source": []
  }
 ],
 "metadata": {
  "kernelspec": {
   "display_name": "Python 3",
   "language": "python",
   "name": "python3"
  },
  "language_info": {
   "codemirror_mode": {
    "name": "ipython",
    "version": 3
   },
   "file_extension": ".py",
   "mimetype": "text/x-python",
   "name": "python",
   "nbconvert_exporter": "python",
   "pygments_lexer": "ipython3",
   "version": "3.6.5"
  }
 },
 "nbformat": 4,
 "nbformat_minor": 2
}
