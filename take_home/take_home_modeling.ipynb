{
 "cells": [
  {
   "cell_type": "markdown",
   "metadata": {},
   "source": [
    "## Using the data in the link below, attempt to model a customer’s propensity to join our loyalty program ##"
   ]
  },
  {
   "cell_type": "code",
   "execution_count": 86,
   "metadata": {
    "ExecuteTime": {
     "end_time": "2019-01-19T09:24:29.495747Z",
     "start_time": "2019-01-19T09:24:29.490727Z"
    }
   },
   "outputs": [],
   "source": [
    "import pandas as pd\n",
    "import numpy as np\n",
    "from sklearn import metrics\n",
    "from sklearn.model_selection import train_test_split\n",
    "from sklearn.utils import resample\n",
    "import seaborn as sns\n",
    "from sklearn.metrics import roc_auc_score\n",
    "import matplotlib.pyplot as plt\n",
    "from sklearn.linear_model import LogisticRegression\n",
    "from sklearn.metrics import confusion_matrix\n",
    "from sklearn import ensemble\n",
    "from sklearn.model_selection import cross_val_score\n",
    "import warnings\n",
    "warnings.filterwarnings('ignore')"
   ]
  },
  {
   "cell_type": "code",
   "execution_count": 87,
   "metadata": {
    "ExecuteTime": {
     "end_time": "2019-01-19T09:24:30.319727Z",
     "start_time": "2019-01-19T09:24:30.046727Z"
    }
   },
   "outputs": [
    {
     "data": {
      "text/html": [
       "<div>\n",
       "<style scoped>\n",
       "    .dataframe tbody tr th:only-of-type {\n",
       "        vertical-align: middle;\n",
       "    }\n",
       "\n",
       "    .dataframe tbody tr th {\n",
       "        vertical-align: top;\n",
       "    }\n",
       "\n",
       "    .dataframe thead th {\n",
       "        text-align: right;\n",
       "    }\n",
       "</style>\n",
       "<table border=\"1\" class=\"dataframe\">\n",
       "  <thead>\n",
       "    <tr style=\"text-align: right;\">\n",
       "      <th></th>\n",
       "      <th>purch_amt</th>\n",
       "      <th>gender</th>\n",
       "      <th>card_on_file</th>\n",
       "      <th>age</th>\n",
       "      <th>days_since_last_purch</th>\n",
       "      <th>loyalty</th>\n",
       "    </tr>\n",
       "  </thead>\n",
       "  <tbody>\n",
       "    <tr>\n",
       "      <th>0</th>\n",
       "      <td>19.58</td>\n",
       "      <td>male</td>\n",
       "      <td>no</td>\n",
       "      <td>31.0</td>\n",
       "      <td>35.0</td>\n",
       "      <td>False</td>\n",
       "    </tr>\n",
       "    <tr>\n",
       "      <th>1</th>\n",
       "      <td>65.16</td>\n",
       "      <td>male</td>\n",
       "      <td>yes</td>\n",
       "      <td>23.0</td>\n",
       "      <td>61.0</td>\n",
       "      <td>False</td>\n",
       "    </tr>\n",
       "    <tr>\n",
       "      <th>2</th>\n",
       "      <td>40.60</td>\n",
       "      <td>female</td>\n",
       "      <td>no</td>\n",
       "      <td>36.0</td>\n",
       "      <td>49.0</td>\n",
       "      <td>False</td>\n",
       "    </tr>\n",
       "    <tr>\n",
       "      <th>3</th>\n",
       "      <td>38.01</td>\n",
       "      <td>male</td>\n",
       "      <td>yes</td>\n",
       "      <td>47.0</td>\n",
       "      <td>57.0</td>\n",
       "      <td>False</td>\n",
       "    </tr>\n",
       "    <tr>\n",
       "      <th>4</th>\n",
       "      <td>22.32</td>\n",
       "      <td>female</td>\n",
       "      <td>yes</td>\n",
       "      <td>5.0</td>\n",
       "      <td>39.0</td>\n",
       "      <td>False</td>\n",
       "    </tr>\n",
       "  </tbody>\n",
       "</table>\n",
       "</div>"
      ],
      "text/plain": [
       "   purch_amt  gender card_on_file   age  days_since_last_purch  loyalty\n",
       "0      19.58    male           no  31.0                   35.0    False\n",
       "1      65.16    male          yes  23.0                   61.0    False\n",
       "2      40.60  female           no  36.0                   49.0    False\n",
       "3      38.01    male          yes  47.0                   57.0    False\n",
       "4      22.32  female          yes   5.0                   39.0    False"
      ]
     },
     "execution_count": 87,
     "metadata": {},
     "output_type": "execute_result"
    }
   ],
   "source": [
    "customer_data = pd.read_csv('customers_data.csv', index_col=0)\n",
    "customer_data = customer_data.dropna()\n",
    "customer_data.head()"
   ]
  },
  {
   "cell_type": "code",
   "execution_count": 88,
   "metadata": {
    "ExecuteTime": {
     "end_time": "2019-01-19T09:24:30.768727Z",
     "start_time": "2019-01-19T09:24:30.762727Z"
    }
   },
   "outputs": [
    {
     "data": {
      "text/plain": [
       "purch_amt                float64\n",
       "gender                    object\n",
       "card_on_file              object\n",
       "age                      float64\n",
       "days_since_last_purch    float64\n",
       "loyalty                     bool\n",
       "dtype: object"
      ]
     },
     "execution_count": 88,
     "metadata": {},
     "output_type": "execute_result"
    }
   ],
   "source": [
    "customer_data.dtypes"
   ]
  },
  {
   "cell_type": "code",
   "execution_count": 89,
   "metadata": {
    "ExecuteTime": {
     "end_time": "2019-01-19T09:24:31.340725Z",
     "start_time": "2019-01-19T09:24:31.333729Z"
    }
   },
   "outputs": [
    {
     "data": {
      "text/plain": [
       "False    100000\n",
       "True      20000\n",
       "Name: loyalty, dtype: int64"
      ]
     },
     "execution_count": 89,
     "metadata": {},
     "output_type": "execute_result"
    }
   ],
   "source": [
    "customer_data['loyalty'].value_counts()"
   ]
  },
  {
   "cell_type": "code",
   "execution_count": 90,
   "metadata": {
    "ExecuteTime": {
     "end_time": "2019-01-19T09:24:31.796728Z",
     "start_time": "2019-01-19T09:24:31.763727Z"
    }
   },
   "outputs": [
    {
     "data": {
      "text/html": [
       "<div>\n",
       "<style scoped>\n",
       "    .dataframe tbody tr th:only-of-type {\n",
       "        vertical-align: middle;\n",
       "    }\n",
       "\n",
       "    .dataframe tbody tr th {\n",
       "        vertical-align: top;\n",
       "    }\n",
       "\n",
       "    .dataframe thead th {\n",
       "        text-align: right;\n",
       "    }\n",
       "</style>\n",
       "<table border=\"1\" class=\"dataframe\">\n",
       "  <thead>\n",
       "    <tr style=\"text-align: right;\">\n",
       "      <th></th>\n",
       "      <th>purch_amt</th>\n",
       "      <th>age</th>\n",
       "      <th>days_since_last_purch</th>\n",
       "    </tr>\n",
       "  </thead>\n",
       "  <tbody>\n",
       "    <tr>\n",
       "      <th>count</th>\n",
       "      <td>120000.000000</td>\n",
       "      <td>120000.000000</td>\n",
       "      <td>120000.000000</td>\n",
       "    </tr>\n",
       "    <tr>\n",
       "      <th>mean</th>\n",
       "      <td>44.036234</td>\n",
       "      <td>25.803008</td>\n",
       "      <td>56.605908</td>\n",
       "    </tr>\n",
       "    <tr>\n",
       "      <th>std</th>\n",
       "      <td>20.473148</td>\n",
       "      <td>10.153072</td>\n",
       "      <td>16.422187</td>\n",
       "    </tr>\n",
       "    <tr>\n",
       "      <th>min</th>\n",
       "      <td>-43.950000</td>\n",
       "      <td>-22.000000</td>\n",
       "      <td>-9.000000</td>\n",
       "    </tr>\n",
       "    <tr>\n",
       "      <th>25%</th>\n",
       "      <td>30.210000</td>\n",
       "      <td>19.000000</td>\n",
       "      <td>45.000000</td>\n",
       "    </tr>\n",
       "    <tr>\n",
       "      <th>50%</th>\n",
       "      <td>43.970000</td>\n",
       "      <td>26.000000</td>\n",
       "      <td>57.000000</td>\n",
       "    </tr>\n",
       "    <tr>\n",
       "      <th>75%</th>\n",
       "      <td>57.830000</td>\n",
       "      <td>33.000000</td>\n",
       "      <td>68.000000</td>\n",
       "    </tr>\n",
       "    <tr>\n",
       "      <th>max</th>\n",
       "      <td>142.200000</td>\n",
       "      <td>71.000000</td>\n",
       "      <td>125.000000</td>\n",
       "    </tr>\n",
       "  </tbody>\n",
       "</table>\n",
       "</div>"
      ],
      "text/plain": [
       "           purch_amt            age  days_since_last_purch\n",
       "count  120000.000000  120000.000000          120000.000000\n",
       "mean       44.036234      25.803008              56.605908\n",
       "std        20.473148      10.153072              16.422187\n",
       "min       -43.950000     -22.000000              -9.000000\n",
       "25%        30.210000      19.000000              45.000000\n",
       "50%        43.970000      26.000000              57.000000\n",
       "75%        57.830000      33.000000              68.000000\n",
       "max       142.200000      71.000000             125.000000"
      ]
     },
     "execution_count": 90,
     "metadata": {},
     "output_type": "execute_result"
    }
   ],
   "source": [
    "customer_data.describe()"
   ]
  },
  {
   "cell_type": "code",
   "execution_count": 91,
   "metadata": {
    "ExecuteTime": {
     "end_time": "2019-01-19T09:24:33.666727Z",
     "start_time": "2019-01-19T09:24:32.221729Z"
    }
   },
   "outputs": [
    {
     "data": {
      "text/plain": [
       "<seaborn.axisgrid.FacetGrid at 0x25fa32e5160>"
      ]
     },
     "execution_count": 91,
     "metadata": {},
     "output_type": "execute_result"
    },
    {
     "data": {
      "image/png": "[encoded data removed]",
      "text/plain": [
       "<Figure size 790.5x360 with 2 Axes>"
      ]
     },
     "metadata": {
      "needs_background": "light"
     },
     "output_type": "display_data"
    },
    {
     "data": {
      "image/png": "[encoded data removed]",
      "text/plain": [
       "<Figure size 790.5x360 with 2 Axes>"
      ]
     },
     "metadata": {
      "needs_background": "light"
     },
     "output_type": "display_data"
    },
    {
     "data": {
      "image/png": "[encoded data removed]",
      "text/plain": [
       "<Figure size 790.5x360 with 2 Axes>"
      ]
     },
     "metadata": {
      "needs_background": "light"
     },
     "output_type": "display_data"
    }
   ],
   "source": [
    "sns.catplot(x='loyalty', y='purch_amt', hue='gender', col='card_on_file', data=customer_data, kind='box')\n",
    "sns.catplot(x='loyalty', y='age', hue='gender', col='card_on_file', data=customer_data, kind='box')\n",
    "sns.catplot(x='loyalty', y='days_since_last_purch', hue='gender', col='card_on_file', data=customer_data, kind='box')"
   ]
  },
  {
   "cell_type": "code",
   "execution_count": 92,
   "metadata": {
    "ExecuteTime": {
     "end_time": "2019-01-19T09:24:34.168727Z",
     "start_time": "2019-01-19T09:24:33.667728Z"
    }
   },
   "outputs": [
    {
     "name": "stdout",
     "output_type": "stream",
     "text": [
      "   purch_amt   age  days_since_last_purch  gender_female  gender_male  \\\n",
      "0      19.58  31.0                   35.0              0            1   \n",
      "1      65.16  23.0                   61.0              0            1   \n",
      "2      40.60  36.0                   49.0              1            0   \n",
      "3      38.01  47.0                   57.0              0            1   \n",
      "4      22.32   5.0                   39.0              1            0   \n",
      "\n",
      "   card_on_file_no  card_on_file_yes  \n",
      "0                1                 0  \n",
      "1                0                 1  \n",
      "2                1                 0  \n",
      "3                0                 1  \n",
      "4                0                 1  \n",
      "Coefficients\n",
      "[[ 0.02999692  0.04827827 -0.09995228  0.12956329  0.15551974  0.14394713\n",
      "   0.14113591]]\n",
      "\n",
      " Intercept\n",
      "[ 0.28508304]\n",
      "\n",
      " Percentage accuracy\n",
      "0.867449494949\n",
      "\n",
      " Cross Val Score\n",
      "[ 0.86706224  0.86376263  0.87234848  0.87070707  0.86336659]\n",
      "31638 1316 3933 2713\n",
      "\n",
      " Sensitivity/Recall/TPR: 0.408215467951\n",
      "\n",
      " Specificity/TNR: 0.960065545912\n",
      "\n",
      " False Positive Rate 0.0399344540875\n",
      "\n",
      " False Negative Rate 0.591784532049\n",
      "\n",
      " ROC AUC Score:\n",
      "0.684140506932\n"
     ]
    }
   ],
   "source": [
    "lr = LogisticRegression(C=0.1)\n",
    "y = customer_data['loyalty']\n",
    "x = customer_data[['purch_amt', 'gender', 'card_on_file', 'age', 'days_since_last_purch']]\n",
    "x = pd.get_dummies(x)\n",
    "print(x.head())\n",
    "\n",
    "\n",
    "x_train, x_test, y_train, y_test = train_test_split(\n",
    "    x, y, test_size=0.33, random_state=42)\n",
    "\n",
    "fit = lr.fit(x_train,y_train)\n",
    "print('Coefficients')\n",
    "print(fit.coef_)\n",
    "print('\\n Intercept')\n",
    "print(fit.intercept_)\n",
    "pred_y_sklearn = lr.predict(x_test)\n",
    "\n",
    "print('\\n Percentage accuracy')\n",
    "print(lr.score(x_test, y_test))\n",
    "print('\\n Cross Val Score')\n",
    "print(cross_val_score(lr, x_test, y_test, cv=5))\n",
    "\n",
    "TN, FP, FN, TP = confusion_matrix(y_test, pred_y_sklearn).ravel()\n",
    "print(TN, FP, FN, TP)\n",
    "sensitivity  = TP / (TP+FN)\n",
    "print('\\n Sensitivity/Recall/TPR:',sensitivity)\n",
    "specificity  = TN / (TN+FP)\n",
    "print('\\n Specificity/TNR:',specificity)\n",
    "\n",
    "fpr = FP/(TN+FP)\n",
    "print('\\n False Positive Rate', fpr)\n",
    "fnr = FN/(FN+TP)\n",
    "print('\\n False Negative Rate', fnr)\n",
    "\n",
    "print('\\n ROC AUC Score:')\n",
    "print(roc_auc_score(y_test, pred_y_sklearn))"
   ]
  },
  {
   "cell_type": "code",
   "execution_count": 93,
   "metadata": {
    "ExecuteTime": {
     "end_time": "2019-01-19T09:24:35.903727Z",
     "start_time": "2019-01-19T09:24:34.171729Z"
    }
   },
   "outputs": [
    {
     "name": "stdout",
     "output_type": "stream",
     "text": [
      "RFC Score\n",
      "0.845429292929\n",
      "\n",
      " Cross-Validation:\n",
      "[ 0.8477465   0.84734848  0.85075758  0.84684343  0.84379341]\n",
      "30941 2013 4108 2538\n",
      "\n",
      " Sensitivity/Recall/TPR: 0.381883839904\n",
      "\n",
      " Specificity/TNR: 0.938914851004\n",
      "\n",
      " False Positive Rate 0.0610851489956\n",
      "\n",
      " False Negative Rate 0.618116160096\n",
      "\n",
      "ROC AUC Score\n",
      "0.660399345454\n"
     ]
    }
   ],
   "source": [
    "y = customer_data['loyalty']\n",
    "X = customer_data[['purch_amt', 'gender', 'card_on_file', 'age', 'days_since_last_purch']]\n",
    "X = pd.get_dummies(X)\n",
    "\n",
    "X_train, X_test, y_train, y_test = train_test_split(\n",
    "    X, y, test_size=0.33, random_state=42)\n",
    "\n",
    "rfc = ensemble.RandomForestClassifier()\n",
    "rfc.fit(X_train,y_train)\n",
    "\n",
    "print('RFC Score')\n",
    "print(rfc.score(X_test,y_test))\n",
    "\n",
    "print('\\n Cross-Validation:')\n",
    "print(cross_val_score(rfc, X_test, y_test, cv=5))\n",
    "\n",
    "pred_y_sklearn = rfc.predict(X_test)\n",
    "TN, FP, FN, TP = confusion_matrix(y_test, pred_y_sklearn).ravel()\n",
    "print(TN, FP, FN, TP)\n",
    "sensitivity  = TP / (TP+FN)\n",
    "print('\\n Sensitivity/Recall/TPR:',sensitivity)\n",
    "specificity  = TN / (TN+FP)\n",
    "print('\\n Specificity/TNR:',specificity)\n",
    "\n",
    "fpr = FP/(TN+FP)\n",
    "print('\\n False Positive Rate', fpr)\n",
    "fnr = FN/(FN+TP)\n",
    "print('\\n False Negative Rate', fnr)\n",
    "\n",
    "print('\\nROC AUC Score')\n",
    "print(roc_auc_score(y_test, pred_y_sklearn))"
   ]
  },
  {
   "cell_type": "code",
   "execution_count": 94,
   "metadata": {
    "ExecuteTime": {
     "end_time": "2019-01-19T09:24:35.919727Z",
     "start_time": "2019-01-19T09:24:35.905728Z"
    }
   },
   "outputs": [
    {
     "data": {
      "text/html": [
       "<div>\n",
       "<style scoped>\n",
       "    .dataframe tbody tr th:only-of-type {\n",
       "        vertical-align: middle;\n",
       "    }\n",
       "\n",
       "    .dataframe tbody tr th {\n",
       "        vertical-align: top;\n",
       "    }\n",
       "\n",
       "    .dataframe thead th {\n",
       "        text-align: right;\n",
       "    }\n",
       "</style>\n",
       "<table border=\"1\" class=\"dataframe\">\n",
       "  <thead>\n",
       "    <tr style=\"text-align: right;\">\n",
       "      <th></th>\n",
       "      <th>features</th>\n",
       "      <th>scores</th>\n",
       "    </tr>\n",
       "  </thead>\n",
       "  <tbody>\n",
       "    <tr>\n",
       "      <th>0</th>\n",
       "      <td>purch_amt</td>\n",
       "      <td>0.421939</td>\n",
       "    </tr>\n",
       "    <tr>\n",
       "      <th>2</th>\n",
       "      <td>days_since_last_purch</td>\n",
       "      <td>0.375577</td>\n",
       "    </tr>\n",
       "    <tr>\n",
       "      <th>1</th>\n",
       "      <td>age</td>\n",
       "      <td>0.194483</td>\n",
       "    </tr>\n",
       "    <tr>\n",
       "      <th>5</th>\n",
       "      <td>card_on_file_no</td>\n",
       "      <td>0.002284</td>\n",
       "    </tr>\n",
       "    <tr>\n",
       "      <th>6</th>\n",
       "      <td>card_on_file_yes</td>\n",
       "      <td>0.002270</td>\n",
       "    </tr>\n",
       "    <tr>\n",
       "      <th>3</th>\n",
       "      <td>gender_female</td>\n",
       "      <td>0.001727</td>\n",
       "    </tr>\n",
       "    <tr>\n",
       "      <th>4</th>\n",
       "      <td>gender_male</td>\n",
       "      <td>0.001719</td>\n",
       "    </tr>\n",
       "  </tbody>\n",
       "</table>\n",
       "</div>"
      ],
      "text/plain": [
       "                features    scores\n",
       "0              purch_amt  0.421939\n",
       "2  days_since_last_purch  0.375577\n",
       "1                    age  0.194483\n",
       "5        card_on_file_no  0.002284\n",
       "6       card_on_file_yes  0.002270\n",
       "3          gender_female  0.001727\n",
       "4            gender_male  0.001719"
      ]
     },
     "execution_count": 94,
     "metadata": {},
     "output_type": "execute_result"
    }
   ],
   "source": [
    "importance = pd.DataFrame()\n",
    "importance['features'] = X_train.columns\n",
    "importance['scores'] = rfc.feature_importances_\n",
    "\n",
    "importance.sort_values('scores', ascending=False).head(10)"
   ]
  },
  {
   "cell_type": "code",
   "execution_count": 95,
   "metadata": {
    "ExecuteTime": {
     "end_time": "2019-01-19T09:24:35.943730Z",
     "start_time": "2019-01-19T09:24:35.920727Z"
    }
   },
   "outputs": [
    {
     "data": {
      "text/plain": [
       "True     20000\n",
       "False    20000\n",
       "Name: loyalty, dtype: int64"
      ]
     },
     "execution_count": 95,
     "metadata": {},
     "output_type": "execute_result"
    }
   ],
   "source": [
    "customer_data_loyal = customer_data[customer_data.loyalty == True]\n",
    "customer_data_no_loyal = customer_data[customer_data.loyalty == False]\n",
    "\n",
    "customer_data_downsample = resample(customer_data_no_loyal,\n",
    "                                   replace=False,\n",
    "                                   n_samples=20000,\n",
    "                                   random_state=42)\n",
    "\n",
    "df_downsampled = pd.concat([customer_data_downsample, customer_data_loyal])\n",
    "\n",
    "df_downsampled.loyalty.value_counts()"
   ]
  },
  {
   "cell_type": "code",
   "execution_count": 96,
   "metadata": {
    "ExecuteTime": {
     "end_time": "2019-01-19T09:24:36.834729Z",
     "start_time": "2019-01-19T09:24:36.686726Z"
    }
   },
   "outputs": [
    {
     "name": "stdout",
     "output_type": "stream",
     "text": [
      "        purch_amt   age  days_since_last_purch  gender_female  gender_male  \\\n",
      "90828       44.07   5.0                   69.0              0            1   \n",
      "96196       57.84  27.0                   68.0              1            0   \n",
      "23841       17.16  14.0                   53.0              1            0   \n",
      "92012       44.87  30.0                   25.0              0            1   \n",
      "111586      60.15  31.0                   66.0              1            0   \n",
      "\n",
      "        card_on_file_no  card_on_file_yes  \n",
      "90828                 0                 1  \n",
      "96196                 1                 0  \n",
      "23841                 1                 0  \n",
      "92012                 1                 0  \n",
      "111586                0                 1  \n",
      "Coefficients\n",
      "[[ 0.03054487  0.04717426 -0.10396209  0.58497411  0.60286724  0.57763835\n",
      "   0.610203  ]]\n",
      "\n",
      " Intercept\n",
      "[ 1.18784135]\n",
      "\n",
      " Percentage accuracy\n",
      "0.798484848485\n",
      "\n",
      " Cross Val Score\n",
      "[ 0.7921242   0.80984848  0.7844697   0.80075758  0.80485032]\n",
      "5243 1376 1284 5297\n",
      "\n",
      " Sensitivity/Recall/TPR: 0.804892873423\n",
      "\n",
      " Specificity/TNR: 0.792113612328\n",
      "\n",
      " False Positive Rate 0.207886387672\n",
      "\n",
      " False Negative Rate 0.195107126577\n",
      "\n",
      " ROC AUC Score:\n",
      "0.798503242876\n"
     ]
    }
   ],
   "source": [
    "lr = LogisticRegression(C=0.1)\n",
    "y = df_downsampled['loyalty']\n",
    "x = df_downsampled[['purch_amt', 'gender', 'card_on_file', 'age', 'days_since_last_purch']]\n",
    "x = pd.get_dummies(x)\n",
    "print(x.head())\n",
    "\n",
    "\n",
    "x_train, x_test, y_train, y_test = train_test_split(\n",
    "    x, y, test_size=0.33, random_state=42)\n",
    "\n",
    "fit = lr.fit(x_train,y_train)\n",
    "print('Coefficients')\n",
    "print(fit.coef_)\n",
    "print('\\n Intercept')\n",
    "print(fit.intercept_)\n",
    "pred_y_sklearn = lr.predict(x_test)\n",
    "\n",
    "print('\\n Percentage accuracy')\n",
    "print(lr.score(x_test, y_test))\n",
    "print('\\n Cross Val Score')\n",
    "print(cross_val_score(lr, x_test, y_test, cv=5))\n",
    "\n",
    "TN, FP, FN, TP = confusion_matrix(y_test, pred_y_sklearn).ravel()\n",
    "print(TN, FP, FN, TP)\n",
    "sensitivity  = TP / (TP+FN)\n",
    "print('\\n Sensitivity/Recall/TPR:',sensitivity)\n",
    "specificity  = TN / (TN+FP)\n",
    "print('\\n Specificity/TNR:',specificity)\n",
    "\n",
    "fpr = FP/(TN+FP)\n",
    "print('\\n False Positive Rate', fpr)\n",
    "fnr = FN/(FN+TP)\n",
    "print('\\n False Negative Rate', fnr)\n",
    "\n",
    "print('\\n ROC AUC Score:')\n",
    "print(roc_auc_score(y_test, pred_y_sklearn))"
   ]
  },
  {
   "cell_type": "code",
   "execution_count": null,
   "metadata": {
    "ExecuteTime": {
     "end_time": "2019-01-19T09:25:34.650728Z",
     "start_time": "2019-01-19T09:25:34.628730Z"
    }
   },
   "outputs": [],
   "source": []
  }
 ],
 "metadata": {
  "kernelspec": {
   "display_name": "Python 3",
   "language": "python",
   "name": "python3"
  },
  "language_info": {
   "codemirror_mode": {
    "name": "ipython",
    "version": 3
   },
   "file_extension": ".py",
   "mimetype": "text/x-python",
   "name": "python",
   "nbconvert_exporter": "python",
   "pygments_lexer": "ipython3",
   "version": "3.7.0"
  }
 },
 "nbformat": 4,
 "nbformat_minor": 2
}
