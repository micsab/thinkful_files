{
 "cells": [
  {
   "cell_type": "code",
   "execution_count": 5,
   "metadata": {},
   "outputs": [
    {
     "name": "stdout",
     "output_type": "stream",
     "text": [
      "  Unnamed: 0 country  ad_views  items_purchased\n",
      "0     George      US        16                2\n",
      "1       John     CAN        42                1\n",
      "2     Thomas     CAN        32                0\n",
      "3      James      US        13                8\n",
      "4     Andrew     CAN        63                0\n",
      "5     Martin      US        19                5\n",
      "6    William      US        65                7\n",
      "7    Zachary      US        23                3\n",
      "8    Millard     CAN        16                0\n",
      "9   Franklin      US        77                5\n"
     ]
    }
   ],
   "source": [
    "import pandas as pd\n",
    "df = pd.read_csv('purchases.csv')\n",
    "print(df)"
   ]
  },
  {
   "cell_type": "code",
   "execution_count": 3,
   "metadata": {},
   "outputs": [],
   "source": [
    "df.columns = ['Name', 'country', 'ad_views', 'items_purchased']\n",
    "df.to_csv('my_data.csv', index=False)"
   ]
  },
  {
   "cell_type": "code",
   "execution_count": null,
   "metadata": {},
   "outputs": [],
   "source": []
  }
 ],
 "metadata": {
  "kernelspec": {
   "display_name": "Python 3",
   "language": "python",
   "name": "python3"
  },
  "language_info": {
   "codemirror_mode": {
    "name": "ipython",
    "version": 3
   },
   "file_extension": ".py",
   "mimetype": "text/x-python",
   "name": "python",
   "nbconvert_exporter": "python",
   "pygments_lexer": "ipython3",
   "version": "3.6.5"
  }
 },
 "nbformat": 4,
 "nbformat_minor": 2
}
