{
 "cells": [
  {
   "cell_type": "code",
   "execution_count": 1,
   "metadata": {},
   "outputs": [],
   "source": [
    "import pandas as pd\n",
    "import matplotlib.pyplot as plt\n",
    "import numpy as np\n",
    "import seaborn as sns\n",
    "from scipy import stats\n",
    "%matplotlib inline"
   ]
  },
  {
   "cell_type": "code",
   "execution_count": 29,
   "metadata": {},
   "outputs": [
    {
     "data": {
      "text/html": [
       "<div>\n",
       "<style scoped>\n",
       "    .dataframe tbody tr th:only-of-type {\n",
       "        vertical-align: middle;\n",
       "    }\n",
       "\n",
       "    .dataframe tbody tr th {\n",
       "        vertical-align: top;\n",
       "    }\n",
       "\n",
       "    .dataframe thead th {\n",
       "        text-align: right;\n",
       "    }\n",
       "</style>\n",
       "<table border=\"1\" class=\"dataframe\">\n",
       "  <thead>\n",
       "    <tr style=\"text-align: right;\">\n",
       "      <th></th>\n",
       "      <th>score_phrase</th>\n",
       "      <th>title</th>\n",
       "      <th>url</th>\n",
       "      <th>platform</th>\n",
       "      <th>score</th>\n",
       "      <th>genre</th>\n",
       "      <th>editors_choice</th>\n",
       "      <th>release_year</th>\n",
       "      <th>release_month</th>\n",
       "      <th>release_day</th>\n",
       "      <th>release_date</th>\n",
       "    </tr>\n",
       "  </thead>\n",
       "  <tbody>\n",
       "    <tr>\n",
       "      <th>0</th>\n",
       "      <td>Amazing</td>\n",
       "      <td>LittleBigPlanet PS Vita</td>\n",
       "      <td>/games/littlebigplanet-vita/vita-98907</td>\n",
       "      <td>PlayStation Vita</td>\n",
       "      <td>9.0</td>\n",
       "      <td>Platformer</td>\n",
       "      <td>Y</td>\n",
       "      <td>2012</td>\n",
       "      <td>9</td>\n",
       "      <td>12</td>\n",
       "      <td>2012-9-12</td>\n",
       "    </tr>\n",
       "    <tr>\n",
       "      <th>1</th>\n",
       "      <td>Amazing</td>\n",
       "      <td>LittleBigPlanet PS Vita -- Marvel Super Hero E...</td>\n",
       "      <td>/games/littlebigplanet-ps-vita-marvel-super-he...</td>\n",
       "      <td>PlayStation Vita</td>\n",
       "      <td>9.0</td>\n",
       "      <td>Platformer</td>\n",
       "      <td>Y</td>\n",
       "      <td>2012</td>\n",
       "      <td>9</td>\n",
       "      <td>12</td>\n",
       "      <td>2012-9-12</td>\n",
       "    </tr>\n",
       "    <tr>\n",
       "      <th>2</th>\n",
       "      <td>Great</td>\n",
       "      <td>Splice: Tree of Life</td>\n",
       "      <td>/games/splice/ipad-141070</td>\n",
       "      <td>iPad</td>\n",
       "      <td>8.5</td>\n",
       "      <td>Puzzle</td>\n",
       "      <td>N</td>\n",
       "      <td>2012</td>\n",
       "      <td>9</td>\n",
       "      <td>12</td>\n",
       "      <td>2012-9-12</td>\n",
       "    </tr>\n",
       "    <tr>\n",
       "      <th>3</th>\n",
       "      <td>Great</td>\n",
       "      <td>NHL 13</td>\n",
       "      <td>/games/nhl-13/xbox-360-128182</td>\n",
       "      <td>Xbox 360</td>\n",
       "      <td>8.5</td>\n",
       "      <td>Sports</td>\n",
       "      <td>N</td>\n",
       "      <td>2012</td>\n",
       "      <td>9</td>\n",
       "      <td>11</td>\n",
       "      <td>2012-9-11</td>\n",
       "    </tr>\n",
       "    <tr>\n",
       "      <th>4</th>\n",
       "      <td>Great</td>\n",
       "      <td>NHL 13</td>\n",
       "      <td>/games/nhl-13/ps3-128181</td>\n",
       "      <td>PlayStation 3</td>\n",
       "      <td>8.5</td>\n",
       "      <td>Sports</td>\n",
       "      <td>N</td>\n",
       "      <td>2012</td>\n",
       "      <td>9</td>\n",
       "      <td>11</td>\n",
       "      <td>2012-9-11</td>\n",
       "    </tr>\n",
       "  </tbody>\n",
       "</table>\n",
       "</div>"
      ],
      "text/plain": [
       "  score_phrase                                              title  \\\n",
       "0      Amazing                            LittleBigPlanet PS Vita   \n",
       "1      Amazing  LittleBigPlanet PS Vita -- Marvel Super Hero E...   \n",
       "2        Great                               Splice: Tree of Life   \n",
       "3        Great                                             NHL 13   \n",
       "4        Great                                             NHL 13   \n",
       "\n",
       "                                                 url          platform  score  \\\n",
       "0             /games/littlebigplanet-vita/vita-98907  PlayStation Vita    9.0   \n",
       "1  /games/littlebigplanet-ps-vita-marvel-super-he...  PlayStation Vita    9.0   \n",
       "2                          /games/splice/ipad-141070              iPad    8.5   \n",
       "3                      /games/nhl-13/xbox-360-128182          Xbox 360    8.5   \n",
       "4                           /games/nhl-13/ps3-128181     PlayStation 3    8.5   \n",
       "\n",
       "        genre editors_choice  release_year  release_month  release_day  \\\n",
       "0  Platformer              Y          2012              9           12   \n",
       "1  Platformer              Y          2012              9           12   \n",
       "2      Puzzle              N          2012              9           12   \n",
       "3      Sports              N          2012              9           11   \n",
       "4      Sports              N          2012              9           11   \n",
       "\n",
       "  release_date  \n",
       "0    2012-9-12  \n",
       "1    2012-9-12  \n",
       "2    2012-9-12  \n",
       "3    2012-9-11  \n",
       "4    2012-9-11  "
      ]
     },
     "execution_count": 29,
     "metadata": {},
     "output_type": "execute_result"
    }
   ],
   "source": [
    "ign = pd.read_csv('ign.csv')\n",
    "ign = ign.drop('Unnamed: 0', 1)\n",
    "ign = ign[ign['release_year'] > 1990]\n",
    "ign['release_date'] = ign['release_year'].astype(str)+'-'+ign['release_month'].astype(str)+'-'+ign['release_day'].astype(str)\n",
    "ign.head(5)"
   ]
  },
  {
   "cell_type": "code",
   "execution_count": 22,
   "metadata": {},
   "outputs": [
    {
     "data": {
      "text/plain": [
       "<matplotlib.axes._subplots.AxesSubplot at 0x2199bed5860>"
      ]
     },
     "execution_count": 22,
     "metadata": {},
     "output_type": "execute_result"
    },
    {
     "data": {
      "image/png": "[encoded data removed]",
      "text/plain": [
       "<Figure size 432x288 with 1 Axes>"
      ]
     },
     "metadata": {},
     "output_type": "display_data"
    }
   ],
   "source": [
    "sns.distplot(ign['score'])"
   ]
  },
  {
   "cell_type": "code",
   "execution_count": 23,
   "metadata": {},
   "outputs": [
    {
     "data": {
      "text/plain": [
       "array(['Platformer', 'Puzzle', 'Sports', 'Strategy', 'Fighting', 'RPG',\n",
       "       nan, 'Action, Adventure', 'Adventure', 'Action', 'Action, RPG',\n",
       "       'Shooter', 'Music', 'Board', 'Racing', 'Strategy, RPG',\n",
       "       'Racing, Action', 'Shooter, RPG', 'Simulation',\n",
       "       'Action, Simulation', 'Flight, Action', 'Puzzle, Action',\n",
       "       'Action, Compilation', 'Educational, Puzzle', 'Wrestling',\n",
       "       'Fighting, Action', 'Productivity', 'Sports, Simulation',\n",
       "       'Music, Action', 'Sports, Action', 'Party', 'Battle',\n",
       "       'Puzzle, Adventure', 'Puzzle, Word Game', 'Card, Battle',\n",
       "       'Simulation, Adventure', 'Compilation', 'Flight', 'Pinball',\n",
       "       'Hunting', 'Casino', 'Sports, Racing', 'Fighting, Compilation',\n",
       "       'Flight, Simulation', 'Trivia', 'Action, Platformer', 'Other',\n",
       "       'Virtual Pet', 'Music, Editor', 'Sports, Editor',\n",
       "       'Racing, Simulation', 'RPG, Editor', 'Educational, Action', 'Card',\n",
       "       'Card, RPG', 'Wrestling, Simulation', 'Fighting, Adventure',\n",
       "       'Sports, Compilation', 'RPG, Compilation', 'Flight, Racing',\n",
       "       'RPG, Simulation', 'Shooter, Platformer', 'Fighting, RPG',\n",
       "       'Card, Compilation', 'Hunting, Simulation', 'Pinball, Compilation',\n",
       "       'Racing, Shooter', 'Racing, Editor', 'Other, Action',\n",
       "       'Racing, Compilation', 'Adult, Card', 'Puzzle, Compilation',\n",
       "       'Platformer, Action', 'Educational', 'Action, Editor',\n",
       "       'Board, Compilation', 'Hunting, Action', 'Educational, Trivia',\n",
       "       'Compilation, Compilation', 'Educational, Simulation',\n",
       "       'Educational, Productivity', 'Adventure, Compilation',\n",
       "       'Educational, Card', 'Educational, Adventure',\n",
       "       'Fighting, Simulation', 'Music, Compilation',\n",
       "       'Strategy, Compilation', 'Platformer, Adventure',\n",
       "       'Other, Adventure', 'Adventure, Episodic', 'Adventure, Adult',\n",
       "       'Puzzle, RPG', 'Sports, Fighting', 'Adventure, Platformer',\n",
       "       'Action, Puzzle', 'Sports, Other', 'Compilation, RPG',\n",
       "       'Shooter, First-Person', 'Adventure, Adventure', 'Sports, Party',\n",
       "       'Sports, Baseball', 'Baseball', 'Music, RPG',\n",
       "       'Productivity, Action', 'RPG, Action', 'Adventure, RPG',\n",
       "       'Strategy, Simulation', 'Action, Strategy', 'Puzzle, Platformer',\n",
       "       'Music, Adventure', 'Sports, Golf', 'Hardware',\n",
       "       'Shooter, Adventure'], dtype=object)"
      ]
     },
     "execution_count": 23,
     "metadata": {},
     "output_type": "execute_result"
    }
   ],
   "source": [
    "ign.genre.unique()"
   ]
  },
  {
   "cell_type": "code",
   "execution_count": null,
   "metadata": {},
   "outputs": [],
   "source": [
    "sns.relplot(x='release_year', y = 'score', hue='editors_choice', kind = 'line', data=ign)"
   ]
  },
  {
   "cell_type": "code",
   "execution_count": null,
   "metadata": {},
   "outputs": [],
   "source": []
  }
 ],
 "metadata": {
  "kernelspec": {
   "display_name": "Python 3",
   "language": "python",
   "name": "python3"
  },
  "language_info": {
   "codemirror_mode": {
    "name": "ipython",
    "version": 3
   },
   "file_extension": ".py",
   "mimetype": "text/x-python",
   "name": "python",
   "nbconvert_exporter": "python",
   "pygments_lexer": "ipython3",
   "version": "3.6.5"
  }
 },
 "nbformat": 4,
 "nbformat_minor": 2
}
