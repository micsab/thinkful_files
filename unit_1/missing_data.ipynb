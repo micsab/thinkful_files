{
 "cells": [
  {
   "cell_type": "code",
   "execution_count": 1,
   "metadata": {},
   "outputs": [],
   "source": [
    "import pandas as pd"
   ]
  },
  {
   "cell_type": "code",
   "execution_count": 2,
   "metadata": {},
   "outputs": [],
   "source": [
    "# Sample data to play with and clean\n",
    "data = {\n",
    "    'age': [27, 50, 34, None, None, None],\n",
    "    'gender': ['f', 'f', 'f', 'm', 'm', None],\n",
    "    'height' : [64, None, 71, 66, 68, None],\n",
    "    'weight' : [140, None, 130, 110, 160, None],\n",
    "}\n",
    "df = pd.DataFrame(data)"
   ]
  },
  {
   "cell_type": "code",
   "execution_count": 3,
   "metadata": {},
   "outputs": [
    {
     "name": "stdout",
     "output_type": "stream",
     "text": [
      "    age gender  height  weight\n",
      "0  27.0      f    64.0   140.0\n",
      "1  50.0      f     NaN     NaN\n",
      "2  34.0      f    71.0   130.0\n",
      "3   NaN      m    66.0   110.0\n",
      "4   NaN      m    68.0   160.0\n",
      "5   NaN   None     NaN     NaN\n"
     ]
    }
   ],
   "source": [
    "# Full dataset\n",
    "print(df)"
   ]
  },
  {
   "cell_type": "code",
   "execution_count": 4,
   "metadata": {},
   "outputs": [
    {
     "name": "stdout",
     "output_type": "stream",
     "text": [
      "    age gender  height  weight\n",
      "0  27.0      f    64.0   140.0\n",
      "2  34.0      f    71.0   130.0\n"
     ]
    }
   ],
   "source": [
    "# Drop all rows that have any missing values in any column\n",
    "print(df.dropna())"
   ]
  },
  {
   "cell_type": "code",
   "execution_count": 6,
   "metadata": {},
   "outputs": [
    {
     "name": "stdout",
     "output_type": "stream",
     "text": [
      "    age gender  height  weight\n",
      "0  27.0      f    64.0   140.0\n",
      "1  50.0      f     NaN     NaN\n",
      "2  34.0      f    71.0   130.0\n",
      "3   NaN      m    66.0   110.0\n",
      "4   NaN      m    68.0   160.0\n"
     ]
    }
   ],
   "source": [
    "# Drop only rows where all values are missing\n",
    "print(df.dropna(how='all'))"
   ]
  },
  {
   "cell_type": "code",
   "execution_count": 7,
   "metadata": {},
   "outputs": [
    {
     "name": "stdout",
     "output_type": "stream",
     "text": [
      "    age gender  height  weight\n",
      "0  27.0      f    64.0   140.0\n",
      "1  50.0      f     NaN     NaN\n",
      "2  34.0      f    71.0   130.0\n",
      "3   NaN      m    66.0   110.0\n",
      "4   NaN      m    68.0   160.0\n"
     ]
    }
   ],
   "source": [
    "# Drop only rows where more than two values are missing\n",
    "print(df.dropna(thresh=2))"
   ]
  },
  {
   "cell_type": "code",
   "execution_count": 9,
   "metadata": {},
   "outputs": [
    {
     "name": "stdout",
     "output_type": "stream",
     "text": [
      "    age gender  height  weight\n",
      "0  27.0      f    64.0   140.0\n",
      "2  34.0      f    71.0   130.0\n",
      "3   NaN      m    66.0   110.0\n",
      "4   NaN      m    68.0   160.0\n"
     ]
    }
   ],
   "source": [
    "# Drop all rows that have any missing values in the 'gender' or 'height' columns\n",
    "print(df.dropna(subset=['gender', 'height']))"
   ]
  },
  {
   "cell_type": "code",
   "execution_count": 10,
   "metadata": {},
   "outputs": [
    {
     "name": "stdout",
     "output_type": "stream",
     "text": [
      "    age gender  height  weight\n",
      "0  27.0      f    64.0   140.0\n",
      "2  34.0      f    71.0   130.0\n",
      "3   NaN      m    66.0   110.0\n",
      "4   NaN      m    68.0   160.0\n"
     ]
    }
   ],
   "source": [
    "print(df.dropna(subset=['height', 'weight']))"
   ]
  },
  {
   "cell_type": "code",
   "execution_count": 12,
   "metadata": {},
   "outputs": [
    {
     "name": "stdout",
     "output_type": "stream",
     "text": [
      "    age gender  height  weight\n",
      "0  27.0      f   64.00   140.0\n",
      "1  50.0      f   67.25   135.0\n",
      "2  34.0      f   71.00   130.0\n",
      "3  37.0      m   66.00   110.0\n",
      "4  37.0      m   68.00   160.0\n",
      "5  37.0   None   67.25   135.0\n"
     ]
    }
   ],
   "source": [
    "# For each numeric column, replace the missing values with the mean for that column\n",
    "df.fillna(df.mean(), inplace=True)\n",
    "print(df)"
   ]
  },
  {
   "cell_type": "code",
   "execution_count": 13,
   "metadata": {},
   "outputs": [
    {
     "name": "stdout",
     "output_type": "stream",
     "text": [
      "    age gender  height  weight\n",
      "0  27.0      f    64.0   140.0\n",
      "1  50.0      f    68.0   160.0\n",
      "2  34.0      f    71.0   130.0\n",
      "3  34.0      m    66.0   110.0\n",
      "4  34.0      m    68.0   160.0\n",
      "5  34.0      f    68.0   160.0\n"
     ]
    }
   ],
   "source": [
    "# For each column, replace the missing values with the most common value for that\n",
    "# column. Useful for filling in missing categorical values.\n",
    "# As written, this command will fill in missing values for both numerical and\n",
    "# categorical columns.\n",
    "df = pd.DataFrame(data)\n",
    "df = df.apply(lambda x:x.fillna(x.value_counts().index[0]))\n",
    "print(df)"
   ]
  },
  {
   "cell_type": "code",
   "execution_count": 14,
   "metadata": {},
   "outputs": [
    {
     "name": "stdout",
     "output_type": "stream",
     "text": [
      "    age gender  height  weight\n",
      "0  27.0      f    64.0   140.0\n",
      "1  50.0      f     NaN     NaN\n",
      "2  34.0      f    71.0   130.0\n",
      "3   NaN      m    66.0   110.0\n",
      "4   NaN      m    68.0   160.0\n",
      "5   NaN   None     NaN     NaN\n"
     ]
    }
   ],
   "source": [
    "df = pd.DataFrame(data)\n",
    "print(df)"
   ]
  },
  {
   "cell_type": "code",
   "execution_count": 16,
   "metadata": {},
   "outputs": [
    {
     "name": "stdout",
     "output_type": "stream",
     "text": [
      "    age gender  height  weight\n",
      "0  27.0      f   64.00   140.0\n",
      "1  50.0      f   67.25   135.0\n",
      "2  34.0      f   71.00   130.0\n",
      "3  37.0      m   66.00   110.0\n",
      "4  37.0      m   68.00   160.0\n",
      "5  37.0   None   67.25   135.0\n"
     ]
    }
   ],
   "source": [
    "df.fillna(df.mean(), inplace=True)\n",
    "print(df)"
   ]
  },
  {
   "cell_type": "code",
   "execution_count": 19,
   "metadata": {},
   "outputs": [
    {
     "name": "stdout",
     "output_type": "stream",
     "text": [
      "    age gender  height  weight\n",
      "0  27.0      f    64.0   140.0\n",
      "1  50.0      f    66.0   130.0\n",
      "2  34.0      f    71.0   130.0\n",
      "3   NaN      m    66.0   110.0\n",
      "4   NaN      m    68.0   160.0\n",
      "5   NaN    NaN     NaN     NaN\n"
     ]
    }
   ],
   "source": [
    "df = pd.DataFrame(data)\n",
    "df.fillna(df.mode(), inplace=True)\n",
    "print(df)"
   ]
  },
  {
   "cell_type": "code",
   "execution_count": null,
   "metadata": {},
   "outputs": [],
   "source": []
  }
 ],
 "metadata": {
  "kernelspec": {
   "display_name": "Python 3",
   "language": "python",
   "name": "python3"
  },
  "language_info": {
   "codemirror_mode": {
    "name": "ipython",
    "version": 3
   },
   "file_extension": ".py",
   "mimetype": "text/x-python",
   "name": "python",
   "nbconvert_exporter": "python",
   "pygments_lexer": "ipython3",
   "version": "3.6.5"
  }
 },
 "nbformat": 4,
 "nbformat_minor": 2
}
