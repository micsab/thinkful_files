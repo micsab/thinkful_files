{
 "cells": [
  {
   "cell_type": "code",
   "execution_count": 13,
   "metadata": {},
   "outputs": [],
   "source": [
    "import pandas as pd"
   ]
  },
  {
   "cell_type": "code",
   "execution_count": 14,
   "metadata": {},
   "outputs": [
    {
     "data": {
      "text/html": [
       "<div>\n",
       "<style scoped>\n",
       "    .dataframe tbody tr th:only-of-type {\n",
       "        vertical-align: middle;\n",
       "    }\n",
       "\n",
       "    .dataframe tbody tr th {\n",
       "        vertical-align: top;\n",
       "    }\n",
       "\n",
       "    .dataframe thead th {\n",
       "        text-align: right;\n",
       "    }\n",
       "</style>\n",
       "<table border=\"1\" class=\"dataframe\">\n",
       "  <thead>\n",
       "    <tr style=\"text-align: right;\">\n",
       "      <th></th>\n",
       "      <th>PMID/PMCID</th>\n",
       "      <th>Publisher</th>\n",
       "      <th>Journal title</th>\n",
       "      <th>Article title</th>\n",
       "      <th>COST (£) charged to Wellcome (inc VAT when charged)</th>\n",
       "    </tr>\n",
       "  </thead>\n",
       "  <tbody>\n",
       "    <tr>\n",
       "      <th>0</th>\n",
       "      <td>NaN</td>\n",
       "      <td>CUP</td>\n",
       "      <td>Psychological Medicine</td>\n",
       "      <td>Reduced parahippocampal cortical thickness in ...</td>\n",
       "      <td>£0.00</td>\n",
       "    </tr>\n",
       "    <tr>\n",
       "      <th>1</th>\n",
       "      <td>PMC3679557</td>\n",
       "      <td>ACS</td>\n",
       "      <td>Biomacromolecules</td>\n",
       "      <td>Structural characterization of a Model Gram-ne...</td>\n",
       "      <td>£2381.04</td>\n",
       "    </tr>\n",
       "    <tr>\n",
       "      <th>2</th>\n",
       "      <td>23043264  PMC3506128</td>\n",
       "      <td>ACS</td>\n",
       "      <td>J Med Chem</td>\n",
       "      <td>Fumaroylamino-4,5-epoxymorphinans and related ...</td>\n",
       "      <td>£642.56</td>\n",
       "    </tr>\n",
       "    <tr>\n",
       "      <th>3</th>\n",
       "      <td>23438330 PMC3646402</td>\n",
       "      <td>ACS</td>\n",
       "      <td>J Med Chem</td>\n",
       "      <td>Orvinols with mixed kappa/mu opioid receptor a...</td>\n",
       "      <td>£669.64</td>\n",
       "    </tr>\n",
       "    <tr>\n",
       "      <th>4</th>\n",
       "      <td>23438216 PMC3601604</td>\n",
       "      <td>ACS</td>\n",
       "      <td>J Org Chem</td>\n",
       "      <td>Regioselective opening of myo-inositol orthoes...</td>\n",
       "      <td>£685.88</td>\n",
       "    </tr>\n",
       "  </tbody>\n",
       "</table>\n",
       "</div>"
      ],
      "text/plain": [
       "              PMID/PMCID Publisher           Journal title  \\\n",
       "0                    NaN       CUP  Psychological Medicine   \n",
       "1             PMC3679557       ACS       Biomacromolecules   \n",
       "2  23043264  PMC3506128        ACS              J Med Chem   \n",
       "3    23438330 PMC3646402       ACS              J Med Chem   \n",
       "4   23438216 PMC3601604        ACS              J Org Chem   \n",
       "\n",
       "                                       Article title  \\\n",
       "0  Reduced parahippocampal cortical thickness in ...   \n",
       "1  Structural characterization of a Model Gram-ne...   \n",
       "2  Fumaroylamino-4,5-epoxymorphinans and related ...   \n",
       "3  Orvinols with mixed kappa/mu opioid receptor a...   \n",
       "4  Regioselective opening of myo-inositol orthoes...   \n",
       "\n",
       "  COST (£) charged to Wellcome (inc VAT when charged)  \n",
       "0                                              £0.00   \n",
       "1                                           £2381.04   \n",
       "2                                            £642.56   \n",
       "3                                            £669.64   \n",
       "4                                            £685.88   "
      ]
     },
     "execution_count": 14,
     "metadata": {},
     "output_type": "execute_result"
    }
   ],
   "source": [
    "drill = pd.read_csv('WELLCOME/apc_2013.csv', encoding = 'ISO-8859-1')\n",
    "drill.head(5)"
   ]
  },
  {
   "cell_type": "code",
   "execution_count": 15,
   "metadata": {},
   "outputs": [
    {
     "data": {
      "text/html": [
       "<div>\n",
       "<style scoped>\n",
       "    .dataframe tbody tr th:only-of-type {\n",
       "        vertical-align: middle;\n",
       "    }\n",
       "\n",
       "    .dataframe tbody tr th {\n",
       "        vertical-align: top;\n",
       "    }\n",
       "\n",
       "    .dataframe thead th {\n",
       "        text-align: right;\n",
       "    }\n",
       "</style>\n",
       "<table border=\"1\" class=\"dataframe\">\n",
       "  <thead>\n",
       "    <tr style=\"text-align: right;\">\n",
       "      <th></th>\n",
       "      <th>pmid_pmcid</th>\n",
       "      <th>publisher</th>\n",
       "      <th>journal_title</th>\n",
       "      <th>article_title</th>\n",
       "      <th>cost_with_vat</th>\n",
       "    </tr>\n",
       "  </thead>\n",
       "  <tbody>\n",
       "    <tr>\n",
       "      <th>0</th>\n",
       "      <td>NaN</td>\n",
       "      <td>CUP</td>\n",
       "      <td>Psychological Medicine</td>\n",
       "      <td>Reduced parahippocampal cortical thickness in ...</td>\n",
       "      <td>£0.00</td>\n",
       "    </tr>\n",
       "    <tr>\n",
       "      <th>1</th>\n",
       "      <td>PMC3679557</td>\n",
       "      <td>ACS</td>\n",
       "      <td>Biomacromolecules</td>\n",
       "      <td>Structural characterization of a Model Gram-ne...</td>\n",
       "      <td>£2381.04</td>\n",
       "    </tr>\n",
       "    <tr>\n",
       "      <th>2</th>\n",
       "      <td>23043264  PMC3506128</td>\n",
       "      <td>ACS</td>\n",
       "      <td>J Med Chem</td>\n",
       "      <td>Fumaroylamino-4,5-epoxymorphinans and related ...</td>\n",
       "      <td>£642.56</td>\n",
       "    </tr>\n",
       "    <tr>\n",
       "      <th>3</th>\n",
       "      <td>23438330 PMC3646402</td>\n",
       "      <td>ACS</td>\n",
       "      <td>J Med Chem</td>\n",
       "      <td>Orvinols with mixed kappa/mu opioid receptor a...</td>\n",
       "      <td>£669.64</td>\n",
       "    </tr>\n",
       "    <tr>\n",
       "      <th>4</th>\n",
       "      <td>23438216 PMC3601604</td>\n",
       "      <td>ACS</td>\n",
       "      <td>J Org Chem</td>\n",
       "      <td>Regioselective opening of myo-inositol orthoes...</td>\n",
       "      <td>£685.88</td>\n",
       "    </tr>\n",
       "  </tbody>\n",
       "</table>\n",
       "</div>"
      ],
      "text/plain": [
       "              pmid_pmcid publisher           journal_title  \\\n",
       "0                    NaN       CUP  Psychological Medicine   \n",
       "1             PMC3679557       ACS       Biomacromolecules   \n",
       "2  23043264  PMC3506128        ACS              J Med Chem   \n",
       "3    23438330 PMC3646402       ACS              J Med Chem   \n",
       "4   23438216 PMC3601604        ACS              J Org Chem   \n",
       "\n",
       "                                       article_title cost_with_vat  \n",
       "0  Reduced parahippocampal cortical thickness in ...         £0.00  \n",
       "1  Structural characterization of a Model Gram-ne...      £2381.04  \n",
       "2  Fumaroylamino-4,5-epoxymorphinans and related ...       £642.56  \n",
       "3  Orvinols with mixed kappa/mu opioid receptor a...       £669.64  \n",
       "4  Regioselective opening of myo-inositol orthoes...       £685.88  "
      ]
     },
     "execution_count": 15,
     "metadata": {},
     "output_type": "execute_result"
    }
   ],
   "source": [
    "drill.columns = ['pmid_pmcid', 'publisher', 'journal_title', 'article_title', 'cost_with_vat']\n",
    "drill.head(5)"
   ]
  },
  {
   "cell_type": "code",
   "execution_count": 16,
   "metadata": {},
   "outputs": [],
   "source": [
    "# Converted object to string to remove money signs and then converted to float\n",
    "drill['cost_with_vat'] = drill['cost_with_vat'].astype(str)\n",
    "drill['cost_with_vat'] = drill['cost_with_vat'].str.replace('£', '')\n",
    "drill['cost_with_vat'] = drill['cost_with_vat'].str.replace('$', '')\n",
    "drill['cost_with_vat'] = drill['cost_with_vat'].astype(float)"
   ]
  },
  {
   "cell_type": "code",
   "execution_count": 17,
   "metadata": {},
   "outputs": [
    {
     "data": {
      "text/plain": [
       "count      2127.000000\n",
       "mean      24067.339972\n",
       "std      146860.665559\n",
       "min           0.000000\n",
       "25%        1280.000000\n",
       "50%        1884.010000\n",
       "75%        2321.305000\n",
       "max      999999.000000\n",
       "Name: cost_with_vat, dtype: float64"
      ]
     },
     "execution_count": 17,
     "metadata": {},
     "output_type": "execute_result"
    }
   ],
   "source": [
    "drill['cost_with_vat'].describe()"
   ]
  },
  {
   "cell_type": "code",
   "execution_count": 22,
   "metadata": {},
   "outputs": [],
   "source": [
    "drill['journal_title'] = drill['journal_title'].astype(str)"
   ]
  },
  {
   "cell_type": "code",
   "execution_count": 23,
   "metadata": {},
   "outputs": [
    {
     "data": {
      "text/plain": [
       "0                                  Psychological Medicine\n",
       "1                                       Biomacromolecules\n",
       "2                          Journal of Medicinal Chemistry\n",
       "3                          Journal of Medicinal Chemistry\n",
       "4                                              J Org Chem\n",
       "5                          Journal of Medicinal Chemistry\n",
       "6                            Journal of Proteome Research\n",
       "7                                               Mol Pharm\n",
       "8                                    ACS Chemical Biology\n",
       "9                                    ACS Chemical Biology\n",
       "10           Journal of Chemical Information and Modeling\n",
       "11                         Journal of Medicinal Chemistry\n",
       "12                         Journal of Medicinal Chemistry\n",
       "13                                           Biochemistry\n",
       "14                         Journal of Medicinal Chemistry\n",
       "15                                       Gastroenterology\n",
       "16                        Journal of Biological Chemistry\n",
       "17                                  Journal of Immunology\n",
       "18                                  Journal of Immunology\n",
       "19                                   ACS Chemical Biology\n",
       "20                                   ACS Chemical Biology\n",
       "21                                   ACS Chemical Biology\n",
       "22                              ACS Chemical Neuroscience\n",
       "23                                               ACS NANO\n",
       "24                              American Chemical Society\n",
       "25                                   Analytical Chemistry\n",
       "26                                   Analytical Chemistry\n",
       "27                                   Analytical Chemistry\n",
       "28                                 Bioconjugate Chemistry\n",
       "29                         Journal of Medicinal Chemistry\n",
       "                              ...                        \n",
       "2097                               Molecular Microbiology\n",
       "2098                                      Obesity Reviews\n",
       "2099                                      Obesity Reviews\n",
       "2100                               Statistics in Medicine\n",
       "2101                                           Stem Cells\n",
       "2102                                              Synapse\n",
       "2103                 The European Journal of Neuroscience\n",
       "2104                                              Traffic\n",
       "2105                                              Traffic\n",
       "2106                           Zoonoses and Public Health\n",
       "2107                  American Journal of Transplantation\n",
       "2108                                   Angew chems Int Ed\n",
       "2109                                          CHEMBIOCHEM\n",
       "2110                                          Chemmedchem\n",
       "2111                                          Chemmedchem\n",
       "2112                                          ChemMedChem\n",
       "2113                                            Protemics\n",
       "2114                     Journal of Small Animal Practice\n",
       "2115                                                 AIDS\n",
       "2116                                         AIDS Journal\n",
       "2117                                              AIDS UK\n",
       "2118                                              AIDS UK\n",
       "2119    JAIDS Journal of Acquired Immune Deficiency Sy...\n",
       "2120    Journal of Acquired Immune Deficiency Syndroms...\n",
       "2121                                      Journal of Aids\n",
       "2122                                 Circulation Research\n",
       "2123                                                 AIDS\n",
       "2124                                 Pediatr Infect Dis J\n",
       "2125                                                 AIDS\n",
       "2126      Journal of Acquired Immune Deficiency Syndromes\n",
       "Name: journal_title, Length: 2127, dtype: object"
      ]
     },
     "execution_count": 23,
     "metadata": {},
     "output_type": "execute_result"
    }
   ],
   "source": [
    "drill['journal_title'] = drill['journal_title'].str.replace('J Med Chem', 'Journal of Medicinal Chemistry')\n",
    "drill['journal_title'] = drill['journal_title'].str.replace('J Biol Chem.', 'Journal of Biological Chemistry')\n"
   ]
  },
  {
   "cell_type": "code",
   "execution_count": null,
   "metadata": {},
   "outputs": [],
   "source": []
  }
 ],
 "metadata": {
  "kernelspec": {
   "display_name": "Python 3",
   "language": "python",
   "name": "python3"
  },
  "language_info": {
   "codemirror_mode": {
    "name": "ipython",
    "version": 3
   },
   "file_extension": ".py",
   "mimetype": "text/x-python",
   "name": "python",
   "nbconvert_exporter": "python",
   "pygments_lexer": "ipython3",
   "version": "3.7.0"
  }
 },
 "nbformat": 4,
 "nbformat_minor": 2
}
