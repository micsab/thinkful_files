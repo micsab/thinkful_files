{
 "cells": [
  {
   "cell_type": "code",
   "execution_count": 1,
   "metadata": {},
   "outputs": [],
   "source": [
    "import pandas as pd"
   ]
  },
  {
   "cell_type": "code",
   "execution_count": 2,
   "metadata": {},
   "outputs": [
    {
     "name": "stdout",
     "output_type": "stream",
     "text": [
      "False\n"
     ]
    }
   ],
   "source": [
    "sample_string = 'take 5'\n",
    "print(sample_string.isdigit())"
   ]
  },
  {
   "cell_type": "code",
   "execution_count": 15,
   "metadata": {},
   "outputs": [
    {
     "name": "stdout",
     "output_type": "stream",
     "text": [
      "True\n",
      "False\n",
      "False\n",
      "True\n"
     ]
    }
   ],
   "source": [
    "# Experiment on the sample string below using the other methods listed above.\n",
    "# What does each do? When would they be useful? What hapens when you try them\n",
    "# on different slices of the sample string, like sample_string[:4]?\n",
    "print(sample_string[:4].isalpha())\n",
    "print(sample_string.isnumeric())\n",
    "print(sample_string.isspace())\n",
    "print(sample_string[5:].isalnum())"
   ]
  },
  {
   "cell_type": "code",
   "execution_count": 10,
   "metadata": {},
   "outputs": [
    {
     "name": "stdout",
     "output_type": "stream",
     "text": [
      "True\n"
     ]
    }
   ],
   "source": [
    "print(sample_string[5:].isdigit())"
   ]
  },
  {
   "cell_type": "code",
   "execution_count": 13,
   "metadata": {},
   "outputs": [
    {
     "name": "stdout",
     "output_type": "stream",
     "text": [
      "True\n"
     ]
    }
   ],
   "source": [
    "print(sample_string[4:5].isspace())"
   ]
  },
  {
   "cell_type": "code",
   "execution_count": 16,
   "metadata": {},
   "outputs": [
    {
     "ename": "AttributeError",
     "evalue": "'Series' object has no attribute 'isdigit'",
     "output_type": "error",
     "traceback": [
      "\u001b[0;31m---------------------------------------------------------------------------\u001b[0m",
      "\u001b[0;31mAttributeError\u001b[0m                            Traceback (most recent call last)",
      "\u001b[0;32m<ipython-input-16-cb38d5776c11>\u001b[0m in \u001b[0;36m<module>\u001b[0;34m()\u001b[0m\n\u001b[1;32m      3\u001b[0m \u001b[0;34m\u001b[0m\u001b[0m\n\u001b[1;32m      4\u001b[0m \u001b[0;31m# Running 'money.isdigit()' throws an error because isdigit() is a string\u001b[0m\u001b[0;34m\u001b[0m\u001b[0;34m\u001b[0m\u001b[0m\n\u001b[0;32m----> 5\u001b[0;31m \u001b[0mprint\u001b[0m\u001b[0;34m(\u001b[0m\u001b[0mmoney\u001b[0m\u001b[0;34m.\u001b[0m\u001b[0misdigit\u001b[0m\u001b[0;34m(\u001b[0m\u001b[0;34m)\u001b[0m\u001b[0;34m)\u001b[0m\u001b[0;34m\u001b[0m\u001b[0m\n\u001b[0m",
      "\u001b[0;32m/usr/local/lib/python3.7/site-packages/pandas/core/generic.py\u001b[0m in \u001b[0;36m__getattr__\u001b[0;34m(self, name)\u001b[0m\n\u001b[1;32m   4374\u001b[0m             \u001b[0;32mif\u001b[0m \u001b[0mself\u001b[0m\u001b[0;34m.\u001b[0m\u001b[0m_info_axis\u001b[0m\u001b[0;34m.\u001b[0m\u001b[0m_can_hold_identifiers_and_holds_name\u001b[0m\u001b[0;34m(\u001b[0m\u001b[0mname\u001b[0m\u001b[0;34m)\u001b[0m\u001b[0;34m:\u001b[0m\u001b[0;34m\u001b[0m\u001b[0m\n\u001b[1;32m   4375\u001b[0m                 \u001b[0;32mreturn\u001b[0m \u001b[0mself\u001b[0m\u001b[0;34m[\u001b[0m\u001b[0mname\u001b[0m\u001b[0;34m]\u001b[0m\u001b[0;34m\u001b[0m\u001b[0m\n\u001b[0;32m-> 4376\u001b[0;31m             \u001b[0;32mreturn\u001b[0m \u001b[0mobject\u001b[0m\u001b[0;34m.\u001b[0m\u001b[0m__getattribute__\u001b[0m\u001b[0;34m(\u001b[0m\u001b[0mself\u001b[0m\u001b[0;34m,\u001b[0m \u001b[0mname\u001b[0m\u001b[0;34m)\u001b[0m\u001b[0;34m\u001b[0m\u001b[0m\n\u001b[0m\u001b[1;32m   4377\u001b[0m \u001b[0;34m\u001b[0m\u001b[0m\n\u001b[1;32m   4378\u001b[0m     \u001b[0;32mdef\u001b[0m \u001b[0m__setattr__\u001b[0m\u001b[0;34m(\u001b[0m\u001b[0mself\u001b[0m\u001b[0;34m,\u001b[0m \u001b[0mname\u001b[0m\u001b[0;34m,\u001b[0m \u001b[0mvalue\u001b[0m\u001b[0;34m)\u001b[0m\u001b[0;34m:\u001b[0m\u001b[0;34m\u001b[0m\u001b[0m\n",
      "\u001b[0;31mAttributeError\u001b[0m: 'Series' object has no attribute 'isdigit'"
     ]
    }
   ],
   "source": [
    "# Create a series of dirty, annoying values\n",
    "money = pd.Series([400, 111, '$20', 57, 'Lots'])\n",
    "\n",
    "# Running 'money.isdigit()' throws an error because isdigit() is a string\n",
    "print(money.isdigit())"
   ]
  },
  {
   "cell_type": "code",
   "execution_count": 19,
   "metadata": {},
   "outputs": [
    {
     "name": "stdout",
     "output_type": "stream",
     "text": [
      "0     True\n",
      "1     True\n",
      "2    False\n",
      "3     True\n",
      "4    False\n",
      "dtype: bool\n"
     ]
    }
   ],
   "source": [
    "# Instead, let's define a new function that takes a string as an argument\n",
    "# and returns True is the string is all digits, otherwise false.\n",
    "\n",
    "def is_a_string(x):\n",
    "    # First make sure we're opering on a string, then use our string method\n",
    "    return str(x).isdigit()\n",
    "\n",
    "# Now let's apply our custom function to each element in our series\n",
    "print(money.apply(is_a_string))"
   ]
  },
  {
   "cell_type": "code",
   "execution_count": 3,
   "metadata": {},
   "outputs": [
    {
     "name": "stdout",
     "output_type": "stream",
     "text": [
      "0     True\n",
      "1     True\n",
      "2    False\n",
      "3     True\n",
      "4    False\n",
      "dtype: bool\n"
     ]
    }
   ],
   "source": [
    "# Dirty list\n",
    "money = pd.Series([400, 111, '$20', 57, 'Lots'])\n",
    "\n",
    "# Here's a lambda function that mirrors the is_a_digit function above.\n",
    "# Read this print statement carefully and compare to the previous one\n",
    "print(money.apply(lambda x: str(x).isdigit()))"
   ]
  },
  {
   "cell_type": "code",
   "execution_count": 7,
   "metadata": {},
   "outputs": [
    {
     "name": "stdout",
     "output_type": "stream",
     "text": [
      "Filtering the whole series:\n",
      "[400, 111, 57]\n",
      "\n",
      "Applying filter() to each value in the series:\n",
      "0    400\n",
      "1    111\n",
      "2     20\n",
      "3     57\n",
      "4       \n",
      "dtype: object\n"
     ]
    }
   ],
   "source": [
    "# We're using list() on the result because filter() returns an iterator\n",
    "\n",
    "print('Filtering the whole series:')\n",
    "print(list(filter(lambda x: str(x).isdigit(), money)))\n",
    "\n",
    "print('\\nApplying filter() to each value in the series:')\n",
    "print(money.apply(lambda x: ''.join(list(filter(str.isdigit, str(x))))))"
   ]
  },
  {
   "cell_type": "code",
   "execution_count": 9,
   "metadata": {},
   "outputs": [
    {
     "name": "stdout",
     "output_type": "stream",
     "text": [
      "0     MollyMalone\n",
      "1    JeffreyJones\n",
      "2      DeadParrot\n",
      "Name: 0, dtype: object \n",
      "\n",
      "0     molmal@gmail.com\n",
      "1    jefjo@hotmail.com\n",
      "2     fjords@gmail.com\n",
      "Name: 1, dtype: object\n",
      "              0                  1\n",
      "0   MollyMalone   molmal@gmail.com\n",
      "1  JeffreyJones  jefjo@hotmail.com\n",
      "2    DeadParrot   fjords@gmail.com\n"
     ]
    }
   ],
   "source": [
    "# Create a series of dirty, annoying strings.\n",
    "words = pd.Series([\n",
    "    'MollyMalone$molmal@gmail.com',\n",
    "    'JeffreyJones$jefjo@hotmail.com',\n",
    "    'DeadParrot$fjords@gmail.com'\n",
    "])\n",
    "\n",
    "# Split on '$'.  We'll use the Pandas split method.\n",
    "word_split = words.str.split('$', expand=True)\n",
    "names = word_split[0]\n",
    "emails = word_split[1]\n",
    "print(names, '\\n')\n",
    "print(emails)\n",
    "print(word_split)"
   ]
  },
  {
   "cell_type": "code",
   "execution_count": 10,
   "metadata": {},
   "outputs": [
    {
     "name": "stdout",
     "output_type": "stream",
     "text": [
      "  0       1      2\n",
      "0      olly  alone\n",
      "1    effrey   ones\n",
      "2       ead  arrot\n"
     ]
    }
   ],
   "source": [
    "# Splitting on capital letters\n",
    "# Just beacuse we can doesn't mean we should:\n",
    "print(names.str.split('[A-Z]', expand=True))"
   ]
  },
  {
   "cell_type": "code",
   "execution_count": 13,
   "metadata": {},
   "outputs": [
    {
     "name": "stdout",
     "output_type": "stream",
     "text": [
      "0      Molly\n",
      "1    Jeffrey\n",
      "2       Dead\n",
      "Name: 0, dtype: object \n",
      "\n",
      "0    Malone\n",
      "1     Jones\n",
      "2    Parrot\n",
      "Name: 0, dtype: object\n"
     ]
    }
   ],
   "source": [
    "import re\n",
    "\n",
    "# We expect the first name to follow the first capital letter\n",
    "firstname = names.apply(lambda x: re.findall('[A-Z][a-z]*', x)[0])\n",
    "\n",
    "# We expect the last name to follow the second capital letter\n",
    "lastname = names.apply(lambda x: re.findall('[A-Z][a-z]*', x)[1])\n",
    "\n",
    "print(firstname, '\\n')\n",
    "print(lastname)"
   ]
  },
  {
   "cell_type": "code",
   "execution_count": 14,
   "metadata": {},
   "outputs": [
    {
     "name": "stdout",
     "output_type": "stream",
     "text": [
      "0     molmal at gmail.com\n",
      "1    jefjo at hotmail.com\n",
      "2     fjords at gmail.com\n",
      "Name: 1, dtype: object \n",
      "\n",
      "0     molmal@gmail\n",
      "1    jefjo@hotmail\n",
      "2     fjords@gmail\n",
      "Name: 1, dtype: object\n"
     ]
    }
   ],
   "source": [
    "print(emails.str.replace('@', ' at '), '\\n')\n",
    "\n",
    "print(emails.str.replace('.com', ''))"
   ]
  },
  {
   "cell_type": "code",
   "execution_count": 17,
   "metadata": {},
   "outputs": [
    {
     "name": "stdout",
     "output_type": "stream",
     "text": [
      "0     MollyMalone\n",
      "1    JeffreyJones\n",
      "2      DeadParrot\n",
      "Name: 0, dtype: object \n",
      "\n",
      "0     mollymalone\n",
      "1    jeffreyjones\n",
      "2      deadparrot\n",
      "Name: 0, dtype: object \n",
      "\n",
      "0     MOLLYMALONE\n",
      "1    JEFFREYJONES\n",
      "2      DEADPARROT\n",
      "Name: 0, dtype: object \n",
      "\n",
      "0     Mollymalone\n",
      "1    Jeffreyjones\n",
      "2      Deadparrot\n",
      "Name: 0, dtype: object\n"
     ]
    }
   ],
   "source": [
    "print(names, '\\n')\n",
    "print(names.str.lower(), '\\n')\n",
    "print(names.str.upper(), '\\n')\n",
    "print(names.str.capitalize())"
   ]
  },
  {
   "cell_type": "code",
   "execution_count": 18,
   "metadata": {},
   "outputs": [
    {
     "data": {
      "text/plain": [
       "False"
      ]
     },
     "execution_count": 18,
     "metadata": {},
     "output_type": "execute_result"
    }
   ],
   "source": [
    "'Hello, world' == 'Hello, world '"
   ]
  },
  {
   "cell_type": "code",
   "execution_count": 19,
   "metadata": {},
   "outputs": [
    {
     "name": "stdout",
     "output_type": "stream",
     "text": [
      "   What, on earth, is going on here?    \n",
      "What, on earth, is going on here?\n"
     ]
    }
   ],
   "source": [
    "spacy = '   What, on earth, is going on here?    '\n",
    "print(spacy)\n",
    "print(spacy.strip())"
   ]
  },
  {
   "cell_type": "code",
   "execution_count": 20,
   "metadata": {},
   "outputs": [
    {
     "name": "stdout",
     "output_type": "stream",
     "text": [
      "False\n",
      "True\n"
     ]
    }
   ],
   "source": [
    "# Series of strings with annoying whitespace.\n",
    "words = pd.Series([' duck', 'duck ', ' duck ', 'goose'])\n",
    "print(words[0] == words[1])\n",
    "\n",
    "stripped = words.str.strip()\n",
    "print(stripped[0] == stripped[1])"
   ]
  },
  {
   "cell_type": "code",
   "execution_count": null,
   "metadata": {},
   "outputs": [],
   "source": []
  }
 ],
 "metadata": {
  "kernelspec": {
   "display_name": "Python 3",
   "language": "python",
   "name": "python3"
  },
  "language_info": {
   "codemirror_mode": {
    "name": "ipython",
    "version": 3
   },
   "file_extension": ".py",
   "mimetype": "text/x-python",
   "name": "python",
   "nbconvert_exporter": "python",
   "pygments_lexer": "ipython3",
   "version": "3.7.0"
  }
 },
 "nbformat": 4,
 "nbformat_minor": 2
}
