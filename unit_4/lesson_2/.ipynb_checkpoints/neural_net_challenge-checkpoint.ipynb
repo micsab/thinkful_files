{
 "cells": [
  {
   "cell_type": "code",
   "execution_count": 31,
   "metadata": {},
   "outputs": [],
   "source": [
    "import numpy as np\n",
    "import pandas as pd\n",
    "pd.set_option('display.max_columns', None)\n",
    "import matplotlib.pyplot as plt\n",
    "import seaborn as sns\n",
    "import warnings\n",
    "from sklearn.model_selection import cross_val_score\n",
    "from sklearn.ensemble import RandomForestRegressor\n",
    "from mpl_toolkits.mplot3d import Axes3D\n",
    "from sklearn.model_selection import train_test_split\n",
    "from sklearn import preprocessing\n",
    "\n",
    "warnings.filterwarnings('ignore')"
   ]
  },
  {
   "cell_type": "code",
   "execution_count": 7,
   "metadata": {},
   "outputs": [],
   "source": [
    "# Training Data\n",
    "season_stats = pd.read_csv('/Users/sabol/thinking_files/thinkful_files/unit_3/lesson_7/Seasons_Stats.csv')\n",
    "season_stats = season_stats.drop(['blanl', 'blank2', 'Unnamed: 0'], axis=1)\n",
    "season_stats = season_stats[season_stats.Tm.str.contains('TOT') == False]\n",
    "season_stats['MVP_Candidate'] = np.where(season_stats['MVPSHARES'] > 0, 'Yes', 'No')\n",
    "season_stats['Player'] = season_stats['Player'].astype(str).str.replace('*', '')\n",
    "season_stats['PPG'] = season_stats['PTS'] / season_stats['G']\n",
    "season_stats['ASTPG'] = season_stats['AST'] / season_stats['G']\n",
    "season_stats['STLPG'] = season_stats['STL'] / season_stats['G']\n",
    "season_stats['BLKPG'] = season_stats['BLK'] / season_stats['G']\n",
    "season_stats['PFPG'] = season_stats['PF'] / season_stats['G']\n",
    "season_stats['TRPG'] = season_stats['TRB'] / season_stats['G']\n",
    "season_stats['ORPG'] = season_stats['ORB'] / season_stats['G']\n",
    "season_stats['DRPG'] = season_stats['DRB'] / season_stats['G']\n",
    "season_stats['MPPG'] = season_stats['MP'] / season_stats['G']\n",
    "season_stats['TOVPG'] = season_stats['TOV'] / season_stats['G']\n",
    "season_stats = season_stats[season_stats['G'] >= 41.0]\n",
    "season_stats = season_stats[season_stats['MPPG'] >= 25.0]\n",
    "season_stats['Year'] = season_stats['Year'].astype(int)\n",
    "season_stats = season_stats.dropna()"
   ]
  },
  {
   "cell_type": "code",
   "execution_count": 93,
   "metadata": {},
   "outputs": [
    {
     "data": {
      "text/plain": [
       "MLPRegressor(activation='logistic', alpha=0.0001, batch_size='auto',\n",
       "       beta_1=0.9, beta_2=0.999, early_stopping=False, epsilon=1e-08,\n",
       "       hidden_layer_sizes=(1000, 1000, 1000), learning_rate='constant',\n",
       "       learning_rate_init=0.001, max_iter=500, momentum=0.9,\n",
       "       nesterovs_momentum=True, power_t=0.5, random_state=None,\n",
       "       shuffle=True, solver='adam', tol=0.0001, validation_fraction=0.1,\n",
       "       verbose=False, warm_start=False)"
      ]
     },
     "execution_count": 93,
     "metadata": {},
     "output_type": "execute_result"
    }
   ],
   "source": [
    "from sklearn.neural_network import MLPRegressor\n",
    "Y = season_stats['MVPSHARES']\n",
    "X = season_stats.drop(['MVPSHARES', 'MVP_Candidate', \n",
    "                       'MVP', 'Tm', 'Player', 'Decade', 'Pos'], axis=1)\n",
    "\n",
    "names_X = X.columns\n",
    "#names_Y = Y.columns\n",
    "X_scale = pd.DataFrame(preprocessing.scale(X), columns=names_X)\n",
    "Y_scale = pd.DataFrame(preprocessing.scale(Y), columns=['MVPSHARES'])\n",
    "\n",
    "X_train, X_test, Y_train, Y_test = train_test_split(\n",
    "    X_scale, Y_scale, test_size=0.33, random_state=42)\n",
    "\n",
    "mlp = MLPRegressor(hidden_layer_sizes=(1000,1000,1000), max_iter=500,\n",
    "                   activation='logistic')\n",
    "mlp.fit(X_train, Y_train)"
   ]
  },
  {
   "cell_type": "code",
   "execution_count": 94,
   "metadata": {},
   "outputs": [
    {
     "name": "stdout",
     "output_type": "stream",
     "text": [
      "[0.75052854 0.67048151 0.78241058 0.74116032 0.81797614]\n",
      "0.7984195485880519\n"
     ]
    }
   ],
   "source": [
    "print(cross_val_score(mlp, X_test, Y_test, cv=5))\n",
    "print(mlp.score(X_test,Y_test))"
   ]
  },
  {
   "cell_type": "code",
   "execution_count": 65,
   "metadata": {},
   "outputs": [
    {
     "name": "stdout",
     "output_type": "stream",
     "text": [
      "[0.60743426 0.77578868 0.64165664 0.68823957 0.7536039 ]\n",
      "0.7685666818130868\n"
     ]
    }
   ],
   "source": [
    "feat_to_use = ['WS', 'PER', 'TMWL%', 'PPG', 'BPM']\n",
    "Y = season_stats['MVPSHARES']\n",
    "X = season_stats[feat_to_use]\n",
    "X_train, X_test, Y_train, Y_test = train_test_split(\n",
    "    X, Y, test_size=0.33, random_state=42)\n",
    "\n",
    "rf = RandomForestRegressor(bootstrap = True, max_depth = 30, max_features = 'auto',\n",
    "                           min_samples_leaf = 3, min_samples_split = 2,\n",
    "                           n_estimators = 400)\n",
    "rf.fit(X_train, Y_train)\n",
    "\n",
    "print(cross_val_score(rf, X_test, Y_test, cv=5))\n",
    "print(rf.score(X_test,Y_test))"
   ]
  },
  {
   "cell_type": "code",
   "execution_count": null,
   "metadata": {},
   "outputs": [],
   "source": []
  },
  {
   "cell_type": "code",
   "execution_count": null,
   "metadata": {},
   "outputs": [],
   "source": []
  },
  {
   "cell_type": "code",
   "execution_count": 85,
   "metadata": {},
   "outputs": [
    {
     "data": {
      "text/plain": [
       "RandomForestRegressor(bootstrap=True, criterion='mse', max_depth=80,\n",
       "           max_features=3, max_leaf_nodes=None, min_impurity_decrease=0.0,\n",
       "           min_impurity_split=None, min_samples_leaf=3,\n",
       "           min_samples_split=3, min_weight_fraction_leaf=0.0,\n",
       "           n_estimators=400, n_jobs=1, oob_score=False, random_state=None,\n",
       "           verbose=0, warm_start=False)"
      ]
     },
     "execution_count": 85,
     "metadata": {},
     "output_type": "execute_result"
    }
   ],
   "source": [
    "season_2016 = season_stats[season_stats['Year'] == 2016.0]\n",
    "season_not2016 = season_stats[season_stats['Year'] != 2016.0]\n",
    "\n",
    "X = season_not2016[feat_to_use]\n",
    "y = season_not2016['MVPSHARES']\n",
    "rf = RandomForestRegressor(bootstrap = True, max_depth = 80, max_features = 3,\n",
    "                           min_samples_leaf = 3, min_samples_split = 3,\n",
    "                           n_estimators = 400)\n",
    "rf.fit(X,y)"
   ]
  },
  {
   "cell_type": "code",
   "execution_count": 86,
   "metadata": {},
   "outputs": [
    {
     "data": {
      "text/html": [
       "<div>\n",
       "<style scoped>\n",
       "    .dataframe tbody tr th:only-of-type {\n",
       "        vertical-align: middle;\n",
       "    }\n",
       "\n",
       "    .dataframe tbody tr th {\n",
       "        vertical-align: top;\n",
       "    }\n",
       "\n",
       "    .dataframe thead th {\n",
       "        text-align: right;\n",
       "    }\n",
       "</style>\n",
       "<table border=\"1\" class=\"dataframe\">\n",
       "  <thead>\n",
       "    <tr style=\"text-align: right;\">\n",
       "      <th></th>\n",
       "      <th>Player</th>\n",
       "      <th>score</th>\n",
       "      <th>Year</th>\n",
       "      <th>Share</th>\n",
       "      <th>MVP</th>\n",
       "    </tr>\n",
       "  </thead>\n",
       "  <tbody>\n",
       "    <tr>\n",
       "      <th>23633</th>\n",
       "      <td>Stephen Curry</td>\n",
       "      <td>0.928965</td>\n",
       "      <td>2016</td>\n",
       "      <td>1.000</td>\n",
       "      <td>1</td>\n",
       "    </tr>\n",
       "    <tr>\n",
       "      <th>23839</th>\n",
       "      <td>Kawhi Leonard</td>\n",
       "      <td>0.482267</td>\n",
       "      <td>2016</td>\n",
       "      <td>0.484</td>\n",
       "      <td>0</td>\n",
       "    </tr>\n",
       "    <tr>\n",
       "      <th>23781</th>\n",
       "      <td>LeBron James</td>\n",
       "      <td>0.458425</td>\n",
       "      <td>2016</td>\n",
       "      <td>0.482</td>\n",
       "      <td>0</td>\n",
       "    </tr>\n",
       "    <tr>\n",
       "      <th>24070</th>\n",
       "      <td>Russell Westbrook</td>\n",
       "      <td>0.382610</td>\n",
       "      <td>2016</td>\n",
       "      <td>0.371</td>\n",
       "      <td>0</td>\n",
       "    </tr>\n",
       "    <tr>\n",
       "      <th>23654</th>\n",
       "      <td>Kevin Durant</td>\n",
       "      <td>0.342702</td>\n",
       "      <td>2016</td>\n",
       "      <td>0.112</td>\n",
       "      <td>0</td>\n",
       "    </tr>\n",
       "  </tbody>\n",
       "</table>\n",
       "</div>"
      ],
      "text/plain": [
       "                  Player     score  Year  Share  MVP\n",
       "23633      Stephen Curry  0.928965  2016  1.000    1\n",
       "23839      Kawhi Leonard  0.482267  2016  0.484    0\n",
       "23781       LeBron James  0.458425  2016  0.482    0\n",
       "24070  Russell Westbrook  0.382610  2016  0.371    0\n",
       "23654       Kevin Durant  0.342702  2016  0.112    0"
      ]
     },
     "execution_count": 86,
     "metadata": {},
     "output_type": "execute_result"
    }
   ],
   "source": [
    "test_pred = rf.predict(season_2016[feat_to_use])\n",
    "test_results = pd.DataFrame(season_2016.Player)\n",
    "test_results['score'] = test_pred\n",
    "test_results['Year'] = season_2016['Year']\n",
    "test_results['Share'] = season_2016['MVPSHARES']\n",
    "test_results['MVP'] = season_2016['MVP']\n",
    "test_results.sort_values('score', ascending=False).head()"
   ]
  },
  {
   "cell_type": "code",
   "execution_count": 89,
   "metadata": {},
   "outputs": [
    {
     "data": {
      "text/plain": [
       "MLPRegressor(activation='logistic', alpha=0.0001, batch_size='auto',\n",
       "       beta_1=0.9, beta_2=0.999, early_stopping=False, epsilon=1e-08,\n",
       "       hidden_layer_sizes=(1000, 1000, 1000), learning_rate='constant',\n",
       "       learning_rate_init=0.001, max_iter=500, momentum=0.9,\n",
       "       nesterovs_momentum=True, power_t=0.5, random_state=None,\n",
       "       shuffle=True, solver='adam', tol=0.0001, validation_fraction=0.1,\n",
       "       verbose=False, warm_start=False)"
      ]
     },
     "execution_count": 89,
     "metadata": {},
     "output_type": "execute_result"
    }
   ],
   "source": [
    "Y = season_not2016['MVPSHARES']\n",
    "X = season_not2016.drop(['MVPSHARES', 'MVP_Candidate', \n",
    "                       'MVP', 'Tm', 'Player', 'Decade', 'Pos'], axis=1)\n",
    "\n",
    "names_X = X.columns\n",
    "#names_Y = Y.columns\n",
    "#X_scale = pd.DataFrame(preprocessing.scale(X), columns=names_X)\n",
    "#Y_scale = pd.DataFrame(preprocessing.scale(Y), columns=['MVPSHARES'])\n",
    "\n",
    "mlp = MLPRegressor(hidden_layer_sizes=(1000,1000,1000), max_iter=500,\n",
    "                   activation='logistic')\n",
    "mlp.fit(X, Y)"
   ]
  },
  {
   "cell_type": "code",
   "execution_count": 95,
   "metadata": {},
   "outputs": [
    {
     "data": {
      "text/html": [
       "<div>\n",
       "<style scoped>\n",
       "    .dataframe tbody tr th:only-of-type {\n",
       "        vertical-align: middle;\n",
       "    }\n",
       "\n",
       "    .dataframe tbody tr th {\n",
       "        vertical-align: top;\n",
       "    }\n",
       "\n",
       "    .dataframe thead th {\n",
       "        text-align: right;\n",
       "    }\n",
       "</style>\n",
       "<table border=\"1\" class=\"dataframe\">\n",
       "  <thead>\n",
       "    <tr style=\"text-align: right;\">\n",
       "      <th></th>\n",
       "      <th>Player</th>\n",
       "      <th>score</th>\n",
       "      <th>Year</th>\n",
       "      <th>Share</th>\n",
       "      <th>MVP</th>\n",
       "    </tr>\n",
       "  </thead>\n",
       "  <tbody>\n",
       "    <tr>\n",
       "      <th>23623</th>\n",
       "      <td>DeMarcus Cousins</td>\n",
       "      <td>-0.271689</td>\n",
       "      <td>2016</td>\n",
       "      <td>0.000</td>\n",
       "      <td>0</td>\n",
       "    </tr>\n",
       "    <tr>\n",
       "      <th>23635</th>\n",
       "      <td>Anthony Davis</td>\n",
       "      <td>-0.349662</td>\n",
       "      <td>2016</td>\n",
       "      <td>0.000</td>\n",
       "      <td>0</td>\n",
       "    </tr>\n",
       "    <tr>\n",
       "      <th>23654</th>\n",
       "      <td>Kevin Durant</td>\n",
       "      <td>-0.418542</td>\n",
       "      <td>2016</td>\n",
       "      <td>0.112</td>\n",
       "      <td>0</td>\n",
       "    </tr>\n",
       "    <tr>\n",
       "      <th>23523</th>\n",
       "      <td>LaMarcus Aldridge</td>\n",
       "      <td>-0.420631</td>\n",
       "      <td>2016</td>\n",
       "      <td>0.000</td>\n",
       "      <td>0</td>\n",
       "    </tr>\n",
       "    <tr>\n",
       "      <th>23927</th>\n",
       "      <td>Jahlil Okafor</td>\n",
       "      <td>-0.423851</td>\n",
       "      <td>2016</td>\n",
       "      <td>0.000</td>\n",
       "      <td>0</td>\n",
       "    </tr>\n",
       "  </tbody>\n",
       "</table>\n",
       "</div>"
      ],
      "text/plain": [
       "                  Player     score  Year  Share  MVP\n",
       "23623   DeMarcus Cousins -0.271689  2016  0.000    0\n",
       "23635      Anthony Davis -0.349662  2016  0.000    0\n",
       "23654       Kevin Durant -0.418542  2016  0.112    0\n",
       "23523  LaMarcus Aldridge -0.420631  2016  0.000    0\n",
       "23927      Jahlil Okafor -0.423851  2016  0.000    0"
      ]
     },
     "execution_count": 95,
     "metadata": {},
     "output_type": "execute_result"
    }
   ],
   "source": [
    "test_pred = mlp.predict(season_2016.drop(['MVPSHARES', 'MVP_Candidate', \n",
    "                       'MVP', 'Tm', 'Player', 'Decade', 'Pos'], axis=1))\n",
    "test_results = pd.DataFrame(season_2016.Player)\n",
    "test_results['score'] = test_pred\n",
    "test_results['Year'] = season_2016['Year']\n",
    "test_results['Share'] = season_2016['MVPSHARES']\n",
    "test_results['MVP'] = season_2016['MVP']\n",
    "test_results.sort_values('score', ascending=False).head()"
   ]
  },
  {
   "cell_type": "code",
   "execution_count": null,
   "metadata": {},
   "outputs": [],
   "source": [
    "mlp.score"
   ]
  }
 ],
 "metadata": {
  "kernelspec": {
   "display_name": "Python 3",
   "language": "python",
   "name": "python3"
  },
  "language_info": {
   "codemirror_mode": {
    "name": "ipython",
    "version": 3
   },
   "file_extension": ".py",
   "mimetype": "text/x-python",
   "name": "python",
   "nbconvert_exporter": "python",
   "pygments_lexer": "ipython3",
   "version": "3.7.0"
  }
 },
 "nbformat": 4,
 "nbformat_minor": 2
}
