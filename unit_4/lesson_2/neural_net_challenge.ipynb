{
 "cells": [
  {
   "cell_type": "code",
   "execution_count": 3,
   "metadata": {},
   "outputs": [],
   "source": [
    "import numpy as np\n",
    "import pandas as pd\n",
    "pd.set_option('display.max_columns', None)\n",
    "import matplotlib.pyplot as plt\n",
    "import seaborn as sns\n",
    "import warnings\n",
    "from sklearn.model_selection import cross_val_score\n",
    "from sklearn.ensemble import RandomForestRegressor\n",
    "from mpl_toolkits.mplot3d import Axes3D\n",
    "from sklearn.model_selection import train_test_split\n",
    "from sklearn import preprocessing\n",
    "\n",
    "warnings.filterwarnings('ignore')"
   ]
  },
  {
   "cell_type": "code",
   "execution_count": 7,
   "metadata": {},
   "outputs": [],
   "source": [
    "# Training Data\n",
    "season_stats = pd.read_csv('C:/Users/micsa/Documents/thinkful_files/unit_3/lesson_7/Seasons_Stats.csv')\n",
    "season_stats = season_stats.drop(['blanl', 'blank2', 'Unnamed: 0'], axis=1)\n",
    "season_stats = season_stats[season_stats.Tm.str.contains('TOT') == False]\n",
    "season_stats['MVP_Candidate'] = np.where(season_stats['MVPSHARES'] > 0, 'Yes', 'No')\n",
    "season_stats['Player'] = season_stats['Player'].astype(str).str.replace('*', '')\n",
    "season_stats['PPG'] = season_stats['PTS'] / season_stats['G']\n",
    "season_stats['ASTPG'] = season_stats['AST'] / season_stats['G']\n",
    "season_stats['STLPG'] = season_stats['STL'] / season_stats['G']\n",
    "season_stats['BLKPG'] = season_stats['BLK'] / season_stats['G']\n",
    "season_stats['PFPG'] = season_stats['PF'] / season_stats['G']\n",
    "season_stats['TRPG'] = season_stats['TRB'] / season_stats['G']\n",
    "season_stats['ORPG'] = season_stats['ORB'] / season_stats['G']\n",
    "season_stats['DRPG'] = season_stats['DRB'] / season_stats['G']\n",
    "season_stats['MPPG'] = season_stats['MP'] / season_stats['G']\n",
    "season_stats['TOVPG'] = season_stats['TOV'] / season_stats['G']\n",
    "season_stats = season_stats[season_stats['G'] >= 41.0]\n",
    "season_stats = season_stats[season_stats['MPPG'] >= 25.0]\n",
    "season_stats['Year'] = season_stats['Year'].astype(int)\n",
    "season_stats = season_stats.dropna()"
   ]
  },
  {
   "cell_type": "code",
   "execution_count": 9,
   "metadata": {},
   "outputs": [
    {
     "data": {
      "text/plain": [
       "MLPRegressor(activation='logistic', alpha=0.0001, batch_size='auto',\n",
       "       beta_1=0.9, beta_2=0.999, early_stopping=False, epsilon=1e-08,\n",
       "       hidden_layer_sizes=(1000, 1000, 1000), learning_rate='constant',\n",
       "       learning_rate_init=0.001, max_iter=500, momentum=0.9,\n",
       "       nesterovs_momentum=True, power_t=0.5, random_state=None,\n",
       "       shuffle=True, solver='adam', tol=0.0001, validation_fraction=0.1,\n",
       "       verbose=False, warm_start=False)"
      ]
     },
     "execution_count": 9,
     "metadata": {},
     "output_type": "execute_result"
    }
   ],
   "source": [
    "from sklearn.neural_network import MLPRegressor\n",
    "Y = season_stats['MVPSHARES']\n",
    "X = season_stats.drop(['MVPSHARES', 'MVP_Candidate', \n",
    "                       'MVP', 'Tm', 'Player', 'Decade', 'Pos'], axis=1)\n",
    "\n",
    "names_X = X.columns\n",
    "#names_Y = Y.columns\n",
    "X_scale = pd.DataFrame(preprocessing.scale(X), columns=names_X)\n",
    "Y_scale = pd.DataFrame(preprocessing.scale(Y), columns=['MVPSHARES'])\n",
    "\n",
    "X_train, X_test, Y_train, Y_test = train_test_split(\n",
    "    X_scale, Y_scale, test_size=0.33, random_state=42)\n",
    "\n",
    "mlp = MLPRegressor(hidden_layer_sizes=(1000,1000,1000), max_iter=500,\n",
    "                   activation='logistic')\n",
    "mlp.fit(X_train, Y_train)"
   ]
  },
  {
   "cell_type": "code",
   "execution_count": 10,
   "metadata": {},
   "outputs": [
    {
     "name": "stdout",
     "output_type": "stream",
     "text": [
      "0.8292369901062444\n"
     ]
    }
   ],
   "source": [
    "#print(cross_val_score(mlp, X_test, Y_test, cv=5))\n",
    "print(mlp.score(X_test,Y_test))"
   ]
  },
  {
   "cell_type": "code",
   "execution_count": 8,
   "metadata": {},
   "outputs": [
    {
     "name": "stdout",
     "output_type": "stream",
     "text": [
      "[0.598339   0.78176274 0.6494843  0.69045993 0.75891889]\n",
      "0.7694549100370768\n"
     ]
    }
   ],
   "source": [
    "feat_to_use = ['WS', 'PER', 'TMWL%', 'PPG', 'BPM']\n",
    "Y = season_stats['MVPSHARES']\n",
    "X = season_stats[feat_to_use]\n",
    "X_train, X_test, Y_train, Y_test = train_test_split(\n",
    "    X, Y, test_size=0.33, random_state=42)\n",
    "\n",
    "rf = RandomForestRegressor(bootstrap = True, max_depth = 30, max_features = 'auto',\n",
    "                           min_samples_leaf = 3, min_samples_split = 2,\n",
    "                           n_estimators = 400)\n",
    "rf.fit(X_train, Y_train)\n",
    "\n",
    "print(cross_val_score(rf, X_test, Y_test, cv=5))\n",
    "print(rf.score(X_test,Y_test))"
   ]
  },
  {
   "cell_type": "code",
   "execution_count": null,
   "metadata": {},
   "outputs": [],
   "source": []
  },
  {
   "cell_type": "code",
   "execution_count": null,
   "metadata": {},
   "outputs": [],
   "source": []
  },
  {
   "cell_type": "code",
   "execution_count": 21,
   "metadata": {},
   "outputs": [],
   "source": [
    "season_2016 = season_stats[season_stats['Year'] == 2016.0]\n",
    "#season_columns = season_2016.columns\n",
    "#season_2016_scale = pd.DataFrame(preprocessing.scale(season_2016), columns=season_columns)\n",
    "season_not2016 = season_stats[season_stats['Year'] != 2016.0]\n",
    "\n",
    "X_2016 = season_2016.drop(['MVPSHARES', 'MVP_Candidate', \n",
    "                       'MVP', 'Tm', 'Player', 'Decade', 'Pos'], axis=1)\n",
    "season_columns = X_2016.columns\n",
    "season_2016_scale = pd.DataFrame(preprocessing.scale(X_2016), columns=season_columns)\n",
    "\n",
    "\n",
    "X = season_not2016[feat_to_use]\n",
    "y = season_not2016['MVPSHARES']\n",
    "#rf = RandomForestRegressor(bootstrap = True, max_depth = 80, max_features = 3,\n",
    "                           #min_samples_leaf = 3, min_samples_split = 3,\n",
    "                           #n_estimators = 400)\n",
    "#rf.fit(X,y)"
   ]
  },
  {
   "cell_type": "code",
   "execution_count": 86,
   "metadata": {},
   "outputs": [
    {
     "data": {
      "text/html": [
       "<div>\n",
       "<style scoped>\n",
       "    .dataframe tbody tr th:only-of-type {\n",
       "        vertical-align: middle;\n",
       "    }\n",
       "\n",
       "    .dataframe tbody tr th {\n",
       "        vertical-align: top;\n",
       "    }\n",
       "\n",
       "    .dataframe thead th {\n",
       "        text-align: right;\n",
       "    }\n",
       "</style>\n",
       "<table border=\"1\" class=\"dataframe\">\n",
       "  <thead>\n",
       "    <tr style=\"text-align: right;\">\n",
       "      <th></th>\n",
       "      <th>Player</th>\n",
       "      <th>score</th>\n",
       "      <th>Year</th>\n",
       "      <th>Share</th>\n",
       "      <th>MVP</th>\n",
       "    </tr>\n",
       "  </thead>\n",
       "  <tbody>\n",
       "    <tr>\n",
       "      <th>23633</th>\n",
       "      <td>Stephen Curry</td>\n",
       "      <td>0.928965</td>\n",
       "      <td>2016</td>\n",
       "      <td>1.000</td>\n",
       "      <td>1</td>\n",
       "    </tr>\n",
       "    <tr>\n",
       "      <th>23839</th>\n",
       "      <td>Kawhi Leonard</td>\n",
       "      <td>0.482267</td>\n",
       "      <td>2016</td>\n",
       "      <td>0.484</td>\n",
       "      <td>0</td>\n",
       "    </tr>\n",
       "    <tr>\n",
       "      <th>23781</th>\n",
       "      <td>LeBron James</td>\n",
       "      <td>0.458425</td>\n",
       "      <td>2016</td>\n",
       "      <td>0.482</td>\n",
       "      <td>0</td>\n",
       "    </tr>\n",
       "    <tr>\n",
       "      <th>24070</th>\n",
       "      <td>Russell Westbrook</td>\n",
       "      <td>0.382610</td>\n",
       "      <td>2016</td>\n",
       "      <td>0.371</td>\n",
       "      <td>0</td>\n",
       "    </tr>\n",
       "    <tr>\n",
       "      <th>23654</th>\n",
       "      <td>Kevin Durant</td>\n",
       "      <td>0.342702</td>\n",
       "      <td>2016</td>\n",
       "      <td>0.112</td>\n",
       "      <td>0</td>\n",
       "    </tr>\n",
       "  </tbody>\n",
       "</table>\n",
       "</div>"
      ],
      "text/plain": [
       "                  Player     score  Year  Share  MVP\n",
       "23633      Stephen Curry  0.928965  2016  1.000    1\n",
       "23839      Kawhi Leonard  0.482267  2016  0.484    0\n",
       "23781       LeBron James  0.458425  2016  0.482    0\n",
       "24070  Russell Westbrook  0.382610  2016  0.371    0\n",
       "23654       Kevin Durant  0.342702  2016  0.112    0"
      ]
     },
     "execution_count": 86,
     "metadata": {},
     "output_type": "execute_result"
    }
   ],
   "source": [
    "test_pred = rf.predict(season_2016[feat_to_use])\n",
    "test_results = pd.DataFrame(season_2016.Player)\n",
    "test_results['score'] = test_pred\n",
    "test_results['Year'] = season_2016['Year']\n",
    "test_results['Share'] = season_2016['MVPSHARES']\n",
    "test_results['MVP'] = season_2016['MVP']\n",
    "test_results.sort_values('score', ascending=False).head()"
   ]
  },
  {
   "cell_type": "code",
   "execution_count": 17,
   "metadata": {},
   "outputs": [
    {
     "data": {
      "text/plain": [
       "MLPRegressor(activation='logistic', alpha=0.0001, batch_size='auto',\n",
       "       beta_1=0.9, beta_2=0.999, early_stopping=False, epsilon=1e-08,\n",
       "       hidden_layer_sizes=(1000, 1000, 1000), learning_rate='constant',\n",
       "       learning_rate_init=0.001, max_iter=500, momentum=0.9,\n",
       "       nesterovs_momentum=True, power_t=0.5, random_state=None,\n",
       "       shuffle=True, solver='adam', tol=0.0001, validation_fraction=0.1,\n",
       "       verbose=False, warm_start=False)"
      ]
     },
     "execution_count": 17,
     "metadata": {},
     "output_type": "execute_result"
    }
   ],
   "source": [
    "Y = season_not2016['MVPSHARES']\n",
    "X = season_not2016.drop(['MVPSHARES', 'MVP_Candidate', \n",
    "                       'MVP', 'Tm', 'Player', 'Decade', 'Pos'], axis=1)\n",
    "\n",
    "names_X = X.columns\n",
    "#names_Y = Y.columns\n",
    "X_scale = pd.DataFrame(preprocessing.scale(X), columns=names_X)\n",
    "Y = pd.DataFrame(preprocessing.scale(Y), columns=['MVPSHARES'])\n",
    "\n",
    "mlp = MLPRegressor(hidden_layer_sizes=(1000,1000,1000), max_iter=500,\n",
    "                   activation='logistic')\n",
    "mlp.fit(X_scale, Y)"
   ]
  },
  {
   "cell_type": "code",
   "execution_count": 22,
   "metadata": {},
   "outputs": [
    {
     "ename": "AttributeError",
     "evalue": "'DataFrame' object has no attribute 'Player'",
     "output_type": "error",
     "traceback": [
      "\u001b[1;31m---------------------------------------------------------------------------\u001b[0m",
      "\u001b[1;31mAttributeError\u001b[0m                            Traceback (most recent call last)",
      "\u001b[1;32m<ipython-input-22-a9314f074f74>\u001b[0m in \u001b[0;36m<module>\u001b[1;34m()\u001b[0m\n\u001b[0;32m      1\u001b[0m \u001b[0mtest_pred\u001b[0m \u001b[1;33m=\u001b[0m \u001b[0mmlp\u001b[0m\u001b[1;33m.\u001b[0m\u001b[0mpredict\u001b[0m\u001b[1;33m(\u001b[0m\u001b[0mseason_2016_scale\u001b[0m\u001b[1;33m)\u001b[0m\u001b[1;33m\u001b[0m\u001b[0m\n\u001b[1;32m----> 2\u001b[1;33m \u001b[0mtest_results\u001b[0m \u001b[1;33m=\u001b[0m \u001b[0mpd\u001b[0m\u001b[1;33m.\u001b[0m\u001b[0mDataFrame\u001b[0m\u001b[1;33m(\u001b[0m\u001b[0mseason_2016_scale\u001b[0m\u001b[1;33m.\u001b[0m\u001b[0mPlayer\u001b[0m\u001b[1;33m)\u001b[0m\u001b[1;33m\u001b[0m\u001b[0m\n\u001b[0m\u001b[0;32m      3\u001b[0m \u001b[0mtest_results\u001b[0m\u001b[1;33m[\u001b[0m\u001b[1;34m'score'\u001b[0m\u001b[1;33m]\u001b[0m \u001b[1;33m=\u001b[0m \u001b[0mtest_pred\u001b[0m\u001b[1;33m\u001b[0m\u001b[0m\n\u001b[0;32m      4\u001b[0m \u001b[0mtest_results\u001b[0m\u001b[1;33m[\u001b[0m\u001b[1;34m'Year'\u001b[0m\u001b[1;33m]\u001b[0m \u001b[1;33m=\u001b[0m \u001b[0mseason_2016_scale\u001b[0m\u001b[1;33m[\u001b[0m\u001b[1;34m'Year'\u001b[0m\u001b[1;33m]\u001b[0m\u001b[1;33m\u001b[0m\u001b[0m\n\u001b[0;32m      5\u001b[0m \u001b[0mtest_results\u001b[0m\u001b[1;33m[\u001b[0m\u001b[1;34m'Share'\u001b[0m\u001b[1;33m]\u001b[0m \u001b[1;33m=\u001b[0m \u001b[0mseason_2016_scale\u001b[0m\u001b[1;33m[\u001b[0m\u001b[1;34m'MVPSHARES'\u001b[0m\u001b[1;33m]\u001b[0m\u001b[1;33m\u001b[0m\u001b[0m\n",
      "\u001b[1;32m~\\Anaconda3\\lib\\site-packages\\pandas\\core\\generic.py\u001b[0m in \u001b[0;36m__getattr__\u001b[1;34m(self, name)\u001b[0m\n\u001b[0;32m   4374\u001b[0m             \u001b[1;32mif\u001b[0m \u001b[0mself\u001b[0m\u001b[1;33m.\u001b[0m\u001b[0m_info_axis\u001b[0m\u001b[1;33m.\u001b[0m\u001b[0m_can_hold_identifiers_and_holds_name\u001b[0m\u001b[1;33m(\u001b[0m\u001b[0mname\u001b[0m\u001b[1;33m)\u001b[0m\u001b[1;33m:\u001b[0m\u001b[1;33m\u001b[0m\u001b[0m\n\u001b[0;32m   4375\u001b[0m                 \u001b[1;32mreturn\u001b[0m \u001b[0mself\u001b[0m\u001b[1;33m[\u001b[0m\u001b[0mname\u001b[0m\u001b[1;33m]\u001b[0m\u001b[1;33m\u001b[0m\u001b[0m\n\u001b[1;32m-> 4376\u001b[1;33m             \u001b[1;32mreturn\u001b[0m \u001b[0mobject\u001b[0m\u001b[1;33m.\u001b[0m\u001b[0m__getattribute__\u001b[0m\u001b[1;33m(\u001b[0m\u001b[0mself\u001b[0m\u001b[1;33m,\u001b[0m \u001b[0mname\u001b[0m\u001b[1;33m)\u001b[0m\u001b[1;33m\u001b[0m\u001b[0m\n\u001b[0m\u001b[0;32m   4377\u001b[0m \u001b[1;33m\u001b[0m\u001b[0m\n\u001b[0;32m   4378\u001b[0m     \u001b[1;32mdef\u001b[0m \u001b[0m__setattr__\u001b[0m\u001b[1;33m(\u001b[0m\u001b[0mself\u001b[0m\u001b[1;33m,\u001b[0m \u001b[0mname\u001b[0m\u001b[1;33m,\u001b[0m \u001b[0mvalue\u001b[0m\u001b[1;33m)\u001b[0m\u001b[1;33m:\u001b[0m\u001b[1;33m\u001b[0m\u001b[0m\n",
      "\u001b[1;31mAttributeError\u001b[0m: 'DataFrame' object has no attribute 'Player'"
     ]
    }
   ],
   "source": [
    "test_pred = mlp.predict(season_2016_scale)\n",
    "test_results = pd.DataFrame(season_2016_scale.Player)\n",
    "test_results['score'] = test_pred\n",
    "test_results['Year'] = season_2016_scale['Year']\n",
    "test_results['Share'] = season_2016_scale['MVPSHARES']\n",
    "test_results['MVP'] = season_2016_scale['MVP']\n",
    "test_results.sort_values('score', ascending=False).head()"
   ]
  },
  {
   "cell_type": "code",
   "execution_count": null,
   "metadata": {},
   "outputs": [],
   "source": [
    "mlp.score"
   ]
  }
 ],
 "metadata": {
  "kernelspec": {
   "display_name": "Python 3",
   "language": "python",
   "name": "python3"
  },
  "language_info": {
   "codemirror_mode": {
    "name": "ipython",
    "version": 3
   },
   "file_extension": ".py",
   "mimetype": "text/x-python",
   "name": "python",
   "nbconvert_exporter": "python",
   "pygments_lexer": "ipython3",
   "version": "3.6.6"
  }
 },
 "nbformat": 4,
 "nbformat_minor": 2
}
