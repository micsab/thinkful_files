{
 "cells": [
  {
   "cell_type": "code",
   "execution_count": 4,
   "metadata": {},
   "outputs": [],
   "source": [
    "import numpy as np\n",
    "import pandas as pd\n",
    "import scipy\n",
    "import matplotlib.pyplot as plt\n",
    "import seaborn as sns\n",
    "from sklearn.cluster import KMeans\n",
    "from sklearn.preprocessing import normalize\n",
    "from sklearn.decomposition import PCA\n",
    "from sklearn.cluster import MiniBatchKMeans\n",
    "from sklearn.model_selection import train_test_split\n",
    "from sklearn.cluster import MeanShift, estimate_bandwidth\n",
    "%matplotlib inline"
   ]
  },
  {
   "cell_type": "code",
   "execution_count": 5,
   "metadata": {},
   "outputs": [
    {
     "data": {
      "text/html": [
       "<div>\n",
       "<style scoped>\n",
       "    .dataframe tbody tr th:only-of-type {\n",
       "        vertical-align: middle;\n",
       "    }\n",
       "\n",
       "    .dataframe tbody tr th {\n",
       "        vertical-align: top;\n",
       "    }\n",
       "\n",
       "    .dataframe thead th {\n",
       "        text-align: right;\n",
       "    }\n",
       "</style>\n",
       "<table border=\"1\" class=\"dataframe\">\n",
       "  <thead>\n",
       "    <tr style=\"text-align: right;\">\n",
       "      <th></th>\n",
       "      <th>10k</th>\n",
       "      <th>name</th>\n",
       "      <th>division</th>\n",
       "      <th>25k</th>\n",
       "      <th>gender</th>\n",
       "      <th>age</th>\n",
       "      <th>official</th>\n",
       "      <th>bib</th>\n",
       "      <th>genderdiv</th>\n",
       "      <th>ctz</th>\n",
       "      <th>...</th>\n",
       "      <th>state</th>\n",
       "      <th>30k</th>\n",
       "      <th>5k</th>\n",
       "      <th>half</th>\n",
       "      <th>20k</th>\n",
       "      <th>country</th>\n",
       "      <th>city</th>\n",
       "      <th>40k</th>\n",
       "      <th>genderbool</th>\n",
       "      <th>age_group</th>\n",
       "    </tr>\n",
       "  </thead>\n",
       "  <tbody>\n",
       "    <tr>\n",
       "      <th>0</th>\n",
       "      <td>17.37</td>\n",
       "      <td>Yamamoto, Hiroyuki</td>\n",
       "      <td>8</td>\n",
       "      <td>47.67</td>\n",
       "      <td>M</td>\n",
       "      <td>47</td>\n",
       "      <td>85.25</td>\n",
       "      <td>W1</td>\n",
       "      <td>8</td>\n",
       "      <td>NaN</td>\n",
       "      <td>...</td>\n",
       "      <td>NaN</td>\n",
       "      <td>59.18</td>\n",
       "      <td>8.02</td>\n",
       "      <td>39.72</td>\n",
       "      <td>37.65</td>\n",
       "      <td>JPN</td>\n",
       "      <td>Fukuoka</td>\n",
       "      <td>80.43</td>\n",
       "      <td>1</td>\n",
       "      <td>not_young</td>\n",
       "    </tr>\n",
       "    <tr>\n",
       "      <th>1</th>\n",
       "      <td>32.58</td>\n",
       "      <td>Jeptoo, Rita</td>\n",
       "      <td>1</td>\n",
       "      <td>82.43</td>\n",
       "      <td>F</td>\n",
       "      <td>33</td>\n",
       "      <td>138.95</td>\n",
       "      <td>F1</td>\n",
       "      <td>1</td>\n",
       "      <td>NaN</td>\n",
       "      <td>...</td>\n",
       "      <td>NaN</td>\n",
       "      <td>99.33</td>\n",
       "      <td>16.22</td>\n",
       "      <td>69.47</td>\n",
       "      <td>65.83</td>\n",
       "      <td>KEN</td>\n",
       "      <td>Eldoret</td>\n",
       "      <td>132.10</td>\n",
       "      <td>0</td>\n",
       "      <td>young</td>\n",
       "    </tr>\n",
       "    <tr>\n",
       "      <th>2</th>\n",
       "      <td>16.62</td>\n",
       "      <td>Van Dyk, Ernst F.</td>\n",
       "      <td>1</td>\n",
       "      <td>45.80</td>\n",
       "      <td>M</td>\n",
       "      <td>41</td>\n",
       "      <td>80.60</td>\n",
       "      <td>W2</td>\n",
       "      <td>1</td>\n",
       "      <td>NaN</td>\n",
       "      <td>...</td>\n",
       "      <td>NaN</td>\n",
       "      <td>56.45</td>\n",
       "      <td>7.75</td>\n",
       "      <td>38.03</td>\n",
       "      <td>36.10</td>\n",
       "      <td>RSA</td>\n",
       "      <td>Paarl</td>\n",
       "      <td>76.10</td>\n",
       "      <td>1</td>\n",
       "      <td>not_young</td>\n",
       "    </tr>\n",
       "    <tr>\n",
       "      <th>3</th>\n",
       "      <td>32.57</td>\n",
       "      <td>Dibaba, Mare</td>\n",
       "      <td>3</td>\n",
       "      <td>82.43</td>\n",
       "      <td>F</td>\n",
       "      <td>24</td>\n",
       "      <td>140.58</td>\n",
       "      <td>F2</td>\n",
       "      <td>3</td>\n",
       "      <td>NaN</td>\n",
       "      <td>...</td>\n",
       "      <td>NaN</td>\n",
       "      <td>99.33</td>\n",
       "      <td>16.20</td>\n",
       "      <td>69.47</td>\n",
       "      <td>65.83</td>\n",
       "      <td>ETH</td>\n",
       "      <td>Shoa</td>\n",
       "      <td>132.95</td>\n",
       "      <td>0</td>\n",
       "      <td>young</td>\n",
       "    </tr>\n",
       "    <tr>\n",
       "      <th>4</th>\n",
       "      <td>17.12</td>\n",
       "      <td>Hokinoue, Kota</td>\n",
       "      <td>2</td>\n",
       "      <td>46.37</td>\n",
       "      <td>M</td>\n",
       "      <td>40</td>\n",
       "      <td>81.23</td>\n",
       "      <td>W3</td>\n",
       "      <td>2</td>\n",
       "      <td>NaN</td>\n",
       "      <td>...</td>\n",
       "      <td>NaN</td>\n",
       "      <td>57.03</td>\n",
       "      <td>8.02</td>\n",
       "      <td>38.60</td>\n",
       "      <td>36.58</td>\n",
       "      <td>JPN</td>\n",
       "      <td>Nogata Fukuoka</td>\n",
       "      <td>76.72</td>\n",
       "      <td>1</td>\n",
       "      <td>not_young</td>\n",
       "    </tr>\n",
       "  </tbody>\n",
       "</table>\n",
       "<p>5 rows × 23 columns</p>\n",
       "</div>"
      ],
      "text/plain": [
       "     10k                name  division    25k gender  age  official bib  \\\n",
       "0  17.37  Yamamoto, Hiroyuki         8  47.67      M   47     85.25  W1   \n",
       "1  32.58        Jeptoo, Rita         1  82.43      F   33    138.95  F1   \n",
       "2  16.62   Van Dyk, Ernst F.         1  45.80      M   41     80.60  W2   \n",
       "3  32.57        Dibaba, Mare         3  82.43      F   24    140.58  F2   \n",
       "4  17.12      Hokinoue, Kota         2  46.37      M   40     81.23  W3   \n",
       "\n",
       "   genderdiv  ctz    ...      state    30k     5k   half    20k  country  \\\n",
       "0          8  NaN    ...        NaN  59.18   8.02  39.72  37.65      JPN   \n",
       "1          1  NaN    ...        NaN  99.33  16.22  69.47  65.83      KEN   \n",
       "2          1  NaN    ...        NaN  56.45   7.75  38.03  36.10      RSA   \n",
       "3          3  NaN    ...        NaN  99.33  16.20  69.47  65.83      ETH   \n",
       "4          2  NaN    ...        NaN  57.03   8.02  38.60  36.58      JPN   \n",
       "\n",
       "             city     40k genderbool  age_group  \n",
       "0         Fukuoka   80.43          1  not_young  \n",
       "1         Eldoret  132.10          0      young  \n",
       "2           Paarl   76.10          1  not_young  \n",
       "3            Shoa  132.95          0      young  \n",
       "4  Nogata Fukuoka   76.72          1  not_young  \n",
       "\n",
       "[5 rows x 23 columns]"
      ]
     },
     "execution_count": 5,
     "metadata": {},
     "output_type": "execute_result"
    }
   ],
   "source": [
    "df = pd.read_csv('bos_mar2014.csv', header=0)\n",
    "df['genderbool'] = np.where(df['gender'] == 'M', 1, 0)\n",
    "df['25k'] = pd.to_numeric(df['25k'], errors='coerce')\n",
    "df['10k'] = pd.to_numeric(df['10k'], errors='coerce')\n",
    "df['official'] = pd.to_numeric(df['official'], errors='coerce')\n",
    "df['35k'] = pd.to_numeric(df['35k'], errors='coerce')\n",
    "df['40k'] = pd.to_numeric(df['40k'], errors='coerce')\n",
    "df['30k'] = pd.to_numeric(df['30k'], errors='coerce')\n",
    "df['half'] = pd.to_numeric(df['half'], errors='coerce')\n",
    "df['5k'] = pd.to_numeric(df['5k'], errors='coerce')\n",
    "df['20k'] = pd.to_numeric(df['20k'], errors='coerce')\n",
    "df['age_group'] = pd.cut(df['age'], bins=3, labels = ['young', 'not_young', 'old'])\n",
    "df = df.dropna(subset=['25k', '10k', 'official', '35k', '40k',\n",
    "                      '30k', 'half', '5k', '20k'])\n",
    "df.head()"
   ]
  },
  {
   "cell_type": "code",
   "execution_count": 6,
   "metadata": {},
   "outputs": [
    {
     "data": {
      "text/html": [
       "<div>\n",
       "<style scoped>\n",
       "    .dataframe tbody tr th:only-of-type {\n",
       "        vertical-align: middle;\n",
       "    }\n",
       "\n",
       "    .dataframe tbody tr th {\n",
       "        vertical-align: top;\n",
       "    }\n",
       "\n",
       "    .dataframe thead th {\n",
       "        text-align: right;\n",
       "    }\n",
       "</style>\n",
       "<table border=\"1\" class=\"dataframe\">\n",
       "  <thead>\n",
       "    <tr style=\"text-align: right;\">\n",
       "      <th></th>\n",
       "      <th>10k</th>\n",
       "      <th>division</th>\n",
       "      <th>25k</th>\n",
       "      <th>age</th>\n",
       "      <th>official</th>\n",
       "      <th>genderdiv</th>\n",
       "      <th>35k</th>\n",
       "      <th>overall</th>\n",
       "      <th>pace</th>\n",
       "      <th>30k</th>\n",
       "      <th>5k</th>\n",
       "      <th>half</th>\n",
       "      <th>20k</th>\n",
       "      <th>40k</th>\n",
       "      <th>genderbool</th>\n",
       "    </tr>\n",
       "  </thead>\n",
       "  <tbody>\n",
       "    <tr>\n",
       "      <th>count</th>\n",
       "      <td>31649.000000</td>\n",
       "      <td>31649.000000</td>\n",
       "      <td>31649.000000</td>\n",
       "      <td>31649.000000</td>\n",
       "      <td>31649.000000</td>\n",
       "      <td>31649.000000</td>\n",
       "      <td>31649.000000</td>\n",
       "      <td>31649.000000</td>\n",
       "      <td>31649.000000</td>\n",
       "      <td>31649.000000</td>\n",
       "      <td>31649.000000</td>\n",
       "      <td>31649.000000</td>\n",
       "      <td>31649.000000</td>\n",
       "      <td>31649.000000</td>\n",
       "      <td>31649.000000</td>\n",
       "    </tr>\n",
       "    <tr>\n",
       "      <th>mean</th>\n",
       "      <td>51.629039</td>\n",
       "      <td>1922.747291</td>\n",
       "      <td>133.581175</td>\n",
       "      <td>42.385067</td>\n",
       "      <td>241.952383</td>\n",
       "      <td>8002.921988</td>\n",
       "      <td>196.033373</td>\n",
       "      <td>15833.958924</td>\n",
       "      <td>9.236463</td>\n",
       "      <td>163.894883</td>\n",
       "      <td>25.678261</td>\n",
       "      <td>111.211481</td>\n",
       "      <td>105.321404</td>\n",
       "      <td>228.189990</td>\n",
       "      <td>0.552435</td>\n",
       "    </tr>\n",
       "    <tr>\n",
       "      <th>std</th>\n",
       "      <td>8.710102</td>\n",
       "      <td>1704.843679</td>\n",
       "      <td>25.571480</td>\n",
       "      <td>11.299795</td>\n",
       "      <td>50.842552</td>\n",
       "      <td>4733.255987</td>\n",
       "      <td>40.775036</td>\n",
       "      <td>9182.223743</td>\n",
       "      <td>1.939150</td>\n",
       "      <td>32.889354</td>\n",
       "      <td>4.215381</td>\n",
       "      <td>20.306387</td>\n",
       "      <td>19.159500</td>\n",
       "      <td>48.074493</td>\n",
       "      <td>0.497251</td>\n",
       "    </tr>\n",
       "    <tr>\n",
       "      <th>min</th>\n",
       "      <td>16.620000</td>\n",
       "      <td>1.000000</td>\n",
       "      <td>45.800000</td>\n",
       "      <td>18.000000</td>\n",
       "      <td>80.600000</td>\n",
       "      <td>1.000000</td>\n",
       "      <td>67.420000</td>\n",
       "      <td>1.000000</td>\n",
       "      <td>3.080000</td>\n",
       "      <td>56.450000</td>\n",
       "      <td>7.750000</td>\n",
       "      <td>38.030000</td>\n",
       "      <td>36.100000</td>\n",
       "      <td>76.100000</td>\n",
       "      <td>0.000000</td>\n",
       "    </tr>\n",
       "    <tr>\n",
       "      <th>25%</th>\n",
       "      <td>45.370000</td>\n",
       "      <td>607.000000</td>\n",
       "      <td>115.430000</td>\n",
       "      <td>33.000000</td>\n",
       "      <td>205.300000</td>\n",
       "      <td>3940.000000</td>\n",
       "      <td>166.950000</td>\n",
       "      <td>7880.000000</td>\n",
       "      <td>7.830000</td>\n",
       "      <td>140.520000</td>\n",
       "      <td>22.620000</td>\n",
       "      <td>96.750000</td>\n",
       "      <td>91.670000</td>\n",
       "      <td>193.620000</td>\n",
       "      <td>0.000000</td>\n",
       "    </tr>\n",
       "    <tr>\n",
       "      <th>50%</th>\n",
       "      <td>50.280000</td>\n",
       "      <td>1418.000000</td>\n",
       "      <td>128.850000</td>\n",
       "      <td>42.000000</td>\n",
       "      <td>231.980000</td>\n",
       "      <td>7919.000000</td>\n",
       "      <td>187.850000</td>\n",
       "      <td>15829.000000</td>\n",
       "      <td>8.850000</td>\n",
       "      <td>157.500000</td>\n",
       "      <td>25.050000</td>\n",
       "      <td>107.680000</td>\n",
       "      <td>102.000000</td>\n",
       "      <td>218.470000</td>\n",
       "      <td>1.000000</td>\n",
       "    </tr>\n",
       "    <tr>\n",
       "      <th>75%</th>\n",
       "      <td>57.000000</td>\n",
       "      <td>2601.000000</td>\n",
       "      <td>147.700000</td>\n",
       "      <td>50.000000</td>\n",
       "      <td>272.200000</td>\n",
       "      <td>11893.000000</td>\n",
       "      <td>219.370000</td>\n",
       "      <td>23785.000000</td>\n",
       "      <td>10.380000</td>\n",
       "      <td>182.200000</td>\n",
       "      <td>28.400000</td>\n",
       "      <td>122.680000</td>\n",
       "      <td>116.150000</td>\n",
       "      <td>256.570000</td>\n",
       "      <td>1.000000</td>\n",
       "    </tr>\n",
       "    <tr>\n",
       "      <th>max</th>\n",
       "      <td>112.380000</td>\n",
       "      <td>6979.000000</td>\n",
       "      <td>289.020000</td>\n",
       "      <td>81.000000</td>\n",
       "      <td>538.880000</td>\n",
       "      <td>17575.000000</td>\n",
       "      <td>449.330000</td>\n",
       "      <td>31931.000000</td>\n",
       "      <td>20.570000</td>\n",
       "      <td>376.380000</td>\n",
       "      <td>86.950000</td>\n",
       "      <td>236.670000</td>\n",
       "      <td>224.350000</td>\n",
       "      <td>508.350000</td>\n",
       "      <td>1.000000</td>\n",
       "    </tr>\n",
       "  </tbody>\n",
       "</table>\n",
       "</div>"
      ],
      "text/plain": [
       "                10k      division           25k           age      official  \\\n",
       "count  31649.000000  31649.000000  31649.000000  31649.000000  31649.000000   \n",
       "mean      51.629039   1922.747291    133.581175     42.385067    241.952383   \n",
       "std        8.710102   1704.843679     25.571480     11.299795     50.842552   \n",
       "min       16.620000      1.000000     45.800000     18.000000     80.600000   \n",
       "25%       45.370000    607.000000    115.430000     33.000000    205.300000   \n",
       "50%       50.280000   1418.000000    128.850000     42.000000    231.980000   \n",
       "75%       57.000000   2601.000000    147.700000     50.000000    272.200000   \n",
       "max      112.380000   6979.000000    289.020000     81.000000    538.880000   \n",
       "\n",
       "          genderdiv           35k       overall          pace           30k  \\\n",
       "count  31649.000000  31649.000000  31649.000000  31649.000000  31649.000000   \n",
       "mean    8002.921988    196.033373  15833.958924      9.236463    163.894883   \n",
       "std     4733.255987     40.775036   9182.223743      1.939150     32.889354   \n",
       "min        1.000000     67.420000      1.000000      3.080000     56.450000   \n",
       "25%     3940.000000    166.950000   7880.000000      7.830000    140.520000   \n",
       "50%     7919.000000    187.850000  15829.000000      8.850000    157.500000   \n",
       "75%    11893.000000    219.370000  23785.000000     10.380000    182.200000   \n",
       "max    17575.000000    449.330000  31931.000000     20.570000    376.380000   \n",
       "\n",
       "                 5k          half           20k           40k    genderbool  \n",
       "count  31649.000000  31649.000000  31649.000000  31649.000000  31649.000000  \n",
       "mean      25.678261    111.211481    105.321404    228.189990      0.552435  \n",
       "std        4.215381     20.306387     19.159500     48.074493      0.497251  \n",
       "min        7.750000     38.030000     36.100000     76.100000      0.000000  \n",
       "25%       22.620000     96.750000     91.670000    193.620000      0.000000  \n",
       "50%       25.050000    107.680000    102.000000    218.470000      1.000000  \n",
       "75%       28.400000    122.680000    116.150000    256.570000      1.000000  \n",
       "max       86.950000    236.670000    224.350000    508.350000      1.000000  "
      ]
     },
     "execution_count": 6,
     "metadata": {},
     "output_type": "execute_result"
    }
   ],
   "source": [
    "df.describe()"
   ]
  },
  {
   "cell_type": "code",
   "execution_count": 7,
   "metadata": {},
   "outputs": [
    {
     "data": {
      "text/plain": [
       "<function matplotlib.pyplot.show(*args, **kw)>"
      ]
     },
     "execution_count": 7,
     "metadata": {},
     "output_type": "execute_result"
    },
    {
     "data": {
      "image/png": "[encoded data removed]",
      "text/plain": [
       "<Figure size 432x288 with 1 Axes>"
      ]
     },
     "metadata": {
      "needs_background": "light"
     },
     "output_type": "display_data"
    }
   ],
   "source": [
    "rows = df.shape[0] - df.shape[0] % 4\n",
    "df = df.iloc[:rows, :]\n",
    "\n",
    "X = df[['10k', '25k', '35k', '30k', '5k', '20k', '40k']]\n",
    "y = df['age_group']\n",
    "\n",
    "X_norm = normalize(X)\n",
    "pca = PCA(n_components=2)\n",
    "X_pca = pca.fit_transform(X_norm)\n",
    "pca = pd.DataFrame(X_pca)\n",
    "plt.scatter(pca[0], pca[1])\n",
    "plt.show"
   ]
  },
  {
   "cell_type": "code",
   "execution_count": 9,
   "metadata": {},
   "outputs": [
    {
     "data": {
      "image/png": "[encoded data removed]",
      "text/plain": [
       "<Figure size 432x288 with 1 Axes>"
      ]
     },
     "metadata": {
      "needs_background": "light"
     },
     "output_type": "display_data"
    }
   ],
   "source": [
    "from scipy.spatial.distance import cdist\n",
    "plt.plot()\n",
    "distortions = []\n",
    "K = range(1,10)\n",
    "for k in K:\n",
    "    kmeanModel = KMeans(n_clusters=k).fit(X_pca)\n",
    "    kmeanModel.fit(X_pca)\n",
    "    distortions.append(sum(np.min(cdist(X_pca, kmeanModel.cluster_centers_, 'euclidean'), axis=1)) / X_pca.shape[0])\n",
    "    \n",
    "plt.plot(K, distortions, 'bx-')\n",
    "plt.xlabel('k')\n",
    "plt.ylabel('Distortion')\n",
    "plt.title('The Elbow Method showing the optimal k')\n",
    "plt.show()"
   ]
  },
  {
   "cell_type": "code",
   "execution_count": 10,
   "metadata": {},
   "outputs": [
    {
     "data": {
      "text/plain": [
       "KMeans(algorithm='auto', copy_x=True, init='k-means++', max_iter=300,\n",
       "    n_clusters=3, n_init=10, n_jobs=1, precompute_distances='auto',\n",
       "    random_state=None, tol=0.0001, verbose=0)"
      ]
     },
     "execution_count": 10,
     "metadata": {},
     "output_type": "execute_result"
    }
   ],
   "source": [
    "Kmean = KMeans(n_clusters=3)\n",
    "Kmean.fit(pca)"
   ]
  },
  {
   "cell_type": "code",
   "execution_count": 13,
   "metadata": {},
   "outputs": [
    {
     "data": {
      "text/plain": [
       "array([[ 0.00862343, -0.00119103],\n",
       "       [ 0.04204891,  0.000984  ],\n",
       "       [-0.01472125,  0.00066293]])"
      ]
     },
     "execution_count": 13,
     "metadata": {},
     "output_type": "execute_result"
    }
   ],
   "source": [
    "Kmean.cluster_centers_"
   ]
  },
  {
   "cell_type": "code",
   "execution_count": 14,
   "metadata": {},
   "outputs": [
    {
     "data": {
      "image/png": "[encoded data removed]",
      "text/plain": [
       "<Figure size 432x288 with 1 Axes>"
      ]
     },
     "metadata": {
      "needs_background": "light"
     },
     "output_type": "display_data"
    }
   ],
   "source": [
    "plt.scatter(pca[0], pca[1])\n",
    "plt.scatter( 0.04204891,  0.000984, c='y', marker='s')\n",
    "plt.scatter(0.00861257, -0.00119068, c='r', marker='s')\n",
    "plt.scatter(-0.01472902,  0.00066392, c='r', marker='s')\n",
    "plt.show()"
   ]
  },
  {
   "cell_type": "code",
   "execution_count": 15,
   "metadata": {},
   "outputs": [],
   "source": [
    "ypred = pd.DataFrame()\n",
    "\n",
    "X_half1, X_half2, X_pcahalf1, X_pcahalf2 = train_test_split(\n",
    "    X_norm,\n",
    "    X_pca,\n",
    "    test_size=0.5,\n",
    "    random_state=42)\n",
    "\n",
    "X1, X2, X_pca1, X_pca2 = train_test_split(\n",
    "    X_half1,\n",
    "    X_pcahalf1,\n",
    "    test_size=0.5,\n",
    "    random_state=42)\n",
    "X3, X4, X_pca3, X_pca4 = train_test_split(\n",
    "    X_half2,\n",
    "    X_pcahalf2,\n",
    "    test_size=0.5,\n",
    "    random_state=42)\n",
    "\n",
    "for counter, data in enumerate([\n",
    "    (X1, X_pca1),\n",
    "    (X2, X_pca2),\n",
    "    (X3, X_pca3),\n",
    "    (X4, X_pca4)]):\n",
    "    \n",
    "    # Put the features into ypred.\n",
    "    ypred['pca_f1' + '_sample' + str(counter)] = data[1][:, 0]\n",
    "    ypred['pca_f2' + '_sample' + str(counter)] = data[1][:, 1]"
   ]
  },
  {
   "cell_type": "code",
   "execution_count": 16,
   "metadata": {},
   "outputs": [],
   "source": [
    "# KMeans\n",
    "    # Generate cluster predictions and store them for clusters 2 to 4.\n",
    "for nclust in range(2, 5):\n",
    "    pred = KMeans(n_clusters=nclust, random_state=42).fit_predict(data[0])\n",
    "    ypred['clust' + str(nclust) + '_sample' + str(counter)] = pred\n",
    "\n",
    "#y_pred = KMeans(n_clusters=2, n_init=1, random_state=42).fit_predict(X_train)\n",
    "\n",
    "#plt.scatter(X_train[:,0], X_train[:, 1], c=y_pred)\n",
    "#plt.show()\n",
    "\n",
    "#print(pd.crosstab(y_pred, y_train))"
   ]
  },
  {
   "cell_type": "code",
   "execution_count": 17,
   "metadata": {},
   "outputs": [
    {
     "name": "stdout",
     "output_type": "stream",
     "text": [
      "col_0         0    1     2     3     4\n",
      "age_group                             \n",
      "young      4095  186  4478  2826  1219\n",
      "not_young  5859  263  5292  3875  1641\n",
      "old         677   52   321   550   314\n"
     ]
    }
   ],
   "source": [
    "full_pred = KMeans(n_clusters=5, random_state=42).fit_predict(X_norm)\n",
    "\n",
    "print(pd.crosstab(y, full_pred))"
   ]
  },
  {
   "cell_type": "code",
   "execution_count": 18,
   "metadata": {},
   "outputs": [
    {
     "data": {
      "text/plain": [
       "0.005961492887461873"
      ]
     },
     "execution_count": 18,
     "metadata": {},
     "output_type": "execute_result"
    }
   ],
   "source": [
    "from sklearn import metrics\n",
    "    \n",
    "metrics.adjusted_rand_score(full_pred, y)"
   ]
  },
  {
   "cell_type": "code",
   "execution_count": 19,
   "metadata": {},
   "outputs": [
    {
     "name": "stdout",
     "output_type": "stream",
     "text": [
      "0.5161226197338808\n",
      "0.5208228277210075\n",
      "0.5274360011424931\n",
      "0.5245048400192663\n"
     ]
    }
   ],
   "source": [
    "from sklearn import metrics\n",
    "from sklearn.metrics import pairwise_distances\n",
    "\n",
    "for sample in [X1, X2, X3, X4]:\n",
    "    model = KMeans(n_clusters=2, random_state=42).fit(sample)\n",
    "    labels = model.labels_\n",
    "    print(metrics.silhouette_score(sample, labels, metric='euclidean'))"
   ]
  }
 ],
 "metadata": {
  "kernelspec": {
   "display_name": "Python 3",
   "language": "python",
   "name": "python3"
  },
  "language_info": {
   "codemirror_mode": {
    "name": "ipython",
    "version": 3
   },
   "file_extension": ".py",
   "mimetype": "text/x-python",
   "name": "python",
   "nbconvert_exporter": "python",
   "pygments_lexer": "ipython3",
   "version": "3.6.6"
  }
 },
 "nbformat": 4,
 "nbformat_minor": 2
}
