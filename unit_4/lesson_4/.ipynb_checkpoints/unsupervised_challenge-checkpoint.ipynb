{
 "cells": [
  {
   "cell_type": "code",
   "execution_count": 167,
   "metadata": {},
   "outputs": [],
   "source": [
    "%matplotlib inline\n",
    "import numpy as np\n",
    "import pandas as pd\n",
    "import scipy\n",
    "import sklearn\n",
    "import spacy\n",
    "import matplotlib.pyplot as plt\n",
    "import seaborn as sns\n",
    "import re \n",
    "import string\n",
    "from nltk.corpus import gutenberg, stopwords\n",
    "from nltk.stem.snowball import SnowballStemmer\n",
    "from sklearn.feature_extraction.text import CountVectorizer\n",
    "from nltk.tokenize import RegexpTokenizer\n",
    "from collections import Counter"
   ]
  },
  {
   "cell_type": "code",
   "execution_count": 168,
   "metadata": {},
   "outputs": [
    {
     "data": {
      "text/plain": [
       "(11240, 8)"
      ]
     },
     "execution_count": 168,
     "metadata": {},
     "output_type": "execute_result"
    }
   ],
   "source": [
    "movies = pd.read_csv('wiki_movie_plots_deduped.csv')\n",
    "movies = movies[movies.Genre.str.contains('unknown') == False]\n",
    "movies = movies[movies.Genre.str.contains('/') == False]\n",
    "movies = movies[movies.Genre.str.contains(' ') == False]\n",
    "movies = movies[movies['Release Year'] >= 1960]\n",
    "movies = movies.groupby(\"Genre\").filter(lambda x: len(x) > 190)\n",
    "#movies = movies.Plot.apply(lambda x: x.lower())\n",
    "movies.shape"
   ]
  },
  {
   "cell_type": "code",
   "execution_count": 169,
   "metadata": {},
   "outputs": [
    {
     "data": {
      "text/html": [
       "<div>\n",
       "<style scoped>\n",
       "    .dataframe tbody tr th:only-of-type {\n",
       "        vertical-align: middle;\n",
       "    }\n",
       "\n",
       "    .dataframe tbody tr th {\n",
       "        vertical-align: top;\n",
       "    }\n",
       "\n",
       "    .dataframe thead th {\n",
       "        text-align: right;\n",
       "    }\n",
       "</style>\n",
       "<table border=\"1\" class=\"dataframe\">\n",
       "  <thead>\n",
       "    <tr style=\"text-align: right;\">\n",
       "      <th></th>\n",
       "      <th>Release Year</th>\n",
       "      <th>Title</th>\n",
       "      <th>Origin/Ethnicity</th>\n",
       "      <th>Director</th>\n",
       "      <th>Cast</th>\n",
       "      <th>Genre</th>\n",
       "      <th>Wiki Page</th>\n",
       "      <th>Plot</th>\n",
       "    </tr>\n",
       "  </thead>\n",
       "  <tbody>\n",
       "    <tr>\n",
       "      <th>7340</th>\n",
       "      <td>1960</td>\n",
       "      <td>The Dark at the Top of the Stairs</td>\n",
       "      <td>American</td>\n",
       "      <td>Delbert Mann</td>\n",
       "      <td>Robert Preston, Dorothy McGuire, Eve Arden, Sh...</td>\n",
       "      <td>drama</td>\n",
       "      <td>https://en.wikipedia.org/wiki/The_Dark_at_the_...</td>\n",
       "      <td>During Prohibition in Oklahoma, Rubin Flood is...</td>\n",
       "    </tr>\n",
       "    <tr>\n",
       "      <th>7341</th>\n",
       "      <td>1960</td>\n",
       "      <td>Desire in the Dust</td>\n",
       "      <td>American</td>\n",
       "      <td>Robert L. Lippert</td>\n",
       "      <td>Raymond Burr, Martha Hyer, Joan Bennett</td>\n",
       "      <td>drama</td>\n",
       "      <td>https://en.wikipedia.org/wiki/Desire_in_the_Dust</td>\n",
       "      <td>Lonnie Wilson (Ken Scott), the son of a sharec...</td>\n",
       "    </tr>\n",
       "    <tr>\n",
       "      <th>7343</th>\n",
       "      <td>1960</td>\n",
       "      <td>Elmer Gantry</td>\n",
       "      <td>American</td>\n",
       "      <td>Richard Brooks</td>\n",
       "      <td>Burt Lancaster, Jean Simmons, Arthur Kennedy, ...</td>\n",
       "      <td>drama</td>\n",
       "      <td>https://en.wikipedia.org/wiki/Elmer_Gantry_(film)</td>\n",
       "      <td>Elmer Gantry (Burt Lancaster) is a hard-drinki...</td>\n",
       "    </tr>\n",
       "    <tr>\n",
       "      <th>7345</th>\n",
       "      <td>1960</td>\n",
       "      <td>Exodus</td>\n",
       "      <td>American</td>\n",
       "      <td>Otto Preminger</td>\n",
       "      <td>Paul Newman, Eva Marie Saint, Ralph Richardson...</td>\n",
       "      <td>drama</td>\n",
       "      <td>https://en.wikipedia.org/wiki/Exodus_(1960_film)</td>\n",
       "      <td>Nurse Katherine \"Kitty\" Fremont is an American...</td>\n",
       "    </tr>\n",
       "    <tr>\n",
       "      <th>7346</th>\n",
       "      <td>1960</td>\n",
       "      <td>The Facts of Life</td>\n",
       "      <td>American</td>\n",
       "      <td>Melvin Frank</td>\n",
       "      <td>Bob Hope, Lucille Ball, Ruth Hussey</td>\n",
       "      <td>comedy</td>\n",
       "      <td>https://en.wikipedia.org/wiki/The_Facts_of_Lif...</td>\n",
       "      <td>As the yearly vacation of six neighbors, the G...</td>\n",
       "    </tr>\n",
       "  </tbody>\n",
       "</table>\n",
       "</div>"
      ],
      "text/plain": [
       "      Release Year                              Title Origin/Ethnicity  \\\n",
       "7340          1960  The Dark at the Top of the Stairs         American   \n",
       "7341          1960                 Desire in the Dust         American   \n",
       "7343          1960                       Elmer Gantry         American   \n",
       "7345          1960                             Exodus         American   \n",
       "7346          1960                  The Facts of Life         American   \n",
       "\n",
       "               Director                                               Cast  \\\n",
       "7340       Delbert Mann  Robert Preston, Dorothy McGuire, Eve Arden, Sh...   \n",
       "7341  Robert L. Lippert            Raymond Burr, Martha Hyer, Joan Bennett   \n",
       "7343     Richard Brooks  Burt Lancaster, Jean Simmons, Arthur Kennedy, ...   \n",
       "7345     Otto Preminger  Paul Newman, Eva Marie Saint, Ralph Richardson...   \n",
       "7346       Melvin Frank                Bob Hope, Lucille Ball, Ruth Hussey   \n",
       "\n",
       "       Genre                                          Wiki Page  \\\n",
       "7340   drama  https://en.wikipedia.org/wiki/The_Dark_at_the_...   \n",
       "7341   drama   https://en.wikipedia.org/wiki/Desire_in_the_Dust   \n",
       "7343   drama  https://en.wikipedia.org/wiki/Elmer_Gantry_(film)   \n",
       "7345   drama   https://en.wikipedia.org/wiki/Exodus_(1960_film)   \n",
       "7346  comedy  https://en.wikipedia.org/wiki/The_Facts_of_Lif...   \n",
       "\n",
       "                                                   Plot  \n",
       "7340  During Prohibition in Oklahoma, Rubin Flood is...  \n",
       "7341  Lonnie Wilson (Ken Scott), the son of a sharec...  \n",
       "7343  Elmer Gantry (Burt Lancaster) is a hard-drinki...  \n",
       "7345  Nurse Katherine \"Kitty\" Fremont is an American...  \n",
       "7346  As the yearly vacation of six neighbors, the G...  "
      ]
     },
     "execution_count": 169,
     "metadata": {},
     "output_type": "execute_result"
    }
   ],
   "source": [
    "movies.head()"
   ]
  },
  {
   "cell_type": "code",
   "execution_count": null,
   "metadata": {},
   "outputs": [],
   "source": []
  },
  {
   "cell_type": "code",
   "execution_count": 333,
   "metadata": {
    "scrolled": false
   },
   "outputs": [
    {
     "data": {
      "image/png": "[encoded data removed]",
      "text/plain": [
       "<Figure size 1800x720 with 1 Axes>"
      ]
     },
     "metadata": {},
     "output_type": "display_data"
    }
   ],
   "source": [
    "#genre_df = movies.groupby('Genre')\n",
    "#genre_df.head()\n",
    "genre = movies['Genre'].value_counts().index.tolist()\n",
    "fig, ax = plt.subplots(figsize = (25, 10))\n",
    "sns.countplot(x = movies['Genre'], order = genre, ax = ax)\n",
    "sns.set(font_scale=1)\n",
    "plt.xticks(rotation = 90)\n",
    "plt.show()"
   ]
  },
  {
   "cell_type": "code",
   "execution_count": 261,
   "metadata": {},
   "outputs": [],
   "source": [
    "df = movies.copy()\n",
    "df = df.reset_index()"
   ]
  },
  {
   "cell_type": "code",
   "execution_count": 262,
   "metadata": {},
   "outputs": [
    {
     "data": {
      "text/html": [
       "<div>\n",
       "<style scoped>\n",
       "    .dataframe tbody tr th:only-of-type {\n",
       "        vertical-align: middle;\n",
       "    }\n",
       "\n",
       "    .dataframe tbody tr th {\n",
       "        vertical-align: top;\n",
       "    }\n",
       "\n",
       "    .dataframe thead th {\n",
       "        text-align: right;\n",
       "    }\n",
       "</style>\n",
       "<table border=\"1\" class=\"dataframe\">\n",
       "  <thead>\n",
       "    <tr style=\"text-align: right;\">\n",
       "      <th></th>\n",
       "      <th>index</th>\n",
       "      <th>Release Year</th>\n",
       "      <th>Title</th>\n",
       "      <th>Origin/Ethnicity</th>\n",
       "      <th>Director</th>\n",
       "      <th>Cast</th>\n",
       "      <th>Genre</th>\n",
       "      <th>Wiki Page</th>\n",
       "      <th>Plot</th>\n",
       "      <th>cluster</th>\n",
       "    </tr>\n",
       "  </thead>\n",
       "  <tbody>\n",
       "    <tr>\n",
       "      <th>0</th>\n",
       "      <td>7340</td>\n",
       "      <td>1960</td>\n",
       "      <td>The Dark at the Top of the Stairs</td>\n",
       "      <td>American</td>\n",
       "      <td>Delbert Mann</td>\n",
       "      <td>Robert Preston, Dorothy McGuire, Eve Arden, Sh...</td>\n",
       "      <td>drama</td>\n",
       "      <td>https://en.wikipedia.org/wiki/The_Dark_at_the_...</td>\n",
       "      <td>During Prohibition in Oklahoma, Rubin Flood is...</td>\n",
       "      <td>0</td>\n",
       "    </tr>\n",
       "    <tr>\n",
       "      <th>1</th>\n",
       "      <td>7341</td>\n",
       "      <td>1960</td>\n",
       "      <td>Desire in the Dust</td>\n",
       "      <td>American</td>\n",
       "      <td>Robert L. Lippert</td>\n",
       "      <td>Raymond Burr, Martha Hyer, Joan Bennett</td>\n",
       "      <td>drama</td>\n",
       "      <td>https://en.wikipedia.org/wiki/Desire_in_the_Dust</td>\n",
       "      <td>Lonnie Wilson (Ken Scott), the son of a sharec...</td>\n",
       "      <td>3</td>\n",
       "    </tr>\n",
       "    <tr>\n",
       "      <th>2</th>\n",
       "      <td>7343</td>\n",
       "      <td>1960</td>\n",
       "      <td>Elmer Gantry</td>\n",
       "      <td>American</td>\n",
       "      <td>Richard Brooks</td>\n",
       "      <td>Burt Lancaster, Jean Simmons, Arthur Kennedy, ...</td>\n",
       "      <td>drama</td>\n",
       "      <td>https://en.wikipedia.org/wiki/Elmer_Gantry_(film)</td>\n",
       "      <td>Elmer Gantry (Burt Lancaster) is a hard-drinki...</td>\n",
       "      <td>2</td>\n",
       "    </tr>\n",
       "    <tr>\n",
       "      <th>3</th>\n",
       "      <td>7345</td>\n",
       "      <td>1960</td>\n",
       "      <td>Exodus</td>\n",
       "      <td>American</td>\n",
       "      <td>Otto Preminger</td>\n",
       "      <td>Paul Newman, Eva Marie Saint, Ralph Richardson...</td>\n",
       "      <td>drama</td>\n",
       "      <td>https://en.wikipedia.org/wiki/Exodus_(1960_film)</td>\n",
       "      <td>Nurse Katherine \"Kitty\" Fremont is an American...</td>\n",
       "      <td>2</td>\n",
       "    </tr>\n",
       "    <tr>\n",
       "      <th>4</th>\n",
       "      <td>7346</td>\n",
       "      <td>1960</td>\n",
       "      <td>The Facts of Life</td>\n",
       "      <td>American</td>\n",
       "      <td>Melvin Frank</td>\n",
       "      <td>Bob Hope, Lucille Ball, Ruth Hussey</td>\n",
       "      <td>comedy</td>\n",
       "      <td>https://en.wikipedia.org/wiki/The_Facts_of_Lif...</td>\n",
       "      <td>As the yearly vacation of six neighbors, the G...</td>\n",
       "      <td>3</td>\n",
       "    </tr>\n",
       "  </tbody>\n",
       "</table>\n",
       "</div>"
      ],
      "text/plain": [
       "   index  Release Year                              Title Origin/Ethnicity  \\\n",
       "0   7340          1960  The Dark at the Top of the Stairs         American   \n",
       "1   7341          1960                 Desire in the Dust         American   \n",
       "2   7343          1960                       Elmer Gantry         American   \n",
       "3   7345          1960                             Exodus         American   \n",
       "4   7346          1960                  The Facts of Life         American   \n",
       "\n",
       "            Director                                               Cast  \\\n",
       "0       Delbert Mann  Robert Preston, Dorothy McGuire, Eve Arden, Sh...   \n",
       "1  Robert L. Lippert            Raymond Burr, Martha Hyer, Joan Bennett   \n",
       "2     Richard Brooks  Burt Lancaster, Jean Simmons, Arthur Kennedy, ...   \n",
       "3     Otto Preminger  Paul Newman, Eva Marie Saint, Ralph Richardson...   \n",
       "4       Melvin Frank                Bob Hope, Lucille Ball, Ruth Hussey   \n",
       "\n",
       "    Genre                                          Wiki Page  \\\n",
       "0   drama  https://en.wikipedia.org/wiki/The_Dark_at_the_...   \n",
       "1   drama   https://en.wikipedia.org/wiki/Desire_in_the_Dust   \n",
       "2   drama  https://en.wikipedia.org/wiki/Elmer_Gantry_(film)   \n",
       "3   drama   https://en.wikipedia.org/wiki/Exodus_(1960_film)   \n",
       "4  comedy  https://en.wikipedia.org/wiki/The_Facts_of_Lif...   \n",
       "\n",
       "                                                Plot  cluster  \n",
       "0  During Prohibition in Oklahoma, Rubin Flood is...        0  \n",
       "1  Lonnie Wilson (Ken Scott), the son of a sharec...        3  \n",
       "2  Elmer Gantry (Burt Lancaster) is a hard-drinki...        2  \n",
       "3  Nurse Katherine \"Kitty\" Fremont is an American...        2  \n",
       "4  As the yearly vacation of six neighbors, the G...        3  "
      ]
     },
     "execution_count": 262,
     "metadata": {},
     "output_type": "execute_result"
    }
   ],
   "source": [
    "df.head()"
   ]
  },
  {
   "cell_type": "code",
   "execution_count": 263,
   "metadata": {},
   "outputs": [],
   "source": [
    "df.Plot = df.Plot.apply(lambda x: x.lower())\n",
    "df.Plot = df.Plot.str.replace(r'[^\\d\\w\\s]+', '')\n",
    "df.Plot = df.Plot.str.replace('\\r', '')\n",
    "df.Plot = df.Plot.str.replace('\\n', '')\n",
    "df.Plot = df.Plot.str.replace('[^A-Za-z]', ' ')"
   ]
  },
  {
   "cell_type": "code",
   "execution_count": 264,
   "metadata": {},
   "outputs": [],
   "source": [
    "import nltk\n",
    "lemmatizer = nltk.stem.WordNetLemmatizer()\n",
    "\n",
    "def lemmatize_text(text):\n",
    "    return [lemmatizer.lemmatize(w) for w in text]"
   ]
  },
  {
   "cell_type": "code",
   "execution_count": 265,
   "metadata": {},
   "outputs": [],
   "source": [
    "stop_words = set(stopwords.words('english'))\n",
    "lemmatizer = nltk.stem.WordNetLemmatizer()\n",
    "stemmer = SnowballStemmer('english')\n",
    "tokenizer = RegexpTokenizer(r'[a-zA-Z\\']+')\n",
    "\n",
    "df['stemmed'] = df.Plot.apply(lambda x: stemmer.stem(x))\n",
    "df['tokens'] = df.stemmed.apply(lambda x: tokenizer.tokenize(x))\n",
    "df['lemmed'] = df.tokens.apply(lemmatize_text)\n",
    "df['stopped'] = df.lemmed.apply(lambda x: [item for item in x if item not in stop_words])\n"
   ]
  },
  {
   "cell_type": "code",
   "execution_count": 269,
   "metadata": {},
   "outputs": [
    {
     "data": {
      "text/plain": [
       "(11240, 2000)"
      ]
     },
     "execution_count": 269,
     "metadata": {},
     "output_type": "execute_result"
    }
   ],
   "source": [
    "from sklearn.feature_extraction.text import CountVectorizer\n",
    "\n",
    "data = df.stopped.astype('str')\n",
    "\n",
    "matrix = CountVectorizer(max_features=2000, stop_words='english')\n",
    "vectorizer = matrix.fit_transform(data)\n",
    "feats = matrix.get_feature_names()\n",
    "counts_df = pd.DataFrame(vectorizer.toarray(), columns=list(matrix.get_feature_names()))\n",
    "counts_df.shape"
   ]
  },
  {
   "cell_type": "code",
   "execution_count": 270,
   "metadata": {},
   "outputs": [
    {
     "data": {
      "text/html": [
       "<div>\n",
       "<style scoped>\n",
       "    .dataframe tbody tr th:only-of-type {\n",
       "        vertical-align: middle;\n",
       "    }\n",
       "\n",
       "    .dataframe tbody tr th {\n",
       "        vertical-align: top;\n",
       "    }\n",
       "\n",
       "    .dataframe thead th {\n",
       "        text-align: right;\n",
       "    }\n",
       "</style>\n",
       "<table border=\"1\" class=\"dataframe\">\n",
       "  <thead>\n",
       "    <tr style=\"text-align: right;\">\n",
       "      <th></th>\n",
       "      <th>abandon</th>\n",
       "      <th>abandoned</th>\n",
       "      <th>abby</th>\n",
       "      <th>ability</th>\n",
       "      <th>able</th>\n",
       "      <th>abuse</th>\n",
       "      <th>abusive</th>\n",
       "      <th>accept</th>\n",
       "      <th>accepted</th>\n",
       "      <th>accepts</th>\n",
       "      <th>...</th>\n",
       "      <th>yard</th>\n",
       "      <th>year</th>\n",
       "      <th>yearold</th>\n",
       "      <th>york</th>\n",
       "      <th>young</th>\n",
       "      <th>younger</th>\n",
       "      <th>youth</th>\n",
       "      <th>zombie</th>\n",
       "      <th>Plot</th>\n",
       "      <th>Genre</th>\n",
       "    </tr>\n",
       "  </thead>\n",
       "  <tbody>\n",
       "    <tr>\n",
       "      <th>0</th>\n",
       "      <td>0</td>\n",
       "      <td>0</td>\n",
       "      <td>0</td>\n",
       "      <td>0</td>\n",
       "      <td>0</td>\n",
       "      <td>0</td>\n",
       "      <td>0</td>\n",
       "      <td>1</td>\n",
       "      <td>0</td>\n",
       "      <td>0</td>\n",
       "      <td>...</td>\n",
       "      <td>0</td>\n",
       "      <td>2</td>\n",
       "      <td>0</td>\n",
       "      <td>0</td>\n",
       "      <td>0</td>\n",
       "      <td>1</td>\n",
       "      <td>0</td>\n",
       "      <td>0</td>\n",
       "      <td>during prohibition in oklahoma rubin flood is ...</td>\n",
       "      <td>drama</td>\n",
       "    </tr>\n",
       "    <tr>\n",
       "      <th>1</th>\n",
       "      <td>0</td>\n",
       "      <td>0</td>\n",
       "      <td>0</td>\n",
       "      <td>0</td>\n",
       "      <td>0</td>\n",
       "      <td>0</td>\n",
       "      <td>0</td>\n",
       "      <td>0</td>\n",
       "      <td>0</td>\n",
       "      <td>0</td>\n",
       "      <td>...</td>\n",
       "      <td>0</td>\n",
       "      <td>1</td>\n",
       "      <td>0</td>\n",
       "      <td>0</td>\n",
       "      <td>0</td>\n",
       "      <td>0</td>\n",
       "      <td>0</td>\n",
       "      <td>0</td>\n",
       "      <td>lonnie wilson ken scott the son of a sharecrop...</td>\n",
       "      <td>drama</td>\n",
       "    </tr>\n",
       "    <tr>\n",
       "      <th>2</th>\n",
       "      <td>0</td>\n",
       "      <td>0</td>\n",
       "      <td>0</td>\n",
       "      <td>0</td>\n",
       "      <td>0</td>\n",
       "      <td>0</td>\n",
       "      <td>0</td>\n",
       "      <td>1</td>\n",
       "      <td>0</td>\n",
       "      <td>0</td>\n",
       "      <td>...</td>\n",
       "      <td>0</td>\n",
       "      <td>0</td>\n",
       "      <td>0</td>\n",
       "      <td>0</td>\n",
       "      <td>0</td>\n",
       "      <td>0</td>\n",
       "      <td>0</td>\n",
       "      <td>0</td>\n",
       "      <td>elmer gantry burt lancaster is a harddrinking ...</td>\n",
       "      <td>drama</td>\n",
       "    </tr>\n",
       "    <tr>\n",
       "      <th>3</th>\n",
       "      <td>0</td>\n",
       "      <td>0</td>\n",
       "      <td>0</td>\n",
       "      <td>0</td>\n",
       "      <td>0</td>\n",
       "      <td>0</td>\n",
       "      <td>0</td>\n",
       "      <td>1</td>\n",
       "      <td>0</td>\n",
       "      <td>0</td>\n",
       "      <td>...</td>\n",
       "      <td>0</td>\n",
       "      <td>0</td>\n",
       "      <td>0</td>\n",
       "      <td>0</td>\n",
       "      <td>3</td>\n",
       "      <td>1</td>\n",
       "      <td>0</td>\n",
       "      <td>0</td>\n",
       "      <td>nurse katherine kitty fremont is an american v...</td>\n",
       "      <td>drama</td>\n",
       "    </tr>\n",
       "    <tr>\n",
       "      <th>4</th>\n",
       "      <td>0</td>\n",
       "      <td>0</td>\n",
       "      <td>0</td>\n",
       "      <td>0</td>\n",
       "      <td>0</td>\n",
       "      <td>0</td>\n",
       "      <td>0</td>\n",
       "      <td>0</td>\n",
       "      <td>0</td>\n",
       "      <td>0</td>\n",
       "      <td>...</td>\n",
       "      <td>0</td>\n",
       "      <td>0</td>\n",
       "      <td>0</td>\n",
       "      <td>0</td>\n",
       "      <td>0</td>\n",
       "      <td>0</td>\n",
       "      <td>0</td>\n",
       "      <td>0</td>\n",
       "      <td>as the yearly vacation of six neighbors the gi...</td>\n",
       "      <td>comedy</td>\n",
       "    </tr>\n",
       "  </tbody>\n",
       "</table>\n",
       "<p>5 rows × 2002 columns</p>\n",
       "</div>"
      ],
      "text/plain": [
       "   abandon  abandoned  abby  ability  able  abuse  abusive  accept  accepted  \\\n",
       "0        0          0     0        0     0      0        0       1         0   \n",
       "1        0          0     0        0     0      0        0       0         0   \n",
       "2        0          0     0        0     0      0        0       1         0   \n",
       "3        0          0     0        0     0      0        0       1         0   \n",
       "4        0          0     0        0     0      0        0       0         0   \n",
       "\n",
       "   accepts   ...    yard  year  yearold  york  young  younger  youth  zombie  \\\n",
       "0        0   ...       0     2        0     0      0        1      0       0   \n",
       "1        0   ...       0     1        0     0      0        0      0       0   \n",
       "2        0   ...       0     0        0     0      0        0      0       0   \n",
       "3        0   ...       0     0        0     0      3        1      0       0   \n",
       "4        0   ...       0     0        0     0      0        0      0       0   \n",
       "\n",
       "                                                Plot   Genre  \n",
       "0  during prohibition in oklahoma rubin flood is ...   drama  \n",
       "1  lonnie wilson ken scott the son of a sharecrop...   drama  \n",
       "2  elmer gantry burt lancaster is a harddrinking ...   drama  \n",
       "3  nurse katherine kitty fremont is an american v...   drama  \n",
       "4  as the yearly vacation of six neighbors the gi...  comedy  \n",
       "\n",
       "[5 rows x 2002 columns]"
      ]
     },
     "execution_count": 270,
     "metadata": {},
     "output_type": "execute_result"
    }
   ],
   "source": [
    "counts_df['Plot'] = df['Plot']\n",
    "counts_df['Genre'] = df['Genre']\n",
    "counts_df.head()"
   ]
  },
  {
   "cell_type": "code",
   "execution_count": 281,
   "metadata": {},
   "outputs": [],
   "source": [
    "cluster_range = range(1, 20)\n",
    "cluster_errors = []\n",
    "\n",
    "for num_clusters in cluster_range:\n",
    "    clusters = KMeans(num_clusters)\n",
    "    clusters.fit(vectorizer.toarray())\n",
    "    cluster_errors.append(clusters.inertia_)"
   ]
  },
  {
   "cell_type": "code",
   "execution_count": 282,
   "metadata": {},
   "outputs": [],
   "source": [
    "clusters_df = pd.DataFrame( { \"num_clusters\":cluster_range, \"cluster_errors\": cluster_errors } )\n",
    "clusters_df[0:10]"
   ]
  },
  {
   "cell_type": "code",
   "execution_count": 284,
   "metadata": {},
   "outputs": [
    {
     "data": {
      "text/plain": [
       "[<matplotlib.lines.Line2D at 0x20605db00>]"
      ]
     },
     "execution_count": 284,
     "metadata": {},
     "output_type": "execute_result"
    },
    {
     "data": {
      "image/png": "[encoded data removed]",
      "text/plain": [
       "<Figure size 864x432 with 1 Axes>"
      ]
     },
     "metadata": {},
     "output_type": "display_data"
    }
   ],
   "source": [
    "plt.figure(figsize=(12,6))\n",
    "plt.plot( clusters_df.num_clusters, clusters_df.cluster_errors, marker = \"o\" )"
   ]
  },
  {
   "cell_type": "code",
   "execution_count": 356,
   "metadata": {},
   "outputs": [
    {
     "data": {
      "text/plain": [
       "KMeans(algorithm='auto', copy_x=True, init='k-means++', max_iter=300,\n",
       "    n_clusters=10, n_init=10, n_jobs=-1, precompute_distances='auto',\n",
       "    random_state=None, tol=0.0001, verbose=0)"
      ]
     },
     "execution_count": 356,
     "metadata": {},
     "output_type": "execute_result"
    }
   ],
   "source": [
    "# KMEANS with countvectorizer data\n",
    "from sklearn.cluster import KMeans\n",
    "\n",
    "X = counts.iloc[:, :2001]\n",
    "y = counts.iloc[:, 2001]\n",
    "\n",
    "kmeans = KMeans(n_clusters = 10, n_jobs = -1)\n",
    "kmeans.fit(vectorizer.toarray())"
   ]
  },
  {
   "cell_type": "code",
   "execution_count": 357,
   "metadata": {},
   "outputs": [
    {
     "name": "stdout",
     "output_type": "stream",
     "text": [
      "0 : hank, king, walk, pleads, telling, hunt, carry, manages, evil, kiss\n",
      "1 : jones, hank, telling, walk, join, scenes, carry, says, hoping, willing\n",
      "2 : government, perfect, moves, hank, late, fish, passengers, knocked, road, manages\n",
      "3 : josh, hank, walk, telling, hunt, hoping, declares, game, lawrence, fight\n",
      "4 : hank, walk, telling, fight, hunt, hoping, declares, mountain, complete, game\n",
      "5 : hank, fight, walk, telling, game, feel, lovers, declares, mountain, hoping\n",
      "6 : jason, stop, screams, telling, asks, kong, war, drinks, think, walk\n",
      "7 : hank, lily, lovers, fish, walk, game, feel, fight, manages, complete\n",
      "8 : jason, hank, telling, walk, fight, newly, lily, feel, lawrence, turn\n",
      "9 : friendship, high, hank, telling, walk, hoping, pleads, chinese, carry, king\n"
     ]
    }
   ],
   "source": [
    "common_words = kmeans.cluster_centers_.argsort()[:,-1:-11:-1]\n",
    "for num, centroid in enumerate(common_words):\n",
    "    print(str(num) + ' : ' + ', '.join(columns[word] for word in centroid))"
   ]
  },
  {
   "cell_type": "code",
   "execution_count": 359,
   "metadata": {},
   "outputs": [
    {
     "data": {
      "image/png": "[encoded data removed]",
      "text/plain": [
       "<Figure size 2160x1080 with 2 Axes>"
      ]
     },
     "metadata": {},
     "output_type": "display_data"
    }
   ],
   "source": [
    "movies['cluster'] = kmeans.labels_\n",
    "clusters = movies.groupby(['cluster', 'Genre']).size()\n",
    "fig2, ax2 = plt.subplots(figsize = (30, 15))\n",
    "sns.heatmap(clusters.unstack(level = 'Genre'), ax = ax2, cmap = 'Reds')\n",
    "\n",
    "ax2.set_xlabel('Genre', fontdict = {'weight': 'bold', 'size': 24})\n",
    "ax2.set_ylabel('cluster', fontdict = {'weight': 'bold', 'size': 24})\n",
    "for label in ax2.get_xticklabels():\n",
    "    label.set_size(16)\n",
    "    label.set_weight(\"bold\")\n",
    "for label in ax2.get_yticklabels():\n",
    "    label.set_size(16)\n",
    "    label.set_weight(\"bold\")"
   ]
  },
  {
   "cell_type": "code",
   "execution_count": 338,
   "metadata": {},
   "outputs": [
    {
     "data": {
      "text/plain": [
       "MeanShift(bandwidth=17.934431122936804, bin_seeding=True, cluster_all=True,\n",
       "     min_bin_freq=1, n_jobs=-1, seeds=None)"
      ]
     },
     "execution_count": 338,
     "metadata": {},
     "output_type": "execute_result"
    }
   ],
   "source": [
    "from sklearn.cluster import MeanShift, estimate_bandwidth\n",
    "\n",
    "bandwidth = estimate_bandwidth(vectorizer.toarray(), quantile=0.2, n_samples=2000)\n",
    "ms = MeanShift(bandwidth=bandwidth, bin_seeding=True, n_jobs=-1)\n",
    "ms.fit(vectorizer.toarray())"
   ]
  },
  {
   "cell_type": "code",
   "execution_count": 339,
   "metadata": {},
   "outputs": [
    {
     "name": "stdout",
     "output_type": "stream",
     "text": [
      "155\n"
     ]
    }
   ],
   "source": [
    "labels = ms.labels_\n",
    "n_clusers_ = len(np.unique(labels))\n",
    "print(n_clusers_)"
   ]
  },
  {
   "cell_type": "code",
   "execution_count": 340,
   "metadata": {},
   "outputs": [
    {
     "name": "stdout",
     "output_type": "stream",
     "text": [
      "0 : hank, lily, walk, lovers, fight, game, fish, feel, complete, manages\n",
      "1 : joins, jason, raju, hank, memories, newly, world, war, called, carries\n",
      "2 : manages, carry, walk, babu, declines, woods, rocky, hank, drive, letters\n",
      "3 : giving, karen, age, telling, hank, training, hoping, playing, hunt, live\n",
      "4 : sam, fighting, months, mrs, birthday, lets, josh, mia, guilty, drives\n",
      "5 : lives, journalist, hank, plant, game, start, chase, mexican, dennis, deliver\n",
      "6 : open, jimmy, fight, lovers, telling, screams, asks, hours, park, plan\n",
      "7 : rural, friendship, pays, josh, months, leo, shock, michael, workers, letters\n",
      "8 : bullet, high, tears, entire, played, newly, charges, game, couples, paris\n",
      "9 : christopher, grandmother, short, carry, photos, music, suddenly, earlier, rape, searches\n",
      "10 : romantic, finds, urges, whereabouts, london, anthony, rush, ring, memories, begin\n",
      "11 : bed, woods, artist, destroy, buddy, lovers, mountain, road, owner, films\n",
      "12 : government, joan, approaches, goodbye, believe, crowd, screams, hank, telling, provide\n",
      "13 : enraged, confronted, hank, wearing, feel, newly, room, lily, prepare, program\n",
      "14 : ali, stephen, nikki, hunt, background, luck, tim, christopher, declares, jonathan\n",
      "15 : teddy, birthday, date, mark, chinese, enemy, hank, telling, crowd, identity\n",
      "16 : jones, killer, called, guilty, fell, meet, leaving, water, result, returning\n",
      "17 : giant, kelly, ricky, hoping, passengers, game, telling, fish, returning, breaking\n",
      "18 : guy, rural, returning, cliff, constantly, old, hank, royal, william, brian\n",
      "19 : ricky, passengers, game, commit, moving, entire, finds, called, brian, searches\n",
      "20 : crashes, tank, jill, plan, workers, army, fish, hank, hall, newly\n",
      "21 : million, constantly, lovers, piece, lisa, begin, soul, hunter, turned, leave\n",
      "22 : decision, quite, marie, seek, buddy, wish, start, moves, hank, craig\n",
      "23 : josh, engaged, shark, states, huge, protect, finds, apparent, relationship, faces\n",
      "24 : emotional, visit, political, months, beaten, better, insists, played, works, maya\n",
      "25 : saying, hope, chinese, newspaper, identity, age, refuses, drives, died, begin\n",
      "26 : custody, answers, male, based, leaves, entire, hank, hunt, year, victims\n",
      "27 : birthday, khan, fight, manages, telling, tim, relationship, sue, declares, sell\n",
      "28 : richie, laura, hunt, hanging, investigating, babu, hank, photo, attempting, pleads\n",
      "29 : pays, answers, nuclear, newly, lawrence, telling, clark, asks, numerous, tried\n",
      "30 : notes, mountain, hunt, king, telling, turn, figure, persuade, chinese, colleague\n",
      "31 : steve, bring, hank, destroys, fight, walk, buddy, childhood, deliver, escapes\n",
      "32 : henry, evidence, lily, year, hoping, younger, lawrence, drunken, seeking, sleeping\n",
      "33 : saving, high, attempting, apparent, tell, murder, allows, way, brief, murdered\n",
      "34 : middle, peter, kelly, criminals, commit, pleads, hunt, manage, attempt, nikki\n",
      "35 : phone, declares, bed, walter, explodes, tim, grant, war, spot, reporter\n",
      "36 : wearing, middle, months, turn, throat, training, hank, carry, offering, evil\n",
      "37 : phil, thinks, near, collect, game, hoping, begin, babu, fight, tim\n",
      "38 : lady, tears, george, seen, played, colonel, fit, lawrence, plant, filled\n",
      "39 : middle, george, murder, lady, faces, walk, telling, plant, reads, names\n",
      "40 : pays, told, knocked, falls, evil, king, catch, kitchen, hank, war\n",
      "41 : manages, miller, tied, romantic, turn, heather, long, watch, newly, leaves\n",
      "42 : steven, alcoholic, george, told, perform, male, entire, craig, hole, based\n",
      "43 : jones, johnny, attempting, york, happy, chinese, fathers, flees, trust, mountain\n",
      "44 : hands, burning, revenge, officer, hank, telling, assumes, walk, fish, hall\n",
      "45 : birthday, eventually, bring, fight, searches, team, media, declares, explodes, flashback\n",
      "46 : media, key, king, hank, kitchen, attempting, trust, book, agrees, turned\n",
      "47 : told, jason, plot, actions, fight, khan, aunt, partner, giving, performance\n",
      "48 : gone, tank, saving, wealthy, hank, king, evil, collect, revenge, captain\n",
      "49 : enraged, mrs, hank, woods, lovers, york, match, friendship, names, begin\n",
      "50 : karthik, steven, hank, sophie, walk, serial, film, secret, mountain, memories\n",
      "51 : secret, city, caused, jamie, evil, course, announces, white, hidden, gone\n",
      "52 : race, join, bottle, red, bus, daughter, lonely, telling, characters, asks\n",
      "53 : explaining, fight, hank, feel, hoping, lover, nikki, sits, drink, paris\n",
      "54 : job, media, josh, fight, falls, older, brad, tim, marcus, book\n",
      "55 : hunting, church, hoping, officer, promises, lawrence, search, telling, whereabouts, fathers\n",
      "56 : jones, best, hank, fish, lives, fred, frankie, guilty, animal, financial\n",
      "57 : key, night, finds, lisa, distance, turn, workers, man, things, warehouse\n",
      "58 : chased, richie, declares, game, union, lawrence, using, half, crowd, james\n",
      "59 : women, alive, failed, girls, elizabeth, blame, grown, interrupted, speak, man\n",
      "60 : rid, key, saved, begin, josh, newly, struggles, came, manages, ajay\n",
      "61 : guy, ultimately, george, safe, thanks, hoping, roof, mansion, characters, wish\n",
      "62 : thinks, vijay, fight, paris, important, hank, truck, initially, address, fish\n",
      "63 : matt, teddy, lovers, cop, game, hank, maggie, wish, dog, deceased\n",
      "64 : border, laura, phone, hank, billy, confronted, failed, man, explains, walking\n",
      "65 : goes, dressed, king, main, attempt, reaches, unfortunately, decided, names, sound\n",
      "66 : pays, josh, walk, mrs, families, storm, deliver, fish, power, placed\n",
      "67 : boy, creates, road, gone, discovering, caused, line, leaves, famous, force\n",
      "68 : journalist, eventually, steven, hank, realizes, heather, drinking, asks, months, lovers\n",
      "69 : sandy, jim, lovers, angel, lawrence, brief, searches, beth, telling, turn\n",
      "70 : gone, artist, manages, huge, normal, nikki, hank, declares, returning, telling\n",
      "71 : dinner, finds, asks, gone, maya, hoping, returning, lawrence, months, finish\n",
      "72 : client, notes, matt, large, hank, hoping, lawrence, woods, dog, mountain\n",
      "73 : saving, giving, hunt, role, moment, telling, bus, hank, refuses, phil\n",
      "74 : scene, detectives, searches, mountain, drug, attending, deal, summer, fight, days\n",
      "75 : george, sandy, dave, states, nikki, tears, telling, feel, hank, billy\n",
      "76 : answer, married, mayor, hank, huge, game, joy, willing, advice, complete\n",
      "77 : lets, encounter, officer, relationship, shark, workers, returning, martin, hank, phil\n",
      "78 : angry, decides, saving, jill, hands, game, hank, cousin, manage, company\n",
      "79 : dressed, elizabeth, neighborhood, hank, paris, names, man, captured, separate, game\n",
      "80 : journalist, lives, marries, age, game, phil, hank, entire, photo, relationship\n",
      "81 : media, diner, steals, workers, thing, jamie, lawrence, hank, turn, wakes\n",
      "82 : job, lived, tim, enter, hank, boy, screams, plane, mental, begin\n",
      "83 : tied, night, hotel, richard, willing, accuses, immediately, opportunity, feel, revenge\n",
      "84 : hearing, lack, william, caused, officers, marriage, palace, workers, foot, reach\n",
      "85 : ranch, jennifer, telling, mountain, walk, shares, private, storm, shark, dress\n",
      "86 : josh, days, deal, willing, struggles, pass, newly, lies, louis, lovers\n",
      "87 : arthur, jones, parking, bear, manages, working, dennis, babu, willing, danger\n",
      "88 : chased, kidnaps, west, plays, finding, lucy, drugs, duo, sophie, steal\n",
      "89 : decision, lives, relationship, grabs, mountain, lawrence, man, tribe, reality, successful\n",
      "90 : angel, vision, royal, pleads, explosion, searches, south, earth, fish, class\n",
      "91 : laura, angel, meet, resulting, catch, jonathan, heavy, walk, billy, include\n",
      "92 : encounter, sits, jamie, runs, deliver, failed, cabin, hank, grows, seduce\n",
      "93 : starts, green, hoping, telling, hank, arrive, leg, introduces, gone, josh\n",
      "94 : ricky, mike, trust, hank, mrs, behavior, losing, animal, truck, forms\n",
      "95 : wants, boy, numerous, murder, letter, walk, huge, sue, begin, learning\n",
      "96 : key, high, day, hank, calling, health, angrily, west, illegal, cousin\n",
      "97 : fly, bank, plant, craig, soul, touch, reconcile, searches, couples, new\n",
      "98 : laura, arthur, agrees, fights, band, maria, mans, sara, evil, turns\n",
      "99 : base, tied, karthik, apparent, distance, accuses, brad, photo, eyes, jackson\n",
      "100 : judy, sold, kisses, claiming, attempt, mitch, begin, agrees, princess, dream\n",
      "101 : marie, lover, dan, destroy, death, walk, briefly, seek, war, sophie\n",
      "102 : little, health, attempting, forced, babu, hank, owner, requests, determined, catch\n",
      "103 : night, judge, fight, shiva, telling, mountain, jackson, explosion, earth, sue\n",
      "104 : judge, driving, king, various, hoping, didnt, luke, declares, carry, hidden\n",
      "105 : buddy, robin, king, guilty, german, expresses, assassin, attempt, mans, walk\n",
      "106 : pays, locked, check, walk, hank, hold, hunt, states, physical, lawrence\n",
      "107 : youth, ian, survivors, abusive, duo, carry, man, fish, business, note\n",
      "108 : sound, picture, tears, building, train, title, gives, mansion, performing, demon\n",
      "109 : ali, announces, older, lights, willing, shortly, fell, evil, days, knocks\n",
      "110 : vijay, facility, kitchen, hank, experiences, cut, evil, cynthia, happy, high\n",
      "111 : lets, lady, pleads, street, director, university, hidden, walk, throat, owner\n",
      "112 : matt, friendship, friendly, searches, walk, proceeds, director, lily, date, war\n",
      "113 : teach, alive, soviet, memories, babu, carry, heather, town, earlier, fathers\n",
      "114 : josh, jeremy, roger, base, decides, bar, breaks, engaged, lawrence, boss\n",
      "115 : race, middle, game, sally, government, claim, hank, princess, hoping, queen\n",
      "116 : mistake, million, mrs, screams, breaking, searches, approaches, chinese, success, cars\n",
      "117 : heart, phone, york, project, war, worried, dress, upset, mentally, filled\n",
      "118 : hearing, ali, background, hoping, london, chinese, hank, jo, lawrence, criminals\n",
      "119 : background, luke, lawrence, streets, fathers, start, heather, collect, drives, explains\n",
      "120 : pays, knew, kept, placed, pleads, officers, storm, moved, deceased, doctor\n",
      "121 : birthday, jay, tom, fight, hank, deal, lawrence, program, look, middle\n",
      "122 : allow, miss, rob, wifes, school, hank, village, tape, ball, workers\n",
      "123 : manages, dressed, background, telling, spend, fight, tells, mountain, claim, walk\n",
      "124 : fish, ray, giant, walk, senior, kiss, game, orders, newly, months\n",
      "125 : phil, mike, george, shark, accused, age, south, friendship, learning, carry\n",
      "126 : angeles, phil, searches, german, struggle, hoping, plant, adam, test, leaving\n",
      "127 : rachel, ashok, devastated, order, mountain, identity, oliver, dying, store, teacher\n",
      "128 : answer, henry, friendship, jason, pleads, evil, background, attempting, boss, frankie\n",
      "129 : decision, mayor, pair, hank, telling, discuss, age, lovers, opens, photos\n",
      "130 : lights, drives, hank, steal, lisa, family, confronted, violence, jonathan, social\n",
      "131 : cash, mrs, fight, turn, passengers, telling, kisses, hit, searches, sets\n",
      "132 : middle, lady, declares, chases, turn, visiting, hank, walter, border, fight\n",
      "133 : neighbors, mayor, hank, santa, shares, plan, businessman, loss, men, paris\n",
      "134 : major, fun, denies, simply, kidnapped, tom, walk, getting, carry, hank\n",
      "135 : credits, princess, feel, late, airport, babu, vampire, weapons, horror, present\n",
      "136 : jones, quite, fight, decision, join, hank, stranger, sophie, pays, accused\n",
      "137 : jason, caught, walk, hank, fight, carrying, club, played, owner, field\n",
      "138 : miller, walk, royal, declares, south, dress, relationship, kong, school, west\n",
      "139 : sir, amy, walk, buddy, martin, sits, filled, memories, sophie, recognizes\n",
      "140 : raj, sir, arm, king, mountain, lack, memories, prove, proposal, plan\n",
      "141 : raj, vince, game, hank, mountain, lily, sophie, gone, dennis, heartbroken\n",
      "142 : ravi, police, nikki, memories, evil, hidden, introduced, hank, lovers, sits\n",
      "143 : announces, christopher, lovers, dennis, gone, bank, ring, fight, man, west\n",
      "144 : rachel, lab, decided, memories, lily, lifestyle, lovers, returning, hunt, fight\n",
      "145 : raised, rid, lovers, proposal, hank, plot, begin, dr, asks, arrested\n",
      "146 : royal, vincent, seeking, kids, leo, dennis, hunt, committed, opening, village\n",
      "147 : raj, confronted, army, thinks, states, beach, finds, frankie, walk, guard\n",
      "148 : surya, problem, lovers, trying, plan, nature, placed, travel, forms, pleads\n",
      "149 : shooting, anne, marry, game, martin, plan, walk, george, kong, lovers\n",
      "150 : albert, anne, hunt, lovers, film, dreams, complete, walk, telling, committed\n",
      "151 : raja, rao, background, babu, man, baby, decided, throat, marry, hidden\n",
      "152 : raj, miss, problem, fight, sophie, kim, revenge, ransom, left, hunt\n",
      "153 : bank, gone, performance, machine, months, mrs, training, searches, men, declares\n",
      "154 : george, government, searches, setting, world, location, edward, game, fit, explodes\n"
     ]
    }
   ],
   "source": [
    "common_words = ms.cluster_centers_.argsort()[:,-1:-11:-1]\n",
    "for num, centroid in enumerate(common_words):\n",
    "    print(str(num) + ' : ' + ', '.join(columns[word] for word in centroid))"
   ]
  },
  {
   "cell_type": "code",
   "execution_count": 360,
   "metadata": {},
   "outputs": [
    {
     "data": {
      "image/png": "[encoded data removed]",
      "text/plain": [
       "<Figure size 2160x1080 with 2 Axes>"
      ]
     },
     "metadata": {},
     "output_type": "display_data"
    }
   ],
   "source": [
    "movies['cluster'] = ms.labels_\n",
    "clusters = movies.groupby(['cluster', 'Genre']).size()\n",
    "fig2, ax2 = plt.subplots(figsize = (30, 15))\n",
    "sns.heatmap(clusters.unstack(level = 'Genre'), ax = ax2, cmap = 'Reds')\n",
    "\n",
    "ax2.set_xlabel('Genre', fontdict = {'weight': 'bold', 'size': 24})\n",
    "ax2.set_ylabel('cluster', fontdict = {'weight': 'bold', 'size': 24})\n",
    "for label in ax2.get_xticklabels():\n",
    "    label.set_size(16)\n",
    "    label.set_weight(\"bold\")\n",
    "for label in ax2.get_yticklabels():\n",
    "    label.set_size(16)\n",
    "    label.set_weight(\"bold\")"
   ]
  },
  {
   "cell_type": "code",
   "execution_count": 353,
   "metadata": {},
   "outputs": [
    {
     "name": "stdout",
     "output_type": "stream",
     "text": [
      "Training set score: 0.9862099644128114\n",
      "\n",
      "Test set score: 0.43416370106761565\n"
     ]
    }
   ],
   "source": [
    "from sklearn import ensemble\n",
    "from sklearn.model_selection import train_test_split\n",
    "\n",
    "counts_df['clusters'] = kmeans.labels_\n",
    "\n",
    "rfc = ensemble.RandomForestClassifier()\n",
    "Y = counts_df['Genre']\n",
    "X = counts_df.drop(['Genre','Plot'], axis=1)\n",
    "\n",
    "X_train, X_test, y_train, y_test = train_test_split(X, \n",
    "                                                    Y,\n",
    "                                                    test_size=0.2,\n",
    "                                                    random_state=0)\n",
    "train = rfc.fit(X_train, y_train)\n",
    "\n",
    "print('Training set score:', rfc.score(X_train, y_train))\n",
    "print('\\nTest set score:', rfc.score(X_test, y_test))"
   ]
  },
  {
   "cell_type": "code",
   "execution_count": 354,
   "metadata": {},
   "outputs": [
    {
     "data": {
      "text/html": [
       "<div>\n",
       "<style scoped>\n",
       "    .dataframe tbody tr th:only-of-type {\n",
       "        vertical-align: middle;\n",
       "    }\n",
       "\n",
       "    .dataframe tbody tr th {\n",
       "        vertical-align: top;\n",
       "    }\n",
       "\n",
       "    .dataframe thead th {\n",
       "        text-align: right;\n",
       "    }\n",
       "</style>\n",
       "<table border=\"1\" class=\"dataframe\">\n",
       "  <thead>\n",
       "    <tr style=\"text-align: right;\">\n",
       "      <th></th>\n",
       "      <th>features</th>\n",
       "      <th>scores</th>\n",
       "    </tr>\n",
       "  </thead>\n",
       "  <tbody>\n",
       "    <tr>\n",
       "      <th>981</th>\n",
       "      <td>kill</td>\n",
       "      <td>0.008540</td>\n",
       "    </tr>\n",
       "    <tr>\n",
       "      <th>1078</th>\n",
       "      <td>love</td>\n",
       "      <td>0.006085</td>\n",
       "    </tr>\n",
       "    <tr>\n",
       "      <th>982</th>\n",
       "      <td>killed</td>\n",
       "      <td>0.004689</td>\n",
       "    </tr>\n",
       "    <tr>\n",
       "      <th>1043</th>\n",
       "      <td>life</td>\n",
       "      <td>0.004678</td>\n",
       "    </tr>\n",
       "    <tr>\n",
       "      <th>458</th>\n",
       "      <td>death</td>\n",
       "      <td>0.004204</td>\n",
       "    </tr>\n",
       "    <tr>\n",
       "      <th>777</th>\n",
       "      <td>ha</td>\n",
       "      <td>0.004168</td>\n",
       "    </tr>\n",
       "    <tr>\n",
       "      <th>630</th>\n",
       "      <td>fall</td>\n",
       "      <td>0.003931</td>\n",
       "    </tr>\n",
       "    <tr>\n",
       "      <th>984</th>\n",
       "      <td>killing</td>\n",
       "      <td>0.003814</td>\n",
       "    </tr>\n",
       "    <tr>\n",
       "      <th>210</th>\n",
       "      <td>body</td>\n",
       "      <td>0.003577</td>\n",
       "    </tr>\n",
       "    <tr>\n",
       "      <th>1996</th>\n",
       "      <td>young</td>\n",
       "      <td>0.003407</td>\n",
       "    </tr>\n",
       "  </tbody>\n",
       "</table>\n",
       "</div>"
      ],
      "text/plain": [
       "     features    scores\n",
       "981      kill  0.008540\n",
       "1078     love  0.006085\n",
       "982    killed  0.004689\n",
       "1043     life  0.004678\n",
       "458     death  0.004204\n",
       "777        ha  0.004168\n",
       "630      fall  0.003931\n",
       "984   killing  0.003814\n",
       "210      body  0.003577\n",
       "1996    young  0.003407"
      ]
     },
     "execution_count": 354,
     "metadata": {},
     "output_type": "execute_result"
    }
   ],
   "source": [
    "importance = pd.DataFrame()\n",
    "importance['features'] = X_train.columns\n",
    "importance['scores'] = rfc.feature_importances_\n",
    "\n",
    "importance.sort_values('scores', ascending=False).head(10)"
   ]
  },
  {
   "cell_type": "code",
   "execution_count": 304,
   "metadata": {},
   "outputs": [],
   "source": [
    "from sklearn.feature_extraction.text import TfidfVectorizer\n",
    "\n",
    "word_vectorizer = TfidfVectorizer(max_df=0.5, # drop words that occur in more than half the paragraphs\n",
    "                             min_df=100, # only use words that appear at least twice\n",
    "                             stop_words='english', \n",
    "                             lowercase=True, #convert everything to lower case (since Alice in Wonderland has the HABIT of CAPITALIZING WORDS for EMPHASIS)\n",
    "                             use_idf=True,#we definitely want to use inverse document frequencies in our weighting\n",
    "                             norm=u'l2', #Applies a correction factor so that longer paragraphs and shorter paragraphs get treated equally\n",
    "                             smooth_idf=True #Adds 1 to all document frequencies, as if an extra document existed that used every word once.  Prevents divide-by-zero errors\n",
    "                            )\n",
    "\n",
    "words = word_vectorizer.fit_transform(data)\n",
    "features = word_vectorizer.get_feature_names()\n",
    "tfidf_data = pd.DataFrame(words.toarray(), columns = list(word_vectorizer.get_feature_names()))"
   ]
  },
  {
   "cell_type": "code",
   "execution_count": 305,
   "metadata": {},
   "outputs": [
    {
     "data": {
      "text/plain": [
       "Index(['abandon', 'abandoned', 'abducted', 'ability', 'able', 'aboard',\n",
       "       'abortion', 'abruptly', 'absence', 'abuse',\n",
       "       ...\n",
       "       'wrote', 'yard', 'year', 'yearold', 'yell', 'york', 'young', 'younger',\n",
       "       'youth', 'Genre'],\n",
       "      dtype='object', length=2784)"
      ]
     },
     "execution_count": 305,
     "metadata": {},
     "output_type": "execute_result"
    }
   ],
   "source": [
    "tfidf_data['Genre'] = df['Genre']"
   ]
  },
  {
   "cell_type": "code",
   "execution_count": 314,
   "metadata": {},
   "outputs": [],
   "source": [
    "cluster_range = range(1, 20)\n",
    "cluster_errors = []\n",
    "\n",
    "for num_clusters in cluster_range:\n",
    "    clusters = KMeans(num_clusters)\n",
    "    clusters.fit(words.toarray())\n",
    "    cluster_errors.append(clusters.inertia_)"
   ]
  },
  {
   "cell_type": "code",
   "execution_count": 315,
   "metadata": {},
   "outputs": [
    {
     "data": {
      "text/html": [
       "<div>\n",
       "<style scoped>\n",
       "    .dataframe tbody tr th:only-of-type {\n",
       "        vertical-align: middle;\n",
       "    }\n",
       "\n",
       "    .dataframe tbody tr th {\n",
       "        vertical-align: top;\n",
       "    }\n",
       "\n",
       "    .dataframe thead th {\n",
       "        text-align: right;\n",
       "    }\n",
       "</style>\n",
       "<table border=\"1\" class=\"dataframe\">\n",
       "  <thead>\n",
       "    <tr style=\"text-align: right;\">\n",
       "      <th></th>\n",
       "      <th>num_clusters</th>\n",
       "      <th>cluster_errors</th>\n",
       "    </tr>\n",
       "  </thead>\n",
       "  <tbody>\n",
       "    <tr>\n",
       "      <th>0</th>\n",
       "      <td>1</td>\n",
       "      <td>10831.661755</td>\n",
       "    </tr>\n",
       "    <tr>\n",
       "      <th>1</th>\n",
       "      <td>2</td>\n",
       "      <td>10776.233112</td>\n",
       "    </tr>\n",
       "    <tr>\n",
       "      <th>2</th>\n",
       "      <td>3</td>\n",
       "      <td>10740.618417</td>\n",
       "    </tr>\n",
       "    <tr>\n",
       "      <th>3</th>\n",
       "      <td>4</td>\n",
       "      <td>10715.820075</td>\n",
       "    </tr>\n",
       "    <tr>\n",
       "      <th>4</th>\n",
       "      <td>5</td>\n",
       "      <td>10691.598480</td>\n",
       "    </tr>\n",
       "    <tr>\n",
       "      <th>5</th>\n",
       "      <td>6</td>\n",
       "      <td>10653.662737</td>\n",
       "    </tr>\n",
       "    <tr>\n",
       "      <th>6</th>\n",
       "      <td>7</td>\n",
       "      <td>10630.364824</td>\n",
       "    </tr>\n",
       "    <tr>\n",
       "      <th>7</th>\n",
       "      <td>8</td>\n",
       "      <td>10608.444966</td>\n",
       "    </tr>\n",
       "    <tr>\n",
       "      <th>8</th>\n",
       "      <td>9</td>\n",
       "      <td>10587.850919</td>\n",
       "    </tr>\n",
       "    <tr>\n",
       "      <th>9</th>\n",
       "      <td>10</td>\n",
       "      <td>10560.845836</td>\n",
       "    </tr>\n",
       "  </tbody>\n",
       "</table>\n",
       "</div>"
      ],
      "text/plain": [
       "   num_clusters  cluster_errors\n",
       "0             1    10831.661755\n",
       "1             2    10776.233112\n",
       "2             3    10740.618417\n",
       "3             4    10715.820075\n",
       "4             5    10691.598480\n",
       "5             6    10653.662737\n",
       "6             7    10630.364824\n",
       "7             8    10608.444966\n",
       "8             9    10587.850919\n",
       "9            10    10560.845836"
      ]
     },
     "execution_count": 315,
     "metadata": {},
     "output_type": "execute_result"
    }
   ],
   "source": [
    "clusters_df = pd.DataFrame( { \"num_clusters\":cluster_range, \"cluster_errors\": cluster_errors } )\n",
    "clusters_df[0:10]"
   ]
  },
  {
   "cell_type": "code",
   "execution_count": 316,
   "metadata": {},
   "outputs": [
    {
     "data": {
      "text/plain": [
       "[<matplotlib.lines.Line2D at 0x14ca630b8>]"
      ]
     },
     "execution_count": 316,
     "metadata": {},
     "output_type": "execute_result"
    },
    {
     "data": {
      "image/png": "[encoded data removed]",
      "text/plain": [
       "<Figure size 864x432 with 1 Axes>"
      ]
     },
     "metadata": {},
     "output_type": "display_data"
    }
   ],
   "source": [
    "plt.figure(figsize=(12,6))\n",
    "plt.plot( clusters_df.num_clusters, clusters_df.cluster_errors, marker = \"o\" )"
   ]
  },
  {
   "cell_type": "code",
   "execution_count": 310,
   "metadata": {},
   "outputs": [
    {
     "data": {
      "text/plain": [
       "KMeans(algorithm='auto', copy_x=True, init='k-means++', max_iter=300,\n",
       "    n_clusters=10, n_init=10, n_jobs=-1, precompute_distances='auto',\n",
       "    random_state=None, tol=0.0001, verbose=0)"
      ]
     },
     "execution_count": 310,
     "metadata": {},
     "output_type": "execute_result"
    }
   ],
   "source": [
    "kmeans = KMeans(n_clusters = 10, n_jobs = -1)\n",
    "kmeans.fit(words.toarray())"
   ]
  },
  {
   "cell_type": "code",
   "execution_count": 311,
   "metadata": {},
   "outputs": [
    {
     "name": "stdout",
     "output_type": "stream",
     "text": [
      "Training set score: 0.9848754448398577\n",
      "\n",
      "Test set score: 0.42037366548042704\n"
     ]
    }
   ],
   "source": [
    "tfidf_data['clusters'] = kmeans.labels_\n",
    "\n",
    "rfc = ensemble.RandomForestClassifier()\n",
    "Y = tfidf_data['Genre']\n",
    "X = tfidf_data.drop(['Genre'], axis=1)\n",
    "\n",
    "X_train, X_test, y_train, y_test = train_test_split(X, \n",
    "                                                    Y,\n",
    "                                                    test_size=0.4,\n",
    "                                                    random_state=0)\n",
    "train = rfc.fit(X_train, y_train)\n",
    "\n",
    "print('Training set score:', rfc.score(X_train, y_train))\n",
    "print('\\nTest set score:', rfc.score(X_test, y_test))"
   ]
  },
  {
   "cell_type": "code",
   "execution_count": 312,
   "metadata": {},
   "outputs": [
    {
     "data": {
      "text/html": [
       "<div>\n",
       "<style scoped>\n",
       "    .dataframe tbody tr th:only-of-type {\n",
       "        vertical-align: middle;\n",
       "    }\n",
       "\n",
       "    .dataframe tbody tr th {\n",
       "        vertical-align: top;\n",
       "    }\n",
       "\n",
       "    .dataframe thead th {\n",
       "        text-align: right;\n",
       "    }\n",
       "</style>\n",
       "<table border=\"1\" class=\"dataframe\">\n",
       "  <thead>\n",
       "    <tr style=\"text-align: right;\">\n",
       "      <th></th>\n",
       "      <th>features</th>\n",
       "      <th>scores</th>\n",
       "    </tr>\n",
       "  </thead>\n",
       "  <tbody>\n",
       "    <tr>\n",
       "      <th>1498</th>\n",
       "      <td>love</td>\n",
       "      <td>0.009053</td>\n",
       "    </tr>\n",
       "    <tr>\n",
       "      <th>1381</th>\n",
       "      <td>kill</td>\n",
       "      <td>0.007867</td>\n",
       "    </tr>\n",
       "    <tr>\n",
       "      <th>1454</th>\n",
       "      <td>life</td>\n",
       "      <td>0.006081</td>\n",
       "    </tr>\n",
       "    <tr>\n",
       "      <th>867</th>\n",
       "      <td>escape</td>\n",
       "      <td>0.005999</td>\n",
       "    </tr>\n",
       "    <tr>\n",
       "      <th>1382</th>\n",
       "      <td>killed</td>\n",
       "      <td>0.005735</td>\n",
       "    </tr>\n",
       "    <tr>\n",
       "      <th>2783</th>\n",
       "      <td>clusters</td>\n",
       "      <td>0.005292</td>\n",
       "    </tr>\n",
       "    <tr>\n",
       "      <th>651</th>\n",
       "      <td>death</td>\n",
       "      <td>0.004128</td>\n",
       "    </tr>\n",
       "    <tr>\n",
       "      <th>1824</th>\n",
       "      <td>police</td>\n",
       "      <td>0.004096</td>\n",
       "    </tr>\n",
       "    <tr>\n",
       "      <th>2315</th>\n",
       "      <td>son</td>\n",
       "      <td>0.004087</td>\n",
       "    </tr>\n",
       "    <tr>\n",
       "      <th>2780</th>\n",
       "      <td>young</td>\n",
       "      <td>0.003621</td>\n",
       "    </tr>\n",
       "  </tbody>\n",
       "</table>\n",
       "</div>"
      ],
      "text/plain": [
       "      features    scores\n",
       "1498      love  0.009053\n",
       "1381      kill  0.007867\n",
       "1454      life  0.006081\n",
       "867     escape  0.005999\n",
       "1382    killed  0.005735\n",
       "2783  clusters  0.005292\n",
       "651      death  0.004128\n",
       "1824    police  0.004096\n",
       "2315       son  0.004087\n",
       "2780     young  0.003621"
      ]
     },
     "execution_count": 312,
     "metadata": {},
     "output_type": "execute_result"
    }
   ],
   "source": [
    "importance = pd.DataFrame()\n",
    "importance['features'] = X_train.columns\n",
    "importance['scores'] = rfc.feature_importances_\n",
    "\n",
    "importance.sort_values('scores', ascending=False).head(10)"
   ]
  },
  {
   "cell_type": "code",
   "execution_count": 27,
   "metadata": {},
   "outputs": [
    {
     "name": "stdout",
     "output_type": "stream",
     "text": [
      "done!\n"
     ]
    }
   ],
   "source": [
    "import gensim\n",
    "from gensim.models import word2vec\n",
    "\n",
    "model = word2vec.Word2Vec(\n",
    "    data,\n",
    "    workers=4,     # Number of threads to run in parallel (if your computer does parallel processing).\n",
    "    min_count=10,  # Minimum word count threshold.\n",
    "    window=6,      # Number of words around target word to consider.\n",
    "    sg=0,          # Use CBOW because our corpus is small.\n",
    "    sample=1e-3 ,  # Penalize frequent words.\n",
    "    size=300,      # Word vector length.\n",
    "    hs=1           # Use hierarchical softmax.\n",
    ")\n",
    "\n",
    "print('done!')"
   ]
  },
  {
   "cell_type": "code",
   "execution_count": 28,
   "metadata": {},
   "outputs": [
    {
     "data": {
      "text/plain": [
       "dict_keys(['[', \"'\", 'p', 'r', 'o', 'h', 'i', 'b', 't', 'n', ',', ' ', 'k', 'l', 'a', 'm', 'u', 'f', 'd', 's', 'c', 'e', 'w', 'v', 'j', 'g', 'y', 'x', 'z', 'q', ']'])"
      ]
     },
     "execution_count": 28,
     "metadata": {},
     "output_type": "execute_result"
    }
   ],
   "source": [
    "# List of words in model.\n",
    "vocab = model.wv.vocab.keys()\n",
    "vocab"
   ]
  },
  {
   "cell_type": "code",
   "execution_count": 28,
   "metadata": {},
   "outputs": [
    {
     "data": {
      "text/plain": [
       "KMeans(algorithm='auto', copy_x=True, init='k-means++', max_iter=300,\n",
       "    n_clusters=10, n_init=10, n_jobs=-1, precompute_distances='auto',\n",
       "    random_state=None, tol=0.0001, verbose=0)"
      ]
     },
     "execution_count": 28,
     "metadata": {},
     "output_type": "execute_result"
    }
   ],
   "source": [
    "# KMEANS with TFIDF data\n",
    "from sklearn.cluster import KMeans\n",
    "\n",
    "#X = tfidf_data.iloc[:, :3000]\n",
    "#y = tfidf_data.iloc[:, 48099]\n",
    "\n",
    "kmeans = KMeans(n_clusters = 10, n_jobs = -1)\n",
    "kmeans.fit(words)"
   ]
  },
  {
   "cell_type": "code",
   "execution_count": 313,
   "metadata": {},
   "outputs": [
    {
     "name": "stdout",
     "output_type": "stream",
     "text": [
      "0 : michael, village, villager, father, son, wa, wife, life, young, story\n",
      "1 : mother, father, wa, house, family, school, child, home, tell, life\n",
      "2 : love, family, father, marriage, fall, son, brother, come, friend, marry\n",
      "3 : police, kill, wa, men, escape, killed, gang, officer, man, car\n",
      "4 : film, story, movie, life, character, love, role, woman, played, play\n",
      "5 : john, paul, mike, sam, max, billy, wa, tell, house, home\n",
      "6 : life, woman, new, friend, man, wife, young, wa, team, family\n",
      "7 : joe, harry, george, wa, new, father, friend, money, home, wife\n",
      "8 : ben, house, car, tell, family, wa, home, martin, friend, school\n",
      "9 : jack, father, wa, tell, new, life, try, wife, boy, home\n"
     ]
    }
   ],
   "source": [
    "common_words = kmeans.cluster_centers_.argsort()[:,-1:-11:-1]\n",
    "for num, centroid in enumerate(common_words):\n",
    "    print(str(num) + ' : ' + ', '.join(features[word] for word in centroid))"
   ]
  },
  {
   "cell_type": "code",
   "execution_count": 31,
   "metadata": {},
   "outputs": [],
   "source": [
    "movies['cluster'] = kmeans.labels_"
   ]
  },
  {
   "cell_type": "code",
   "execution_count": 32,
   "metadata": {},
   "outputs": [
    {
     "data": {
      "image/png": "[encoded data removed]",
      "text/plain": [
       "<Figure size 2160x1080 with 2 Axes>"
      ]
     },
     "metadata": {},
     "output_type": "display_data"
    }
   ],
   "source": [
    "clusters = movies.groupby(['cluster', 'Genre']).size()\n",
    "fig2, ax2 = plt.subplots(figsize = (30, 15))\n",
    "sns.heatmap(clusters.unstack(level = 'Genre'), ax = ax2, cmap = 'Reds')\n",
    "\n",
    "ax2.set_xlabel('Genre', fontdict = {'weight': 'bold', 'size': 24})\n",
    "ax2.set_ylabel('cluster', fontdict = {'weight': 'bold', 'size': 24})\n",
    "for label in ax2.get_xticklabels():\n",
    "    label.set_size(16)\n",
    "    label.set_weight(\"bold\")\n",
    "for label in ax2.get_yticklabels():\n",
    "    label.set_size(16)\n",
    "    label.set_weight(\"bold\")"
   ]
  },
  {
   "cell_type": "code",
   "execution_count": null,
   "metadata": {},
   "outputs": [],
   "source": []
  }
 ],
 "metadata": {
  "kernelspec": {
   "display_name": "Python 3",
   "language": "python",
   "name": "python3"
  },
  "language_info": {
   "codemirror_mode": {
    "name": "ipython",
    "version": 3
   },
   "file_extension": ".py",
   "mimetype": "text/x-python",
   "name": "python",
   "nbconvert_exporter": "python",
   "pygments_lexer": "ipython3",
   "version": "3.7.0"
  }
 },
 "nbformat": 4,
 "nbformat_minor": 2
}
