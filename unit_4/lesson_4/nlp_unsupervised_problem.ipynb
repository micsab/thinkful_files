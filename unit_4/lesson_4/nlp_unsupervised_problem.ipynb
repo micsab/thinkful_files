{
 "cells": [
  {
   "cell_type": "code",
   "execution_count": 1,
   "metadata": {},
   "outputs": [
    {
     "name": "stdout",
     "output_type": "stream",
     "text": [
      "[nltk_data] Downloading package stopwords to C:\\nltk_data...\n",
      "[nltk_data]   Package stopwords is already up-to-date!\n",
      "[nltk_data] Downloading package punkt to C:\\nltk_data...\n",
      "[nltk_data]   Unzipping tokenizers\\punkt.zip.\n",
      "[nltk_data] Downloading package wordnet to C:\\nltk_data...\n",
      "[nltk_data]   Unzipping corpora\\wordnet.zip.\n",
      "[nltk_data] Downloading package averaged_perceptron_tagger to\n",
      "[nltk_data]     C:\\nltk_data...\n",
      "[nltk_data]   Unzipping taggers\\averaged_perceptron_tagger.zip.\n"
     ]
    }
   ],
   "source": [
    "import numpy as np\n",
    "import pandas as pd\n",
    "import scipy\n",
    "import matplotlib.pyplot as plt\n",
    "import seaborn as sns\n",
    "import nltk\n",
    "import re\n",
    "nltk.download('stopwords')\n",
    "nltk.download('punkt')\n",
    "nltk.download('wordnet')\n",
    "nltk.download('averaged_perceptron_tagger')\n",
    "%matplotlib inline"
   ]
  },
  {
   "cell_type": "code",
   "execution_count": 2,
   "metadata": {},
   "outputs": [],
   "source": [
    "s1 = (\"The best Monty Python sketch is the one about the dead parrot, I laughed so hard.\")\n",
    "s1 = re.sub(r'[^\\w\\s]','',s1)\n",
    "\n",
    "s2 = (\"I laugh when I think about Python's Ministry of Silly Walks sketch, it is funny, funny, funny, the best!\")\n",
    "s2 = re.sub(r'[^\\w\\s]','',s2)\n",
    "\n",
    "s3 = (\"Chocolate is the best ice cream dessert topping, with a great taste.\")\n",
    "s3 = re.sub(r'[^\\w\\s]','',s3)\n",
    "\n",
    "s4 = (\"The Lumberjack Song is the funniest Monty Python bit: I can't think of it without laughing.\")\n",
    "s4 = re.sub(r'[^\\w\\s]','',s4)\n",
    "\n",
    "s5 = (\"I would rather put strawberries on my ice cream for dessert, they have the best taste.\")\n",
    "s5 = re.sub(r'[^\\w\\s]','',s5)\n",
    "\n",
    "s6 = (\"The taste of caramel is a fantastic accompaniment to tasty mint ice cream.\")\n",
    "s6 = re.sub(r'[^\\w\\s]','',s6)\n"
   ]
  },
  {
   "cell_type": "code",
   "execution_count": 3,
   "metadata": {},
   "outputs": [],
   "source": [
    "bow1 = s1.split(\" \")\n",
    "bow2 = s2.split(\" \")\n",
    "bow3 = s3.split(\" \")\n",
    "bow4 = s4.split(\" \")\n",
    "bow5 = s5.split(\" \")\n",
    "bow6 = s6.split(\" \")"
   ]
  },
  {
   "cell_type": "code",
   "execution_count": 4,
   "metadata": {},
   "outputs": [
    {
     "ename": "AttributeError",
     "evalue": "'str' object has no attribute 'is_punct'",
     "output_type": "error",
     "traceback": [
      "\u001b[1;31m---------------------------------------------------------------------------\u001b[0m",
      "\u001b[1;31mAttributeError\u001b[0m                            Traceback (most recent call last)",
      "\u001b[1;32m<ipython-input-4-9a107bc8cdc2>\u001b[0m in \u001b[0;36m<module>\u001b[1;34m()\u001b[0m\n\u001b[0;32m     14\u001b[0m     \u001b[1;32mreturn\u001b[0m \u001b[0mCounter\u001b[0m\u001b[1;33m(\u001b[0m\u001b[0mwords\u001b[0m\u001b[1;33m)\u001b[0m\u001b[1;33m\u001b[0m\u001b[0m\n\u001b[0;32m     15\u001b[0m \u001b[1;33m\u001b[0m\u001b[0m\n\u001b[1;32m---> 16\u001b[1;33m \u001b[0mword_frequencies\u001b[0m\u001b[1;33m(\u001b[0m\u001b[0mbow1\u001b[0m\u001b[1;33m)\u001b[0m\u001b[1;33m\u001b[0m\u001b[0m\n\u001b[0m",
      "\u001b[1;32m<ipython-input-4-9a107bc8cdc2>\u001b[0m in \u001b[0;36mword_frequencies\u001b[1;34m(text, include_stop)\u001b[0m\n\u001b[0;32m      8\u001b[0m     \u001b[0mwords\u001b[0m \u001b[1;33m=\u001b[0m \u001b[1;33m[\u001b[0m\u001b[1;33m]\u001b[0m\u001b[1;33m\u001b[0m\u001b[0m\n\u001b[0;32m      9\u001b[0m     \u001b[1;32mfor\u001b[0m \u001b[0mtoken\u001b[0m \u001b[1;32min\u001b[0m \u001b[0mtext\u001b[0m\u001b[1;33m:\u001b[0m\u001b[1;33m\u001b[0m\u001b[0m\n\u001b[1;32m---> 10\u001b[1;33m         \u001b[1;32mif\u001b[0m \u001b[1;32mnot\u001b[0m \u001b[0mtoken\u001b[0m\u001b[1;33m.\u001b[0m\u001b[0mis_punct\u001b[0m \u001b[1;32mand\u001b[0m \u001b[1;33m(\u001b[0m\u001b[1;32mnot\u001b[0m \u001b[0mtoken\u001b[0m\u001b[1;33m.\u001b[0m\u001b[0mis_stop\u001b[0m \u001b[1;32mor\u001b[0m \u001b[0minclude_stop\u001b[0m\u001b[1;33m)\u001b[0m\u001b[1;33m:\u001b[0m\u001b[1;33m\u001b[0m\u001b[0m\n\u001b[0m\u001b[0;32m     11\u001b[0m             \u001b[0mwords\u001b[0m\u001b[1;33m.\u001b[0m\u001b[0mappend\u001b[0m\u001b[1;33m(\u001b[0m\u001b[0mtoken\u001b[0m\u001b[1;33m.\u001b[0m\u001b[0mtext\u001b[0m\u001b[1;33m)\u001b[0m\u001b[1;33m\u001b[0m\u001b[0m\n\u001b[0;32m     12\u001b[0m \u001b[1;33m\u001b[0m\u001b[0m\n",
      "\u001b[1;31mAttributeError\u001b[0m: 'str' object has no attribute 'is_punct'"
     ]
    }
   ],
   "source": [
    "from collections import Counter\n",
    "\n",
    "# Utility function to calculate how frequently words appear in the text.\n",
    "def word_frequencies(text, include_stop=True):\n",
    "    \n",
    "    # Build a list of words.\n",
    "    # Strip out punctuation and, optionally, stop words.\n",
    "    words = []\n",
    "    for token in text:\n",
    "        if not token.is_punct and (not token.is_stop or include_stop):\n",
    "            words.append(token.text)\n",
    "            \n",
    "    # Build and return a Counter object containing word counts.\n",
    "    return Counter(words)\n",
    "\n",
    "word_frequencies(bow1)"
   ]
  },
  {
   "cell_type": "code",
   "execution_count": 365,
   "metadata": {},
   "outputs": [],
   "source": []
  },
  {
   "cell_type": "code",
   "execution_count": 366,
   "metadata": {},
   "outputs": [
    {
     "data": {
      "text/plain": [
       "'The taste of caramel be a fantastic accompaniment to tasty mint ice cream'"
      ]
     },
     "execution_count": 366,
     "metadata": {},
     "output_type": "execute_result"
    }
   ],
   "source": [
    "s1 = lemmatize_sentence(s1)\n",
    "s2 = lemmatize_sentence(s2)\n",
    "s3 = lemmatize_sentence(s3)\n",
    "s4 = lemmatize_sentence(s4)\n",
    "s5 = lemmatize_sentence(s5)\n",
    "s6 = lemmatize_sentence(s6)\n",
    "s6"
   ]
  },
  {
   "cell_type": "code",
   "execution_count": 355,
   "metadata": {},
   "outputs": [],
   "source": [
    "bow1 = s1.split(\" \")\n",
    "bow2 = s2.split(\" \")\n",
    "bow3 = s3.split(\" \")\n",
    "bow4 = s4.split(\" \")\n",
    "bow5 = s5.split(\" \")\n",
    "bow6 = s6.split(\" \")"
   ]
  },
  {
   "cell_type": "code",
   "execution_count": 5,
   "metadata": {},
   "outputs": [],
   "source": [
    "from nltk.corpus import stopwords\n",
    "from nltk.tokenize import word_tokenize\n",
    "\n",
    "stop_words = set(stopwords.words('english'))\n",
    "\n",
    "bow1 = [w for w in bow1 if not w in stop_words]\n",
    "bow2 = [w for w in bow2 if not w in stop_words]\n",
    "bow3 = [w for w in bow3 if not w in stop_words]\n",
    "bow4 = [w for w in bow4 if not w in stop_words]\n",
    "bow5 = [w for w in bow5 if not w in stop_words]\n",
    "bow6 = [w for w in bow6 if not w in stop_words]"
   ]
  },
  {
   "cell_type": "code",
   "execution_count": null,
   "metadata": {},
   "outputs": [],
   "source": []
  },
  {
   "cell_type": "code",
   "execution_count": null,
   "metadata": {},
   "outputs": [],
   "source": []
  },
  {
   "cell_type": "code",
   "execution_count": null,
   "metadata": {},
   "outputs": [],
   "source": []
  },
  {
   "cell_type": "code",
   "execution_count": 357,
   "metadata": {},
   "outputs": [],
   "source": [
    "wordset = set(bow1).union(set(bow2)).union(set(bow3)).union(set(bow4)).union(set(bow5)).union(set(bow6))"
   ]
  },
  {
   "cell_type": "code",
   "execution_count": 359,
   "metadata": {},
   "outputs": [
    {
     "data": {
      "text/plain": [
       "{'Chocolate',\n",
       " 'I',\n",
       " 'Lumberjack',\n",
       " 'Ministry',\n",
       " 'Monty',\n",
       " 'Python',\n",
       " 'Pythons',\n",
       " 'Silly',\n",
       " 'Song',\n",
       " 'The',\n",
       " 'Walks',\n",
       " 'accompaniment',\n",
       " 'best',\n",
       " 'bit',\n",
       " 'cant',\n",
       " 'caramel',\n",
       " 'cream',\n",
       " 'dead',\n",
       " 'dessert',\n",
       " 'fantastic',\n",
       " 'funny',\n",
       " 'great',\n",
       " 'hard',\n",
       " 'ice',\n",
       " 'laugh',\n",
       " 'mint',\n",
       " 'one',\n",
       " 'parrot',\n",
       " 'put',\n",
       " 'rather',\n",
       " 'sketch',\n",
       " 'strawberry',\n",
       " 'taste',\n",
       " 'tasty',\n",
       " 'think',\n",
       " 'top',\n",
       " 'without',\n",
       " 'would'}"
      ]
     },
     "execution_count": 359,
     "metadata": {},
     "output_type": "execute_result"
    }
   ],
   "source": [
    "wordset"
   ]
  },
  {
   "cell_type": "code",
   "execution_count": 358,
   "metadata": {},
   "outputs": [
    {
     "data": {
      "text/plain": [
       "{'put': 0,\n",
       " 'accompaniment': 0,\n",
       " 'laugh': 0,\n",
       " 'caramel': 0,\n",
       " 'Silly': 0,\n",
       " 'dead': 0,\n",
       " 'fantastic': 0,\n",
       " 'rather': 0,\n",
       " 'cant': 0,\n",
       " 'Pythons': 0,\n",
       " 'hard': 0,\n",
       " 'Lumberjack': 0,\n",
       " 'funny': 0,\n",
       " 'Song': 0,\n",
       " 'think': 0,\n",
       " 'one': 0,\n",
       " 'mint': 0,\n",
       " 'Walks': 0,\n",
       " 'Python': 0,\n",
       " 'Monty': 0,\n",
       " 'top': 0,\n",
       " 'Chocolate': 0,\n",
       " 'without': 0,\n",
       " 'cream': 0,\n",
       " 'great': 0,\n",
       " 'The': 0,\n",
       " 'I': 0,\n",
       " 'parrot': 0,\n",
       " 'taste': 0,\n",
       " 'ice': 0,\n",
       " 'tasty': 0,\n",
       " 'Ministry': 0,\n",
       " 'dessert': 0,\n",
       " 'strawberry': 0,\n",
       " 'sketch': 0,\n",
       " 'would': 0,\n",
       " 'bit': 0,\n",
       " 'best': 0}"
      ]
     },
     "execution_count": 358,
     "metadata": {},
     "output_type": "execute_result"
    }
   ],
   "source": [
    "wordDict1 = dict.fromkeys(wordset, 0) \n",
    "wordDict2 = dict.fromkeys(wordset, 0)\n",
    "wordDict3 = dict.fromkeys(wordset, 0)\n",
    "wordDict4 = dict.fromkeys(wordset, 0)\n",
    "wordDict5 = dict.fromkeys(wordset, 0)\n",
    "wordDict6 = dict.fromkeys(wordset, 0)\n",
    "wordDict1"
   ]
  },
  {
   "cell_type": "code",
   "execution_count": 328,
   "metadata": {},
   "outputs": [],
   "source": [
    "for word in bow1:\n",
    "    wordDict1[word]+=1\n",
    "    \n",
    "for word in bow2:\n",
    "    wordDict2[word]+=1\n",
    "    \n",
    "for word in bow3:\n",
    "    wordDict3[word]+=1\n",
    "    \n",
    "for word in bow4:\n",
    "    wordDict4[word]+=1\n",
    "    \n",
    "for word in bow5:\n",
    "    wordDict5[word]+=1\n",
    "    \n",
    "for word in bow6:\n",
    "    wordDict6[word]+=1"
   ]
  },
  {
   "cell_type": "code",
   "execution_count": 351,
   "metadata": {},
   "outputs": [
    {
     "data": {
      "text/plain": [
       "{'put': 0,\n",
       " 'accompaniment': 0,\n",
       " 'laugh': 0,\n",
       " 'caramel': 0,\n",
       " 'Silly': 0,\n",
       " 'dead': 0,\n",
       " 'fantastic': 0,\n",
       " 'rather': 0,\n",
       " 'cant': 0,\n",
       " 'Pythons': 0,\n",
       " 'hard': 0,\n",
       " 'Lumberjack': 0,\n",
       " 'funny': 0,\n",
       " 'Song': 0,\n",
       " 'think': 0,\n",
       " 'one': 0,\n",
       " 'mint': 0,\n",
       " 'Walks': 0,\n",
       " 'Python': 0,\n",
       " 'Monty': 0,\n",
       " 'top': 0,\n",
       " 'Chocolate': 0,\n",
       " 'without': 0,\n",
       " 'cream': 0,\n",
       " 'great': 0,\n",
       " 'The': 0,\n",
       " 'I': 0,\n",
       " 'parrot': 0,\n",
       " 'taste': 0,\n",
       " 'ice': 0,\n",
       " 'tasty': 0,\n",
       " 'Ministry': 0,\n",
       " 'dessert': 0,\n",
       " 'strawberry': 0,\n",
       " 'sketch': 0,\n",
       " 'would': 0,\n",
       " 'bit': 0,\n",
       " 'best': 0}"
      ]
     },
     "execution_count": 351,
     "metadata": {},
     "output_type": "execute_result"
    }
   ],
   "source": [
    "wordDict1"
   ]
  },
  {
   "cell_type": "code",
   "execution_count": 291,
   "metadata": {},
   "outputs": [
    {
     "data": {
      "text/html": [
       "<div>\n",
       "<style scoped>\n",
       "    .dataframe tbody tr th:only-of-type {\n",
       "        vertical-align: middle;\n",
       "    }\n",
       "\n",
       "    .dataframe tbody tr th {\n",
       "        vertical-align: top;\n",
       "    }\n",
       "\n",
       "    .dataframe thead th {\n",
       "        text-align: right;\n",
       "    }\n",
       "</style>\n",
       "<table border=\"1\" class=\"dataframe\">\n",
       "  <thead>\n",
       "    <tr style=\"text-align: right;\">\n",
       "      <th></th>\n",
       "      <th>Chocolate</th>\n",
       "      <th>I</th>\n",
       "      <th>Lumberjack</th>\n",
       "      <th>Ministry</th>\n",
       "      <th>Monty</th>\n",
       "      <th>Python</th>\n",
       "      <th>Pythons</th>\n",
       "      <th>Silly</th>\n",
       "      <th>Song</th>\n",
       "      <th>The</th>\n",
       "      <th>...</th>\n",
       "      <th>put</th>\n",
       "      <th>rather</th>\n",
       "      <th>sketch</th>\n",
       "      <th>strawberries</th>\n",
       "      <th>taste</th>\n",
       "      <th>tasty</th>\n",
       "      <th>think</th>\n",
       "      <th>topping</th>\n",
       "      <th>without</th>\n",
       "      <th>would</th>\n",
       "    </tr>\n",
       "  </thead>\n",
       "  <tbody>\n",
       "    <tr>\n",
       "      <th>0</th>\n",
       "      <td>0</td>\n",
       "      <td>2</td>\n",
       "      <td>0</td>\n",
       "      <td>0</td>\n",
       "      <td>2</td>\n",
       "      <td>2</td>\n",
       "      <td>0</td>\n",
       "      <td>0</td>\n",
       "      <td>0</td>\n",
       "      <td>2</td>\n",
       "      <td>...</td>\n",
       "      <td>0</td>\n",
       "      <td>0</td>\n",
       "      <td>2</td>\n",
       "      <td>0</td>\n",
       "      <td>0</td>\n",
       "      <td>0</td>\n",
       "      <td>0</td>\n",
       "      <td>0</td>\n",
       "      <td>0</td>\n",
       "      <td>0</td>\n",
       "    </tr>\n",
       "    <tr>\n",
       "      <th>1</th>\n",
       "      <td>0</td>\n",
       "      <td>4</td>\n",
       "      <td>0</td>\n",
       "      <td>2</td>\n",
       "      <td>0</td>\n",
       "      <td>0</td>\n",
       "      <td>2</td>\n",
       "      <td>2</td>\n",
       "      <td>0</td>\n",
       "      <td>0</td>\n",
       "      <td>...</td>\n",
       "      <td>0</td>\n",
       "      <td>0</td>\n",
       "      <td>2</td>\n",
       "      <td>0</td>\n",
       "      <td>0</td>\n",
       "      <td>0</td>\n",
       "      <td>2</td>\n",
       "      <td>0</td>\n",
       "      <td>0</td>\n",
       "      <td>0</td>\n",
       "    </tr>\n",
       "    <tr>\n",
       "      <th>2</th>\n",
       "      <td>2</td>\n",
       "      <td>0</td>\n",
       "      <td>0</td>\n",
       "      <td>0</td>\n",
       "      <td>0</td>\n",
       "      <td>0</td>\n",
       "      <td>0</td>\n",
       "      <td>0</td>\n",
       "      <td>0</td>\n",
       "      <td>0</td>\n",
       "      <td>...</td>\n",
       "      <td>0</td>\n",
       "      <td>0</td>\n",
       "      <td>0</td>\n",
       "      <td>0</td>\n",
       "      <td>2</td>\n",
       "      <td>0</td>\n",
       "      <td>0</td>\n",
       "      <td>2</td>\n",
       "      <td>0</td>\n",
       "      <td>0</td>\n",
       "    </tr>\n",
       "    <tr>\n",
       "      <th>3</th>\n",
       "      <td>0</td>\n",
       "      <td>2</td>\n",
       "      <td>2</td>\n",
       "      <td>0</td>\n",
       "      <td>2</td>\n",
       "      <td>2</td>\n",
       "      <td>0</td>\n",
       "      <td>0</td>\n",
       "      <td>2</td>\n",
       "      <td>2</td>\n",
       "      <td>...</td>\n",
       "      <td>0</td>\n",
       "      <td>0</td>\n",
       "      <td>0</td>\n",
       "      <td>0</td>\n",
       "      <td>0</td>\n",
       "      <td>0</td>\n",
       "      <td>2</td>\n",
       "      <td>0</td>\n",
       "      <td>2</td>\n",
       "      <td>0</td>\n",
       "    </tr>\n",
       "    <tr>\n",
       "      <th>4</th>\n",
       "      <td>0</td>\n",
       "      <td>2</td>\n",
       "      <td>0</td>\n",
       "      <td>0</td>\n",
       "      <td>0</td>\n",
       "      <td>0</td>\n",
       "      <td>0</td>\n",
       "      <td>0</td>\n",
       "      <td>0</td>\n",
       "      <td>0</td>\n",
       "      <td>...</td>\n",
       "      <td>2</td>\n",
       "      <td>2</td>\n",
       "      <td>0</td>\n",
       "      <td>2</td>\n",
       "      <td>2</td>\n",
       "      <td>0</td>\n",
       "      <td>0</td>\n",
       "      <td>0</td>\n",
       "      <td>0</td>\n",
       "      <td>2</td>\n",
       "    </tr>\n",
       "    <tr>\n",
       "      <th>5</th>\n",
       "      <td>0</td>\n",
       "      <td>0</td>\n",
       "      <td>0</td>\n",
       "      <td>0</td>\n",
       "      <td>0</td>\n",
       "      <td>0</td>\n",
       "      <td>0</td>\n",
       "      <td>0</td>\n",
       "      <td>0</td>\n",
       "      <td>2</td>\n",
       "      <td>...</td>\n",
       "      <td>0</td>\n",
       "      <td>0</td>\n",
       "      <td>0</td>\n",
       "      <td>0</td>\n",
       "      <td>2</td>\n",
       "      <td>2</td>\n",
       "      <td>0</td>\n",
       "      <td>0</td>\n",
       "      <td>0</td>\n",
       "      <td>0</td>\n",
       "    </tr>\n",
       "  </tbody>\n",
       "</table>\n",
       "<p>6 rows × 41 columns</p>\n",
       "</div>"
      ],
      "text/plain": [
       "   Chocolate  I  Lumberjack  Ministry  Monty  Python  Pythons  Silly  Song  \\\n",
       "0          0  2           0         0      2       2        0      0     0   \n",
       "1          0  4           0         2      0       0        2      2     0   \n",
       "2          2  0           0         0      0       0        0      0     0   \n",
       "3          0  2           2         0      2       2        0      0     2   \n",
       "4          0  2           0         0      0       0        0      0     0   \n",
       "5          0  0           0         0      0       0        0      0     0   \n",
       "\n",
       "   The  ...    put  rather  sketch  strawberries  taste  tasty  think  \\\n",
       "0    2  ...      0       0       2             0      0      0      0   \n",
       "1    0  ...      0       0       2             0      0      0      2   \n",
       "2    0  ...      0       0       0             0      2      0      0   \n",
       "3    2  ...      0       0       0             0      0      0      2   \n",
       "4    0  ...      2       2       0             2      2      0      0   \n",
       "5    2  ...      0       0       0             0      2      2      0   \n",
       "\n",
       "   topping  without  would  \n",
       "0        0        0      0  \n",
       "1        0        0      0  \n",
       "2        2        0      0  \n",
       "3        0        2      0  \n",
       "4        0        0      2  \n",
       "5        0        0      0  \n",
       "\n",
       "[6 rows x 41 columns]"
      ]
     },
     "execution_count": 291,
     "metadata": {},
     "output_type": "execute_result"
    }
   ],
   "source": [
    "pd.DataFrame([wordDict1, wordDict2, wordDict3, wordDict4, wordDict5, wordDict6])"
   ]
  },
  {
   "cell_type": "code",
   "execution_count": 292,
   "metadata": {},
   "outputs": [],
   "source": [
    "def computeTF(wordDict, bow):\n",
    "    tfDict = {}\n",
    "    bowCount = len(bow)\n",
    "    for word, count in wordDict.items():\n",
    "        tfDict[word] = count/float(bowCount)\n",
    "    return tfDict"
   ]
  },
  {
   "cell_type": "code",
   "execution_count": 293,
   "metadata": {},
   "outputs": [],
   "source": [
    "tfBow1 = computeTF(wordDict1, bow1)\n",
    "tfBow2 = computeTF(wordDict2, bow1)\n",
    "tfBow3 = computeTF(wordDict3, bow1)\n",
    "tfBow4 = computeTF(wordDict4, bow1)\n",
    "tfBow5 = computeTF(wordDict5, bow1)\n",
    "tfBow6 = computeTF(wordDict6, bow1)"
   ]
  },
  {
   "cell_type": "code",
   "execution_count": 294,
   "metadata": {},
   "outputs": [],
   "source": [
    "def computeIDF(docList):\n",
    "    import math\n",
    "    idfDict = {}\n",
    "    N = len(docList)\n",
    "    \n",
    "    idfDict = dict.fromkeys(docList[0].keys(), 0)\n",
    "    for doc in docList:\n",
    "        for word, val in doc.items():\n",
    "            if val > 0:\n",
    "                idfDict[word] += 1\n",
    "                \n",
    "    for word, val in idfDict.items():\n",
    "        idfDict[word] = math.log10(N / float(val))\n",
    "        \n",
    "    return idfDict    "
   ]
  },
  {
   "cell_type": "code",
   "execution_count": 295,
   "metadata": {},
   "outputs": [],
   "source": [
    "idfs = computeIDF([wordDict1, wordDict2, wordDict3, wordDict4, wordDict5, wordDict6])"
   ]
  },
  {
   "cell_type": "code",
   "execution_count": 296,
   "metadata": {},
   "outputs": [],
   "source": [
    "def computeTFIDF(tfBow, idfs):\n",
    "    tfidf = {}\n",
    "    for word, val in tfBow.items():\n",
    "        tfidf[word] = val*idfs[word]\n",
    "    return tfidf"
   ]
  },
  {
   "cell_type": "code",
   "execution_count": 297,
   "metadata": {},
   "outputs": [],
   "source": [
    "tfidfBow1 = computeTFIDF(tfBow1, idfs)"
   ]
  },
  {
   "cell_type": "code",
   "execution_count": 298,
   "metadata": {},
   "outputs": [
    {
     "data": {
      "text/plain": [
       "{'put': 0.0,\n",
       " 'laughing': 0.0,\n",
       " 'strawberries': 0.0,\n",
       " 'accompaniment': 0.0,\n",
       " 'laugh': 0.0,\n",
       " 'caramel': 0.0,\n",
       " 'topping': 0.0,\n",
       " 'Silly': 0.0,\n",
       " 'dead': 0.14148204552429886,\n",
       " 'fantastic': 0.0,\n",
       " 'laughed': 0.14148204552429886,\n",
       " 'rather': 0.0,\n",
       " 'cant': 0.0,\n",
       " 'Pythons': 0.0,\n",
       " 'hard': 0.14148204552429886,\n",
       " 'Lumberjack': 0.0,\n",
       " 'funny': 0.0,\n",
       " 'Song': 0.0,\n",
       " 'think': 0.0,\n",
       " 'one': 0.14148204552429886,\n",
       " 'funniest': 0.0,\n",
       " 'mint': 0.0,\n",
       " 'Walks': 0.0,\n",
       " 'Python': 0.08674931903993863,\n",
       " 'Monty': 0.08674931903993863,\n",
       " 'without': 0.0,\n",
       " 'Chocolate': 0.0,\n",
       " 'cream': 0.0,\n",
       " 'great': 0.0,\n",
       " 'The': 0.05473272648436022,\n",
       " 'I': 0.032016592555578406,\n",
       " 'parrot': 0.14148204552429886,\n",
       " 'taste': 0.0,\n",
       " 'ice': 0.0,\n",
       " 'tasty': 0.0,\n",
       " 'Ministry': 0.0,\n",
       " 'dessert': 0.0,\n",
       " 'sketch': 0.08674931903993863,\n",
       " 'would': 0.0,\n",
       " 'bit': 0.0,\n",
       " 'best': 0.032016592555578406}"
      ]
     },
     "execution_count": 298,
     "metadata": {},
     "output_type": "execute_result"
    }
   ],
   "source": [
    "tfidfBow1"
   ]
  },
  {
   "cell_type": "code",
   "execution_count": null,
   "metadata": {},
   "outputs": [],
   "source": []
  }
 ],
 "metadata": {
  "kernelspec": {
   "display_name": "Python 3",
   "language": "python",
   "name": "python3"
  },
  "language_info": {
   "codemirror_mode": {
    "name": "ipython",
    "version": 3
   },
   "file_extension": ".py",
   "mimetype": "text/x-python",
   "name": "python",
   "nbconvert_exporter": "python",
   "pygments_lexer": "ipython3",
   "version": "3.6.6"
  }
 },
 "nbformat": 4,
 "nbformat_minor": 2
}
