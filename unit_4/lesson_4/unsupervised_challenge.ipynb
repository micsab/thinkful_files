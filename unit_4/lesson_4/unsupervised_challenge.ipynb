{
 "cells": [
  {
   "cell_type": "code",
   "execution_count": 1,
   "metadata": {},
   "outputs": [
    {
     "name": "stdout",
     "output_type": "stream",
     "text": [
      "[nltk_data] Downloading package wordnet to C:\\nltk_data...\n",
      "[nltk_data]   Package wordnet is already up-to-date!\n"
     ]
    }
   ],
   "source": [
    "%matplotlib inline\n",
    "import numpy as np\n",
    "import pandas as pd\n",
    "import scipy\n",
    "import sklearn\n",
    "import spacy\n",
    "import matplotlib.pyplot as plt\n",
    "import seaborn as sns\n",
    "import re \n",
    "import string\n",
    "import nltk\n",
    "nltk.download('wordnet')\n",
    "from nltk.corpus import gutenberg, stopwords\n",
    "from nltk.stem.snowball import SnowballStemmer\n",
    "from sklearn.feature_extraction.text import CountVectorizer\n",
    "from nltk.tokenize import RegexpTokenizer\n",
    "from collections import Counter"
   ]
  },
  {
   "cell_type": "markdown",
   "metadata": {},
   "source": [
    "## NLP Unsupervised: Wikipedia Movie Plot Summaries ##\n",
    "\n",
    "For me unsupervised capstone, I decided to see if I could parse out language from the plot summaries of movies on wikipedia. in order to look for commonalities or differences used in the language between movies of different genres.  I tried a couple of different text processing techniques, including TFIDF and CountVectorizer.  I also tried a couple different clustering methods to see how many different clusters would be sufficient for analysis.  And finally, I ran these inputs through a random forest model to see how my clusters did against test data."
   ]
  },
  {
   "cell_type": "code",
   "execution_count": 2,
   "metadata": {},
   "outputs": [
    {
     "data": {
      "text/plain": [
       "(11240, 8)"
      ]
     },
     "execution_count": 2,
     "metadata": {},
     "output_type": "execute_result"
    }
   ],
   "source": [
    "movies = pd.read_csv('wiki_movie_plots_deduped.csv')\n",
    "movies = movies[movies.Genre.str.contains('unknown') == False]\n",
    "movies = movies[movies.Genre.str.contains('/') == False]\n",
    "movies = movies[movies.Genre.str.contains(' ') == False]\n",
    "movies = movies[movies['Release Year'] >= 1960]\n",
    "movies = movies.groupby(\"Genre\").filter(lambda x: len(x) > 190)\n",
    "#movies = movies.Plot.apply(lambda x: x.lower())\n",
    "movies.shape"
   ]
  },
  {
   "cell_type": "code",
   "execution_count": 3,
   "metadata": {},
   "outputs": [
    {
     "data": {
      "text/html": [
       "<div>\n",
       "<style scoped>\n",
       "    .dataframe tbody tr th:only-of-type {\n",
       "        vertical-align: middle;\n",
       "    }\n",
       "\n",
       "    .dataframe tbody tr th {\n",
       "        vertical-align: top;\n",
       "    }\n",
       "\n",
       "    .dataframe thead th {\n",
       "        text-align: right;\n",
       "    }\n",
       "</style>\n",
       "<table border=\"1\" class=\"dataframe\">\n",
       "  <thead>\n",
       "    <tr style=\"text-align: right;\">\n",
       "      <th></th>\n",
       "      <th>Release Year</th>\n",
       "      <th>Title</th>\n",
       "      <th>Origin/Ethnicity</th>\n",
       "      <th>Director</th>\n",
       "      <th>Cast</th>\n",
       "      <th>Genre</th>\n",
       "      <th>Wiki Page</th>\n",
       "      <th>Plot</th>\n",
       "    </tr>\n",
       "  </thead>\n",
       "  <tbody>\n",
       "    <tr>\n",
       "      <th>7340</th>\n",
       "      <td>1960</td>\n",
       "      <td>The Dark at the Top of the Stairs</td>\n",
       "      <td>American</td>\n",
       "      <td>Delbert Mann</td>\n",
       "      <td>Robert Preston, Dorothy McGuire, Eve Arden, Sh...</td>\n",
       "      <td>drama</td>\n",
       "      <td>https://en.wikipedia.org/wiki/The_Dark_at_the_...</td>\n",
       "      <td>During Prohibition in Oklahoma, Rubin Flood is...</td>\n",
       "    </tr>\n",
       "    <tr>\n",
       "      <th>7341</th>\n",
       "      <td>1960</td>\n",
       "      <td>Desire in the Dust</td>\n",
       "      <td>American</td>\n",
       "      <td>Robert L. Lippert</td>\n",
       "      <td>Raymond Burr, Martha Hyer, Joan Bennett</td>\n",
       "      <td>drama</td>\n",
       "      <td>https://en.wikipedia.org/wiki/Desire_in_the_Dust</td>\n",
       "      <td>Lonnie Wilson (Ken Scott), the son of a sharec...</td>\n",
       "    </tr>\n",
       "    <tr>\n",
       "      <th>7343</th>\n",
       "      <td>1960</td>\n",
       "      <td>Elmer Gantry</td>\n",
       "      <td>American</td>\n",
       "      <td>Richard Brooks</td>\n",
       "      <td>Burt Lancaster, Jean Simmons, Arthur Kennedy, ...</td>\n",
       "      <td>drama</td>\n",
       "      <td>https://en.wikipedia.org/wiki/Elmer_Gantry_(film)</td>\n",
       "      <td>Elmer Gantry (Burt Lancaster) is a hard-drinki...</td>\n",
       "    </tr>\n",
       "    <tr>\n",
       "      <th>7345</th>\n",
       "      <td>1960</td>\n",
       "      <td>Exodus</td>\n",
       "      <td>American</td>\n",
       "      <td>Otto Preminger</td>\n",
       "      <td>Paul Newman, Eva Marie Saint, Ralph Richardson...</td>\n",
       "      <td>drama</td>\n",
       "      <td>https://en.wikipedia.org/wiki/Exodus_(1960_film)</td>\n",
       "      <td>Nurse Katherine \"Kitty\" Fremont is an American...</td>\n",
       "    </tr>\n",
       "    <tr>\n",
       "      <th>7346</th>\n",
       "      <td>1960</td>\n",
       "      <td>The Facts of Life</td>\n",
       "      <td>American</td>\n",
       "      <td>Melvin Frank</td>\n",
       "      <td>Bob Hope, Lucille Ball, Ruth Hussey</td>\n",
       "      <td>comedy</td>\n",
       "      <td>https://en.wikipedia.org/wiki/The_Facts_of_Lif...</td>\n",
       "      <td>As the yearly vacation of six neighbors, the G...</td>\n",
       "    </tr>\n",
       "  </tbody>\n",
       "</table>\n",
       "</div>"
      ],
      "text/plain": [
       "      Release Year                              Title Origin/Ethnicity  \\\n",
       "7340          1960  The Dark at the Top of the Stairs         American   \n",
       "7341          1960                 Desire in the Dust         American   \n",
       "7343          1960                       Elmer Gantry         American   \n",
       "7345          1960                             Exodus         American   \n",
       "7346          1960                  The Facts of Life         American   \n",
       "\n",
       "               Director                                               Cast  \\\n",
       "7340       Delbert Mann  Robert Preston, Dorothy McGuire, Eve Arden, Sh...   \n",
       "7341  Robert L. Lippert            Raymond Burr, Martha Hyer, Joan Bennett   \n",
       "7343     Richard Brooks  Burt Lancaster, Jean Simmons, Arthur Kennedy, ...   \n",
       "7345     Otto Preminger  Paul Newman, Eva Marie Saint, Ralph Richardson...   \n",
       "7346       Melvin Frank                Bob Hope, Lucille Ball, Ruth Hussey   \n",
       "\n",
       "       Genre                                          Wiki Page  \\\n",
       "7340   drama  https://en.wikipedia.org/wiki/The_Dark_at_the_...   \n",
       "7341   drama   https://en.wikipedia.org/wiki/Desire_in_the_Dust   \n",
       "7343   drama  https://en.wikipedia.org/wiki/Elmer_Gantry_(film)   \n",
       "7345   drama   https://en.wikipedia.org/wiki/Exodus_(1960_film)   \n",
       "7346  comedy  https://en.wikipedia.org/wiki/The_Facts_of_Lif...   \n",
       "\n",
       "                                                   Plot  \n",
       "7340  During Prohibition in Oklahoma, Rubin Flood is...  \n",
       "7341  Lonnie Wilson (Ken Scott), the son of a sharec...  \n",
       "7343  Elmer Gantry (Burt Lancaster) is a hard-drinki...  \n",
       "7345  Nurse Katherine \"Kitty\" Fremont is an American...  \n",
       "7346  As the yearly vacation of six neighbors, the G...  "
      ]
     },
     "execution_count": 3,
     "metadata": {},
     "output_type": "execute_result"
    }
   ],
   "source": [
    "movies.head()"
   ]
  },
  {
   "cell_type": "markdown",
   "metadata": {},
   "source": [
    "### Genres ###\n",
    "\n",
    "Since the original data came with over 100 different genres, I decided to pair down to the top 10 most frequently used.  Out of those 10 however, 2 stand above as the most frequent.  "
   ]
  },
  {
   "cell_type": "code",
   "execution_count": 4,
   "metadata": {
    "scrolled": false
   },
   "outputs": [
    {
     "data": {
      "image/png": "[encoded data removed]",
      "text/plain": [
       "<Figure size 1800x720 with 1 Axes>"
      ]
     },
     "metadata": {
      "needs_background": "light"
     },
     "output_type": "display_data"
    }
   ],
   "source": [
    "#genre_df = movies.groupby('Genre')\n",
    "#genre_df.head()\n",
    "genre = movies['Genre'].value_counts().index.tolist()\n",
    "fig, ax = plt.subplots(figsize = (25, 10))\n",
    "sns.countplot(x = movies['Genre'], order = genre, ax = ax)\n",
    "sns.set(font_scale=1)\n",
    "plt.xticks(rotation = 90)\n",
    "plt.show()"
   ]
  },
  {
   "cell_type": "markdown",
   "metadata": {},
   "source": [
    "### Plot Parsing ###\n",
    "\n",
    "Before I could start processing any of the text, I performed some regex processing as well as tokenizing, stemming, and removing common 'stop words' from the plot summaries.  This then gave me a list of the words leftover, with which I could run my analysis over."
   ]
  },
  {
   "cell_type": "code",
   "execution_count": 5,
   "metadata": {},
   "outputs": [],
   "source": [
    "df = movies.copy()\n",
    "df = df.reset_index()"
   ]
  },
  {
   "cell_type": "code",
   "execution_count": 6,
   "metadata": {},
   "outputs": [],
   "source": [
    "df.Plot = df.Plot.apply(lambda x: x.lower())\n",
    "df.Plot = df.Plot.str.replace(r'[^\\d\\w\\s]+', '')\n",
    "df.Plot = df.Plot.str.replace('\\r', '')\n",
    "df.Plot = df.Plot.str.replace('\\n', '')\n",
    "df.Plot = df.Plot.str.replace('[^A-Za-z]', ' ')"
   ]
  },
  {
   "cell_type": "code",
   "execution_count": 7,
   "metadata": {},
   "outputs": [],
   "source": [
    "import nltk\n",
    "lemmatizer = nltk.stem.WordNetLemmatizer()\n",
    "\n",
    "def lemmatize_text(text):\n",
    "    return [lemmatizer.lemmatize(w) for w in text]"
   ]
  },
  {
   "cell_type": "code",
   "execution_count": 8,
   "metadata": {},
   "outputs": [],
   "source": [
    "stop_words = set(stopwords.words('english'))\n",
    "lemmatizer = nltk.stem.WordNetLemmatizer()\n",
    "stemmer = SnowballStemmer('english')\n",
    "tokenizer = RegexpTokenizer(r'[a-zA-Z\\']+')\n",
    "\n",
    "df['stemmed'] = df.Plot.apply(lambda x: stemmer.stem(x))\n",
    "df['tokens'] = df.stemmed.apply(lambda x: tokenizer.tokenize(x))\n",
    "df['lemmed'] = df.tokens.apply(lemmatize_text)\n",
    "df['stopped'] = df.lemmed.apply(lambda x: [item for item in x if item not in stop_words])\n"
   ]
  },
  {
   "cell_type": "markdown",
   "metadata": {},
   "source": [
    "### Count Vectorizer ###\n",
    "\n",
    "For my first transformation I used sklearn's BoW method CountVectorizer in order to count up the occurances of the most common 2000 words that occured across all plots."
   ]
  },
  {
   "cell_type": "code",
   "execution_count": 9,
   "metadata": {},
   "outputs": [
    {
     "data": {
      "text/plain": [
       "(11240, 2000)"
      ]
     },
     "execution_count": 9,
     "metadata": {},
     "output_type": "execute_result"
    }
   ],
   "source": [
    "from sklearn.feature_extraction.text import CountVectorizer\n",
    "\n",
    "data = df.stopped.astype('str')\n",
    "\n",
    "matrix = CountVectorizer(max_features=2000, stop_words='english')\n",
    "vectorizer = matrix.fit_transform(data)\n",
    "feats = matrix.get_feature_names()\n",
    "counts_df = pd.DataFrame(vectorizer.toarray(), columns=list(matrix.get_feature_names()))\n",
    "counts_df.shape"
   ]
  },
  {
   "cell_type": "code",
   "execution_count": 10,
   "metadata": {},
   "outputs": [
    {
     "data": {
      "text/html": [
       "<div>\n",
       "<style scoped>\n",
       "    .dataframe tbody tr th:only-of-type {\n",
       "        vertical-align: middle;\n",
       "    }\n",
       "\n",
       "    .dataframe tbody tr th {\n",
       "        vertical-align: top;\n",
       "    }\n",
       "\n",
       "    .dataframe thead th {\n",
       "        text-align: right;\n",
       "    }\n",
       "</style>\n",
       "<table border=\"1\" class=\"dataframe\">\n",
       "  <thead>\n",
       "    <tr style=\"text-align: right;\">\n",
       "      <th></th>\n",
       "      <th>abandon</th>\n",
       "      <th>abandoned</th>\n",
       "      <th>abby</th>\n",
       "      <th>ability</th>\n",
       "      <th>able</th>\n",
       "      <th>abuse</th>\n",
       "      <th>abusive</th>\n",
       "      <th>accept</th>\n",
       "      <th>accepted</th>\n",
       "      <th>accepts</th>\n",
       "      <th>...</th>\n",
       "      <th>yard</th>\n",
       "      <th>year</th>\n",
       "      <th>yearold</th>\n",
       "      <th>york</th>\n",
       "      <th>young</th>\n",
       "      <th>younger</th>\n",
       "      <th>youth</th>\n",
       "      <th>zombie</th>\n",
       "      <th>Plot</th>\n",
       "      <th>Genre</th>\n",
       "    </tr>\n",
       "  </thead>\n",
       "  <tbody>\n",
       "    <tr>\n",
       "      <th>0</th>\n",
       "      <td>0</td>\n",
       "      <td>0</td>\n",
       "      <td>0</td>\n",
       "      <td>0</td>\n",
       "      <td>0</td>\n",
       "      <td>0</td>\n",
       "      <td>0</td>\n",
       "      <td>1</td>\n",
       "      <td>0</td>\n",
       "      <td>0</td>\n",
       "      <td>...</td>\n",
       "      <td>0</td>\n",
       "      <td>2</td>\n",
       "      <td>0</td>\n",
       "      <td>0</td>\n",
       "      <td>0</td>\n",
       "      <td>1</td>\n",
       "      <td>0</td>\n",
       "      <td>0</td>\n",
       "      <td>during prohibition in oklahoma rubin flood is ...</td>\n",
       "      <td>drama</td>\n",
       "    </tr>\n",
       "    <tr>\n",
       "      <th>1</th>\n",
       "      <td>0</td>\n",
       "      <td>0</td>\n",
       "      <td>0</td>\n",
       "      <td>0</td>\n",
       "      <td>0</td>\n",
       "      <td>0</td>\n",
       "      <td>0</td>\n",
       "      <td>0</td>\n",
       "      <td>0</td>\n",
       "      <td>0</td>\n",
       "      <td>...</td>\n",
       "      <td>0</td>\n",
       "      <td>1</td>\n",
       "      <td>0</td>\n",
       "      <td>0</td>\n",
       "      <td>0</td>\n",
       "      <td>0</td>\n",
       "      <td>0</td>\n",
       "      <td>0</td>\n",
       "      <td>lonnie wilson ken scott the son of a sharecrop...</td>\n",
       "      <td>drama</td>\n",
       "    </tr>\n",
       "    <tr>\n",
       "      <th>2</th>\n",
       "      <td>0</td>\n",
       "      <td>0</td>\n",
       "      <td>0</td>\n",
       "      <td>0</td>\n",
       "      <td>0</td>\n",
       "      <td>0</td>\n",
       "      <td>0</td>\n",
       "      <td>1</td>\n",
       "      <td>0</td>\n",
       "      <td>0</td>\n",
       "      <td>...</td>\n",
       "      <td>0</td>\n",
       "      <td>0</td>\n",
       "      <td>0</td>\n",
       "      <td>0</td>\n",
       "      <td>0</td>\n",
       "      <td>0</td>\n",
       "      <td>0</td>\n",
       "      <td>0</td>\n",
       "      <td>elmer gantry burt lancaster is a harddrinking ...</td>\n",
       "      <td>drama</td>\n",
       "    </tr>\n",
       "    <tr>\n",
       "      <th>3</th>\n",
       "      <td>0</td>\n",
       "      <td>0</td>\n",
       "      <td>0</td>\n",
       "      <td>0</td>\n",
       "      <td>0</td>\n",
       "      <td>0</td>\n",
       "      <td>0</td>\n",
       "      <td>1</td>\n",
       "      <td>0</td>\n",
       "      <td>0</td>\n",
       "      <td>...</td>\n",
       "      <td>0</td>\n",
       "      <td>0</td>\n",
       "      <td>0</td>\n",
       "      <td>0</td>\n",
       "      <td>3</td>\n",
       "      <td>1</td>\n",
       "      <td>0</td>\n",
       "      <td>0</td>\n",
       "      <td>nurse katherine kitty fremont is an american v...</td>\n",
       "      <td>drama</td>\n",
       "    </tr>\n",
       "    <tr>\n",
       "      <th>4</th>\n",
       "      <td>0</td>\n",
       "      <td>0</td>\n",
       "      <td>0</td>\n",
       "      <td>0</td>\n",
       "      <td>0</td>\n",
       "      <td>0</td>\n",
       "      <td>0</td>\n",
       "      <td>0</td>\n",
       "      <td>0</td>\n",
       "      <td>0</td>\n",
       "      <td>...</td>\n",
       "      <td>0</td>\n",
       "      <td>0</td>\n",
       "      <td>0</td>\n",
       "      <td>0</td>\n",
       "      <td>0</td>\n",
       "      <td>0</td>\n",
       "      <td>0</td>\n",
       "      <td>0</td>\n",
       "      <td>as the yearly vacation of six neighbors the gi...</td>\n",
       "      <td>comedy</td>\n",
       "    </tr>\n",
       "  </tbody>\n",
       "</table>\n",
       "<p>5 rows × 2002 columns</p>\n",
       "</div>"
      ],
      "text/plain": [
       "   abandon  abandoned  abby  ability  able  abuse  abusive  accept  accepted  \\\n",
       "0        0          0     0        0     0      0        0       1         0   \n",
       "1        0          0     0        0     0      0        0       0         0   \n",
       "2        0          0     0        0     0      0        0       1         0   \n",
       "3        0          0     0        0     0      0        0       1         0   \n",
       "4        0          0     0        0     0      0        0       0         0   \n",
       "\n",
       "   accepts   ...    yard  year  yearold  york  young  younger  youth  zombie  \\\n",
       "0        0   ...       0     2        0     0      0        1      0       0   \n",
       "1        0   ...       0     1        0     0      0        0      0       0   \n",
       "2        0   ...       0     0        0     0      0        0      0       0   \n",
       "3        0   ...       0     0        0     0      3        1      0       0   \n",
       "4        0   ...       0     0        0     0      0        0      0       0   \n",
       "\n",
       "                                                Plot   Genre  \n",
       "0  during prohibition in oklahoma rubin flood is ...   drama  \n",
       "1  lonnie wilson ken scott the son of a sharecrop...   drama  \n",
       "2  elmer gantry burt lancaster is a harddrinking ...   drama  \n",
       "3  nurse katherine kitty fremont is an american v...   drama  \n",
       "4  as the yearly vacation of six neighbors the gi...  comedy  \n",
       "\n",
       "[5 rows x 2002 columns]"
      ]
     },
     "execution_count": 10,
     "metadata": {},
     "output_type": "execute_result"
    }
   ],
   "source": [
    "counts_df['Plot'] = df['Plot']\n",
    "counts_df['Genre'] = df['Genre']\n",
    "counts_df.head()"
   ]
  },
  {
   "cell_type": "markdown",
   "metadata": {},
   "source": [
    "### Selecting the Correct Cluster: The Elbow Chart ###\n",
    "\n",
    "For my first cluster selection process, I used an elbow chart built through k-mean's to try and find the optimal number of clusters to run.  Unfortunately, the range of k's for my chart did not sufficiently pick up an optimal K for my clusters."
   ]
  },
  {
   "cell_type": "code",
   "execution_count": 11,
   "metadata": {},
   "outputs": [],
   "source": [
    "from sklearn.cluster import KMeans\n",
    "cluster_range = range(1, 20)\n",
    "cluster_errors = []\n",
    "\n",
    "for num_clusters in cluster_range:\n",
    "    clusters = KMeans(num_clusters)\n",
    "    clusters.fit(vectorizer.toarray())\n",
    "    cluster_errors.append(clusters.inertia_)"
   ]
  },
  {
   "cell_type": "code",
   "execution_count": 12,
   "metadata": {},
   "outputs": [
    {
     "data": {
      "text/html": [
       "<div>\n",
       "<style scoped>\n",
       "    .dataframe tbody tr th:only-of-type {\n",
       "        vertical-align: middle;\n",
       "    }\n",
       "\n",
       "    .dataframe tbody tr th {\n",
       "        vertical-align: top;\n",
       "    }\n",
       "\n",
       "    .dataframe thead th {\n",
       "        text-align: right;\n",
       "    }\n",
       "</style>\n",
       "<table border=\"1\" class=\"dataframe\">\n",
       "  <thead>\n",
       "    <tr style=\"text-align: right;\">\n",
       "      <th></th>\n",
       "      <th>num_clusters</th>\n",
       "      <th>cluster_errors</th>\n",
       "    </tr>\n",
       "  </thead>\n",
       "  <tbody>\n",
       "    <tr>\n",
       "      <th>0</th>\n",
       "      <td>1</td>\n",
       "      <td>4.295419e+06</td>\n",
       "    </tr>\n",
       "    <tr>\n",
       "      <th>1</th>\n",
       "      <td>2</td>\n",
       "      <td>4.175084e+06</td>\n",
       "    </tr>\n",
       "    <tr>\n",
       "      <th>2</th>\n",
       "      <td>3</td>\n",
       "      <td>4.137624e+06</td>\n",
       "    </tr>\n",
       "    <tr>\n",
       "      <th>3</th>\n",
       "      <td>4</td>\n",
       "      <td>4.117030e+06</td>\n",
       "    </tr>\n",
       "    <tr>\n",
       "      <th>4</th>\n",
       "      <td>5</td>\n",
       "      <td>4.087698e+06</td>\n",
       "    </tr>\n",
       "    <tr>\n",
       "      <th>5</th>\n",
       "      <td>6</td>\n",
       "      <td>4.069707e+06</td>\n",
       "    </tr>\n",
       "    <tr>\n",
       "      <th>6</th>\n",
       "      <td>7</td>\n",
       "      <td>4.054609e+06</td>\n",
       "    </tr>\n",
       "    <tr>\n",
       "      <th>7</th>\n",
       "      <td>8</td>\n",
       "      <td>4.056592e+06</td>\n",
       "    </tr>\n",
       "    <tr>\n",
       "      <th>8</th>\n",
       "      <td>9</td>\n",
       "      <td>4.013106e+06</td>\n",
       "    </tr>\n",
       "    <tr>\n",
       "      <th>9</th>\n",
       "      <td>10</td>\n",
       "      <td>4.010007e+06</td>\n",
       "    </tr>\n",
       "  </tbody>\n",
       "</table>\n",
       "</div>"
      ],
      "text/plain": [
       "   num_clusters  cluster_errors\n",
       "0             1    4.295419e+06\n",
       "1             2    4.175084e+06\n",
       "2             3    4.137624e+06\n",
       "3             4    4.117030e+06\n",
       "4             5    4.087698e+06\n",
       "5             6    4.069707e+06\n",
       "6             7    4.054609e+06\n",
       "7             8    4.056592e+06\n",
       "8             9    4.013106e+06\n",
       "9            10    4.010007e+06"
      ]
     },
     "execution_count": 12,
     "metadata": {},
     "output_type": "execute_result"
    }
   ],
   "source": [
    "clusters_df = pd.DataFrame( { \"num_clusters\":cluster_range, \"cluster_errors\": cluster_errors } )\n",
    "clusters_df[0:10]"
   ]
  },
  {
   "cell_type": "code",
   "execution_count": 13,
   "metadata": {},
   "outputs": [
    {
     "data": {
      "text/plain": [
       "[<matplotlib.lines.Line2D at 0x1c3a55fc2b0>]"
      ]
     },
     "execution_count": 13,
     "metadata": {},
     "output_type": "execute_result"
    },
    {
     "data": {
      "image/png": "[encoded data removed]",
      "text/plain": [
       "<Figure size 864x432 with 1 Axes>"
      ]
     },
     "metadata": {},
     "output_type": "display_data"
    }
   ],
   "source": [
    "plt.figure(figsize=(12,6))\n",
    "plt.plot( clusters_df.num_clusters, clusters_df.cluster_errors, marker = \"o\" )"
   ]
  },
  {
   "cell_type": "markdown",
   "metadata": {},
   "source": [
    "I decided instead to go with 10 clusters to start, the same as the number of genres I had, and see what that left me with.  I then plotted the 10 most common words to appear in those clusters.  As is apparent, there were a number of words that were duplicated across the 10 clusters, most of which were common name's like hank, jason, lily, etc."
   ]
  },
  {
   "cell_type": "code",
   "execution_count": 14,
   "metadata": {},
   "outputs": [
    {
     "data": {
      "text/plain": [
       "KMeans(algorithm='auto', copy_x=True, init='k-means++', max_iter=300,\n",
       "    n_clusters=10, n_init=10, n_jobs=-1, precompute_distances='auto',\n",
       "    random_state=None, tol=0.0001, verbose=0)"
      ]
     },
     "execution_count": 14,
     "metadata": {},
     "output_type": "execute_result"
    }
   ],
   "source": [
    "# KMEANS with countvectorizer data\n",
    "\n",
    "kmeans = KMeans(n_clusters = 10, n_jobs = -1)\n",
    "kmeans.fit(vectorizer.toarray())"
   ]
  },
  {
   "cell_type": "code",
   "execution_count": 16,
   "metadata": {},
   "outputs": [
    {
     "name": "stdout",
     "output_type": "stream",
     "text": [
      "0 : ha, father, wa, love, friend, life, family, mother, day, tell\n",
      "1 : ha, tell, wa, house, father, home, day, friend, mother, later\n",
      "2 : mike, debt, game, hand, pay, play, decides, playing, win, winning\n",
      "3 : jack, ha, tell, wa, father, new, life, family, try, later\n",
      "4 : ha, kill, wa, police, escape, killed, man, car, tell, death\n",
      "5 : jack, stone, say, tell, asks, know, want, dont, think, wa\n",
      "6 : ha, life, film, love, wa, friend, family, man, father, wife\n",
      "7 : wa, ha, tell, father, house, david, police, come, day, time\n",
      "8 : george, ha, tell, house, bobby, day, wa, time, dog, family\n",
      "9 : fred, nick, ha, north, christmas, present, mother, wa, make, brother\n"
     ]
    }
   ],
   "source": [
    "common_words = kmeans.cluster_centers_.argsort()[:,-1:-11:-1]\n",
    "for num, centroid in enumerate(common_words):\n",
    "    print(str(num) + ' : ' + ', '.join(feats[word] for word in centroid))"
   ]
  },
  {
   "cell_type": "markdown",
   "metadata": {},
   "source": [
    "I then mapped those clusters onto a heatmap showing each genre's count in every cluster.  What I found was that none of the genre's save for drama and comedy were very prevalent in the clusters.  And drama and comedy were both in the same cluster.  Both of these facts were true no matter how many times I ran the clustering algorithm.  Comedy and drama always existing in the same cluster could be because they're both the two highest genres by count.  It could also be that comedies and dramas both tend to share similar word types in their plots (or similar plots themselves). "
   ]
  },
  {
   "cell_type": "code",
   "execution_count": 17,
   "metadata": {},
   "outputs": [
    {
     "data": {
      "image/png": "[encoded data removed]",
      "text/plain": [
       "<Figure size 2160x1080 with 2 Axes>"
      ]
     },
     "metadata": {},
     "output_type": "display_data"
    }
   ],
   "source": [
    "movies['cluster'] = kmeans.labels_\n",
    "clusters = movies.groupby(['cluster', 'Genre']).size()\n",
    "fig2, ax2 = plt.subplots(figsize = (30, 15))\n",
    "sns.heatmap(clusters.unstack(level = 'Genre'), ax = ax2, cmap = 'Reds')\n",
    "\n",
    "ax2.set_xlabel('Genre', fontdict = {'weight': 'bold', 'size': 24})\n",
    "ax2.set_ylabel('cluster', fontdict = {'weight': 'bold', 'size': 24})\n",
    "for label in ax2.get_xticklabels():\n",
    "    label.set_size(16)\n",
    "    label.set_weight(\"bold\")\n",
    "for label in ax2.get_yticklabels():\n",
    "    label.set_size(16)\n",
    "    label.set_weight(\"bold\")"
   ]
  },
  {
   "cell_type": "markdown",
   "metadata": {},
   "source": [
    "### Clustering: Mean-Shift ###\n",
    "\n",
    "Because the elbow chart didn't provide a good k for clustering, I decided to try mean-shift clustering, which would supply me with a k based on the data I gave it.  After running it, the supplied k it came up with was 155 separate clusters.  I decided to run a cluster grouping and heatmap as above to see what those would look like."
   ]
  },
  {
   "cell_type": "code",
   "execution_count": 18,
   "metadata": {},
   "outputs": [
    {
     "data": {
      "text/plain": [
       "MeanShift(bandwidth=17.934431122936804, bin_seeding=True, cluster_all=True,\n",
       "     min_bin_freq=1, n_jobs=-1, seeds=None)"
      ]
     },
     "execution_count": 18,
     "metadata": {},
     "output_type": "execute_result"
    }
   ],
   "source": [
    "from sklearn.cluster import MeanShift, estimate_bandwidth\n",
    "\n",
    "bandwidth = estimate_bandwidth(vectorizer.toarray(), quantile=0.2, n_samples=2000)\n",
    "ms = MeanShift(bandwidth=bandwidth, bin_seeding=True, n_jobs=-1)\n",
    "ms.fit(vectorizer.toarray())"
   ]
  },
  {
   "cell_type": "code",
   "execution_count": 19,
   "metadata": {},
   "outputs": [
    {
     "name": "stdout",
     "output_type": "stream",
     "text": [
      "155\n"
     ]
    }
   ],
   "source": [
    "labels = ms.labels_\n",
    "n_clusers_ = len(np.unique(labels))\n",
    "print(n_clusers_)"
   ]
  },
  {
   "cell_type": "code",
   "execution_count": 21,
   "metadata": {},
   "outputs": [
    {
     "name": "stdout",
     "output_type": "stream",
     "text": [
      "0 : ha, life, wa, love, father, friend, film, family, come, man\n",
      "1 : joan, jack, ralph, ha, meet, new, world, want, bus, captured\n",
      "2 : man, car, wa, away, dead, woman, robbery, ha, door, leg\n",
      "3 : george, judy, affair, tell, ha, train, home, plot, house, linda\n",
      "4 : russell, favor, money, mr, billy, lee, john, mexican, group, dr\n",
      "5 : lisa, johnny, ha, play, friend, stage, charles, message, decides, death\n",
      "6 : oliver, jenny, father, love, tell, say, asks, hospital, paris, plan\n",
      "7 : ross, frank, paul, john, money, leaving, sheriff, mexico, work, leg\n",
      "8 : bruce, henry, team, end, player, new, change, friend, contract, parent\n",
      "9 : chris, gordon, shoot, car, photo, music, suggests, driving, rape, school\n",
      "10 : rocky, fight, upcoming, week, local, announces, round, ring, meet, begin\n",
      "11 : bed, woman, artist, demon, brother, love, mother, ritual, owner, fell\n",
      "12 : god, jerry, appears, given, believe, court, say, ha, tell, prove\n",
      "13 : emma, company, ha, wayne, family, new, role, life, pregnant, professional\n",
      "14 : albert, stella, night, house, baby, lover, time, chris, day, job\n",
      "15 : ted, billy, custody, margaret, child, elevator, ha, tell, court, husband\n",
      "16 : joe, kid, bus, group, farm, mayor, learn, washington, rest, return\n",
      "17 : gary, karen, rick, home, party, friend, tell, film, return, boy\n",
      "18 : gu, ross, return, clark, computer, oil, ha, room, white, brad\n",
      "19 : rick, party, friend, cole, movie, end, fight, bus, brad, school\n",
      "20 : cooper, tank, jeff, plan, work, army, film, ha, gun, new\n",
      "21 : mile, computer, love, piece, like, begin, song, household, trying, leading\n",
      "22 : david, race, marcus, second, brother, win, stage, mountain, ha, convinces\n",
      "23 : john, elizabeth, sexual, start, hotel, prostitute, fight, apartment, relationship, experience\n",
      "24 : eddie, vincent, pool, money, beat, bet, informs, player, working, match\n",
      "25 : sandy, holly, child, news, husband, affair, refuse, dr, devastated, begin\n",
      "26 : crash, annie, major, baseball, leaf, end, ha, house, year, veteran\n",
      "27 : billy, katie, father, man, tell, time, relationship, suicide, day, seeing\n",
      "28 : richard, larry, house, gwen, insurance, away, ha, phone, attempt, police\n",
      "29 : paul, annie, novel, new, later, tell, city, asks, number, trial\n",
      "30 : norman, mother, house, kill, tell, try, fear, personality, child, clothes\n",
      "31 : stephen, brian, ha, department, father, wa, brother, chicago, death, engine\n",
      "32 : helen, ernest, life, year, home, youth, later, drink, secret, skill\n",
      "33 : sam, henry, attempt, apartment, television, murder, alive, watch, break, murdered\n",
      "34 : michael, pete, karen, couple, cole, police, house, making, attack, night\n",
      "35 : phil, day, bed, wake, event, time, got, want, spend, report\n",
      "36 : wayne, michael, money, try, throw, train, ha, car, offer, escape\n",
      "37 : peter, thomas, nazi, club, friend, home, begin, away, father, time\n",
      "38 : kyle, team, game, security, player, coach, final, later, play, feel\n",
      "39 : michael, game, murder, kyle, experience, wa, tell, play, real, named\n",
      "40 : paul, tommy, king, face, escape, kill, case, killing, ha, want\n",
      "41 : man, mike, tim, rocky, try, head, lock, warn, new, leaf\n",
      "42 : steve, al, game, tommy, perfect, major, end, convinces, hit, baseball\n",
      "43 : joe, jill, attempt, young, hand, child, fall, finger, truck, mother\n",
      "44 : guy, buddy, reveals, office, ha, tell, assistant, wa, film, gun\n",
      "45 : billy, eric, brian, father, school, teacher, max, day, event, finally\n",
      "46 : max, kate, kill, ha, killing, attempt, truck, boat, agent, trying\n",
      "47 : tommy, jack, policeman, act, father, katie, audience, parker, george, perform\n",
      "48 : girl, tank, sam, water, ha, kill, escape, club, reveals, called\n",
      "49 : emma, mr, ha, woman, love, young, martin, frank, named, begin\n",
      "50 : julie, steve, ha, son, wa, sent, feeling, scott, mother, meet\n",
      "51 : scott, chuck, castle, island, escape, control, anna, weekend, help, girl\n",
      "52 : rachel, jimmy, bomb, red, building, cut, location, tell, challenge, asks\n",
      "53 : eve, father, ha, family, home, louis, night, sister, doll, parent\n",
      "54 : jesse, max, john, father, face, old, bos, time, manages, boat\n",
      "55 : howard, christine, home, office, project, later, scheme, tell, week, fall\n",
      "56 : joe, ben, ha, film, lisa, forced, force, group, angeles, fianc\n",
      "57 : kate, nick, fight, like, dinner, try, work, make, thing, wanted\n",
      "58 : charlie, richard, day, friend, unexpectedly, later, use, guilty, court, involving\n",
      "59 : wish, alex, explains, gave, earth, birth, grant, inside, soul, make\n",
      "60 : ricky, kate, sale, begin, john, new, studio, buy, man, air\n",
      "61 : gu, twin, game, run, th, home, roger, manager, challenge, win\n",
      "62 : thomas, victor, father, parent, identity, ha, trip, indian, adam, film\n",
      "63 : mary, ted, love, contact, friend, ha, lying, win, discovers, date\n",
      "64 : bob, larry, phil, ha, big, company, explains, make, evening, wait\n",
      "65 : ghost, dog, kill, mafia, attack, read, understand, daughter, named, sonny\n",
      "66 : paul, john, wa, mr, fact, story, death, film, power, place\n",
      "67 : book, copy, ritual, girl, different, castle, light, leaf, failed, floor\n",
      "68 : johnny, eric, steve, ha, really, head, dollar, asks, money, love\n",
      "69 : ryan, jennifer, love, amy, later, break, school, best, tell, try\n",
      "70 : girl, artist, man, hotel, nightclub, night, ha, day, return, tell\n",
      "71 : diana, fight, asks, girl, match, home, return, later, money, fighting\n",
      "72 : claire, norman, mary, lake, ha, home, later, woman, discovers, mother\n",
      "73 : sam, george, house, robin, model, tell, building, ha, refuse, peter\n",
      "74 : sara, derek, school, mother, dream, attend, dancing, support, father, dance\n",
      "75 : game, ryan, dad, start, night, team, tell, family, ha, big\n",
      "76 : anne, marie, matt, ha, hotel, friend, join, wife, advance, come\n",
      "77 : lee, edward, office, relationship, sexual, work, return, marry, ha, peter\n",
      "78 : angela, dave, sam, jeff, guy, friend, ha, convince, making, college\n",
      "79 : dog, earth, neighborhood, ha, parent, named, make, came, sends, friend\n",
      "80 : johnny, lisa, mark, affair, friend, peter, ha, end, phone, relationship\n",
      "81 : max, diamond, steal, work, thief, island, later, ha, try, vow\n",
      "82 : jesse, line, time, encounter, ha, book, say, plane, memory, begin\n",
      "83 : tim, nick, horse, rich, wife, accidentally, idea, opportunity, family, reveals\n",
      "84 : harold, kumar, white, castle, officer, maria, pair, work, flee, reach\n",
      "85 : randy, jake, tell, mother, wa, sex, prison, story, sexual, doesnt\n",
      "86 : john, dance, dancing, wife, studio, partner, new, lesson, lost, love\n",
      "87 : arthur, joe, park, beach, man, worker, decides, away, wife, cross\n",
      "88 : charlie, kevin, wedding, point, field, lucky, dress, drive, son, stay\n",
      "89 : david, lisa, relationship, going, mother, later, make, treatment, realizes, sue\n",
      "90 : amy, vince, room, police, eventually, school, soon, drug, film, claim\n",
      "91 : larry, amy, mayor, restaurant, case, job, health, wa, big, important\n",
      "92 : edward, sister, island, rose, death, explains, burned, ha, grave, search\n",
      "93 : stanley, grace, home, tell, ha, arrive, leave, instead, girl, john\n",
      "94 : rick, michelle, truck, ha, mr, belief, los, angeles, trip, following\n",
      "95 : walter, book, number, murder, left, wa, hotel, suicide, begin, lead\n",
      "96 : kate, henry, dan, ha, business, happy, angel, wedding, ice, convince\n",
      "97 : fish, band, play, convinces, song, tour, record, school, contract, nephew\n",
      "98 : larry, arthur, agent, fbi, ball, mansion, manage, safe, escape, turn\n",
      "99 : barry, tim, julie, apartment, dinner, accidentally, bos, phone, executive, invite\n",
      "100 : jones, smith, killer, cia, attack, mission, begin, agent, priest, doctor\n",
      "101 : marcus, louis, crew, demon, daniel, wa, breaking, second, want, son\n",
      "102 : lily, happy, attempt, fly, away, ha, owner, rescue, desert, case\n",
      "103 : nick, jonathan, father, shelter, tell, mother, invite, eventually, drug, suicide\n",
      "104 : jonathan, dracula, kill, vampire, home, detective, lucy, day, car, help\n",
      "105 : brother, rob, kill, group, gang, evidence, assassin, attack, manage, wa\n",
      "106 : paul, liz, chase, wa, ha, hire, house, start, photograph, later\n",
      "107 : zombie, hunter, survivor, able, drive, car, make, film, bullet, normal\n",
      "108 : sonny, pick, team, brown, trade, tom, general, manager, performance, decide\n",
      "109 : albert, anna, old, lewis, wife, shooting, farm, escape, dance, kiss\n"
     ]
    },
    {
     "name": "stdout",
     "output_type": "stream",
     "text": [
      "110 : victor, experiment, killing, ha, estate, create, escape, creature, hand, henry\n",
      "111 : lee, kyle, police, strike, diane, union, help, wa, throw, owner\n",
      "112 : mary, frank, foster, school, wa, problem, diane, life, custody, want\n",
      "113 : taylor, alex, sophie, meet, away, car, head, town, driving, fall\n",
      "114 : john, jamie, robert, barry, dave, bank, boyfriend, elizabeth, later, body\n",
      "115 : rachel, michael, friend, rush, god, church, ha, priest, home, queen\n",
      "116 : miss, mile, mr, say, boy, school, appears, child, suddenly, care\n",
      "117 : harry, phil, young, professor, want, worried, doesnt, university, men, feel\n",
      "118 : harold, albert, baby, home, local, child, ha, jeremy, later, couple\n",
      "119 : baby, lucy, later, strip, fall, stage, head, club, dr, evening\n",
      "120 : paul, kim, karl, place, police, officer, story, motorcycle, date, discover\n",
      "121 : billy, jackie, tony, father, ha, dancing, later, professional, london, michael\n",
      "122 : ali, minister, rival, west, saved, ha, video, tape, bag, work\n",
      "123 : man, dog, baby, tell, speak, father, telling, mother, church, wa\n",
      "124 : film, ray, gary, wa, sell, killed, friend, original, new, money\n",
      "125 : peter, michelle, game, sexual, accident, affair, soon, frank, lead, car\n",
      "126 : andrew, peter, school, gang, student, home, play, actually, terry, learn\n",
      "127 : radha, ashok, desire, order, mother, husband, older, driven, store, teach\n",
      "128 : anne, helen, frank, jack, police, escape, baby, attempt, body, force\n",
      "129 : david, matt, painting, ha, tell, diner, affair, love, opening, photo\n",
      "130 : lewis, dr, ha, stay, like, factory, company, village, job, small\n",
      "131 : caroline, mr, father, try, party, tell, killer, high, school, serial\n",
      "132 : michael, kyle, day, charlotte, try, violent, ha, wake, bob, father\n",
      "133 : neil, matt, ha, sacrifice, sex, plan, bully, lose, member, parent\n",
      "134 : maggie, fred, decided, silver, ken, tony, wa, garage, car, ha\n",
      "135 : corpse, priest, family, land, aid, away, using, way, hong, presence\n",
      "136 : joe, race, father, david, jimmy, ha, street, son, paul, accident\n",
      "137 : jack, casino, wa, ha, father, card, clear, player, owner, fate\n",
      "138 : mike, wa, room, day, soon, doesnt, relationship, know, saved, wedding\n",
      "139 : singh, amar, wa, brother, marry, sister, feel, meet, son, reconcile\n",
      "140 : raja, singh, arjun, kill, mother, kumar, meet, protect, property, plan\n",
      "141 : raja, vijay, friend, ha, mother, life, son, girl, decides, hate\n",
      "142 : ravi, pooja, night, meet, escape, help, inspector, ha, love, sister\n",
      "143 : anna, chris, love, decides, girl, band, ring, father, make, wedding\n",
      "144 : radha, krishna, daughter, meet, life, letter, love, return, house, father\n",
      "145 : raj, ricky, love, property, ha, policeman, begin, divorce, asks, arrested\n",
      "146 : room, vikram, secret, key, leaving, decides, house, colleague, open, video\n",
      "147 : raja, company, army, thomas, start, battle, fight, force, wa, great\n",
      "148 : surya, priya, love, truth, plan, nature, place, trap, following, police\n",
      "149 : shiva, anjali, marriage, friend, marry, plan, wa, game, know, love\n",
      "150 : ajay, anjali, house, love, feeling, doe, come, wa, tell, colleague\n",
      "151 : raju, rao, baby, away, make, babu, daughter, throw, marriage, help\n",
      "152 : raja, minister, priya, father, son, kidnapping, reveals, ransom, learns, house\n",
      "153 : band, girl, perform, lunch, money, mr, train, school, member, day\n",
      "154 : game, god, school, series, world, living, dy, friend, final, event\n"
     ]
    }
   ],
   "source": [
    "common_words = ms.cluster_centers_.argsort()[:,-1:-11:-1]\n",
    "for num, centroid in enumerate(common_words):\n",
    "    print(str(num) + ' : ' + ', '.join(feats[word] for word in centroid))"
   ]
  },
  {
   "cell_type": "markdown",
   "metadata": {},
   "source": [
    "The heatmap looks mostly the same except expanded out immensly.  We still have the same problem where one cluster contains the majority of the counts in both drama and comedy, while the rest of the clusters only have counts in 1 or do of the categories.  If I were to redo this project, I might remove drama and comedy as they seem to be obsuring the clustering results for the genres with less movies."
   ]
  },
  {
   "cell_type": "code",
   "execution_count": 22,
   "metadata": {},
   "outputs": [
    {
     "data": {
      "image/png": "[encoded data removed]",
      "text/plain": [
       "<Figure size 2160x1080 with 2 Axes>"
      ]
     },
     "metadata": {},
     "output_type": "display_data"
    }
   ],
   "source": [
    "movies['cluster'] = ms.labels_\n",
    "clusters = movies.groupby(['cluster', 'Genre']).size()\n",
    "fig2, ax2 = plt.subplots(figsize = (30, 15))\n",
    "sns.heatmap(clusters.unstack(level = 'Genre'), ax = ax2, cmap = 'Reds')\n",
    "\n",
    "ax2.set_xlabel('Genre', fontdict = {'weight': 'bold', 'size': 24})\n",
    "ax2.set_ylabel('cluster', fontdict = {'weight': 'bold', 'size': 24})\n",
    "for label in ax2.get_xticklabels():\n",
    "    label.set_size(16)\n",
    "    label.set_weight(\"bold\")\n",
    "for label in ax2.get_yticklabels():\n",
    "    label.set_size(16)\n",
    "    label.set_weight(\"bold\")"
   ]
  },
  {
   "cell_type": "markdown",
   "metadata": {},
   "source": [
    "Lastly I decided to run the CountVectorizer data through a random forest model to see if it would be able to predict genre based on plots.  Unfortunately, and unsuprisingly giving the clustering makeup, the predictive power of the model is not very good, and did not improve significantly even when I added in cluster groups as a feature."
   ]
  },
  {
   "cell_type": "code",
   "execution_count": 23,
   "metadata": {},
   "outputs": [
    {
     "name": "stderr",
     "output_type": "stream",
     "text": [
      "C:\\Users\\micsa\\Anaconda3\\lib\\site-packages\\sklearn\\ensemble\\weight_boosting.py:29: DeprecationWarning: numpy.core.umath_tests is an internal NumPy module and should not be imported. It will be removed in a future NumPy release.\n",
      "  from numpy.core.umath_tests import inner1d\n"
     ]
    },
    {
     "name": "stdout",
     "output_type": "stream",
     "text": [
      "Training set score: 0.9859875444839857\n",
      "\n",
      "Test set score: 0.4306049822064057\n"
     ]
    }
   ],
   "source": [
    "from sklearn import ensemble\n",
    "from sklearn.model_selection import train_test_split\n",
    "\n",
    "counts_df['clusters'] = kmeans.labels_\n",
    "\n",
    "rfc = ensemble.RandomForestClassifier()\n",
    "Y = counts_df['Genre']\n",
    "X = counts_df.drop(['Genre','Plot'], axis=1)\n",
    "\n",
    "X_train, X_test, y_train, y_test = train_test_split(X, \n",
    "                                                    Y,\n",
    "                                                    test_size=0.2,\n",
    "                                                    random_state=0)\n",
    "train = rfc.fit(X_train, y_train)\n",
    "\n",
    "print('Training set score:', rfc.score(X_train, y_train))\n",
    "print('\\nTest set score:', rfc.score(X_test, y_test))"
   ]
  },
  {
   "cell_type": "code",
   "execution_count": 24,
   "metadata": {},
   "outputs": [
    {
     "data": {
      "text/html": [
       "<div>\n",
       "<style scoped>\n",
       "    .dataframe tbody tr th:only-of-type {\n",
       "        vertical-align: middle;\n",
       "    }\n",
       "\n",
       "    .dataframe tbody tr th {\n",
       "        vertical-align: top;\n",
       "    }\n",
       "\n",
       "    .dataframe thead th {\n",
       "        text-align: right;\n",
       "    }\n",
       "</style>\n",
       "<table border=\"1\" class=\"dataframe\">\n",
       "  <thead>\n",
       "    <tr style=\"text-align: right;\">\n",
       "      <th></th>\n",
       "      <th>features</th>\n",
       "      <th>scores</th>\n",
       "    </tr>\n",
       "  </thead>\n",
       "  <tbody>\n",
       "    <tr>\n",
       "      <th>981</th>\n",
       "      <td>kill</td>\n",
       "      <td>0.008318</td>\n",
       "    </tr>\n",
       "    <tr>\n",
       "      <th>984</th>\n",
       "      <td>killing</td>\n",
       "      <td>0.007436</td>\n",
       "    </tr>\n",
       "    <tr>\n",
       "      <th>1078</th>\n",
       "      <td>love</td>\n",
       "      <td>0.006915</td>\n",
       "    </tr>\n",
       "    <tr>\n",
       "      <th>982</th>\n",
       "      <td>killed</td>\n",
       "      <td>0.005062</td>\n",
       "    </tr>\n",
       "    <tr>\n",
       "      <th>777</th>\n",
       "      <td>ha</td>\n",
       "      <td>0.004440</td>\n",
       "    </tr>\n",
       "    <tr>\n",
       "      <th>1318</th>\n",
       "      <td>police</td>\n",
       "      <td>0.004377</td>\n",
       "    </tr>\n",
       "    <tr>\n",
       "      <th>1043</th>\n",
       "      <td>life</td>\n",
       "      <td>0.004083</td>\n",
       "    </tr>\n",
       "    <tr>\n",
       "      <th>591</th>\n",
       "      <td>escape</td>\n",
       "      <td>0.003834</td>\n",
       "    </tr>\n",
       "    <tr>\n",
       "      <th>630</th>\n",
       "      <td>fall</td>\n",
       "      <td>0.003752</td>\n",
       "    </tr>\n",
       "    <tr>\n",
       "      <th>2000</th>\n",
       "      <td>clusters</td>\n",
       "      <td>0.003646</td>\n",
       "    </tr>\n",
       "  </tbody>\n",
       "</table>\n",
       "</div>"
      ],
      "text/plain": [
       "      features    scores\n",
       "981       kill  0.008318\n",
       "984    killing  0.007436\n",
       "1078      love  0.006915\n",
       "982     killed  0.005062\n",
       "777         ha  0.004440\n",
       "1318    police  0.004377\n",
       "1043      life  0.004083\n",
       "591     escape  0.003834\n",
       "630       fall  0.003752\n",
       "2000  clusters  0.003646"
      ]
     },
     "execution_count": 24,
     "metadata": {},
     "output_type": "execute_result"
    }
   ],
   "source": [
    "importance = pd.DataFrame()\n",
    "importance['features'] = X_train.columns\n",
    "importance['scores'] = rfc.feature_importances_\n",
    "\n",
    "importance.sort_values('scores', ascending=False).head(10)"
   ]
  },
  {
   "cell_type": "markdown",
   "metadata": {},
   "source": [
    "## What about TFIDF Though! ##\n",
    "\n",
    "Even though CountVectorizing didn't produce good results, maybe another model will instead.  Here I decided to parse out the text and assign terms a score, a term-frequency individual document frequency to be exact.  This will count up the number of times a term occurs within sentences and assign it a score based on how rare that word is. "
   ]
  },
  {
   "cell_type": "code",
   "execution_count": 25,
   "metadata": {},
   "outputs": [],
   "source": [
    "from sklearn.feature_extraction.text import TfidfVectorizer\n",
    "\n",
    "word_vectorizer = TfidfVectorizer(max_df=0.5, \n",
    "                             min_df=100, \n",
    "                             stop_words='english', \n",
    "                             lowercase=True,\n",
    "                             use_idf=True,\n",
    "                             norm=u'l2',\n",
    "                             smooth_idf=True\n",
    "                            )\n",
    "\n",
    "words = word_vectorizer.fit_transform(data)\n",
    "features = word_vectorizer.get_feature_names()\n",
    "tfidf_data = pd.DataFrame(words.toarray(), columns = list(word_vectorizer.get_feature_names()))"
   ]
  },
  {
   "cell_type": "code",
   "execution_count": 26,
   "metadata": {},
   "outputs": [],
   "source": [
    "tfidf_data['Genre'] = df['Genre']"
   ]
  },
  {
   "cell_type": "markdown",
   "metadata": {},
   "source": [
    "Here I decided to rerun my elbow chart, only using the tfidf data from above.  As with before, and perhaps more pronounced here, there is no specific point that denotes a good spot to pick k (between 1 and 20). Again I ended up just choosing 10 since it gave similar results as what I got via the 155 cluster grouping and only took a fraction of the processing time."
   ]
  },
  {
   "cell_type": "code",
   "execution_count": 27,
   "metadata": {},
   "outputs": [],
   "source": [
    "cluster_range = range(1, 20)\n",
    "cluster_errors = []\n",
    "\n",
    "for num_clusters in cluster_range:\n",
    "    clusters = KMeans(num_clusters)\n",
    "    clusters.fit(words.toarray())\n",
    "    cluster_errors.append(clusters.inertia_)"
   ]
  },
  {
   "cell_type": "code",
   "execution_count": 28,
   "metadata": {},
   "outputs": [
    {
     "data": {
      "text/html": [
       "<div>\n",
       "<style scoped>\n",
       "    .dataframe tbody tr th:only-of-type {\n",
       "        vertical-align: middle;\n",
       "    }\n",
       "\n",
       "    .dataframe tbody tr th {\n",
       "        vertical-align: top;\n",
       "    }\n",
       "\n",
       "    .dataframe thead th {\n",
       "        text-align: right;\n",
       "    }\n",
       "</style>\n",
       "<table border=\"1\" class=\"dataframe\">\n",
       "  <thead>\n",
       "    <tr style=\"text-align: right;\">\n",
       "      <th></th>\n",
       "      <th>num_clusters</th>\n",
       "      <th>cluster_errors</th>\n",
       "    </tr>\n",
       "  </thead>\n",
       "  <tbody>\n",
       "    <tr>\n",
       "      <th>0</th>\n",
       "      <td>1</td>\n",
       "      <td>10831.661755</td>\n",
       "    </tr>\n",
       "    <tr>\n",
       "      <th>1</th>\n",
       "      <td>2</td>\n",
       "      <td>10776.233927</td>\n",
       "    </tr>\n",
       "    <tr>\n",
       "      <th>2</th>\n",
       "      <td>3</td>\n",
       "      <td>10740.647794</td>\n",
       "    </tr>\n",
       "    <tr>\n",
       "      <th>3</th>\n",
       "      <td>4</td>\n",
       "      <td>10707.857764</td>\n",
       "    </tr>\n",
       "    <tr>\n",
       "      <th>4</th>\n",
       "      <td>5</td>\n",
       "      <td>10676.630919</td>\n",
       "    </tr>\n",
       "    <tr>\n",
       "      <th>5</th>\n",
       "      <td>6</td>\n",
       "      <td>10653.868165</td>\n",
       "    </tr>\n",
       "    <tr>\n",
       "      <th>6</th>\n",
       "      <td>7</td>\n",
       "      <td>10629.489567</td>\n",
       "    </tr>\n",
       "    <tr>\n",
       "      <th>7</th>\n",
       "      <td>8</td>\n",
       "      <td>10608.704874</td>\n",
       "    </tr>\n",
       "    <tr>\n",
       "      <th>8</th>\n",
       "      <td>9</td>\n",
       "      <td>10585.533056</td>\n",
       "    </tr>\n",
       "    <tr>\n",
       "      <th>9</th>\n",
       "      <td>10</td>\n",
       "      <td>10567.987490</td>\n",
       "    </tr>\n",
       "  </tbody>\n",
       "</table>\n",
       "</div>"
      ],
      "text/plain": [
       "   num_clusters  cluster_errors\n",
       "0             1    10831.661755\n",
       "1             2    10776.233927\n",
       "2             3    10740.647794\n",
       "3             4    10707.857764\n",
       "4             5    10676.630919\n",
       "5             6    10653.868165\n",
       "6             7    10629.489567\n",
       "7             8    10608.704874\n",
       "8             9    10585.533056\n",
       "9            10    10567.987490"
      ]
     },
     "execution_count": 28,
     "metadata": {},
     "output_type": "execute_result"
    }
   ],
   "source": [
    "clusters_df = pd.DataFrame( { \"num_clusters\":cluster_range, \"cluster_errors\": cluster_errors } )\n",
    "clusters_df[0:10]"
   ]
  },
  {
   "cell_type": "code",
   "execution_count": 29,
   "metadata": {},
   "outputs": [
    {
     "data": {
      "text/plain": [
       "[<matplotlib.lines.Line2D at 0x1c3b3d0a0f0>]"
      ]
     },
     "execution_count": 29,
     "metadata": {},
     "output_type": "execute_result"
    },
    {
     "data": {
      "image/png": "[encoded data removed]",
      "text/plain": [
       "<Figure size 864x432 with 1 Axes>"
      ]
     },
     "metadata": {},
     "output_type": "display_data"
    }
   ],
   "source": [
    "plt.figure(figsize=(12,6))\n",
    "plt.plot( clusters_df.num_clusters, clusters_df.cluster_errors, marker = \"o\" )"
   ]
  },
  {
   "cell_type": "code",
   "execution_count": 30,
   "metadata": {},
   "outputs": [
    {
     "data": {
      "text/plain": [
       "KMeans(algorithm='auto', copy_x=True, init='k-means++', max_iter=300,\n",
       "    n_clusters=10, n_init=10, n_jobs=-1, precompute_distances='auto',\n",
       "    random_state=None, tol=0.0001, verbose=0)"
      ]
     },
     "execution_count": 30,
     "metadata": {},
     "output_type": "execute_result"
    }
   ],
   "source": [
    "kmeans = KMeans(n_clusters = 10, n_jobs = -1)\n",
    "kmeans.fit(words.toarray())"
   ]
  },
  {
   "cell_type": "markdown",
   "metadata": {},
   "source": [
    "Again, using randomforestclassifier, the predictive power of the model is no better than what it had been using the CountVectorizer data. Even putting together the cluster groupings and heatmap shows that there are stark similarities between both models."
   ]
  },
  {
   "cell_type": "code",
   "execution_count": 31,
   "metadata": {},
   "outputs": [
    {
     "name": "stdout",
     "output_type": "stream",
     "text": [
      "Training set score: 0.9848754448398577\n",
      "\n",
      "Test set score: 0.4219306049822064\n"
     ]
    }
   ],
   "source": [
    "tfidf_data['clusters'] = kmeans.labels_\n",
    "\n",
    "rfc = ensemble.RandomForestClassifier()\n",
    "Y = tfidf_data['Genre']\n",
    "X = tfidf_data.drop(['Genre'], axis=1)\n",
    "\n",
    "X_train, X_test, y_train, y_test = train_test_split(X, \n",
    "                                                    Y,\n",
    "                                                    test_size=0.4,\n",
    "                                                    random_state=0)\n",
    "train = rfc.fit(X_train, y_train)\n",
    "\n",
    "print('Training set score:', rfc.score(X_train, y_train))\n",
    "print('\\nTest set score:', rfc.score(X_test, y_test))"
   ]
  },
  {
   "cell_type": "code",
   "execution_count": 32,
   "metadata": {},
   "outputs": [
    {
     "data": {
      "text/html": [
       "<div>\n",
       "<style scoped>\n",
       "    .dataframe tbody tr th:only-of-type {\n",
       "        vertical-align: middle;\n",
       "    }\n",
       "\n",
       "    .dataframe tbody tr th {\n",
       "        vertical-align: top;\n",
       "    }\n",
       "\n",
       "    .dataframe thead th {\n",
       "        text-align: right;\n",
       "    }\n",
       "</style>\n",
       "<table border=\"1\" class=\"dataframe\">\n",
       "  <thead>\n",
       "    <tr style=\"text-align: right;\">\n",
       "      <th></th>\n",
       "      <th>features</th>\n",
       "      <th>scores</th>\n",
       "    </tr>\n",
       "  </thead>\n",
       "  <tbody>\n",
       "    <tr>\n",
       "      <th>1381</th>\n",
       "      <td>kill</td>\n",
       "      <td>0.008189</td>\n",
       "    </tr>\n",
       "    <tr>\n",
       "      <th>1498</th>\n",
       "      <td>love</td>\n",
       "      <td>0.008158</td>\n",
       "    </tr>\n",
       "    <tr>\n",
       "      <th>2783</th>\n",
       "      <td>clusters</td>\n",
       "      <td>0.006343</td>\n",
       "    </tr>\n",
       "    <tr>\n",
       "      <th>1454</th>\n",
       "      <td>life</td>\n",
       "      <td>0.005748</td>\n",
       "    </tr>\n",
       "    <tr>\n",
       "      <th>1382</th>\n",
       "      <td>killed</td>\n",
       "      <td>0.005552</td>\n",
       "    </tr>\n",
       "    <tr>\n",
       "      <th>1384</th>\n",
       "      <td>killing</td>\n",
       "      <td>0.005547</td>\n",
       "    </tr>\n",
       "    <tr>\n",
       "      <th>651</th>\n",
       "      <td>death</td>\n",
       "      <td>0.005268</td>\n",
       "    </tr>\n",
       "    <tr>\n",
       "      <th>867</th>\n",
       "      <td>escape</td>\n",
       "      <td>0.004396</td>\n",
       "    </tr>\n",
       "    <tr>\n",
       "      <th>1824</th>\n",
       "      <td>police</td>\n",
       "      <td>0.004237</td>\n",
       "    </tr>\n",
       "    <tr>\n",
       "      <th>1636</th>\n",
       "      <td>murder</td>\n",
       "      <td>0.004184</td>\n",
       "    </tr>\n",
       "  </tbody>\n",
       "</table>\n",
       "</div>"
      ],
      "text/plain": [
       "      features    scores\n",
       "1381      kill  0.008189\n",
       "1498      love  0.008158\n",
       "2783  clusters  0.006343\n",
       "1454      life  0.005748\n",
       "1382    killed  0.005552\n",
       "1384   killing  0.005547\n",
       "651      death  0.005268\n",
       "867     escape  0.004396\n",
       "1824    police  0.004237\n",
       "1636    murder  0.004184"
      ]
     },
     "execution_count": 32,
     "metadata": {},
     "output_type": "execute_result"
    }
   ],
   "source": [
    "importance = pd.DataFrame()\n",
    "importance['features'] = X_train.columns\n",
    "importance['scores'] = rfc.feature_importances_\n",
    "\n",
    "importance.sort_values('scores', ascending=False).head(10)"
   ]
  },
  {
   "cell_type": "code",
   "execution_count": 33,
   "metadata": {},
   "outputs": [
    {
     "data": {
      "text/plain": [
       "KMeans(algorithm='auto', copy_x=True, init='k-means++', max_iter=300,\n",
       "    n_clusters=10, n_init=10, n_jobs=-1, precompute_distances='auto',\n",
       "    random_state=None, tol=0.0001, verbose=0)"
      ]
     },
     "execution_count": 33,
     "metadata": {},
     "output_type": "execute_result"
    }
   ],
   "source": [
    "# KMEANS with TFIDF data\n",
    "from sklearn.cluster import KMeans\n",
    "\n",
    "kmeans = KMeans(n_clusters = 10, n_jobs = -1)\n",
    "kmeans.fit(words)"
   ]
  },
  {
   "cell_type": "code",
   "execution_count": 34,
   "metadata": {},
   "outputs": [
    {
     "name": "stdout",
     "output_type": "stream",
     "text": [
      "0 : david, harry, michael, wa, house, home, tell, friend, father, time\n",
      "1 : police, gang, wa, officer, kill, murder, ram, vijay, inspector, brother\n",
      "2 : family, mother, father, school, child, home, wa, life, house, son\n",
      "3 : kill, wa, car, escape, house, killed, tell, police, john, men\n",
      "4 : film, story, movie, life, character, role, woman, love, wa, young\n",
      "5 : life, woman, new, friend, young, team, man, wife, wa, make\n",
      "6 : jack, father, wa, tell, new, life, try, wife, boy, friend\n",
      "7 : frank, father, house, wa, son, helen, mother, new, tell, joe\n",
      "8 : village, raja, krishna, villager, father, love, son, family, life, story\n",
      "9 : love, marriage, fall, father, family, friend, marry, come, girl, life\n"
     ]
    }
   ],
   "source": [
    "common_words = kmeans.cluster_centers_.argsort()[:,-1:-11:-1]\n",
    "for num, centroid in enumerate(common_words):\n",
    "    print(str(num) + ' : ' + ', '.join(features[word] for word in centroid))"
   ]
  },
  {
   "cell_type": "code",
   "execution_count": 35,
   "metadata": {},
   "outputs": [],
   "source": [
    "movies['cluster'] = kmeans.labels_"
   ]
  },
  {
   "cell_type": "code",
   "execution_count": 36,
   "metadata": {},
   "outputs": [
    {
     "data": {
      "image/png": "[encoded data removed]",
      "text/plain": [
       "<Figure size 2160x1080 with 2 Axes>"
      ]
     },
     "metadata": {},
     "output_type": "display_data"
    }
   ],
   "source": [
    "clusters = movies.groupby(['cluster', 'Genre']).size()\n",
    "fig2, ax2 = plt.subplots(figsize = (30, 15))\n",
    "sns.heatmap(clusters.unstack(level = 'Genre'), ax = ax2, cmap = 'Reds')\n",
    "\n",
    "ax2.set_xlabel('Genre', fontdict = {'weight': 'bold', 'size': 24})\n",
    "ax2.set_ylabel('cluster', fontdict = {'weight': 'bold', 'size': 24})\n",
    "for label in ax2.get_xticklabels():\n",
    "    label.set_size(16)\n",
    "    label.set_weight(\"bold\")\n",
    "for label in ax2.get_yticklabels():\n",
    "    label.set_size(16)\n",
    "    label.set_weight(\"bold\")"
   ]
  },
  {
   "cell_type": "markdown",
   "metadata": {},
   "source": [
    "## Concluding Thoughts ##\n",
    "Overall, this model did not predict which genre a movie belonged to as well as I would have liked it to, based on plot summaries.  As stated above, this could be for a number of reasons.  Maybe there were too many comedy and drama films which made it hard for the model to predict movies that weren't those.  Maybe movie plot summaries are too generic, and that there are not enough distinguishing words between different genres, or that they're still being overshadowed by the prevalence of more common words/names. \n",
    "<br>\n",
    "<br>\n",
    "Going forward, if I were to reanalyze this data, I would probably remove comedy and drama (or at least break them up somehow) and I would try and clean up more of the common words that weren't removed via the stop_words corpus.  Maybe removing all names might have improved things slightly.  It could be, however, that this data was simply too generic across all genres to really be able to adequately answer my question."
   ]
  },
  {
   "cell_type": "code",
   "execution_count": null,
   "metadata": {},
   "outputs": [],
   "source": []
  }
 ],
 "metadata": {
  "kernelspec": {
   "display_name": "Python 3",
   "language": "python",
   "name": "python3"
  },
  "language_info": {
   "codemirror_mode": {
    "name": "ipython",
    "version": 3
   },
   "file_extension": ".py",
   "mimetype": "text/x-python",
   "name": "python",
   "nbconvert_exporter": "python",
   "pygments_lexer": "ipython3",
   "version": "3.7.0"
  }
 },
 "nbformat": 4,
 "nbformat_minor": 2
}
